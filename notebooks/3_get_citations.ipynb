{
 "cells": [
  {
   "cell_type": "markdown",
   "id": "e074596f-c9fa-49bc-99c1-2d2cf55d995b",
   "metadata": {},
   "source": [
    "# Get Author info from papers\n",
    "https://api.semanticscholar.org/api-docs/graph#tag/Paper-Data/operation/get_graph_get_paper_authors\n",
    "\n",
    "https://api.semanticscholar.org/api-docs/graph#tag/Author-Data/operation/post_graph_get_authors\n",
    "\n",
    "See also about PubMed unique author id:\n",
    "https://pubmed.ncbi.nlm.nih.gov/34180522/\n",
    "https://pubmed.ncbi.nlm.nih.gov/28960025/\n",
    "https://www.ncbi.nlm.nih.gov/pmc/articles/PMC5639053/\n",
    "https://github.com/Daniel-Mietchen/ideas/issues/1260\n",
    "https://www.ncbi.nlm.nih.gov/pmc/articles/PMC5530597/"
   ]
  },
  {
   "cell_type": "code",
   "execution_count": 1,
   "id": "f18e1c30-b960-4ec5-8019-3911efa18077",
   "metadata": {},
   "outputs": [],
   "source": [
    "import os\n",
    "import requests\n",
    "import json\n",
    "import pandas as pd\n",
    "import publication_query\n",
    "import utils\n",
    "\n",
    "pd.set_option('display.max_columns', None)\n",
    "pd.set_option('display.max_rows', None)\n",
    "#pd.set_option('display.max_colwidth', None)"
   ]
  },
  {
   "cell_type": "code",
   "execution_count": 2,
   "id": "9f036059-c70f-42f6-9014-a8fa49e75fbc",
   "metadata": {},
   "outputs": [],
   "source": [
    "KG_PATH = \"../kg/data\"\n",
    "DERIVED_DATA_PATH = \"../derived_data\""
   ]
  },
  {
   "cell_type": "code",
   "execution_count": 3,
   "id": "81c63dc4-97c3-466c-afea-2dafa8c12d64",
   "metadata": {},
   "outputs": [],
   "source": [
    "START_PUBLICATION_YEAR = 2021 # Grants started at the end of 2020."
   ]
  },
  {
   "cell_type": "markdown",
   "id": "02b80440-adef-4b44-b71c-99f5b084ed75",
   "metadata": {},
   "source": [
    "## Get raw primary Publication data\n",
    "These publications result from a grant number query in PubMed."
   ]
  },
  {
   "cell_type": "code",
   "execution_count": 4,
   "id": "7a6f2a3c-55fb-4f22-bd0d-c15f60520a4f",
   "metadata": {},
   "outputs": [],
   "source": [
    "raw_publications = pd.read_csv(\"https://raw.githubusercontent.com/christian-horgan/pubmed-search/main/data/radx-rad/article_data_current.csv\", dtype=str, keep_default_na=False)"
   ]
  },
  {
   "cell_type": "code",
   "execution_count": 5,
   "id": "24f2cfb9-0414-474d-849a-c9a6a192dc60",
   "metadata": {},
   "outputs": [
    {
     "data": {
      "text/html": [
       "<div>\n",
       "<style scoped>\n",
       "    .dataframe tbody tr th:only-of-type {\n",
       "        vertical-align: middle;\n",
       "    }\n",
       "\n",
       "    .dataframe tbody tr th {\n",
       "        vertical-align: top;\n",
       "    }\n",
       "\n",
       "    .dataframe thead th {\n",
       "        text-align: right;\n",
       "    }\n",
       "</style>\n",
       "<table border=\"1\" class=\"dataframe\">\n",
       "  <thead>\n",
       "    <tr style=\"text-align: right;\">\n",
       "      <th></th>\n",
       "      <th>pm_id</th>\n",
       "      <th>title</th>\n",
       "      <th>pmc_id</th>\n",
       "      <th>authors</th>\n",
       "      <th>doi</th>\n",
       "      <th>keywords</th>\n",
       "      <th>mesh_ids</th>\n",
       "      <th>mesh_terms</th>\n",
       "      <th>abstract</th>\n",
       "      <th>project_serial_num</th>\n",
       "      <th>journal_name</th>\n",
       "      <th>publication_year</th>\n",
       "    </tr>\n",
       "  </thead>\n",
       "  <tbody>\n",
       "    <tr>\n",
       "      <th>0</th>\n",
       "      <td></td>\n",
       "      <td>IMI-CDE: an interactive interface for collabor...</td>\n",
       "      <td></td>\n",
       "      <td>Tao S,Chou WC,Li J,Du J,Ram PM,Abeysinghe R,Xu...</td>\n",
       "      <td>doi:10.1109/ICHI54592.2022.00070</td>\n",
       "      <td>COVID-19,Common Data Element,CDE,Mapping,Data ...</td>\n",
       "      <td></td>\n",
       "      <td></td>\n",
       "      <td>The National Institute of Health (NIH) launche...</td>\n",
       "      <td>LM013755</td>\n",
       "      <td>2022 IEEE 10th International Conference on Hea...</td>\n",
       "      <td>2022</td>\n",
       "    </tr>\n",
       "  </tbody>\n",
       "</table>\n",
       "</div>"
      ],
      "text/plain": [
       "  pm_id                                              title pmc_id  \\\n",
       "0        IMI-CDE: an interactive interface for collabor...          \n",
       "\n",
       "                                             authors  \\\n",
       "0  Tao S,Chou WC,Li J,Du J,Ram PM,Abeysinghe R,Xu...   \n",
       "\n",
       "                                doi  \\\n",
       "0  doi:10.1109/ICHI54592.2022.00070   \n",
       "\n",
       "                                            keywords mesh_ids mesh_terms  \\\n",
       "0  COVID-19,Common Data Element,CDE,Mapping,Data ...                       \n",
       "\n",
       "                                            abstract project_serial_num  \\\n",
       "0  The National Institute of Health (NIH) launche...           LM013755   \n",
       "\n",
       "                                        journal_name publication_year  \n",
       "0  2022 IEEE 10th International Conference on Hea...             2022  "
      ]
     },
     "execution_count": 5,
     "metadata": {},
     "output_type": "execute_result"
    }
   ],
   "source": [
    "non_pubmed_publications = pd.read_csv(\"../data/Publications_non_pubmed.csv\", dtype=str, keep_default_na=False)\n",
    "non_pubmed_publications.head()"
   ]
  },
  {
   "cell_type": "code",
   "execution_count": 6,
   "id": "4df4fc55-171b-46a8-87c8-8e89413160e9",
   "metadata": {},
   "outputs": [],
   "source": [
    "raw_publications = pd.concat([raw_publications, non_pubmed_publications])\n",
    "raw_publications.fillna(\"\", inplace=True)"
   ]
  },
  {
   "cell_type": "code",
   "execution_count": 7,
   "id": "80ede63a-211a-421e-90b9-a42966377485",
   "metadata": {},
   "outputs": [],
   "source": [
    "# Restrict publications to 2021+ since RADx projects started at the end of 2020.\n",
    "raw_publications[\"publication_year\"] = raw_publications[\"publication_year\"].astype(int)\n",
    "raw_publications.query(f\"publication_year >= {START_PUBLICATION_YEAR}\", inplace=True)\n",
    "# DOI is required as the primary key\n",
    "raw_publications.dropna(subset=\"doi\", inplace=True)\n",
    "# convert property name to Neo4j convention\n",
    "raw_publications.rename(columns={\"pm_id\": \"pmId\", \"pmc_id\": \"pmcId\", \"project_serial_num\": \"projectSerialNum\"}, inplace=True)"
   ]
  },
  {
   "cell_type": "code",
   "execution_count": 8,
   "id": "b5e61db9-9469-4eb5-8364-1516ff1e2fa5",
   "metadata": {},
   "outputs": [
    {
     "data": {
      "text/html": [
       "<div>\n",
       "<style scoped>\n",
       "    .dataframe tbody tr th:only-of-type {\n",
       "        vertical-align: middle;\n",
       "    }\n",
       "\n",
       "    .dataframe tbody tr th {\n",
       "        vertical-align: top;\n",
       "    }\n",
       "\n",
       "    .dataframe thead th {\n",
       "        text-align: right;\n",
       "    }\n",
       "</style>\n",
       "<table border=\"1\" class=\"dataframe\">\n",
       "  <thead>\n",
       "    <tr style=\"text-align: right;\">\n",
       "      <th></th>\n",
       "      <th>pmId</th>\n",
       "      <th>title</th>\n",
       "      <th>pmcId</th>\n",
       "      <th>authors</th>\n",
       "      <th>doi</th>\n",
       "      <th>keywords</th>\n",
       "      <th>mesh_ids</th>\n",
       "      <th>mesh_terms</th>\n",
       "      <th>abstract</th>\n",
       "      <th>projectSerialNum</th>\n",
       "      <th>journal_name</th>\n",
       "      <th>publication_year</th>\n",
       "    </tr>\n",
       "  </thead>\n",
       "  <tbody>\n",
       "    <tr>\n",
       "      <th>0</th>\n",
       "      <td>37727605</td>\n",
       "      <td>Repurposing a SARS-CoV-2 surveillance program ...</td>\n",
       "      <td>PMC10505707</td>\n",
       "      <td>King KL,Ham R,Smothers A,Lee I,Bowie T,Teetsel...</td>\n",
       "      <td>doi:10.3389/fpubh.2023.1168551</td>\n",
       "      <td>SARS-CoV-2,flu,influenza,saliva,surveillance t...</td>\n",
       "      <td>D006801,D000086402,D014495,D000086382,D007251,...</td>\n",
       "      <td>Humans,SARS-CoV-2,Universities,COVID-19,Influe...</td>\n",
       "      <td>Standard multiplex RT-qPCR diagnostic tests us...</td>\n",
       "      <td>AA029328</td>\n",
       "      <td>Frontiers in public health</td>\n",
       "      <td>2023</td>\n",
       "    </tr>\n",
       "    <tr>\n",
       "      <th>1</th>\n",
       "      <td>37590297</td>\n",
       "      <td>A capacitive laser-induced graphene based apta...</td>\n",
       "      <td>PMC10434860</td>\n",
       "      <td>Moreira G,Qian H,Datta SPA,Bliznyuk N,Carpente...</td>\n",
       "      <td>doi:10.1371/journal.pone.0290256</td>\n",
       "      <td></td>\n",
       "      <td>D006801,D000086402,D000086382,D006108,D007251,...</td>\n",
       "      <td>Humans,SARS-CoV-2,COVID-19,Graphite,Influenza,...</td>\n",
       "      <td>SARS-CoV-2 virus induced CoVID-19 pandemic has...</td>\n",
       "      <td>AA029328</td>\n",
       "      <td>PloS one</td>\n",
       "      <td>2023</td>\n",
       "    </tr>\n",
       "    <tr>\n",
       "      <th>2</th>\n",
       "      <td>36595104</td>\n",
       "      <td>Ion-selective electrodes based on laser-induce...</td>\n",
       "      <td></td>\n",
       "      <td>Soares RRA,Hjort RG,Pola CC,Jing D,Cecon VS,Cl...</td>\n",
       "      <td>doi:10.1007/s00604-022-05615-9</td>\n",
       "      <td>Electrochemical Sensors,Food additives,Food sa...</td>\n",
       "      <td>D006801,D017736,D006108,D009573,D014867,D007834</td>\n",
       "      <td>Humans,Ion-Selective Electrodes,Graphite,Nitri...</td>\n",
       "      <td>Nitrite is an important food additive for cure...</td>\n",
       "      <td>AA029328</td>\n",
       "      <td>Mikrochimica acta</td>\n",
       "      <td>2023</td>\n",
       "    </tr>\n",
       "    <tr>\n",
       "      <th>3</th>\n",
       "      <td>36354449</td>\n",
       "      <td>An Experimental Framework for Developing Point...</td>\n",
       "      <td>PMC9688365</td>\n",
       "      <td>Ullah SF,Moreira G,Datta SPA,McLamore E,Vanegas D</td>\n",
       "      <td>doi:10.3390/bios12110938</td>\n",
       "      <td>SARS-CoV-2,analytical sensing,binding kinetics...</td>\n",
       "      <td>D006801,D058266,D000086402,D000086382,D007368,...</td>\n",
       "      <td>Humans,Dielectric Spectroscopy,SARS-CoV-2,COVI...</td>\n",
       "      <td>Biolayer interferometry (BLI) is a well-establ...</td>\n",
       "      <td>AA029328</td>\n",
       "      <td>Biosensors</td>\n",
       "      <td>2022</td>\n",
       "    </tr>\n",
       "    <tr>\n",
       "      <th>4</th>\n",
       "      <td>35992634</td>\n",
       "      <td>Development of a Biosensor Based on Angiotensi...</td>\n",
       "      <td>PMC9386735</td>\n",
       "      <td>Moreira G,Casso-Hartmann L,Datta SPA,Dean D,Mc...</td>\n",
       "      <td>doi:10.3389/fsens.2022.917380</td>\n",
       "      <td>LIG electrodes,attenuated virus,betacoronaviru...</td>\n",
       "      <td></td>\n",
       "      <td></td>\n",
       "      <td>Severe acute respiratory syndrome coronavirus ...</td>\n",
       "      <td>AA029328</td>\n",
       "      <td>Frontiers in sensors</td>\n",
       "      <td>2022</td>\n",
       "    </tr>\n",
       "  </tbody>\n",
       "</table>\n",
       "</div>"
      ],
      "text/plain": [
       "       pmId                                              title        pmcId  \\\n",
       "0  37727605  Repurposing a SARS-CoV-2 surveillance program ...  PMC10505707   \n",
       "1  37590297  A capacitive laser-induced graphene based apta...  PMC10434860   \n",
       "2  36595104  Ion-selective electrodes based on laser-induce...                \n",
       "3  36354449  An Experimental Framework for Developing Point...   PMC9688365   \n",
       "4  35992634  Development of a Biosensor Based on Angiotensi...   PMC9386735   \n",
       "\n",
       "                                             authors  \\\n",
       "0  King KL,Ham R,Smothers A,Lee I,Bowie T,Teetsel...   \n",
       "1  Moreira G,Qian H,Datta SPA,Bliznyuk N,Carpente...   \n",
       "2  Soares RRA,Hjort RG,Pola CC,Jing D,Cecon VS,Cl...   \n",
       "3  Ullah SF,Moreira G,Datta SPA,McLamore E,Vanegas D   \n",
       "4  Moreira G,Casso-Hartmann L,Datta SPA,Dean D,Mc...   \n",
       "\n",
       "                                doi  \\\n",
       "0    doi:10.3389/fpubh.2023.1168551   \n",
       "1  doi:10.1371/journal.pone.0290256   \n",
       "2    doi:10.1007/s00604-022-05615-9   \n",
       "3          doi:10.3390/bios12110938   \n",
       "4     doi:10.3389/fsens.2022.917380   \n",
       "\n",
       "                                            keywords  \\\n",
       "0  SARS-CoV-2,flu,influenza,saliva,surveillance t...   \n",
       "1                                                      \n",
       "2  Electrochemical Sensors,Food additives,Food sa...   \n",
       "3  SARS-CoV-2,analytical sensing,binding kinetics...   \n",
       "4  LIG electrodes,attenuated virus,betacoronaviru...   \n",
       "\n",
       "                                            mesh_ids  \\\n",
       "0  D006801,D000086402,D014495,D000086382,D007251,...   \n",
       "1  D006801,D000086402,D000086382,D006108,D007251,...   \n",
       "2    D006801,D017736,D006108,D009573,D014867,D007834   \n",
       "3  D006801,D058266,D000086402,D000086382,D007368,...   \n",
       "4                                                      \n",
       "\n",
       "                                          mesh_terms  \\\n",
       "0  Humans,SARS-CoV-2,Universities,COVID-19,Influe...   \n",
       "1  Humans,SARS-CoV-2,COVID-19,Graphite,Influenza,...   \n",
       "2  Humans,Ion-Selective Electrodes,Graphite,Nitri...   \n",
       "3  Humans,Dielectric Spectroscopy,SARS-CoV-2,COVI...   \n",
       "4                                                      \n",
       "\n",
       "                                            abstract projectSerialNum  \\\n",
       "0  Standard multiplex RT-qPCR diagnostic tests us...         AA029328   \n",
       "1  SARS-CoV-2 virus induced CoVID-19 pandemic has...         AA029328   \n",
       "2  Nitrite is an important food additive for cure...         AA029328   \n",
       "3  Biolayer interferometry (BLI) is a well-establ...         AA029328   \n",
       "4  Severe acute respiratory syndrome coronavirus ...         AA029328   \n",
       "\n",
       "                 journal_name  publication_year  \n",
       "0  Frontiers in public health              2023  \n",
       "1                    PloS one              2023  \n",
       "2           Mikrochimica acta              2023  \n",
       "3                  Biosensors              2022  \n",
       "4        Frontiers in sensors              2022  "
      ]
     },
     "execution_count": 8,
     "metadata": {},
     "output_type": "execute_result"
    }
   ],
   "source": [
    "raw_publications.head()"
   ]
  },
  {
   "cell_type": "code",
   "execution_count": 9,
   "id": "965f78e4-ebdd-4c10-8255-0f0b06c7bc46",
   "metadata": {},
   "outputs": [
    {
     "data": {
      "text/html": [
       "<div>\n",
       "<style scoped>\n",
       "    .dataframe tbody tr th:only-of-type {\n",
       "        vertical-align: middle;\n",
       "    }\n",
       "\n",
       "    .dataframe tbody tr th {\n",
       "        vertical-align: top;\n",
       "    }\n",
       "\n",
       "    .dataframe thead th {\n",
       "        text-align: right;\n",
       "    }\n",
       "</style>\n",
       "<table border=\"1\" class=\"dataframe\">\n",
       "  <thead>\n",
       "    <tr style=\"text-align: right;\">\n",
       "      <th></th>\n",
       "      <th>pmId</th>\n",
       "      <th>title</th>\n",
       "      <th>pmcId</th>\n",
       "      <th>authors</th>\n",
       "      <th>doi</th>\n",
       "      <th>keywords</th>\n",
       "      <th>mesh_ids</th>\n",
       "      <th>mesh_terms</th>\n",
       "      <th>abstract</th>\n",
       "      <th>projectSerialNum</th>\n",
       "      <th>journal_name</th>\n",
       "      <th>publication_year</th>\n",
       "    </tr>\n",
       "  </thead>\n",
       "  <tbody>\n",
       "    <tr>\n",
       "      <th>389</th>\n",
       "      <td>35644340</td>\n",
       "      <td>Effectiveness and Safety of Biologic Therapy i...</td>\n",
       "      <td>PMC9701245</td>\n",
       "      <td>Nguyen NH,Luo J,Paul P,Kim J,Syal G,Ha C,Rudra...</td>\n",
       "      <td>doi:10.1016/j.cgh.2022.05.008</td>\n",
       "      <td>Crohn’s Disease,Disparities,Ethnic Minorities,...</td>\n",
       "      <td>D000328,D005260,D006801,D008297,D001688,D00169...</td>\n",
       "      <td>Adult,Female,Humans,Male,Biological Products,B...</td>\n",
       "      <td>There are limited data on outcomes of biologic...</td>\n",
       "      <td>LM013755</td>\n",
       "      <td>Clinical gastroenterology and hepatology : the...</td>\n",
       "      <td>2023</td>\n",
       "    </tr>\n",
       "    <tr>\n",
       "      <th>390</th>\n",
       "      <td>35532905</td>\n",
       "      <td>Aptamer Sandwich Lateral Flow Assay (AptaFlow)...</td>\n",
       "      <td>PMC9112978</td>\n",
       "      <td>Yang LF,Kacherovsky N,Panpradist N,Wan R,Liang...</td>\n",
       "      <td>doi:10.1021/acs.analchem.2c00554</td>\n",
       "      <td></td>\n",
       "      <td>D000914,D052157,D000086382,D000086663,D006801,...</td>\n",
       "      <td>Antibodies,Viral,Aptamers,Nucleotide,COVID-19,...</td>\n",
       "      <td>The COVID-19 pandemic is among the greatest he...</td>\n",
       "      <td>LM013755</td>\n",
       "      <td>Analytical chemistry</td>\n",
       "      <td>2022</td>\n",
       "    </tr>\n",
       "    <tr>\n",
       "      <th>391</th>\n",
       "      <td>34923447</td>\n",
       "      <td>Detecting model misconducts in decentralized h...</td>\n",
       "      <td>PMC10017272</td>\n",
       "      <td>Kuo TT,Pham A</td>\n",
       "      <td>doi:10.1016/j.ijmedinf.2021.104658</td>\n",
       "      <td>Blockchain Distributed Ledger Technology,Elect...</td>\n",
       "      <td></td>\n",
       "      <td></td>\n",
       "      <td>To accelerate healthcare/genomic medicine rese...</td>\n",
       "      <td>LM013755</td>\n",
       "      <td>International journal of medical informatics</td>\n",
       "      <td>2021</td>\n",
       "    </tr>\n",
       "    <tr>\n",
       "      <th>392</th>\n",
       "      <td>34328683</td>\n",
       "      <td>Discovery and Characterization of Spike N-Term...</td>\n",
       "      <td>PMC8426805</td>\n",
       "      <td>Kacherovsky N,Yang LF,Dang HV,Cheng EL,Cardle ...</td>\n",
       "      <td>doi:10.1002/anie.202107730</td>\n",
       "      <td>SARS-CoV-2,aptamers,coronavirus,cryo-EM,immuno...</td>\n",
       "      <td>D052157,D000086382,D004797,D006801,D008958,D00...</td>\n",
       "      <td>Aptamers,Nucleotide,COVID-19,Enzyme-Linked Imm...</td>\n",
       "      <td>The coronavirus disease 2019 (COVID-19) pandem...</td>\n",
       "      <td>LM013755</td>\n",
       "      <td>Angewandte Chemie (International ed. in English)</td>\n",
       "      <td>2021</td>\n",
       "    </tr>\n",
       "    <tr>\n",
       "      <th>0</th>\n",
       "      <td></td>\n",
       "      <td>IMI-CDE: an interactive interface for collabor...</td>\n",
       "      <td></td>\n",
       "      <td>Tao S,Chou WC,Li J,Du J,Ram PM,Abeysinghe R,Xu...</td>\n",
       "      <td>doi:10.1109/ICHI54592.2022.00070</td>\n",
       "      <td>COVID-19,Common Data Element,CDE,Mapping,Data ...</td>\n",
       "      <td></td>\n",
       "      <td></td>\n",
       "      <td>The National Institute of Health (NIH) launche...</td>\n",
       "      <td>LM013755</td>\n",
       "      <td>2022 IEEE 10th International Conference on Hea...</td>\n",
       "      <td>2022</td>\n",
       "    </tr>\n",
       "  </tbody>\n",
       "</table>\n",
       "</div>"
      ],
      "text/plain": [
       "         pmId                                              title        pmcId  \\\n",
       "389  35644340  Effectiveness and Safety of Biologic Therapy i...   PMC9701245   \n",
       "390  35532905  Aptamer Sandwich Lateral Flow Assay (AptaFlow)...   PMC9112978   \n",
       "391  34923447  Detecting model misconducts in decentralized h...  PMC10017272   \n",
       "392  34328683  Discovery and Characterization of Spike N-Term...   PMC8426805   \n",
       "0              IMI-CDE: an interactive interface for collabor...                \n",
       "\n",
       "                                               authors  \\\n",
       "389  Nguyen NH,Luo J,Paul P,Kim J,Syal G,Ha C,Rudra...   \n",
       "390  Yang LF,Kacherovsky N,Panpradist N,Wan R,Liang...   \n",
       "391                                      Kuo TT,Pham A   \n",
       "392  Kacherovsky N,Yang LF,Dang HV,Cheng EL,Cardle ...   \n",
       "0    Tao S,Chou WC,Li J,Du J,Ram PM,Abeysinghe R,Xu...   \n",
       "\n",
       "                                    doi  \\\n",
       "389       doi:10.1016/j.cgh.2022.05.008   \n",
       "390    doi:10.1021/acs.analchem.2c00554   \n",
       "391  doi:10.1016/j.ijmedinf.2021.104658   \n",
       "392          doi:10.1002/anie.202107730   \n",
       "0      doi:10.1109/ICHI54592.2022.00070   \n",
       "\n",
       "                                              keywords  \\\n",
       "389  Crohn’s Disease,Disparities,Ethnic Minorities,...   \n",
       "390                                                      \n",
       "391  Blockchain Distributed Ledger Technology,Elect...   \n",
       "392  SARS-CoV-2,aptamers,coronavirus,cryo-EM,immuno...   \n",
       "0    COVID-19,Common Data Element,CDE,Mapping,Data ...   \n",
       "\n",
       "                                              mesh_ids  \\\n",
       "389  D000328,D005260,D006801,D008297,D001688,D00169...   \n",
       "390  D000914,D052157,D000086382,D000086663,D006801,...   \n",
       "391                                                      \n",
       "392  D052157,D000086382,D004797,D006801,D008958,D00...   \n",
       "0                                                        \n",
       "\n",
       "                                            mesh_terms  \\\n",
       "389  Adult,Female,Humans,Male,Biological Products,B...   \n",
       "390  Antibodies,Viral,Aptamers,Nucleotide,COVID-19,...   \n",
       "391                                                      \n",
       "392  Aptamers,Nucleotide,COVID-19,Enzyme-Linked Imm...   \n",
       "0                                                        \n",
       "\n",
       "                                              abstract projectSerialNum  \\\n",
       "389  There are limited data on outcomes of biologic...         LM013755   \n",
       "390  The COVID-19 pandemic is among the greatest he...         LM013755   \n",
       "391  To accelerate healthcare/genomic medicine rese...         LM013755   \n",
       "392  The coronavirus disease 2019 (COVID-19) pandem...         LM013755   \n",
       "0    The National Institute of Health (NIH) launche...         LM013755   \n",
       "\n",
       "                                          journal_name  publication_year  \n",
       "389  Clinical gastroenterology and hepatology : the...              2023  \n",
       "390                               Analytical chemistry              2022  \n",
       "391       International journal of medical informatics              2021  \n",
       "392   Angewandte Chemie (International ed. in English)              2021  \n",
       "0    2022 IEEE 10th International Conference on Hea...              2022  "
      ]
     },
     "execution_count": 9,
     "metadata": {},
     "output_type": "execute_result"
    }
   ],
   "source": [
    "raw_publications.tail()"
   ]
  },
  {
   "cell_type": "markdown",
   "id": "1915e28d-3465-4356-b2fe-249cc9f6d2dc",
   "metadata": {},
   "source": [
    "## Get author information for the primary citations"
   ]
  },
  {
   "cell_type": "code",
   "execution_count": 10,
   "id": "742d894d-5cf5-4e80-99cd-c3e6cf2cd261",
   "metadata": {},
   "outputs": [
    {
     "name": "stdout",
     "output_type": "stream",
     "text": [
      "ERROR: Semantic Scholar HTTP error: 504 Server Error: Gateway Timeout for url: https://api.semanticscholar.org/graph/v1/paper/batch?fields=authors.authorId%2Cauthors.name%2Cauthors.aliases%2Cauthors.affiliations%2Cauthors.paperCount%2Cauthors.citationCount%2Cauthors.hIndex%2Cauthors.externalIds\n"
     ]
    },
    {
     "ename": "KeyError",
     "evalue": "'aliases'",
     "output_type": "error",
     "traceback": [
      "\u001b[0;31m---------------------------------------------------------------------------\u001b[0m",
      "\u001b[0;31mKeyError\u001b[0m                                  Traceback (most recent call last)",
      "Cell \u001b[0;32mIn[10], line 3\u001b[0m\n\u001b[1;32m      1\u001b[0m \u001b[38;5;66;03m# Query the Semantic Scholar API to get author information for a list of DOIs\u001b[39;00m\n\u001b[1;32m      2\u001b[0m raw_dois \u001b[38;5;241m=\u001b[39m \u001b[38;5;28mlist\u001b[39m(raw_publications[\u001b[38;5;124m\"\u001b[39m\u001b[38;5;124mdoi\u001b[39m\u001b[38;5;124m\"\u001b[39m]\u001b[38;5;241m.\u001b[39munique())\n\u001b[0;32m----> 3\u001b[0m authors \u001b[38;5;241m=\u001b[39m \u001b[43mpublication_query\u001b[49m\u001b[38;5;241;43m.\u001b[39;49m\u001b[43mget_author_ids\u001b[49m\u001b[43m(\u001b[49m\u001b[43mraw_dois\u001b[49m\u001b[43m)\u001b[49m\n\u001b[1;32m      4\u001b[0m authors\u001b[38;5;241m.\u001b[39mhead()\n",
      "File \u001b[0;32m~/GitRepositories/radx-kg/notebooks/publication_query.py:124\u001b[0m, in \u001b[0;36mget_author_ids\u001b[0;34m(paper_ids)\u001b[0m\n\u001b[1;32m    122\u001b[0m author_data\u001b[38;5;241m.\u001b[39mdropna(axis\u001b[38;5;241m=\u001b[39m\u001b[38;5;241m0\u001b[39m, how\u001b[38;5;241m=\u001b[39m\u001b[38;5;124m'\u001b[39m\u001b[38;5;124mall\u001b[39m\u001b[38;5;124m'\u001b[39m, inplace\u001b[38;5;241m=\u001b[39m\u001b[38;5;28;01mTrue\u001b[39;00m)\n\u001b[1;32m    123\u001b[0m author_data \u001b[38;5;241m=\u001b[39m author_data\u001b[38;5;241m.\u001b[39mastype(\u001b[38;5;28mstr\u001b[39m)\n\u001b[0;32m--> 124\u001b[0m author_data[\u001b[38;5;124m\"\u001b[39m\u001b[38;5;124maliases\u001b[39m\u001b[38;5;124m\"\u001b[39m] \u001b[38;5;241m=\u001b[39m \u001b[43mauthor_data\u001b[49m\u001b[43m[\u001b[49m\u001b[38;5;124;43m\"\u001b[39;49m\u001b[38;5;124;43maliases\u001b[39;49m\u001b[38;5;124;43m\"\u001b[39;49m\u001b[43m]\u001b[49m\u001b[38;5;241m.\u001b[39mstr\u001b[38;5;241m.\u001b[39mreplace(\u001b[38;5;124m\"\u001b[39m\u001b[38;5;124m.\u001b[39m\u001b[38;5;124m\"\u001b[39m, \u001b[38;5;124m\"\u001b[39m\u001b[38;5;124m\"\u001b[39m)\n\u001b[1;32m    125\u001b[0m author_data[\u001b[38;5;124m\"\u001b[39m\u001b[38;5;124maliases\u001b[39m\u001b[38;5;124m\"\u001b[39m] \u001b[38;5;241m=\u001b[39m author_data[\u001b[38;5;124m\"\u001b[39m\u001b[38;5;124maliases\u001b[39m\u001b[38;5;124m\"\u001b[39m]\u001b[38;5;241m.\u001b[39mstr\u001b[38;5;241m.\u001b[39mreplace(\u001b[38;5;124m\"\u001b[39m\u001b[38;5;124mNone\u001b[39m\u001b[38;5;124m\"\u001b[39m, \u001b[38;5;124m\"\u001b[39m\u001b[38;5;124m\"\u001b[39m)\n\u001b[1;32m    126\u001b[0m author_data[\u001b[38;5;124m\"\u001b[39m\u001b[38;5;124maliases\u001b[39m\u001b[38;5;124m\"\u001b[39m] \u001b[38;5;241m=\u001b[39m author_data[\u001b[38;5;124m\"\u001b[39m\u001b[38;5;124maliases\u001b[39m\u001b[38;5;124m\"\u001b[39m]\u001b[38;5;241m.\u001b[39mstr\u001b[38;5;241m.\u001b[39mreplace(\u001b[38;5;124m\"\u001b[39m\u001b[38;5;124m[\u001b[39m\u001b[38;5;124m'\u001b[39m\u001b[38;5;124m\"\u001b[39m,\u001b[38;5;124m\"\u001b[39m\u001b[38;5;124m\"\u001b[39m)\n",
      "File \u001b[0;32m~/miniconda3/envs/radx-kg/lib/python3.10/site-packages/pandas/core/frame.py:3893\u001b[0m, in \u001b[0;36mDataFrame.__getitem__\u001b[0;34m(self, key)\u001b[0m\n\u001b[1;32m   3891\u001b[0m \u001b[38;5;28;01mif\u001b[39;00m \u001b[38;5;28mself\u001b[39m\u001b[38;5;241m.\u001b[39mcolumns\u001b[38;5;241m.\u001b[39mnlevels \u001b[38;5;241m>\u001b[39m \u001b[38;5;241m1\u001b[39m:\n\u001b[1;32m   3892\u001b[0m     \u001b[38;5;28;01mreturn\u001b[39;00m \u001b[38;5;28mself\u001b[39m\u001b[38;5;241m.\u001b[39m_getitem_multilevel(key)\n\u001b[0;32m-> 3893\u001b[0m indexer \u001b[38;5;241m=\u001b[39m \u001b[38;5;28;43mself\u001b[39;49m\u001b[38;5;241;43m.\u001b[39;49m\u001b[43mcolumns\u001b[49m\u001b[38;5;241;43m.\u001b[39;49m\u001b[43mget_loc\u001b[49m\u001b[43m(\u001b[49m\u001b[43mkey\u001b[49m\u001b[43m)\u001b[49m\n\u001b[1;32m   3894\u001b[0m \u001b[38;5;28;01mif\u001b[39;00m is_integer(indexer):\n\u001b[1;32m   3895\u001b[0m     indexer \u001b[38;5;241m=\u001b[39m [indexer]\n",
      "File \u001b[0;32m~/miniconda3/envs/radx-kg/lib/python3.10/site-packages/pandas/core/indexes/range.py:418\u001b[0m, in \u001b[0;36mRangeIndex.get_loc\u001b[0;34m(self, key)\u001b[0m\n\u001b[1;32m    416\u001b[0m         \u001b[38;5;28;01mraise\u001b[39;00m \u001b[38;5;167;01mKeyError\u001b[39;00m(key) \u001b[38;5;28;01mfrom\u001b[39;00m \u001b[38;5;21;01merr\u001b[39;00m\n\u001b[1;32m    417\u001b[0m \u001b[38;5;28;01mif\u001b[39;00m \u001b[38;5;28misinstance\u001b[39m(key, Hashable):\n\u001b[0;32m--> 418\u001b[0m     \u001b[38;5;28;01mraise\u001b[39;00m \u001b[38;5;167;01mKeyError\u001b[39;00m(key)\n\u001b[1;32m    419\u001b[0m \u001b[38;5;28mself\u001b[39m\u001b[38;5;241m.\u001b[39m_check_indexing_error(key)\n\u001b[1;32m    420\u001b[0m \u001b[38;5;28;01mraise\u001b[39;00m \u001b[38;5;167;01mKeyError\u001b[39;00m(key)\n",
      "\u001b[0;31mKeyError\u001b[0m: 'aliases'"
     ]
    }
   ],
   "source": [
    "# Query the Semantic Scholar API to get author information for a list of DOIs\n",
    "raw_dois = list(raw_publications[\"doi\"].unique())\n",
    "authors = publication_query.get_author_ids(raw_dois)\n",
    "authors.head()"
   ]
  },
  {
   "cell_type": "code",
   "execution_count": null,
   "id": "7f4f0e75-31c1-4609-8ba1-425f9063bb1e",
   "metadata": {},
   "outputs": [],
   "source": [
    "# authors.query(\"doi == 'doi:10.1097/PCC.0000000000002976'\") # Authors with title in names\n",
    "authors.query(\"doi == 'doi:10.1109/ICHI54592.2022.00070'\")"
   ]
  },
  {
   "cell_type": "code",
   "execution_count": null,
   "id": "33bad453-f497-428d-89ea-0c03808cefc3",
   "metadata": {},
   "outputs": [],
   "source": [
    "publication_query.expand_name_column(authors, \"name\")\n",
    "authors.rename(columns={\"name\": \"author\"}, inplace=True)\n",
    "authors.rename(columns={\"externalIds.ORCID\": \"orcid\"}, inplace=True)\n",
    "authors = raw_publications.merge(authors, on=\"doi\")"
   ]
  },
  {
   "cell_type": "code",
   "execution_count": null,
   "id": "63913300-6afa-455a-bb15-2d6a68bf63ca",
   "metadata": {},
   "outputs": [],
   "source": [
    "authors.drop_duplicates(inplace=True)\n",
    "authors.fillna(\"\", inplace=True)\n",
    "authors.replace(\"nan\", \"\", inplace=True)\n",
    "authors.rename(columns={\"name\": \"author\"}, inplace=True)"
   ]
  },
  {
   "cell_type": "markdown",
   "id": "6e4c5d7f-8234-4016-a83c-586cdb392da1",
   "metadata": {},
   "source": [
    "## Match publication authors with RADx-rad investigators\n",
    "In this step, we eliminate non-RADx publications."
   ]
  },
  {
   "cell_type": "code",
   "execution_count": null,
   "id": "a324599c-0248-415e-84c7-0af19673c72d",
   "metadata": {},
   "outputs": [],
   "source": [
    "radx_investigators = pd.read_csv(os.path.join(DERIVED_DATA_PATH, \"radx_investigators.csv\"))"
   ]
  },
  {
   "cell_type": "code",
   "execution_count": null,
   "id": "9c2b9ea5-27bf-4374-87ec-16f0ff89d1ab",
   "metadata": {},
   "outputs": [],
   "source": [
    "radx_investigators.head()"
   ]
  },
  {
   "cell_type": "markdown",
   "id": "fa3b2a88-dee1-467d-b692-fe1648496626",
   "metadata": {},
   "source": [
    "#### Fuzzy merge of publication authors with RADx investigators"
   ]
  },
  {
   "cell_type": "code",
   "execution_count": null,
   "id": "c66ea9d8-a53c-4df6-bc53-62d4d88ea878",
   "metadata": {},
   "outputs": [],
   "source": [
    "# The threshold was manually adjusted by checking for proper matches in the table below. The lowest threshold is 0.905882 for author Vanegas D.\n",
    "radx_authors = utils.fuzzy_merge(authors[[\"author\", \"authorId\", \"aliases\", \"orcid\", \"projectSerialNum\", \"doi\"]], \n",
    "                                    radx_investigators[[\"name\", \"projectSerialNum\"]], \n",
    "                                    left_fuzzy_on=\"author\", right_fuzzy_on=\"name\", \n",
    "                                    left_on=\"projectSerialNum\", right_on=\"projectSerialNum\", \n",
    "                                    how=\"inner\", threshold=0.905)"
   ]
  },
  {
   "cell_type": "code",
   "execution_count": null,
   "id": "9a71c437-3811-491e-93cd-f44a512d7109",
   "metadata": {},
   "outputs": [],
   "source": [
    "print(\"Matched authors       :\", radx_authors.shape[0])\n",
    "print(\"Matched unique authors:\", radx_authors[\"author\"].nunique())\n",
    "print(\"Number of unique DOIs :\", radx_authors[\"doi\"].nunique())\n",
    "radx_authors.head(300)"
   ]
  },
  {
   "cell_type": "code",
   "execution_count": null,
   "id": "b4002a0a-fbf5-4adb-8466-496f3a3b6248",
   "metadata": {},
   "outputs": [],
   "source": [
    "radx_authors.query(\"doi == 'doi:10.1109/ICHI54592.2022.00070'\")"
   ]
  },
  {
   "cell_type": "markdown",
   "id": "24c8e4b4-1fe3-4d7a-8b9e-85c4ce98f556",
   "metadata": {},
   "source": [
    "#### If there are multiple name matches for a publication, use the match with the highest score."
   ]
  },
  {
   "cell_type": "code",
   "execution_count": null,
   "id": "978c7dbc-7f79-4a2a-950b-3a3281667660",
   "metadata": {},
   "outputs": [],
   "source": [
    "# sort descending so the match with the highest score comes first.\n",
    "radx_authors.sort_values(by=[\"score\", \"doi\", \"match\"], ascending=False, inplace=True)\n",
    "# keep only the first instance for each match, thus eliminating the lower-scoring matches.\n",
    "radx_authors.drop_duplicates(subset=[\"doi\", \"match\"], inplace=True)\n",
    "print(\"Matched authors       :\", radx_authors.shape[0])\n",
    "print(\"Matched unique authors:\", radx_authors[\"author\"].nunique())\n",
    "print(\"Number of unique DOIs :\", radx_authors[\"doi\"].nunique())\n",
    "radx_authors.head()"
   ]
  },
  {
   "cell_type": "markdown",
   "id": "8dec3a6f-e037-4aa4-b331-6fc02f71ff6a",
   "metadata": {},
   "source": [
    "#### Filter publications (RADx investigators only)"
   ]
  },
  {
   "cell_type": "code",
   "execution_count": null,
   "id": "fa8fa842-2585-4282-ad46-2b3ac8ccfce0",
   "metadata": {},
   "outputs": [],
   "source": [
    "primary_dois = list(radx_authors[\"doi\"].unique())\n",
    "primary_publications = raw_publications[raw_publications[\"doi\"].isin(set(primary_dois))].copy()\n",
    "primary_publications.fillna(\"\", inplace=True)\n",
    "primary_publications.head()"
   ]
  },
  {
   "cell_type": "markdown",
   "id": "f0ab47c8-1e37-44fe-a8e1-b94c8ffb03a5",
   "metadata": {},
   "source": [
    "## Create primary ```Publication``` node file for KG"
   ]
  },
  {
   "cell_type": "code",
   "execution_count": null,
   "id": "bf1a9473-5bdf-44b4-9cca-1c93a2b5c444",
   "metadata": {},
   "outputs": [],
   "source": [
    "primary_publications[\"id\"] = primary_publications[\"doi\"]\n",
    "primary_publications[\"url\"] = \"https://doi.org/\" + primary_publications[\"doi\"]\n",
    "primary_publications[\"type\"] = \"primary\"\n",
    "primary_publications.drop_duplicates(\"id\", inplace=True)"
   ]
  },
  {
   "cell_type": "code",
   "execution_count": null,
   "id": "99d2cd74-1888-4212-9996-e08466f5ee1c",
   "metadata": {},
   "outputs": [],
   "source": [
    "publication_map = {\"id\": \"id\", \"title\": \"name\", \"abstract\": \"abstract\", \"journal_name\": \"journal\", \"publication_year\": \"year\", \"type\": \"type\", \"doi\": \"doi\", \"pmId\": \"pmId\", \"pmcId\": \"pmcId\", \"url\": \"url\"}\n",
    "primary_publications_kg = utils.rename_and_reorder_columns(primary_publications, publication_map)"
   ]
  },
  {
   "cell_type": "code",
   "execution_count": null,
   "id": "7c72c934-0c18-4957-b068-e0344276a36e",
   "metadata": {},
   "outputs": [],
   "source": [
    "primary_publications_kg.to_csv(os.path.join(KG_PATH, \"nodes\", \"Publication_primary.csv\"), index=False)"
   ]
  },
  {
   "cell_type": "markdown",
   "id": "059c8d74-db47-4e4c-8246-748e55f4c13d",
   "metadata": {},
   "source": [
    "### Create primary publication Author nodes"
   ]
  },
  {
   "cell_type": "code",
   "execution_count": null,
   "id": "06dad189-c1f1-4228-b055-a928bccdfbb2",
   "metadata": {},
   "outputs": [],
   "source": [
    "primary_authors_all = authors[authors[\"doi\"].isin(set(primary_dois))].copy()\n",
    "primary_authors_all[\"fullName\"] = primary_authors_all[\"fullName\"].str.replace(\".\", \"\")\n",
    "primary_authors_all.head()"
   ]
  },
  {
   "cell_type": "code",
   "execution_count": null,
   "id": "32f837ea-8922-4a85-9bdc-5f870fad67d1",
   "metadata": {},
   "outputs": [],
   "source": [
    "#primary_authors[[\"authorId\", \"author\", \"fullName\", \"firstName\", \"middleName\", \"lastName\", \"doi\"]].to_csv(os.path.join(DERIVED_DATA_PATH, \"primary_authors_all.csv\"), index=False)"
   ]
  },
  {
   "cell_type": "markdown",
   "id": "8b6b685e-2992-405e-b77e-8ab563a25c4c",
   "metadata": {},
   "source": [
    "## Create ```Publication-CITES-Publication``` relationship file for KG"
   ]
  },
  {
   "cell_type": "code",
   "execution_count": null,
   "id": "b6e2ce49-d4d9-4e9c-915f-eded892ef02e",
   "metadata": {},
   "outputs": [],
   "source": [
    "citations = publication_query.get_citations(primary_dois)\n",
    "citations.rename(columns={\"doiCite\": \"from\", \"doi\": \"to\"}, inplace=True)\n",
    "# TODO where does the following inconsistency originate?\n",
    "# WARNING: Error messages from data import:\n",
    "# doi:10.47464/METROCIENCIA/VOL29/3/2021/5-10 (Publication-ID)-[CITES]->doi:10.1002/art.41616 (Publication-ID) referring to missing node doi:10.47464/METROCIENCIA/VOL29/3/2021/5-10\n",
    "citations = citations[(citations[\"from\"] != \"doi:10.47464/METROCIENCIA/VOL29/3/2021/5-10\") & (citations[\"to\"] != \"doi:10.1002/art.41616\")]\n",
    "citations.to_csv(os.path.join(KG_PATH, \"relationships\", \"Publication-CITES-Publication.csv\"), index=False)"
   ]
  },
  {
   "cell_type": "markdown",
   "id": "f675b0af-b38b-4167-a6b0-88c53ef6e102",
   "metadata": {},
   "source": [
    "## Get Secondary publications\n",
    "Secondary publications are publications that cite the primary publication"
   ]
  },
  {
   "cell_type": "code",
   "execution_count": null,
   "id": "17a057e2-2126-47c2-ad63-a3cbfa434dbd",
   "metadata": {},
   "outputs": [],
   "source": [
    "secondary_dois = list(citations[\"from\"].unique())\n",
    "# remove any primary DOIs, e.g., a primary publication cites another primary publication.\n",
    "secondary_dois = list(set(secondary_dois) - set(primary_dois))\n",
    "secondary_publications = publication_query.get_publication_info(secondary_dois)"
   ]
  },
  {
   "cell_type": "code",
   "execution_count": null,
   "id": "d66dd612-517d-481a-a3a6-242bb88f27d2",
   "metadata": {},
   "outputs": [],
   "source": [
    "secondary_publications[\"id\"] = secondary_publications[\"doi\"]\n",
    "secondary_publications[\"url\"] = \"https://doi.org/\" + secondary_publications[\"doi\"]\n",
    "secondary_publications[\"type\"] = \"secondary\"\n",
    "secondary_publications.drop_duplicates(\"id\", inplace=True)"
   ]
  },
  {
   "cell_type": "code",
   "execution_count": null,
   "id": "af3dae79-efe3-4243-9c13-07b4a4a83c4a",
   "metadata": {},
   "outputs": [],
   "source": [
    "citation_map = {\"id\": \"id\", \"title\": \"name\", \"abstract\": \"abstract\", \"journal\": \"journal\", \"year\": \"year\", \"type\": \"type\", \"doi\": \"doi\", \"pmId\": \"pmId\", \"pmcId\": \"pmcId\", \"url\": \"url\"}\n",
    "secondary_publications = utils.rename_and_reorder_columns(secondary_publications, citation_map)"
   ]
  },
  {
   "cell_type": "code",
   "execution_count": null,
   "id": "7eb934cb-8f00-43fb-a98c-96ca2fc7661f",
   "metadata": {},
   "outputs": [],
   "source": [
    "print(\"Number of secondary publications:\", secondary_publications.shape[0])\n",
    "secondary_publications.head()"
   ]
  },
  {
   "cell_type": "code",
   "execution_count": null,
   "id": "3115ffcf-dac8-4b75-886d-e8d5d0d67bdd",
   "metadata": {},
   "outputs": [],
   "source": [
    "secondary_publications.to_csv(os.path.join(KG_PATH, \"nodes\", \"Publication_secondary.csv\"), index=False)"
   ]
  },
  {
   "cell_type": "markdown",
   "id": "361a2695-bbee-4995-880e-11ed7ef7d98a",
   "metadata": {},
   "source": [
    "### Create list of primary Authors"
   ]
  },
  {
   "cell_type": "code",
   "execution_count": null,
   "id": "ca7121d7-58d0-450d-ad6a-12b82252fd55",
   "metadata": {},
   "outputs": [],
   "source": [
    "radx_authors.head(100)"
   ]
  },
  {
   "cell_type": "code",
   "execution_count": null,
   "id": "3af3f7bc-9f54-4172-8b29-0604d50e38a2",
   "metadata": {},
   "outputs": [],
   "source": [
    "primary_authors = radx_authors[[\"authorId\", \"author\", \"aliases\", \"projectSerialNum\", \"doi\"]].copy()"
   ]
  },
  {
   "cell_type": "code",
   "execution_count": null,
   "id": "f437af0d-8fd5-47b5-a7e6-8459ea8db2a8",
   "metadata": {},
   "outputs": [],
   "source": [
    "primary_authors.drop_duplicates(inplace=True)\n",
    "primary_authors.dropna(inplace=True)\n",
    "primary_authors.sort_values(\"author\", inplace=True)\n",
    "print(primary_authors.shape[0])\n",
    "primary_authors"
   ]
  },
  {
   "cell_type": "code",
   "execution_count": null,
   "id": "5d22fccb-7ed2-4e0c-ad0c-c8f37e7e6d84",
   "metadata": {},
   "outputs": [],
   "source": [
    "primary_authors.to_csv(os.path.join(\"../derived_data/\", \"primary_authors.csv\"), index=False)"
   ]
  },
  {
   "cell_type": "markdown",
   "id": "bbc79378-2ef8-4d7f-a430-711b3d1f0344",
   "metadata": {},
   "source": [
    "## Create a list of primary authors who are not PIs or Study Investigators"
   ]
  },
  {
   "cell_type": "code",
   "execution_count": null,
   "id": "d4e2e346-d09f-4585-a298-ce90c2bffe2b",
   "metadata": {},
   "outputs": [],
   "source": [
    "primary_authors_list = list(primary_authors[\"authorId\"].unique())"
   ]
  },
  {
   "cell_type": "code",
   "execution_count": null,
   "id": "9e1f4d63-1222-46e3-a59a-abd5b6b820b1",
   "metadata": {},
   "outputs": [],
   "source": [
    "primary_authors_all_list = list(primary_authors_all[\"authorId\"].unique())\n",
    "primary_authors_other_list = set(primary_authors_all_list) - set(primary_authors_list)"
   ]
  },
  {
   "cell_type": "code",
   "execution_count": null,
   "id": "68ebb500-ede2-41fa-9e9a-5271c2031ae7",
   "metadata": {},
   "outputs": [],
   "source": [
    "primary_authors_other = primary_authors_all[primary_authors_all[\"authorId\"].isin(primary_authors_other_list)]\n",
    "primary_authors_other = primary_authors_other[[\"authorId\", \"author\", \"fullName\", \"firstName\", \"middleName\", \"lastName\", \"doi\"]].copy()\n",
    "primary_authors_other.drop_duplicates(inplace=True)\n",
    "primary_authors_other.dropna(inplace=True)\n",
    "primary_authors_other.sort_values(\"author\", inplace=True)"
   ]
  },
  {
   "cell_type": "code",
   "execution_count": null,
   "id": "aff7b0a9-519b-48b2-aef8-0b07fbf9529e",
   "metadata": {},
   "outputs": [],
   "source": [
    "primary_authors_other.to_csv(os.path.join(\"../derived_data/\", \"primary_authors_other.csv\"), index=False)\n",
    "print(f\"Number of other primary paper authors: {primary_authors_other.shape[0]}\")\n",
    "primary_authors_other"
   ]
  },
  {
   "cell_type": "markdown",
   "id": "ab3dec41-457c-4deb-bc00-7c3434275271",
   "metadata": {},
   "source": [
    "### Create list of secondary authors"
   ]
  },
  {
   "cell_type": "code",
   "execution_count": null,
   "id": "7fdad262-2760-428b-b2dc-a6bf40a8eae4",
   "metadata": {},
   "outputs": [],
   "source": [
    "# secondary_authors = publication_query.get_author_ids(secondary_dois)\n",
    "# author_map = {\"authorId\": \"authorId\", \"title\": \"name\", \"abstract\": \"abstract\", \"journal\": \"journal\", \"year\": \"year\", \"type\": \"type\", \"doi\": \"doi\", \"pmId\": \"pmId\", \"pmcId\": \"pmcId\", \"url\": \"url\"}\n",
    "# secondary_authors = utils.rename_and_reorder_columns(secondary_authors, author_map)\n",
    "# secondary_authors.rename(columns={\"name\": \"author\"})\n",
    "# secondary_authors.head()\n",
    "#secondary_authors = authors[[\"authorId\", \"author\", \"aliases\", \"orcid\", \"projectSerialNum\"]].copy()"
   ]
  },
  {
   "cell_type": "code",
   "execution_count": null,
   "id": "0c0930a4-c4de-4eaf-98b1-a29db19eeb63",
   "metadata": {},
   "outputs": [],
   "source": [
    "#secondary_authors.to_csv(os.path.join(\"../derived_data/\", \"secondary_authors.csv\"), index=False)"
   ]
  },
  {
   "cell_type": "code",
   "execution_count": null,
   "id": "02ed027b-b32e-4678-9d86-f068cdd9fc5a",
   "metadata": {},
   "outputs": [],
   "source": []
  },
  {
   "cell_type": "code",
   "execution_count": null,
   "id": "15033bf5-bf8f-4858-99f7-cd1fbee9e964",
   "metadata": {},
   "outputs": [],
   "source": []
  },
  {
   "cell_type": "code",
   "execution_count": null,
   "id": "cc9c704c-c56d-432b-bbb4-d7ac57c7b676",
   "metadata": {},
   "outputs": [],
   "source": []
  },
  {
   "cell_type": "code",
   "execution_count": null,
   "id": "715229bc-b4a1-4d60-98ee-f2aa74e59741",
   "metadata": {},
   "outputs": [],
   "source": []
  }
 ],
 "metadata": {
  "kernelspec": {
   "display_name": "Python 3 (ipykernel)",
   "language": "python",
   "name": "python3"
  },
  "language_info": {
   "codemirror_mode": {
    "name": "ipython",
    "version": 3
   },
   "file_extension": ".py",
   "mimetype": "text/x-python",
   "name": "python",
   "nbconvert_exporter": "python",
   "pygments_lexer": "ipython3",
   "version": "3.10.13"
  }
 },
 "nbformat": 4,
 "nbformat_minor": 5
}
