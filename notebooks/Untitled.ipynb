{
 "cells": [
  {
   "cell_type": "code",
   "execution_count": 3,
   "id": "57dd31b5-876a-4058-8f6a-c8006b278334",
   "metadata": {},
   "outputs": [],
   "source": [
    "import pandas as pd\n",
    "import grant_query\n",
    "import publication_query\n",
    "\n",
    "pd.set_option('display.max_columns', None)\n",
    "pd.set_option('display.max_rows', None)"
   ]
  },
  {
   "cell_type": "code",
   "execution_count": 4,
   "id": "dc662bcd-0242-49c9-b9d9-891fa4da04f7",
   "metadata": {},
   "outputs": [],
   "source": [
    "patents = pd.read_csv(\n",
    "        \"https://docs.google.com/spreadsheets/d/1O_IpO8-1IMHXmhpEw6eRU6KPNtBtnJ38GEL-tx9F9Mw/export?format=csv\",\n",
    "        keep_default_na=False,\n",
    "       )"
   ]
  },
  {
   "cell_type": "code",
   "execution_count": 5,
   "id": "6ff637ff-7750-4a35-b06d-baef97527b2c",
   "metadata": {},
   "outputs": [
    {
     "data": {
      "text/html": [
       "<div>\n",
       "<style scoped>\n",
       "    .dataframe tbody tr th:only-of-type {\n",
       "        vertical-align: middle;\n",
       "    }\n",
       "\n",
       "    .dataframe tbody tr th {\n",
       "        vertical-align: top;\n",
       "    }\n",
       "\n",
       "    .dataframe thead th {\n",
       "        text-align: right;\n",
       "    }\n",
       "</style>\n",
       "<table border=\"1\" class=\"dataframe\">\n",
       "  <thead>\n",
       "    <tr style=\"text-align: right;\">\n",
       "      <th></th>\n",
       "      <th>coreProjectNum</th>\n",
       "      <th>investigator</th>\n",
       "      <th>patentId</th>\n",
       "      <th>patentUrl</th>\n",
       "      <th>title</th>\n",
       "      <th>filingDate</th>\n",
       "      <th>status</th>\n",
       "      <th>assignee</th>\n",
       "    </tr>\n",
       "  </thead>\n",
       "  <tbody>\n",
       "    <tr>\n",
       "      <th>0</th>\n",
       "      <td>U01HL150852</td>\n",
       "      <td>Edward P DeMauro</td>\n",
       "      <td>US20220280062A1</td>\n",
       "      <td>https://patents.google.com/patent/US2022028006...</td>\n",
       "      <td>Novel, Rapid Breathalyzer Diagnostic Device fo...</td>\n",
       "      <td>2022-03-04</td>\n",
       "      <td>pending</td>\n",
       "      <td>Rutgers State University of New Jersey</td>\n",
       "    </tr>\n",
       "  </tbody>\n",
       "</table>\n",
       "</div>"
      ],
      "text/plain": [
       "  coreProjectNum      investigator         patentId  \\\n",
       "0    U01HL150852  Edward P DeMauro  US20220280062A1   \n",
       "\n",
       "                                           patentUrl  \\\n",
       "0  https://patents.google.com/patent/US2022028006...   \n",
       "\n",
       "                                               title  filingDate   status  \\\n",
       "0  Novel, Rapid Breathalyzer Diagnostic Device fo...  2022-03-04  pending   \n",
       "\n",
       "                                 assignee  \n",
       "0  Rutgers State University of New Jersey  "
      ]
     },
     "execution_count": 5,
     "metadata": {},
     "output_type": "execute_result"
    }
   ],
   "source": [
    "patents"
   ]
  },
  {
   "cell_type": "code",
   "execution_count": null,
   "id": "a878eedb-9a85-48ab-bdaa-5dd9a377e560",
   "metadata": {},
   "outputs": [],
   "source": []
  }
 ],
 "metadata": {
  "kernelspec": {
   "display_name": "Python 3 (ipykernel)",
   "language": "python",
   "name": "python3"
  },
  "language_info": {
   "codemirror_mode": {
    "name": "ipython",
    "version": 3
   },
   "file_extension": ".py",
   "mimetype": "text/x-python",
   "name": "python",
   "nbconvert_exporter": "python",
   "pygments_lexer": "ipython3",
   "version": "3.10.13"
  }
 },
 "nbformat": 4,
 "nbformat_minor": 5
}
