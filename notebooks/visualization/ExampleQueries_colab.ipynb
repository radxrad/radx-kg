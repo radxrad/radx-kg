{
 "cells": [
  {
   "cell_type": "markdown",
   "id": "b06dbe2f",
   "metadata": {
    "colab_type": "text",
    "id": "view-in-github"
   },
   "source": [
    "<a href=\"https://colab.research.google.com/github/radxrad/radx-kg/blob/main/notebooks/visualization/ExampleQueries_colab.ipynb\" target=\"_parent\"><img src=\"https://colab.research.google.com/assets/colab-badge.svg\" alt=\"Open In Colab\"/></a>"
   ]
  },
  {
   "cell_type": "markdown",
   "id": "a16ef60a-ad28-435f-91d2-3b84b5da90cc",
   "metadata": {
    "id": "a16ef60a-ad28-435f-91d2-3b84b5da90cc"
   },
   "source": [
    "# RADx Knowledge Graph Queries\n",
    "This notebook runs queries on the radx-kg to explore the content and relationships among RADx-rad digital assets. Query results are displayed as tables, bar plots, and visualized as subgraphs.\n",
    "\n",
    "The radx-kg consists of nodes and their relationships that can be queries with the [Cypher graph query language](https://neo4j.com/docs/getting-started/cypher-intro/#_getting_started_with_cypher).\n",
    "\n",
    "<p align=\"center\">\n",
    "<img src=\"https://github.com/radxrad/radx-kg/blob/main/docs/Metagraph.png?raw=1\", width=\"100%\">\n",
    "</p>"
   ]
  },
  {
   "cell_type": "markdown",
   "id": "91e7ef48-6256-4581-9df3-24c1133e5d7a",
   "metadata": {
    "id": "91e7ef48-6256-4581-9df3-24c1133e5d7a"
   },
   "source": [
    "## Setup\n",
    "This notebook installs a Neo4j Graph Database and imports the RADx-KG data and metadata. The software setup may take 2 - 3 minutes."
   ]
  },
  {
   "cell_type": "code",
   "execution_count": 1,
   "id": "f5670553-4d90-47ff-a277-adca5684ea7a",
   "metadata": {
    "cellView": "form",
    "id": "f5670553-4d90-47ff-a277-adca5684ea7a",
    "jupyter": {
     "source_hidden": true
    }
   },
   "outputs": [],
   "source": [
    "#@title Check if Notebook is running in Google Colab\n",
    "in_colab = False\n",
    "try:\n",
    "    import google.colab\n",
    "    in_colab = True\n",
    "except:\n",
    "    pass"
   ]
  },
  {
   "cell_type": "code",
   "execution_count": 2,
   "id": "fc8051ba-0597-484b-b7f7-83c2d935b34f",
   "metadata": {
    "cellView": "form",
    "colab": {
     "base_uri": "https://localhost:8080/"
    },
    "id": "fc8051ba-0597-484b-b7f7-83c2d935b34f",
    "jupyter": {
     "source_hidden": true
    },
    "outputId": "bb0d31a2-731d-4c44-b4f1-8a133be401a7"
   },
   "outputs": [],
   "source": [
    "#@title Install software\n",
    "if in_colab:\n",
    "    # enable third party widgets in Colab\n",
    "    from google.colab import output\n",
    "    output.enable_custom_widget_manager()\n",
    "\n",
    "    # copy required files (temporary solution)\n",
    "    !wget -q https://raw.githubusercontent.com/pwrose/neo4j-ipycytoscape/master/notebooks/neo4j_utils.py\n",
    "    !wget -q https://raw.githubusercontent.com/sbl-sdsc/kg-import/master/notebooks/neo4j_bulk_importer.py\n",
    "    !wget -q https://raw.githubusercontent.com/sbl-sdsc/kg-import/master/notebooks/utils.py\n",
    "    !wget -q https://raw.githubusercontent.com/sbl-sdsc/kg-import/master/notebooks/PrepareNeo4jBulkImport.ipynb\n",
    "\n",
    "    !git clone --quiet https://github.com/radxrad/radx-kg.git\n",
    "\n",
    "    # install software\n",
    "    !apt -qq install openjdk-17-jre-headless\n",
    "    %pip install -q papermill\n",
    "    %pip install -q py2neo\n",
    "    %pip install -q ipycytoscape\n",
    "    %pip install -q python-dotenv\n",
    "\n",
    "    # set environment variables\n",
    "    from dotenv import load_dotenv\n",
    "    load_dotenv(\"/content/radx-kg/.env.colab\")\n",
    "else:\n",
    "    # copy required files (temporary solution)\n",
    "    !curl -s -O https://raw.githubusercontent.com/pwrose/neo4j-ipycytoscape/master/notebooks/neo4j_utils.py\n",
    "    !curl -s -O https://raw.githubusercontent.com/sbl-sdsc/kg-import/master/notebooks/neo4j_bulk_importer.py\n",
    "    !curl -s -O https://raw.githubusercontent.com/sbl-sdsc/kg-import/master/notebooks/utils.py\n",
    "    !curl -s -O https://raw.githubusercontent.com/sbl-sdsc/kg-import/master/notebooks/PrepareNeo4jBulkImport.ipynb\n",
    "    from dotenv import load_dotenv\n",
    "    load_dotenv(\"../../.env\", override=True)"
   ]
  },
  {
   "cell_type": "code",
   "execution_count": 3,
   "id": "08c31e38-cb94-422d-b6e0-9ad7b351df87",
   "metadata": {
    "id": "08c31e38-cb94-422d-b6e0-9ad7b351df87"
   },
   "outputs": [],
   "source": [
    "import os\n",
    "import pandas as pd\n",
    "import seaborn as sns\n",
    "from py2neo import Graph\n",
    "import neo4j_utils\n",
    "import neo4j_bulk_importer"
   ]
  },
  {
   "cell_type": "code",
   "execution_count": 4,
   "id": "55cfd684-08a3-4ad1-8f35-308a98ebe494",
   "metadata": {
    "id": "55cfd684-08a3-4ad1-8f35-308a98ebe494"
   },
   "outputs": [],
   "source": [
    "pd.set_option('display.max_colwidth', None)"
   ]
  },
  {
   "cell_type": "markdown",
   "id": "57c5764c-33a5-4359-be0b-c5b7930c5ac9",
   "metadata": {
    "id": "57c5764c-33a5-4359-be0b-c5b7930c5ac9"
   },
   "source": [
    "### Download and install Neo4j Graph Database"
   ]
  },
  {
   "cell_type": "code",
   "execution_count": 5,
   "id": "5a995db5-fcea-4137-8847-565895d75e19",
   "metadata": {
    "id": "5a995db5-fcea-4137-8847-565895d75e19"
   },
   "outputs": [],
   "source": [
    "neo4j_utils.download_neo4j()"
   ]
  },
  {
   "cell_type": "markdown",
   "id": "e6b136af-8ed7-407e-b02d-6c25a96cd755",
   "metadata": {
    "id": "e6b136af-8ed7-407e-b02d-6c25a96cd755"
   },
   "source": [
    "### Import the RADx-rad Knowledge Graph\n",
    "CSV data and metadata files are uploaded into the Neo4j Graph database from the [kg](https://github.com/radxrad/radx-kg/tree/main/kg) directory using the [kg-import](https://github.com/sbl-sdsc/kg-import) bulk upload scripts. For a description of the data organization and the specification of metadata [see](https://github.com/sbl-sdsc/kg-import/blob/main/README.md)."
   ]
  },
  {
   "cell_type": "code",
   "execution_count": 6,
   "id": "55ed42e2-fd25-45c5-ba9b-b0eac392bbed",
   "metadata": {
    "colab": {
     "base_uri": "https://localhost:8080/",
     "height": 66,
     "referenced_widgets": [
      "6a57de0fd32542d6b95d7b70b09e4c77",
      "49cfd1179d514242bc9222a73cef6c84",
      "2da28d33f2c349a6a8e62eb91cea408b",
      "e25abcb261764b04911f2d65049f7260",
      "a681c0d4fa6b4ff5a0f2ab5229f3c56c",
      "288402886fdc4f639ec650564df697b8",
      "387320691f7c430e8976ac6885f4f070",
      "0b4c4cdfe20b4575a1552cd2ce2db9e0",
      "724b29c7bdda4b3a8d15f25b92bdd4df",
      "444342a7143846bea6e85a9f0614d01c",
      "255c42d992c44403a29a6a420332344f"
     ]
    },
    "id": "55ed42e2-fd25-45c5-ba9b-b0eac392bbed",
    "outputId": "20546eeb-cf5a-43e8-c8d6-65f8db27d61c"
   },
   "outputs": [
    {
     "data": {
      "application/vnd.jupyter.widget-view+json": {
       "model_id": "e39020610e9b4157a7d2d0462f401972",
       "version_major": 2,
       "version_minor": 0
      },
      "text/plain": [
       "Executing:   0%|          | 0/85 [00:00<?, ?cell/s]"
      ]
     },
     "metadata": {},
     "output_type": "display_data"
    },
    {
     "name": "stdout",
     "output_type": "stream",
     "text": [
      "Neo4j is not running.\n",
      "Directories in use:\n",
      "home:         /Users/Peter/work/neo4j-community-5.15.0\n",
      "config:       /Users/Peter/work/neo4j-community-5.15.0/conf\n",
      "logs:         /Users/Peter/work/neo4j-community-5.15.0/logs\n",
      "plugins:      /Users/Peter/work/neo4j-community-5.15.0/plugins\n",
      "import:       /Users/Peter/work/neo4j-community-5.15.0/import\n",
      "data:         /Users/Peter/work/neo4j-community-5.15.0/data\n",
      "certificates: /Users/Peter/work/neo4j-community-5.15.0/certificates\n",
      "licenses:     /Users/Peter/work/neo4j-community-5.15.0/licenses\n",
      "run:          /Users/Peter/work/neo4j-community-5.15.0/run\n",
      "Starting Neo4j.\n",
      "Started neo4j (pid:5645). It is available at http://localhost:7474\n",
      "There may be a short delay until the server is ready.\n",
      "Launching server... running.\n"
     ]
    }
   ],
   "source": [
    "neo4j_bulk_importer.import_from_csv();"
   ]
  },
  {
   "cell_type": "markdown",
   "id": "c3bc4783-38ff-47af-ab21-6a90eb3343ff",
   "metadata": {
    "id": "c3bc4783-38ff-47af-ab21-6a90eb3343ff"
   },
   "source": [
    "### Connect to the local Neo4j Graph database"
   ]
  },
  {
   "cell_type": "code",
   "execution_count": 7,
   "id": "37928585-7936-4e25-9108-eb33f73a512d",
   "metadata": {
    "id": "37928585-7936-4e25-9108-eb33f73a512d"
   },
   "outputs": [],
   "source": [
    "database = os.environ.get(\"NEO4J_DATABASE\")\n",
    "username = os.environ.get(\"NEO4J_USERNAME\")\n",
    "password = os.environ.get(\"NEO4J_PASSWORD\")\n",
    "stylesheet = os.environ.get(\"NEO4J_STYLESHEET\")\n",
    "\n",
    "graph = Graph(\"bolt://localhost:7687\", name=database, user=username, password=password)"
   ]
  },
  {
   "cell_type": "markdown",
   "id": "fa7036b9-8f38-43e9-8d1f-62018a990512",
   "metadata": {
    "id": "fa7036b9-8f38-43e9-8d1f-62018a990512",
    "jp-MarkdownHeadingCollapsed": true
   },
   "source": [
    "## Table of Content\n",
    "* [Metadata](#Metadata)\n",
    "* [Subgraph](#Subgraph)\n",
    "* [Publications](#Publications)\n",
    "* [Patents](#Patents)\n",
    "* [Software](#Software)\n",
    "* [Presentations](#Presentations)"
   ]
  },
  {
   "cell_type": "markdown",
   "id": "eaa077ac-10a5-4537-a470-76e3b657feb6",
   "metadata": {
    "id": "eaa077ac-10a5-4537-a470-76e3b657feb6"
   },
   "source": [
    "## Metadata <a class=\"anchor\" id=\"Metadata\"></a>"
   ]
  },
  {
   "cell_type": "markdown",
   "id": "3e53d63e-0477-4cc0-8594-caf9a446568f",
   "metadata": {
    "id": "3e53d63e-0477-4cc0-8594-caf9a446568f"
   },
   "source": [
    "### Node metadata\n",
    "radx-kg is a self-describing KG. The MetaNodes define the properties and their types of the Nodes in the KG."
   ]
  },
  {
   "cell_type": "code",
   "execution_count": 8,
   "id": "6f5d1ac1-1e9c-440c-92fe-27b07266dd2e",
   "metadata": {
    "colab": {
     "base_uri": "https://localhost:8080/",
     "height": 1000
    },
    "id": "6f5d1ac1-1e9c-440c-92fe-27b07266dd2e",
    "outputId": "f8c83a26-742a-4c5b-9d76-15fedc58e87f",
    "scrolled": true
   },
   "outputs": [
    {
     "data": {
      "text/html": [
       "<div>\n",
       "<style scoped>\n",
       "    .dataframe tbody tr th:only-of-type {\n",
       "        vertical-align: middle;\n",
       "    }\n",
       "\n",
       "    .dataframe tbody tr th {\n",
       "        vertical-align: top;\n",
       "    }\n",
       "\n",
       "    .dataframe thead th {\n",
       "        text-align: right;\n",
       "    }\n",
       "</style>\n",
       "<table border=\"1\" class=\"dataframe\">\n",
       "  <thead>\n",
       "    <tr style=\"text-align: right;\">\n",
       "      <th></th>\n",
       "      <th>nodeName</th>\n",
       "      <th>name</th>\n",
       "      <th>id</th>\n",
       "      <th>url</th>\n",
       "      <th>country</th>\n",
       "      <th>endDate</th>\n",
       "      <th>city</th>\n",
       "      <th>eventUrl</th>\n",
       "      <th>eventType</th>\n",
       "      <th>state</th>\n",
       "      <th>...</th>\n",
       "      <th>researchInitiativeUrl</th>\n",
       "      <th>description</th>\n",
       "      <th>websites</th>\n",
       "      <th>longName</th>\n",
       "      <th>firstName</th>\n",
       "      <th>lastName</th>\n",
       "      <th>profileId</th>\n",
       "      <th>fullName</th>\n",
       "      <th>middleName</th>\n",
       "      <th>orcid</th>\n",
       "    </tr>\n",
       "  </thead>\n",
       "  <tbody>\n",
       "    <tr>\n",
       "      <th>0</th>\n",
       "      <td>Dataset</td>\n",
       "      <td>Name of the dataset (string)</td>\n",
       "      <td>Unique identifier for the dataset (string)</td>\n",
       "      <td>URL to dataset landing page (string)</td>\n",
       "      <td></td>\n",
       "      <td></td>\n",
       "      <td></td>\n",
       "      <td></td>\n",
       "      <td></td>\n",
       "      <td></td>\n",
       "      <td>...</td>\n",
       "      <td></td>\n",
       "      <td></td>\n",
       "      <td></td>\n",
       "      <td></td>\n",
       "      <td></td>\n",
       "      <td></td>\n",
       "      <td></td>\n",
       "      <td></td>\n",
       "      <td></td>\n",
       "      <td></td>\n",
       "    </tr>\n",
       "    <tr>\n",
       "      <th>1</th>\n",
       "      <td>Event</td>\n",
       "      <td>Name of the event (string)</td>\n",
       "      <td>Unique identifier of the event (date and event number) (string)</td>\n",
       "      <td></td>\n",
       "      <td>Country of event location (string)</td>\n",
       "      <td>End data of event (date)</td>\n",
       "      <td>City of event location (string)</td>\n",
       "      <td>URL of the event website (string)</td>\n",
       "      <td>Type of event: webinar, virtual conference, in-person conference, hybrid conference, virtual workshop, in-person workshop, hybrid workshop (string)</td>\n",
       "      <td>State or province of the event location (string)</td>\n",
       "      <td>...</td>\n",
       "      <td></td>\n",
       "      <td></td>\n",
       "      <td></td>\n",
       "      <td></td>\n",
       "      <td></td>\n",
       "      <td></td>\n",
       "      <td></td>\n",
       "      <td></td>\n",
       "      <td></td>\n",
       "      <td></td>\n",
       "    </tr>\n",
       "    <tr>\n",
       "      <th>2</th>\n",
       "      <td>FundingOpportunity</td>\n",
       "      <td>Name of the funding opportunity (string)</td>\n",
       "      <td>Unique identifier for the funding opportunity (Thesaurus:C20021) (string)</td>\n",
       "      <td>URL to funding opportunity description (string)</td>\n",
       "      <td></td>\n",
       "      <td></td>\n",
       "      <td></td>\n",
       "      <td></td>\n",
       "      <td></td>\n",
       "      <td></td>\n",
       "      <td>...</td>\n",
       "      <td></td>\n",
       "      <td></td>\n",
       "      <td></td>\n",
       "      <td></td>\n",
       "      <td></td>\n",
       "      <td></td>\n",
       "      <td></td>\n",
       "      <td></td>\n",
       "      <td></td>\n",
       "      <td></td>\n",
       "    </tr>\n",
       "    <tr>\n",
       "      <th>3</th>\n",
       "      <td>Grant</td>\n",
       "      <td>Title of the project (string)</td>\n",
       "      <td>Unique identifier for the grant (Thesaurus:C16644) (string)</td>\n",
       "      <td></td>\n",
       "      <td></td>\n",
       "      <td></td>\n",
       "      <td></td>\n",
       "      <td></td>\n",
       "      <td></td>\n",
       "      <td></td>\n",
       "      <td>...</td>\n",
       "      <td></td>\n",
       "      <td></td>\n",
       "      <td></td>\n",
       "      <td></td>\n",
       "      <td></td>\n",
       "      <td></td>\n",
       "      <td></td>\n",
       "      <td></td>\n",
       "      <td></td>\n",
       "      <td></td>\n",
       "    </tr>\n",
       "    <tr>\n",
       "      <th>4</th>\n",
       "      <td>Organization</td>\n",
       "      <td>Name of the organization (string)</td>\n",
       "      <td>Unique entity identifier: ror id if available, otherwise uei id (string)</td>\n",
       "      <td>Research Organization Registry landing page of the organization (string)</td>\n",
       "      <td>Country of the organization (string)</td>\n",
       "      <td></td>\n",
       "      <td>City of the organization (string)</td>\n",
       "      <td></td>\n",
       "      <td></td>\n",
       "      <td>State of the organization (string)</td>\n",
       "      <td>...</td>\n",
       "      <td></td>\n",
       "      <td></td>\n",
       "      <td></td>\n",
       "      <td></td>\n",
       "      <td></td>\n",
       "      <td></td>\n",
       "      <td></td>\n",
       "      <td></td>\n",
       "      <td></td>\n",
       "      <td></td>\n",
       "    </tr>\n",
       "    <tr>\n",
       "      <th>5</th>\n",
       "      <td>Patent</td>\n",
       "      <td>Title of the patent (string)</td>\n",
       "      <td>Identifier of the patents (string)</td>\n",
       "      <td>URL of patent webpage (string)</td>\n",
       "      <td></td>\n",
       "      <td></td>\n",
       "      <td></td>\n",
       "      <td></td>\n",
       "      <td></td>\n",
       "      <td></td>\n",
       "      <td>...</td>\n",
       "      <td></td>\n",
       "      <td></td>\n",
       "      <td></td>\n",
       "      <td></td>\n",
       "      <td></td>\n",
       "      <td></td>\n",
       "      <td></td>\n",
       "      <td></td>\n",
       "      <td></td>\n",
       "      <td></td>\n",
       "    </tr>\n",
       "    <tr>\n",
       "      <th>6</th>\n",
       "      <td>Presentation</td>\n",
       "      <td>Title of the presentation (string)</td>\n",
       "      <td>Unique identifier of the presentation (hash of event id and name) (string)</td>\n",
       "      <td></td>\n",
       "      <td></td>\n",
       "      <td></td>\n",
       "      <td></td>\n",
       "      <td></td>\n",
       "      <td></td>\n",
       "      <td></td>\n",
       "      <td>...</td>\n",
       "      <td></td>\n",
       "      <td></td>\n",
       "      <td></td>\n",
       "      <td></td>\n",
       "      <td></td>\n",
       "      <td></td>\n",
       "      <td></td>\n",
       "      <td></td>\n",
       "      <td></td>\n",
       "      <td></td>\n",
       "    </tr>\n",
       "    <tr>\n",
       "      <th>7</th>\n",
       "      <td>Publication</td>\n",
       "      <td>Title of the publication (string)</td>\n",
       "      <td>Unique identifier for the publication (string)</td>\n",
       "      <td>URL of publication (string)</td>\n",
       "      <td></td>\n",
       "      <td></td>\n",
       "      <td></td>\n",
       "      <td></td>\n",
       "      <td></td>\n",
       "      <td></td>\n",
       "      <td>...</td>\n",
       "      <td></td>\n",
       "      <td></td>\n",
       "      <td></td>\n",
       "      <td></td>\n",
       "      <td></td>\n",
       "      <td></td>\n",
       "      <td></td>\n",
       "      <td></td>\n",
       "      <td></td>\n",
       "      <td></td>\n",
       "    </tr>\n",
       "    <tr>\n",
       "      <th>8</th>\n",
       "      <td>ResearchInitiative</td>\n",
       "      <td>Abbreviation of the research initiative (string)</td>\n",
       "      <td>Unique id of the research initiative (string)</td>\n",
       "      <td>URL of the research initiative website (string)</td>\n",
       "      <td></td>\n",
       "      <td></td>\n",
       "      <td></td>\n",
       "      <td></td>\n",
       "      <td></td>\n",
       "      <td></td>\n",
       "      <td>...</td>\n",
       "      <td>Description of the research initiative that funded the research initiative (string)</td>\n",
       "      <td>Description of the research initiative (string)</td>\n",
       "      <td>URLs of related websites (string[])</td>\n",
       "      <td>Long name for research initiative (string)</td>\n",
       "      <td></td>\n",
       "      <td></td>\n",
       "      <td></td>\n",
       "      <td></td>\n",
       "      <td></td>\n",
       "      <td></td>\n",
       "    </tr>\n",
       "    <tr>\n",
       "      <th>9</th>\n",
       "      <td>Researcher</td>\n",
       "      <td>Name of the researcher (lastname plus initials) (string)</td>\n",
       "      <td>Unique researcher identifier (orcid preferred or NIH profile id) (string)</td>\n",
       "      <td></td>\n",
       "      <td></td>\n",
       "      <td></td>\n",
       "      <td></td>\n",
       "      <td></td>\n",
       "      <td></td>\n",
       "      <td></td>\n",
       "      <td>...</td>\n",
       "      <td></td>\n",
       "      <td></td>\n",
       "      <td></td>\n",
       "      <td></td>\n",
       "      <td>First name (string)</td>\n",
       "      <td>Last name (string)</td>\n",
       "      <td>Unique researcher identifier from NIH Reporter (https://api.reporter.nih.gov/) (string)</td>\n",
       "      <td>First middle and last name (string)</td>\n",
       "      <td>Middle name or middle initial (string)</td>\n",
       "      <td>Unique reseacher identifier from ORICD (https://orcid.org) (string)</td>\n",
       "    </tr>\n",
       "    <tr>\n",
       "      <th>10</th>\n",
       "      <td>Software</td>\n",
       "      <td>Name of the software application or software repository (string)</td>\n",
       "      <td>Identifier of the software application or software repository (string)</td>\n",
       "      <td>URL of the software application or software repository (string)</td>\n",
       "      <td></td>\n",
       "      <td></td>\n",
       "      <td></td>\n",
       "      <td></td>\n",
       "      <td></td>\n",
       "      <td></td>\n",
       "      <td>...</td>\n",
       "      <td></td>\n",
       "      <td>Description of the software or software repository (string)</td>\n",
       "      <td></td>\n",
       "      <td></td>\n",
       "      <td></td>\n",
       "      <td></td>\n",
       "      <td></td>\n",
       "      <td></td>\n",
       "      <td></td>\n",
       "      <td></td>\n",
       "    </tr>\n",
       "  </tbody>\n",
       "</table>\n",
       "<p>11 rows × 45 columns</p>\n",
       "</div>"
      ],
      "text/plain": [
       "              nodeName  \\\n",
       "0              Dataset   \n",
       "1                Event   \n",
       "2   FundingOpportunity   \n",
       "3                Grant   \n",
       "4         Organization   \n",
       "5               Patent   \n",
       "6         Presentation   \n",
       "7          Publication   \n",
       "8   ResearchInitiative   \n",
       "9           Researcher   \n",
       "10            Software   \n",
       "\n",
       "                                                                name  \\\n",
       "0                                       Name of the dataset (string)   \n",
       "1                                         Name of the event (string)   \n",
       "2                           Name of the funding opportunity (string)   \n",
       "3                                      Title of the project (string)   \n",
       "4                                  Name of the organization (string)   \n",
       "5                                       Title of the patent (string)   \n",
       "6                                 Title of the presentation (string)   \n",
       "7                                  Title of the publication (string)   \n",
       "8                   Abbreviation of the research initiative (string)   \n",
       "9           Name of the researcher (lastname plus initials) (string)   \n",
       "10  Name of the software application or software repository (string)   \n",
       "\n",
       "                                                                            id  \\\n",
       "0                                   Unique identifier for the dataset (string)   \n",
       "1              Unique identifier of the event (date and event number) (string)   \n",
       "2    Unique identifier for the funding opportunity (Thesaurus:C20021) (string)   \n",
       "3                  Unique identifier for the grant (Thesaurus:C16644) (string)   \n",
       "4     Unique entity identifier: ror id if available, otherwise uei id (string)   \n",
       "5                                           Identifier of the patents (string)   \n",
       "6   Unique identifier of the presentation (hash of event id and name) (string)   \n",
       "7                               Unique identifier for the publication (string)   \n",
       "8                                Unique id of the research initiative (string)   \n",
       "9    Unique researcher identifier (orcid preferred or NIH profile id) (string)   \n",
       "10      Identifier of the software application or software repository (string)   \n",
       "\n",
       "                                                                         url  \\\n",
       "0                                       URL to dataset landing page (string)   \n",
       "1                                                                              \n",
       "2                            URL to funding opportunity description (string)   \n",
       "3                                                                              \n",
       "4   Research Organization Registry landing page of the organization (string)   \n",
       "5                                             URL of patent webpage (string)   \n",
       "6                                                                              \n",
       "7                                                URL of publication (string)   \n",
       "8                            URL of the research initiative website (string)   \n",
       "9                                                                              \n",
       "10           URL of the software application or software repository (string)   \n",
       "\n",
       "                                 country                   endDate  \\\n",
       "0                                                                    \n",
       "1     Country of event location (string)  End data of event (date)   \n",
       "2                                                                    \n",
       "3                                                                    \n",
       "4   Country of the organization (string)                             \n",
       "5                                                                    \n",
       "6                                                                    \n",
       "7                                                                    \n",
       "8                                                                    \n",
       "9                                                                    \n",
       "10                                                                   \n",
       "\n",
       "                                 city                           eventUrl  \\\n",
       "0                                                                          \n",
       "1     City of event location (string)  URL of the event website (string)   \n",
       "2                                                                          \n",
       "3                                                                          \n",
       "4   City of the organization (string)                                      \n",
       "5                                                                          \n",
       "6                                                                          \n",
       "7                                                                          \n",
       "8                                                                          \n",
       "9                                                                          \n",
       "10                                                                         \n",
       "\n",
       "                                                                                                                                              eventType  \\\n",
       "0                                                                                                                                                         \n",
       "1   Type of event: webinar, virtual conference, in-person conference, hybrid conference, virtual workshop, in-person workshop, hybrid workshop (string)   \n",
       "2                                                                                                                                                         \n",
       "3                                                                                                                                                         \n",
       "4                                                                                                                                                         \n",
       "5                                                                                                                                                         \n",
       "6                                                                                                                                                         \n",
       "7                                                                                                                                                         \n",
       "8                                                                                                                                                         \n",
       "9                                                                                                                                                         \n",
       "10                                                                                                                                                        \n",
       "\n",
       "                                               state  ...  \\\n",
       "0                                                     ...   \n",
       "1   State or province of the event location (string)  ...   \n",
       "2                                                     ...   \n",
       "3                                                     ...   \n",
       "4                 State of the organization (string)  ...   \n",
       "5                                                     ...   \n",
       "6                                                     ...   \n",
       "7                                                     ...   \n",
       "8                                                     ...   \n",
       "9                                                     ...   \n",
       "10                                                    ...   \n",
       "\n",
       "                                                                  researchInitiativeUrl  \\\n",
       "0                                                                                         \n",
       "1                                                                                         \n",
       "2                                                                                         \n",
       "3                                                                                         \n",
       "4                                                                                         \n",
       "5                                                                                         \n",
       "6                                                                                         \n",
       "7                                                                                         \n",
       "8   Description of the research initiative that funded the research initiative (string)   \n",
       "9                                                                                         \n",
       "10                                                                                        \n",
       "\n",
       "                                                    description  \\\n",
       "0                                                                 \n",
       "1                                                                 \n",
       "2                                                                 \n",
       "3                                                                 \n",
       "4                                                                 \n",
       "5                                                                 \n",
       "6                                                                 \n",
       "7                                                                 \n",
       "8               Description of the research initiative (string)   \n",
       "9                                                                 \n",
       "10  Description of the software or software repository (string)   \n",
       "\n",
       "                               websites  \\\n",
       "0                                         \n",
       "1                                         \n",
       "2                                         \n",
       "3                                         \n",
       "4                                         \n",
       "5                                         \n",
       "6                                         \n",
       "7                                         \n",
       "8   URLs of related websites (string[])   \n",
       "9                                         \n",
       "10                                        \n",
       "\n",
       "                                      longName            firstName  \\\n",
       "0                                                                     \n",
       "1                                                                     \n",
       "2                                                                     \n",
       "3                                                                     \n",
       "4                                                                     \n",
       "5                                                                     \n",
       "6                                                                     \n",
       "7                                                                     \n",
       "8   Long name for research initiative (string)                        \n",
       "9                                               First name (string)   \n",
       "10                                                                    \n",
       "\n",
       "              lastName  \\\n",
       "0                        \n",
       "1                        \n",
       "2                        \n",
       "3                        \n",
       "4                        \n",
       "5                        \n",
       "6                        \n",
       "7                        \n",
       "8                        \n",
       "9   Last name (string)   \n",
       "10                       \n",
       "\n",
       "                                                                                  profileId  \\\n",
       "0                                                                                             \n",
       "1                                                                                             \n",
       "2                                                                                             \n",
       "3                                                                                             \n",
       "4                                                                                             \n",
       "5                                                                                             \n",
       "6                                                                                             \n",
       "7                                                                                             \n",
       "8                                                                                             \n",
       "9   Unique researcher identifier from NIH Reporter (https://api.reporter.nih.gov/) (string)   \n",
       "10                                                                                            \n",
       "\n",
       "                               fullName  \\\n",
       "0                                         \n",
       "1                                         \n",
       "2                                         \n",
       "3                                         \n",
       "4                                         \n",
       "5                                         \n",
       "6                                         \n",
       "7                                         \n",
       "8                                         \n",
       "9   First middle and last name (string)   \n",
       "10                                        \n",
       "\n",
       "                                middleName  \\\n",
       "0                                            \n",
       "1                                            \n",
       "2                                            \n",
       "3                                            \n",
       "4                                            \n",
       "5                                            \n",
       "6                                            \n",
       "7                                            \n",
       "8                                            \n",
       "9   Middle name or middle initial (string)   \n",
       "10                                           \n",
       "\n",
       "                                                                  orcid  \n",
       "0                                                                        \n",
       "1                                                                        \n",
       "2                                                                        \n",
       "3                                                                        \n",
       "4                                                                        \n",
       "5                                                                        \n",
       "6                                                                        \n",
       "7                                                                        \n",
       "8                                                                        \n",
       "9   Unique reseacher identifier from ORICD (https://orcid.org) (string)  \n",
       "10                                                                       \n",
       "\n",
       "[11 rows x 45 columns]"
      ]
     },
     "execution_count": 8,
     "metadata": {},
     "output_type": "execute_result"
    }
   ],
   "source": [
    "query = \"\"\"\n",
    "MATCH (n:MetaNode) RETURN n;\n",
    "\"\"\"\n",
    "df = graph.run(query).to_data_frame()\n",
    "metadata = df[\"n\"].tolist()\n",
    "metadata = pd.DataFrame(metadata)\n",
    "metadata.fillna(\"\", inplace=True)\n",
    "metadata"
   ]
  },
  {
   "cell_type": "markdown",
   "id": "c4063e5c-8172-4c5b-a984-e03cdbc52e17",
   "metadata": {
    "id": "c4063e5c-8172-4c5b-a984-e03cdbc52e17"
   },
   "source": [
    "### Metagraph\n",
    "The metagraph shows the node labels and relationship types of the KG. Click on a node to display the node metadata."
   ]
  },
  {
   "cell_type": "code",
   "execution_count": 9,
   "id": "a49b3dfc-bd6e-4402-b093-59a56c1f737c",
   "metadata": {
    "id": "a49b3dfc-bd6e-4402-b093-59a56c1f737c"
   },
   "outputs": [],
   "source": [
    "query = \"\"\"\n",
    "MATCH p=(:MetaNode)-->(:MetaNode) RETURN p\n",
    "\"\"\"\n",
    "subgraph = graph.run(query).to_subgraph()"
   ]
  },
  {
   "cell_type": "code",
   "execution_count": 10,
   "id": "9c72b910-069d-46db-8ab6-beac15d48853",
   "metadata": {
    "colab": {
     "base_uri": "https://localhost:8080/",
     "height": 417,
     "referenced_widgets": [
      "7def45973d534154a2e9b1200be944ab",
      "df2f9f70bb7a49808bd3a7850f99b42f",
      "20e5b30c6db34e23ac90c52399e14780",
      "0b55778c7308448ba417b8e9ada82787",
      "2783139ca7a9430cb823e19b1f32a317",
      "f19ab4cbcc914b6ea7fd12a0ba47c827",
      "23a545cda053401fa4b5ee4f6e05149d",
      "f4bac80ce70c42d888dea7ab447b0e75",
      "943a31dd47d041779eec3a7a417edf6f",
      "ceea834612194a7ca8537d52c51845ab",
      "758c3e7d050f4d7ebe0df300464a0aac",
      "125ccd7d4dda4c8a86d7ec29d169e9a6",
      "7d82c098f06046768bfec8d8112f1a10",
      "1e163344ccad4633b2e7b03b9c81ab4d",
      "d222478da27f41a5832d6a2c1ede477d",
      "2ca82142c434473d91b09c05c7dccb90",
      "9d3349df57384f3eb335e0146293809d",
      "be790e6952ab42e188fc6a5dc6d1a8a1",
      "7c159f767ca340b580f1de5e33099657",
      "f5eb67dc016e4857bb5beb3177df275c",
      "7c3a69a5fad341dcbc56cffc0ad72b2a",
      "3809f4659df64f89b7c95856403a0335",
      "a48055c3d8214d3cbeb71c94d98c9415",
      "7d772341f4a0435883ff2433be536cb9",
      "1a51ad8be4a6493cba192b79a35caac9",
      "9b735a6eac27412c9dd657dca8888eb7",
      "50ab8adf8ed3422f99dcab31a90d025d"
     ]
    },
    "id": "9c72b910-069d-46db-8ab6-beac15d48853",
    "outputId": "e70bbf6a-036f-4f9c-fa09-a8693802f59a"
   },
   "outputs": [
    {
     "data": {
      "application/vnd.jupyter.widget-view+json": {
       "model_id": "c75bd33a71924071a6f2a67e66e39e5a",
       "version_major": 2,
       "version_minor": 0
      },
      "text/plain": [
       "CytoscapeWidget(cytoscape_layout={'name': 'cola', 'padding': 40, 'nodeSpacing': 65, 'nodeDimensionsIncludeLabe…"
      ]
     },
     "execution_count": 10,
     "metadata": {},
     "output_type": "execute_result"
    }
   ],
   "source": [
    "widget1 = neo4j_utils.draw_graph(subgraph, stylesheet)\n",
    "style = [{'selector': 'node', 'style': {'label': 'data(nodeName)'}}]\n",
    "widget1.set_style(style)\n",
    "widget1.set_layout(name='cola', padding=40, nodeSpacing=65, nodeDimensionsIncludeLabels=True, unconstrIter=5000)\n",
    "widget1"
   ]
  },
  {
   "cell_type": "markdown",
   "id": "13eca098-2fd5-4c4a-8533-489dd5a9e0cc",
   "metadata": {
    "id": "13eca098-2fd5-4c4a-8533-489dd5a9e0cc"
   },
   "source": [
    "### Number of Nodes"
   ]
  },
  {
   "cell_type": "code",
   "execution_count": 11,
   "id": "787283c7-114f-495f-ac74-ebd115e07f06",
   "metadata": {
    "colab": {
     "base_uri": "https://localhost:8080/"
    },
    "id": "787283c7-114f-495f-ac74-ebd115e07f06",
    "outputId": "46078572-2ab7-402e-c55d-8179b61ba338"
   },
   "outputs": [
    {
     "name": "stdout",
     "output_type": "stream",
     "text": [
      "Total number of nodes: 4429\n"
     ]
    }
   ],
   "source": [
    "query = \"\"\"\n",
    "MATCH (n) RETURN COUNT(n);\n",
    "\"\"\"\n",
    "print(f\"Total number of nodes: {graph.evaluate(query)}\")"
   ]
  },
  {
   "cell_type": "markdown",
   "id": "dc48a488-1987-4310-aa7f-020aa29810b9",
   "metadata": {
    "id": "dc48a488-1987-4310-aa7f-020aa29810b9"
   },
   "source": [
    "### Number of nodes by node label"
   ]
  },
  {
   "cell_type": "code",
   "execution_count": 12,
   "id": "5b928985-9122-49f6-bd2c-ffb890dece42",
   "metadata": {
    "colab": {
     "base_uri": "https://localhost:8080/",
     "height": 426
    },
    "id": "5b928985-9122-49f6-bd2c-ffb890dece42",
    "outputId": "03ced61b-89b2-40d3-cf15-50621b8a00e0"
   },
   "outputs": [
    {
     "data": {
      "text/html": [
       "<div>\n",
       "<style scoped>\n",
       "    .dataframe tbody tr th:only-of-type {\n",
       "        vertical-align: middle;\n",
       "    }\n",
       "\n",
       "    .dataframe tbody tr th {\n",
       "        vertical-align: top;\n",
       "    }\n",
       "\n",
       "    .dataframe thead th {\n",
       "        text-align: right;\n",
       "    }\n",
       "</style>\n",
       "<table border=\"1\" class=\"dataframe\">\n",
       "  <thead>\n",
       "    <tr style=\"text-align: right;\">\n",
       "      <th></th>\n",
       "      <th>Node</th>\n",
       "      <th>Count</th>\n",
       "    </tr>\n",
       "  </thead>\n",
       "  <tbody>\n",
       "    <tr>\n",
       "      <th>0</th>\n",
       "      <td>Researcher</td>\n",
       "      <td>2256</td>\n",
       "    </tr>\n",
       "    <tr>\n",
       "      <th>1</th>\n",
       "      <td>Publication</td>\n",
       "      <td>1861</td>\n",
       "    </tr>\n",
       "    <tr>\n",
       "      <th>2</th>\n",
       "      <td>Presentation</td>\n",
       "      <td>87</td>\n",
       "    </tr>\n",
       "    <tr>\n",
       "      <th>3</th>\n",
       "      <td>Organization</td>\n",
       "      <td>59</td>\n",
       "    </tr>\n",
       "    <tr>\n",
       "      <th>4</th>\n",
       "      <td>Dataset</td>\n",
       "      <td>50</td>\n",
       "    </tr>\n",
       "    <tr>\n",
       "      <th>5</th>\n",
       "      <td>Grant</td>\n",
       "      <td>48</td>\n",
       "    </tr>\n",
       "    <tr>\n",
       "      <th>6</th>\n",
       "      <td>Patent</td>\n",
       "      <td>17</td>\n",
       "    </tr>\n",
       "    <tr>\n",
       "      <th>7</th>\n",
       "      <td>FundingOpportunity</td>\n",
       "      <td>16</td>\n",
       "    </tr>\n",
       "    <tr>\n",
       "      <th>8</th>\n",
       "      <td>Event</td>\n",
       "      <td>14</td>\n",
       "    </tr>\n",
       "    <tr>\n",
       "      <th>9</th>\n",
       "      <td>MetaNode</td>\n",
       "      <td>11</td>\n",
       "    </tr>\n",
       "    <tr>\n",
       "      <th>10</th>\n",
       "      <td>ResearchInitiative</td>\n",
       "      <td>5</td>\n",
       "    </tr>\n",
       "    <tr>\n",
       "      <th>11</th>\n",
       "      <td>Software</td>\n",
       "      <td>5</td>\n",
       "    </tr>\n",
       "  </tbody>\n",
       "</table>\n",
       "</div>"
      ],
      "text/plain": [
       "                  Node  Count\n",
       "0           Researcher   2256\n",
       "1          Publication   1861\n",
       "2         Presentation     87\n",
       "3         Organization     59\n",
       "4              Dataset     50\n",
       "5                Grant     48\n",
       "6               Patent     17\n",
       "7   FundingOpportunity     16\n",
       "8                Event     14\n",
       "9             MetaNode     11\n",
       "10  ResearchInitiative      5\n",
       "11            Software      5"
      ]
     },
     "execution_count": 12,
     "metadata": {},
     "output_type": "execute_result"
    }
   ],
   "source": [
    "query = \"\"\"\n",
    "MATCH (n) RETURN labels(n)[0] AS Node, COUNT(n) AS Count\n",
    "ORDER BY Count DESC\n",
    "\"\"\"\n",
    "graph.run(query).to_data_frame()"
   ]
  },
  {
   "cell_type": "markdown",
   "id": "e7a1259d-11b9-4622-bfa3-efb83880365b",
   "metadata": {
    "id": "e7a1259d-11b9-4622-bfa3-efb83880365b"
   },
   "source": [
    "### Number of relationships by relationship type"
   ]
  },
  {
   "cell_type": "code",
   "execution_count": 13,
   "id": "901c90ed-e377-46c7-99a1-b107bc7a10df",
   "metadata": {
    "colab": {
     "base_uri": "https://localhost:8080/",
     "height": 488
    },
    "id": "901c90ed-e377-46c7-99a1-b107bc7a10df",
    "outputId": "a2e0422e-acfb-4534-f012-e776ab021232"
   },
   "outputs": [
    {
     "data": {
      "text/html": [
       "<div>\n",
       "<style scoped>\n",
       "    .dataframe tbody tr th:only-of-type {\n",
       "        vertical-align: middle;\n",
       "    }\n",
       "\n",
       "    .dataframe tbody tr th {\n",
       "        vertical-align: top;\n",
       "    }\n",
       "\n",
       "    .dataframe thead th {\n",
       "        text-align: right;\n",
       "    }\n",
       "</style>\n",
       "<table border=\"1\" class=\"dataframe\">\n",
       "  <thead>\n",
       "    <tr style=\"text-align: right;\">\n",
       "      <th></th>\n",
       "      <th>Relationship</th>\n",
       "      <th>Count</th>\n",
       "    </tr>\n",
       "  </thead>\n",
       "  <tbody>\n",
       "    <tr>\n",
       "      <th>0</th>\n",
       "      <td>AUTHORED</td>\n",
       "      <td>6590</td>\n",
       "    </tr>\n",
       "    <tr>\n",
       "      <th>1</th>\n",
       "      <td>CITES</td>\n",
       "      <td>4080</td>\n",
       "    </tr>\n",
       "    <tr>\n",
       "      <th>2</th>\n",
       "      <td>PRESENTED</td>\n",
       "      <td>344</td>\n",
       "    </tr>\n",
       "    <tr>\n",
       "      <th>3</th>\n",
       "      <td>IS_INVESTIGATOR_OF</td>\n",
       "      <td>228</td>\n",
       "    </tr>\n",
       "    <tr>\n",
       "      <th>4</th>\n",
       "      <td>USED</td>\n",
       "      <td>200</td>\n",
       "    </tr>\n",
       "    <tr>\n",
       "      <th>5</th>\n",
       "      <td>PRESENTED_AT</td>\n",
       "      <td>174</td>\n",
       "    </tr>\n",
       "    <tr>\n",
       "      <th>6</th>\n",
       "      <td>EMPLOYED_AT</td>\n",
       "      <td>166</td>\n",
       "    </tr>\n",
       "    <tr>\n",
       "      <th>7</th>\n",
       "      <td>CREATED</td>\n",
       "      <td>106</td>\n",
       "    </tr>\n",
       "    <tr>\n",
       "      <th>8</th>\n",
       "      <td>PROVIDES</td>\n",
       "      <td>106</td>\n",
       "    </tr>\n",
       "    <tr>\n",
       "      <th>9</th>\n",
       "      <td>SUPPORTED</td>\n",
       "      <td>94</td>\n",
       "    </tr>\n",
       "    <tr>\n",
       "      <th>10</th>\n",
       "      <td>IS_INVENTOR</td>\n",
       "      <td>68</td>\n",
       "    </tr>\n",
       "    <tr>\n",
       "      <th>11</th>\n",
       "      <td>MetaRelationship</td>\n",
       "      <td>25</td>\n",
       "    </tr>\n",
       "    <tr>\n",
       "      <th>12</th>\n",
       "      <td>DEVELOPED</td>\n",
       "      <td>10</td>\n",
       "    </tr>\n",
       "    <tr>\n",
       "      <th>13</th>\n",
       "      <td>FUNDED</td>\n",
       "      <td>2</td>\n",
       "    </tr>\n",
       "  </tbody>\n",
       "</table>\n",
       "</div>"
      ],
      "text/plain": [
       "          Relationship  Count\n",
       "0             AUTHORED   6590\n",
       "1                CITES   4080\n",
       "2            PRESENTED    344\n",
       "3   IS_INVESTIGATOR_OF    228\n",
       "4                 USED    200\n",
       "5         PRESENTED_AT    174\n",
       "6          EMPLOYED_AT    166\n",
       "7              CREATED    106\n",
       "8             PROVIDES    106\n",
       "9            SUPPORTED     94\n",
       "10         IS_INVENTOR     68\n",
       "11    MetaRelationship     25\n",
       "12           DEVELOPED     10\n",
       "13              FUNDED      2"
      ]
     },
     "execution_count": 13,
     "metadata": {},
     "output_type": "execute_result"
    }
   ],
   "source": [
    "query = \"\"\"\n",
    "MATCH ()-[r]-() RETURN DISTINCT TYPE(r) AS Relationship, COUNT(r) AS Count\n",
    "ORDER BY Count DESC\n",
    "\"\"\"\n",
    "graph.run(query).to_data_frame()"
   ]
  },
  {
   "cell_type": "markdown",
   "id": "d903af69-8ad2-4a3f-a40d-6e226f7edb36",
   "metadata": {
    "id": "d903af69-8ad2-4a3f-a40d-6e226f7edb36"
   },
   "source": [
    "## Subgraph for an investigator <a class=\"anchor\" id=\"Subgraph\"></a>"
   ]
  },
  {
   "cell_type": "markdown",
   "id": "627b4c87-d27c-45e6-894e-8b50a21d7cad",
   "metadata": {
    "id": "627b4c87-d27c-45e6-894e-8b50a21d7cad"
   },
   "source": [
    "#### First neighbors in KG"
   ]
  },
  {
   "cell_type": "code",
   "execution_count": 14,
   "id": "c9f92b1e-1a65-4a91-ad57-a5c04d253d47",
   "metadata": {
    "id": "c9f92b1e-1a65-4a91-ad57-a5c04d253d47"
   },
   "outputs": [],
   "source": [
    "researcher = \"Cirrito\"\n",
    "query = \"\"\"\n",
    "MATCH p=(r:Researcher)--() WHERE r.lastName = $researcher RETURN p\n",
    "\"\"\"\n",
    "subgraph = graph.run(query, researcher=researcher).to_subgraph()"
   ]
  },
  {
   "cell_type": "code",
   "execution_count": 15,
   "id": "8f4b82de-69f2-4d6e-a5f3-9318e493f5ef",
   "metadata": {
    "colab": {
     "base_uri": "https://localhost:8080/",
     "height": 417,
     "referenced_widgets": [
      "7263c96f32fa4aba9aa11e72bae997a8",
      "ff980a46cb864e7d9695a21bfc80b645",
      "28c112847e204b3b86d83fb3a4ba6c04",
      "c5ed7d8c650b4f1ab3a01d16fb5caafa",
      "8463cf84a26844ad85ecae812a3b006f",
      "055f0a491c564c48b6a2d4bc2d3200ba",
      "6dda8ec885d94e2d8ed709c888d7d39a",
      "cdc02f1050f2448fa5bb57283080549f",
      "d2abbe8831144417a27faafdbc3f3d81",
      "60884619f1f94d14a7eaa3453c51b3c2",
      "e8f7eb1406524d7fbb07fa8b6366fb61",
      "8edaf0d167bf4ba6a0e582b2f76fdf1c",
      "a9a5e368ef6e4da9b87c3afad0068c8f",
      "67ca3d4d89a44e45b9c98d484f3cfc4f",
      "60fcd6e80f9843a6b90b6ff72d40cbfb",
      "e95d62a515d341769937ffd8ba861fa1",
      "39b57aa12330420ebe304fb99ea1d997",
      "9a2d9a0f567a44e5bc37663a2f6844e2"
     ]
    },
    "id": "8f4b82de-69f2-4d6e-a5f3-9318e493f5ef",
    "outputId": "da74e549-521b-4eea-97a4-2a2056b893d4"
   },
   "outputs": [
    {
     "data": {
      "application/vnd.jupyter.widget-view+json": {
       "model_id": "c8657a12a2fd4f5f9525a32b8da79f91",
       "version_major": 2,
       "version_minor": 0
      },
      "text/plain": [
       "CytoscapeWidget(cytoscape_layout={'name': 'cola', 'padding': 0, 'nodeSpacing': 40, 'nodeDimensionsIncludeLabel…"
      ]
     },
     "execution_count": 15,
     "metadata": {},
     "output_type": "execute_result"
    }
   ],
   "source": [
    "widget2 = neo4j_utils.draw_graph(subgraph, stylesheet)\n",
    "widget2.set_layout(name='cola', padding=0, nodeSpacing=40, nodeDimensionsIncludeLabels=True, unconstrIter=5000)\n",
    "widget2"
   ]
  },
  {
   "cell_type": "markdown",
   "id": "5928d741-5489-417d-893e-32ddcf3276ee",
   "metadata": {
    "id": "5928d741-5489-417d-893e-32ddcf3276ee"
   },
   "source": [
    "#### First and second neighbors in KG"
   ]
  },
  {
   "cell_type": "code",
   "execution_count": 16,
   "id": "2d428ab3-0dfc-4be7-b58d-4c18e3efbec1",
   "metadata": {
    "id": "2d428ab3-0dfc-4be7-b58d-4c18e3efbec1"
   },
   "outputs": [],
   "source": [
    "researcher = \"Cirrito\"\n",
    "query = \"\"\"\n",
    "MATCH p=(r:Researcher)--()--() WHERE r.lastName = $researcher RETURN p\n",
    "\"\"\"\n",
    "subgraph = graph.run(query, researcher=researcher).to_subgraph()"
   ]
  },
  {
   "cell_type": "code",
   "execution_count": 17,
   "id": "980f5a21-1f9a-4d97-89c0-ff47b11a19e7",
   "metadata": {
    "colab": {
     "base_uri": "https://localhost:8080/",
     "height": 417,
     "referenced_widgets": [
      "338469585610413caf2a5507d7700ea2",
      "ea829fc26a714dd7b3273730b4032894",
      "09bdbcee9fe449559819ce670944b67b",
      "78a089f7a3a24db8b40c1d325b96a948",
      "1d5342f4c5da4ad89c3197ee8b5bb517",
      "72208cf62b8d46e4956e572cf30411d6",
      "667185ce5bcc4725aa8fd3a158846713",
      "4903779176fb4b5497e3d7243d15b72c",
      "39ec7e0d6ca34e1188ed390df58c497a",
      "75a7ef7819b74b3e8afd1da7f3195230",
      "79f0f29ea9b14ca18cc1ebade5fbb925",
      "9f877bbbffcb4aa68c8b0864da6e464a",
      "5ef8b1ffd37a453ca68375ca2a145d7c",
      "4496430c65a34e65b166ae594b3967c5",
      "4b88d480c2d343598a8fdc5638d23e9f",
      "ae389754112f4100a92fbbc0df26965e",
      "af7d8ce13bd04aedbb9747ae123453f9",
      "565afa8125f749fc953bb6d6beecf8ed",
      "dd8b4bc026fb42c288801df7aa820941",
      "abb8fcb34e344ae7840600f49bd592a3",
      "18194f20677d468ea31b0220ce303ec7",
      "cd347e5ce47645d4b538b747df6e3077",
      "cd06c14c434f4f8e85c229c24b3eac8f",
      "2bcfc6698fc646648621f091595fbcf0",
      "e70fde09f321458ca0b96be856c84034",
      "3b5d0e7b5e12434888af4b6543beb370",
      "dcae52c70c724acdba0c2c2e844804c8",
      "ff4606d96c464aca9ef226dd08fdbead",
      "1e66f4e036c34121a1073a28a5a76dcc",
      "c16ab678faa64eed954e1dc1be6f5029",
      "ecc84605430a4ee3896143866416535f",
      "6c2b59732fca401387efe8b7630d9d33",
      "8d543ca88dbf4079a7a5dc2af000f803",
      "34f470ec720c4792bf174720669e47a9",
      "0cd94a4747444029b77838fa8e0fffb5",
      "7315824a6a4c4cbb95b0a6892fdc8884",
      "bf615017232f43bc8c19da89d2495e8b",
      "aa789227d605417fb63f59aca28b4b8e",
      "b73d3a15bcb0418f978d97bb6393007d",
      "4d8e8e92789d417cb44f0182a92255e6",
      "a2a918cae59644208b662748046b7a75",
      "9ecbfa0647b74138af59f7824a712e0c",
      "25a063ff351a4863aaed019fe617bb7f",
      "8e2e1c091f0d4e1a84ccd39c42ab417b",
      "23e3c8b2ff6c4cb3976aa1e18f08eb3f",
      "679788bd110e4198b5c1db005cb83b8b",
      "c8bf32475cdd475f94693c412110143c",
      "02d82b1b056f4241bbc0278bb93277ba",
      "de7906bf7272414cb686e88c5c7d33d1",
      "3dea169b0a094c59966f0ed476f80d12",
      "91410991ce06404d8dfdb64b8c871551",
      "1004833776c6426593e28be991a03867",
      "4b58d3862d574edd9caac66cca2a690c",
      "524b27a89f414af08d14df5afffc7287",
      "fefa221104e94217a9b53fd58d1858a9",
      "4fbe225699874bc3a0d85d5c46b52bd2",
      "de62cd20a8d84fa1a78f9785367e1521",
      "093460099cb149cea0538d208cd7062d",
      "e33e38576cbc4937b3f0a0f1a72df60b",
      "3e339af09fb24d8e8705efd573915527",
      "3e6fd8dc0a6544d8be19489ffa76d781",
      "12523cdf44ee4f4d994a4cb0d6dac539",
      "05dc4a3528e6446a990d536a62fab5e1",
      "600681dd97c34a63930bb93c7a884060",
      "f24cbd1b18a840c6853e65568441b6ec",
      "25dc8029995b442e8b0adfd3ffef92de",
      "1b4eac0372cd4cbe81c25f84968c6062",
      "8aeb98e7ad9e4ab7b8082bae90189ee0",
      "201ea2bad05e42c6a35eb48411148037",
      "6b8889c360584952ac3c9d9c7987db60",
      "d2bde46d54404469b39a2b1a21b16b98",
      "7aa6dfe3f88e4f39aeece7b33b500156",
      "4b31d516bf8b413a9ddd83096bc15824",
      "24dc972418ab47bcbbcab7b9dc0b59ba",
      "cbd701e6988e4d8f82311892172fec12",
      "259233aafd094b0b988946e36dd4de14",
      "dbacdff5bb264cd291f0f4036b47d06e",
      "307207e2284c4712a78a62c39a48d64c",
      "772a742b0c274f9889f9420d87568890",
      "a8ad8600310341e68dcc9c05749ccd0d",
      "5bcad02382294ed6b98063c19c0f4387",
      "e91e35c5d78147caa0b06d47e36b2654",
      "cf1c7c083f5943e2a469479dfb28a014",
      "557a8c0d4ad84aa59a04d3593b6ecf31",
      "7f91c51e057743b8994fedea29912609",
      "55fc52e4df5b47e5ae6f9cac2264cd8f",
      "57749551a2174111905f728c2b503423",
      "1a69849f898248f597d03c9939eb7ac2",
      "ed85ea2576414e8f86db64b5672b29c3",
      "23f364d0a9dd4452adc3e10827926296",
      "69fce2b0cf5447f1ba31772165ecac5f",
      "ea930a28e08240cc931d2ea18de7fe60",
      "675b10a6314c4a2abb00e15be8e9ac6b",
      "f4ac35311c4d40459cd80642694e70b1",
      "07129b937d6047639374a5cc822b0487",
      "9db02e9a3bad4b9384b95d1c659c588b",
      "fc31ff322626414585f83c4642b65596",
      "133661113db04bedbcf64cef7067ff2f"
     ]
    },
    "id": "980f5a21-1f9a-4d97-89c0-ff47b11a19e7",
    "outputId": "84877d28-2a9f-4c7d-add1-924a445a2f75"
   },
   "outputs": [
    {
     "data": {
      "application/vnd.jupyter.widget-view+json": {
       "model_id": "96c8673125394a62b73986de8e3e184c",
       "version_major": 2,
       "version_minor": 0
      },
      "text/plain": [
       "CytoscapeWidget(cytoscape_layout={'name': 'cola', 'padding': 0, 'nodeSpacing': 40, 'nodeDimensionsIncludeLabel…"
      ]
     },
     "execution_count": 17,
     "metadata": {},
     "output_type": "execute_result"
    }
   ],
   "source": [
    "widget3 = neo4j_utils.draw_graph(subgraph, stylesheet)\n",
    "widget3.set_layout(name='cola', padding=0, nodeSpacing=40, nodeDimensionsIncludeLabels=True, unconstrIter=5000)\n",
    "widget3"
   ]
  },
  {
   "cell_type": "markdown",
   "id": "91533163-0d78-4a23-bbe2-e0309e778b80",
   "metadata": {
    "id": "91533163-0d78-4a23-bbe2-e0309e778b80"
   },
   "source": [
    "## Publications <a class=\"anchor\" id=\"Publications\"></a>"
   ]
  },
  {
   "cell_type": "markdown",
   "id": "14582b16-4db4-48f1-900c-eecea4697bb9",
   "metadata": {
    "id": "14582b16-4db4-48f1-900c-eecea4697bb9"
   },
   "source": [
    "### Number of primary publications"
   ]
  },
  {
   "cell_type": "code",
   "execution_count": 18,
   "id": "c2e54391-4730-427f-a137-bf50e7a2021b",
   "metadata": {
    "colab": {
     "base_uri": "https://localhost:8080/"
    },
    "id": "c2e54391-4730-427f-a137-bf50e7a2021b",
    "outputId": "51503d2f-39a3-4a4a-dfc5-14fd3ebaf42e"
   },
   "outputs": [
    {
     "name": "stdout",
     "output_type": "stream",
     "text": [
      "Number of primary publications: 199\n"
     ]
    }
   ],
   "source": [
    "query = \"\"\"\n",
    "MATCH (p:Publication) WHERE p.type = \"primary\" RETURN COUNT(p)\n",
    "\"\"\"\n",
    "print(f\"Number of primary publications: {graph.evaluate(query)}\")"
   ]
  },
  {
   "cell_type": "markdown",
   "id": "62717e46-f6be-443f-9437-26dcc31067dd",
   "metadata": {
    "id": "62717e46-f6be-443f-9437-26dcc31067dd"
   },
   "source": [
    "### Number of publication by RADx-rad subprojects"
   ]
  },
  {
   "cell_type": "code",
   "execution_count": 19,
   "id": "5b2e3254-2117-4d41-85fc-fc65229145a9",
   "metadata": {
    "colab": {
     "base_uri": "https://localhost:8080/",
     "height": 449
    },
    "id": "5b2e3254-2117-4d41-85fc-fc65229145a9",
    "outputId": "781ebfd6-0fd2-485c-c31e-4295e1a5762a"
   },
   "outputs": [
    {
     "data": {
      "image/png": "[encoded data removed]",
      "text/plain": [
       "<Figure size 640x480 with 1 Axes>"
      ]
     },
     "metadata": {},
     "output_type": "display_data"
    }
   ],
   "source": [
    "query = \"\"\"\n",
    "MATCH (:Publication)<-[:AUTHORED]-(r:Researcher)-[:IS_INVESTIGATOR_OF]->(g:Grant) RETURN COUNT(g) AS Publications, g.subProject AS Project\n",
    "ORDER BY Publications DESC\n",
    "\"\"\"\n",
    "publications = graph.run(query).to_data_frame()\n",
    "sns.barplot(publications, x=\"Publications\", y=\"Project\", legend=False);"
   ]
  },
  {
   "cell_type": "markdown",
   "id": "59866f8b-2955-43dc-8eaf-c4b663db4360",
   "metadata": {
    "id": "59866f8b-2955-43dc-8eaf-c4b663db4360"
   },
   "source": [
    "### Number of secondary publications (citations)"
   ]
  },
  {
   "cell_type": "code",
   "execution_count": 20,
   "id": "eca04bdc-122b-48d3-9b5a-0159983347cf",
   "metadata": {
    "colab": {
     "base_uri": "https://localhost:8080/"
    },
    "id": "eca04bdc-122b-48d3-9b5a-0159983347cf",
    "outputId": "51c64d5d-0629-41b1-a151-f22bf4700182"
   },
   "outputs": [
    {
     "name": "stdout",
     "output_type": "stream",
     "text": [
      "Number of citations: 1662\n"
     ]
    }
   ],
   "source": [
    "query = \"\"\"\n",
    "MATCH (p:Publication) WHERE p.type = \"secondary\" RETURN COUNT(p)\n",
    "\"\"\"\n",
    "print(f\"Number of citations: {graph.evaluate(query)}\")"
   ]
  },
  {
   "cell_type": "markdown",
   "id": "123cc336-28e6-4951-9574-1210a37a8635",
   "metadata": {
    "id": "123cc336-28e6-4951-9574-1210a37a8635"
   },
   "source": [
    "### Number of citations of the primary publications by subprojects"
   ]
  },
  {
   "cell_type": "code",
   "execution_count": 21,
   "id": "d40f7ae6-88df-400e-a1f0-da98423e8825",
   "metadata": {
    "colab": {
     "base_uri": "https://localhost:8080/",
     "height": 449
    },
    "id": "d40f7ae6-88df-400e-a1f0-da98423e8825",
    "outputId": "b73a2026-affe-4ea3-d1ec-77f24b8439b3"
   },
   "outputs": [
    {
     "data": {
      "image/png": "[encoded data removed]",
      "text/plain": [
       "<Figure size 640x480 with 1 Axes>"
      ]
     },
     "metadata": {},
     "output_type": "display_data"
    }
   ],
   "source": [
    "query = \"\"\"\n",
    "MATCH (:Publication)-[CITES]-(p:Publication)<-[:AUTHORED]-(r:Researcher)-[:IS_INVESTIGATOR_OF]->(g:Grant) RETURN COUNT(g) AS Citations, g.subProject AS Project\n",
    "ORDER BY Citations DESC\n",
    "\"\"\"\n",
    "citations = graph.run(query).to_data_frame()\n",
    "sns.barplot(citations, x=\"Citations\", y=\"Project\");"
   ]
  },
  {
   "cell_type": "markdown",
   "id": "f330c45b-7355-4052-a4a8-6de8fcaaa7ce",
   "metadata": {
    "id": "f330c45b-7355-4052-a4a8-6de8fcaaa7ce"
   },
   "source": [
    "### Publications authored by researcher from multiple RADx-rad grants"
   ]
  },
  {
   "cell_type": "code",
   "execution_count": 22,
   "id": "6ba02310-b648-4600-9b8e-660f34551feb",
   "metadata": {
    "id": "6ba02310-b648-4600-9b8e-660f34551feb"
   },
   "outputs": [],
   "source": [
    "query = \"\"\"\n",
    "MATCH p=(g1:Grant)<-[:IS_INVESTIGATOR_OF]-(r1:Researcher)-[:AUTHORED]->(:Publication)<-[:AUTHORED]-(r2:Researcher)-[:IS_INVESTIGATOR_OF]-(g2:Grant) WHERE g1 <> g2 RETURN p\n",
    "\"\"\"\n",
    "subgraph = graph.run(query, researcher=researcher).to_subgraph()"
   ]
  },
  {
   "cell_type": "code",
   "execution_count": 23,
   "id": "c46b76ba-70aa-4fe7-bbf8-01c6ba882c1e",
   "metadata": {
    "colab": {
     "base_uri": "https://localhost:8080/",
     "height": 417,
     "referenced_widgets": [
      "6f4c78689d394104be9164d016b2f14c",
      "ea08b6e8ec73419da3d720078ed05745",
      "c1197cb7eb37475789ffe853b466a044",
      "aab1b5601ad44523855af28414e8a2c8",
      "8d785750d29349049b274204b60a4796",
      "000eb5ae35e44ade89b0029a9a63e019",
      "a52b657d898c424aa219c9c3f965796f",
      "e77022e9f0f641e1b19d5150c8a11d56",
      "b754869a74704927a3aa87e57ccd5d16",
      "a11ba5f7798f407dbe75c4f7e1afdff8",
      "8cf245cf46f849449811dd83b51fccf9",
      "d1ec4c1f690e4127ace2fbe9d2787cc8",
      "eac711085d2949c694e3617001b518af",
      "4e186b0cc2454657aefe01ef484147e4",
      "9788a40ef30f45ebb304dcc513e3b3c4",
      "351b1bcfee3a41fa8ea5d24a3d7fea15",
      "2e7c927f75374b528510604701ad9618",
      "8a4156a0a84248479cbbf932b628f0d9",
      "16275544f89545e4b034eae74b53ff17",
      "77640ba14fa240a1858f59dbbf088b5b",
      "c4e7c7f04e5946588d256d6f32acd760",
      "872d0d36ad584668956ae0fc755c25e4",
      "0eb06f6bed6d4eeda8650977805bec9d",
      "83ed3ea835cd4cb793b927c0c065e415",
      "4e01ee5b39214de089eb553b26265191",
      "bce35d5229e04f48a1525c95fb6e9b23",
      "997c3389fb2c4e67b4da08f8369440b4",
      "cc6bbbd9e7d14cf2a30965ac18ad9cbf",
      "be706787e2fc445db585930a5f4ac276",
      "8b5a36a655b642739ea140a0679b3d62",
      "93e48d47bd2d414b8cb3122285d8dd0d",
      "98b8ce49b9704531b953ba94cffb893a",
      "9fb975f039b442fe9b4ca2bdbfb3760b",
      "5087ee730c1a4fa7b6bb6ee08c4a184b",
      "4b8af9b1ebfc4077b0c42c604230f59b",
      "28ec5b7a31914cbea0279650b7253e50"
     ]
    },
    "id": "c46b76ba-70aa-4fe7-bbf8-01c6ba882c1e",
    "outputId": "30069507-35d3-4202-faf6-6a13f089b477",
    "scrolled": true
   },
   "outputs": [
    {
     "data": {
      "application/vnd.jupyter.widget-view+json": {
       "model_id": "8cfa7b0b26f14caebdd052129b3c80d3",
       "version_major": 2,
       "version_minor": 0
      },
      "text/plain": [
       "CytoscapeWidget(cytoscape_layout={'name': 'cola', 'padding': 0, 'nodeSpacing': 40, 'nodeDimensionsIncludeLabel…"
      ]
     },
     "execution_count": 23,
     "metadata": {},
     "output_type": "execute_result"
    }
   ],
   "source": [
    "widget4 = neo4j_utils.draw_graph(subgraph, stylesheet)\n",
    "widget4.set_layout(name='cola', padding=0, nodeSpacing=40, nodeDimensionsIncludeLabels=True, unconstrIter=5000)\n",
    "widget4"
   ]
  },
  {
   "cell_type": "markdown",
   "id": "9250d93f-edb9-47f3-91b5-ca7bde4f46af",
   "metadata": {
    "id": "9250d93f-edb9-47f3-91b5-ca7bde4f46af"
   },
   "source": [
    "## Patents <a class=\"anchor\" id=\"Patents\"></a>"
   ]
  },
  {
   "cell_type": "markdown",
   "id": "ac83c8ee-eeef-43b4-b522-719385c624ab",
   "metadata": {
    "id": "ac83c8ee-eeef-43b4-b522-719385c624ab"
   },
   "source": [
    "### Number of patents"
   ]
  },
  {
   "cell_type": "code",
   "execution_count": 24,
   "id": "d87de898-a901-4add-bdc8-8cb16368350f",
   "metadata": {
    "colab": {
     "base_uri": "https://localhost:8080/"
    },
    "id": "d87de898-a901-4add-bdc8-8cb16368350f",
    "outputId": "237fba8b-8317-4105-a550-d196826b4330"
   },
   "outputs": [
    {
     "name": "stdout",
     "output_type": "stream",
     "text": [
      "Number of patents: 17\n"
     ]
    }
   ],
   "source": [
    "query = \"\"\"\n",
    "MATCH (p:Patent) RETURN COUNT(p)\n",
    "\"\"\"\n",
    "print(f\"Number of patents: {graph.evaluate(query)}\")"
   ]
  },
  {
   "cell_type": "markdown",
   "id": "1a74602b-5297-4bbb-a31a-8c314779efb4",
   "metadata": {
    "id": "1a74602b-5297-4bbb-a31a-8c314779efb4"
   },
   "source": [
    "### Number of patents by RADx-rad subprojects"
   ]
  },
  {
   "cell_type": "code",
   "execution_count": 25,
   "id": "090d2095-87b9-43ff-b446-bfeab503be24",
   "metadata": {
    "colab": {
     "base_uri": "https://localhost:8080/",
     "height": 449
    },
    "id": "090d2095-87b9-43ff-b446-bfeab503be24",
    "outputId": "49b7a8bf-ea27-438c-b210-d4414aecd6cd"
   },
   "outputs": [
    {
     "data": {
      "image/png": "[encoded data removed]",
      "text/plain": [
       "<Figure size 640x480 with 1 Axes>"
      ]
     },
     "metadata": {},
     "output_type": "display_data"
    }
   ],
   "source": [
    "query = \"\"\"\n",
    "MATCH (p:Patent)<-[:IS_INVENTOR]-(r:Researcher)-[:IS_INVESTIGATOR_OF]->(g:Grant) RETURN COUNT(p) AS Patents, g.subProject AS Project\n",
    "ORDER BY Patents DESC\n",
    "\"\"\"\n",
    "patents = graph.run(query).to_data_frame()\n",
    "sns.barplot(patents, x=\"Patents\", y=\"Project\");"
   ]
  },
  {
   "cell_type": "markdown",
   "id": "8620155c-b66b-40ac-9cf0-32850722f233",
   "metadata": {
    "id": "8620155c-b66b-40ac-9cf0-32850722f233"
   },
   "source": [
    "### Patents with inventors from multiple RADx-rad grants"
   ]
  },
  {
   "cell_type": "code",
   "execution_count": 26,
   "id": "a1db72fd-4d1b-46eb-bada-59dfa7f7262b",
   "metadata": {
    "id": "a1db72fd-4d1b-46eb-bada-59dfa7f7262b"
   },
   "outputs": [],
   "source": [
    "query = \"\"\"\n",
    "MATCH p=(g1:Grant)<-[:IS_INVESTIGATOR_OF]-(r1:Researcher)-[:IS_INVENTOR]->(:Patent)<-[:IS_INVENTOR]-(r2:Researcher)-[:IS_INVESTIGATOR_OF]-(g2:Grant) WHERE g1 <> g2 RETURN p\n",
    "\"\"\"\n",
    "subgraph = graph.run(query, researcher=researcher).to_subgraph()"
   ]
  },
  {
   "cell_type": "code",
   "execution_count": 27,
   "id": "6637fe31-5acf-4d8b-b0ab-afbe33873d86",
   "metadata": {
    "colab": {
     "base_uri": "https://localhost:8080/",
     "height": 417,
     "referenced_widgets": [
      "773a2775a50748a59d5f6569f0faa0cb",
      "32e337f6a39d44d4854b0cc81f0b7cda",
      "c70822fac270430093ef055ffe2cbef9",
      "bc9541017f5b4be9ae4a6e301ab0bbe7",
      "2702fbff8090423e970108ae7641ad9f",
      "077c0007b49d47d0b2a61db0fd051643",
      "667c7abee6894893974525de986ef65f",
      "c19cb74611c54884bf848612cd552633",
      "525f07dd98e341b4966f08b2409a7312",
      "18b04350decc45cd9996423ef1236000",
      "d52f3580cadf400f9d5d93bdc8f985bc",
      "04d566557ac740dd9aea8729a2a6eefd",
      "f3f3b11b35194588bb53aaa93ad02962",
      "e98994a9e26c495080b2fe3145da576d",
      "47509c3a20884c3bb0f1227e9dad3b25"
     ]
    },
    "id": "6637fe31-5acf-4d8b-b0ab-afbe33873d86",
    "outputId": "d4a2c0fc-4836-4ad5-953b-1183fed045ac"
   },
   "outputs": [
    {
     "data": {
      "application/vnd.jupyter.widget-view+json": {
       "model_id": "f8b56b21bb394d42b85d90f8bc856d3d",
       "version_major": 2,
       "version_minor": 0
      },
      "text/plain": [
       "CytoscapeWidget(cytoscape_layout={'name': 'cola', 'padding': 0, 'nodeSpacing': 40, 'nodeDimensionsIncludeLabel…"
      ]
     },
     "execution_count": 27,
     "metadata": {},
     "output_type": "execute_result"
    }
   ],
   "source": [
    "widget5 = neo4j_utils.draw_graph(subgraph, stylesheet)\n",
    "widget5.set_layout(name='cola', padding=0, nodeSpacing=40, nodeDimensionsIncludeLabels=True, unconstrIter=5000)\n",
    "widget5"
   ]
  },
  {
   "cell_type": "markdown",
   "id": "fdad8ca6-cd86-4800-8e9c-686c1c24d683",
   "metadata": {
    "id": "fdad8ca6-cd86-4800-8e9c-686c1c24d683"
   },
   "source": [
    "## Software <a class=\"anchor\" id=\"Software\"></a>"
   ]
  },
  {
   "cell_type": "code",
   "execution_count": 28,
   "id": "c1d5823b-d516-4efe-9391-e8f9d9e26a1c",
   "metadata": {
    "colab": {
     "base_uri": "https://localhost:8080/",
     "height": 310
    },
    "id": "c1d5823b-d516-4efe-9391-e8f9d9e26a1c",
    "outputId": "8a7cccb9-aecd-4c0a-ed95-28396b118288",
    "scrolled": true
   },
   "outputs": [
    {
     "data": {
      "text/html": [
       "<div>\n",
       "<style scoped>\n",
       "    .dataframe tbody tr th:only-of-type {\n",
       "        vertical-align: middle;\n",
       "    }\n",
       "\n",
       "    .dataframe tbody tr th {\n",
       "        vertical-align: top;\n",
       "    }\n",
       "\n",
       "    .dataframe thead th {\n",
       "        text-align: right;\n",
       "    }\n",
       "</style>\n",
       "<table border=\"1\" class=\"dataframe\">\n",
       "  <thead>\n",
       "    <tr style=\"text-align: right;\">\n",
       "      <th></th>\n",
       "      <th>software</th>\n",
       "      <th>description</th>\n",
       "      <th>url</th>\n",
       "      <th>developer</th>\n",
       "      <th>grant</th>\n",
       "    </tr>\n",
       "  </thead>\n",
       "  <tbody>\n",
       "    <tr>\n",
       "      <th>0</th>\n",
       "      <td>dbgap-reporter</td>\n",
       "      <td>Jupyter Notebooks to analyze the number of data access requests for dbGaP datasets and publication including RADx datasets.</td>\n",
       "      <td>https://github.com/radxrad/dbgap-reporter</td>\n",
       "      <td>Peter W Rose</td>\n",
       "      <td>RADx-Rad Discoveries &amp; Data: Consortium Coordination Center Program Organization</td>\n",
       "    </tr>\n",
       "    <tr>\n",
       "      <th>1</th>\n",
       "      <td>radx-kg</td>\n",
       "      <td>Knowledge Graph of Digital Assets from the NIH Rapid Acceleration of Diagnostics (RADx) initiative.</td>\n",
       "      <td>https://github.com/radxrad/radx-kg</td>\n",
       "      <td>Peter W Rose</td>\n",
       "      <td>RADx-Rad Discoveries &amp; Data: Consortium Coordination Center Program Organization</td>\n",
       "    </tr>\n",
       "    <tr>\n",
       "      <th>2</th>\n",
       "      <td>covid-counter</td>\n",
       "      <td>Tools for counting covid sequences.</td>\n",
       "      <td>https://github.com/center4health/covid-counter</td>\n",
       "      <td>Rishi Graham</td>\n",
       "      <td>RADx-Rad Discoveries &amp; Data: Consortium Coordination Center Program Organization</td>\n",
       "    </tr>\n",
       "    <tr>\n",
       "      <th>3</th>\n",
       "      <td>auspice_radx</td>\n",
       "      <td>Web app for visualizing pathogen evolution.</td>\n",
       "      <td>https://github.com/DBMI/auspice_radx</td>\n",
       "      <td>Kai Post</td>\n",
       "      <td>RADx-Rad Discoveries &amp; Data: Consortium Coordination Center Program Organization</td>\n",
       "    </tr>\n",
       "    <tr>\n",
       "      <th>4</th>\n",
       "      <td>radx</td>\n",
       "      <td>RADx-rad pipeline for metagenomic data and analysis of SARS-CoV-2 from wastewater.</td>\n",
       "      <td>https://github.com/ZooPhy/radx</td>\n",
       "      <td>Matthew Scotch</td>\n",
       "      <td>Bioinformatics Framework for Wastewater-based Surveillance of Infectious Diseases</td>\n",
       "    </tr>\n",
       "  </tbody>\n",
       "</table>\n",
       "</div>"
      ],
      "text/plain": [
       "         software  \\\n",
       "0  dbgap-reporter   \n",
       "1         radx-kg   \n",
       "2   covid-counter   \n",
       "3    auspice_radx   \n",
       "4            radx   \n",
       "\n",
       "                                                                                                                   description  \\\n",
       "0  Jupyter Notebooks to analyze the number of data access requests for dbGaP datasets and publication including RADx datasets.   \n",
       "1                          Knowledge Graph of Digital Assets from the NIH Rapid Acceleration of Diagnostics (RADx) initiative.   \n",
       "2                                                                                          Tools for counting covid sequences.   \n",
       "3                                                                                  Web app for visualizing pathogen evolution.   \n",
       "4                                           RADx-rad pipeline for metagenomic data and analysis of SARS-CoV-2 from wastewater.   \n",
       "\n",
       "                                              url       developer  \\\n",
       "0       https://github.com/radxrad/dbgap-reporter    Peter W Rose   \n",
       "1              https://github.com/radxrad/radx-kg    Peter W Rose   \n",
       "2  https://github.com/center4health/covid-counter    Rishi Graham   \n",
       "3            https://github.com/DBMI/auspice_radx        Kai Post   \n",
       "4                  https://github.com/ZooPhy/radx  Matthew Scotch   \n",
       "\n",
       "                                                                               grant  \n",
       "0   RADx-Rad Discoveries & Data: Consortium Coordination Center Program Organization  \n",
       "1   RADx-Rad Discoveries & Data: Consortium Coordination Center Program Organization  \n",
       "2   RADx-Rad Discoveries & Data: Consortium Coordination Center Program Organization  \n",
       "3   RADx-Rad Discoveries & Data: Consortium Coordination Center Program Organization  \n",
       "4  Bioinformatics Framework for Wastewater-based Surveillance of Infectious Diseases  "
      ]
     },
     "execution_count": 28,
     "metadata": {},
     "output_type": "execute_result"
    }
   ],
   "source": [
    "query = \"\"\"\n",
    "MATCH (s:Software)<-[:DEVELOPED]-(r:Researcher)-[:IS_INVESTIGATOR_OF]->(g:Grant) RETURN s.name AS software, s.description AS description, s.url AS url, r.fullName AS developer, g.name AS grant\n",
    "\"\"\"\n",
    "graph.run(query).to_data_frame()"
   ]
  },
  {
   "cell_type": "markdown",
   "id": "d456a15c-d23b-4f5e-8b45-b3c744640489",
   "metadata": {
    "id": "d456a15c-d23b-4f5e-8b45-b3c744640489"
   },
   "source": [
    "## Presentations <a class=\"anchor\" id=\"Presentations\"></a>\n",
    "Presentations include poster presentations."
   ]
  },
  {
   "cell_type": "code",
   "execution_count": 29,
   "id": "1b640979-c575-4bc2-b508-cd950235f0d8",
   "metadata": {
    "colab": {
     "base_uri": "https://localhost:8080/"
    },
    "id": "1b640979-c575-4bc2-b508-cd950235f0d8",
    "outputId": "5ffac02b-2083-43f5-a317-bb367b8917bb"
   },
   "outputs": [
    {
     "name": "stdout",
     "output_type": "stream",
     "text": [
      "Number of presentations: 87\n"
     ]
    }
   ],
   "source": [
    "query = \"\"\"\n",
    "MATCH (p:Presentation) RETURN COUNT(p)\n",
    "\"\"\"\n",
    "print(f\"Number of presentations: {graph.evaluate(query)}\")"
   ]
  },
  {
   "cell_type": "markdown",
   "id": "8232e7cf-dc0e-4890-9fbe-140d8d2572cf",
   "metadata": {
    "id": "8232e7cf-dc0e-4890-9fbe-140d8d2572cf"
   },
   "source": [
    "### Number of presentations by RADx-rad subprojects"
   ]
  },
  {
   "cell_type": "code",
   "execution_count": 30,
   "id": "3444a1b5-857e-4f2d-8442-0fe703f7853c",
   "metadata": {
    "colab": {
     "base_uri": "https://localhost:8080/",
     "height": 449
    },
    "id": "3444a1b5-857e-4f2d-8442-0fe703f7853c",
    "outputId": "25e8239e-3ade-4bbd-aa34-f926d43c7532"
   },
   "outputs": [
    {
     "data": {
      "image/png": "[encoded data removed]",
      "text/plain": [
       "<Figure size 640x480 with 1 Axes>"
      ]
     },
     "metadata": {},
     "output_type": "display_data"
    }
   ],
   "source": [
    "query = \"\"\"\n",
    "MATCH (p:Presentation)<-[:PRESENTED]-(r:Researcher)-[:IS_INVESTIGATOR_OF]->(g:Grant) RETURN COUNT(p) AS Presentations, g.subProject AS Project\n",
    "ORDER BY Presentations DESC\n",
    "\"\"\"\n",
    "presentations = graph.run(query).to_data_frame()\n",
    "sns.barplot(presentations, x=\"Presentations\", y=\"Project\");"
   ]
  },
  {
   "cell_type": "markdown",
   "id": "76726091-e244-49bb-a659-7d98cb5abfeb",
   "metadata": {
    "id": "76726091-e244-49bb-a659-7d98cb5abfeb"
   },
   "source": [
    "## Full text query by keyword\n",
    "A full text query returns all nodes that match the text query ([Query Syntax](https://lucene.apache.org/core/5_5_0/queryparser/org/apache/lucene/queryparser/classic/package-summary.html#Overview)). For exact matches, enclose the phrase in double quotes, e.g., ```'\"aptamer\"'```.\n",
    "\n",
    "[Learn more about full-text searches.](https://graphaware.com/neo4j/2019/01/11/neo4j-full-text-search-deep-dive.html)"
   ]
  },
  {
   "cell_type": "code",
   "execution_count": 31,
   "id": "afa6352a-5a26-432c-ab15-570de57cad1c",
   "metadata": {
    "id": "afa6352a-5a26-432c-ab15-570de57cad1c"
   },
   "outputs": [],
   "source": [
    "phrase = '\"aptamer\"'"
   ]
  },
  {
   "cell_type": "code",
   "execution_count": 32,
   "id": "04fae75e-8f9a-4fde-b2ef-864d44972c0b",
   "metadata": {
    "colab": {
     "base_uri": "https://localhost:8080/",
     "height": 520
    },
    "id": "04fae75e-8f9a-4fde-b2ef-864d44972c0b",
    "outputId": "b0a9466c-7b45-44e5-da84-b22a0d91c49b"
   },
   "outputs": [
    {
     "data": {
      "text/html": [
       "<div>\n",
       "<style scoped>\n",
       "    .dataframe tbody tr th:only-of-type {\n",
       "        vertical-align: middle;\n",
       "    }\n",
       "\n",
       "    .dataframe tbody tr th {\n",
       "        vertical-align: top;\n",
       "    }\n",
       "\n",
       "    .dataframe thead th {\n",
       "        text-align: right;\n",
       "    }\n",
       "</style>\n",
       "<table border=\"1\" class=\"dataframe\">\n",
       "  <thead>\n",
       "    <tr style=\"text-align: right;\">\n",
       "      <th></th>\n",
       "      <th>id</th>\n",
       "      <th>type</th>\n",
       "      <th>title</th>\n",
       "      <th>score</th>\n",
       "    </tr>\n",
       "  </thead>\n",
       "  <tbody>\n",
       "    <tr>\n",
       "      <th>0</th>\n",
       "      <td>dbgap:phs002702.v1.p1</td>\n",
       "      <td>Dataset</td>\n",
       "      <td>A Scalable Aptamer-based Electrochemical Biosensor For Rapid Detection of SARS-CoV-2 From Saliva</td>\n",
       "      <td>1.609287</td>\n",
       "    </tr>\n",
       "    <tr>\n",
       "      <th>1</th>\n",
       "      <td>R44DE030852</td>\n",
       "      <td>Grant</td>\n",
       "      <td>Designer DNA Nanostructure Based Biosensing for Rapid COVID19 Detection and Monitoring using Saliva Sample</td>\n",
       "      <td>3.176407</td>\n",
       "    </tr>\n",
       "    <tr>\n",
       "      <th>2</th>\n",
       "      <td>R44DE030842</td>\n",
       "      <td>Grant</td>\n",
       "      <td>A scalable aptamer-based electrochemical biosensor for rapid detection of SARS-CoV-2 from saliva</td>\n",
       "      <td>2.941337</td>\n",
       "    </tr>\n",
       "    <tr>\n",
       "      <th>3</th>\n",
       "      <td>R61HD105590</td>\n",
       "      <td>Grant</td>\n",
       "      <td>Diagnosing and predicting risk in children with SARS-CoV-2- related illness</td>\n",
       "      <td>1.708164</td>\n",
       "    </tr>\n",
       "    <tr>\n",
       "      <th>4</th>\n",
       "      <td>U01AA029316</td>\n",
       "      <td>Grant</td>\n",
       "      <td>Touchscreen-compatible, real-time electrochemical sensing of SARS-CoV-2</td>\n",
       "      <td>1.512908</td>\n",
       "    </tr>\n",
       "    <tr>\n",
       "      <th>5</th>\n",
       "      <td>U01AA029328</td>\n",
       "      <td>Grant</td>\n",
       "      <td>Development of an Automated Diagnostic Platform for SARS-CoV-2 Monitoring in Vulnerable Areas</td>\n",
       "      <td>1.471692</td>\n",
       "    </tr>\n",
       "    <tr>\n",
       "      <th>6</th>\n",
       "      <td>U01AA029348</td>\n",
       "      <td>Grant</td>\n",
       "      <td>Detection and Automatic Privacy-Protected Contact Tracing System Designed for COVID-19</td>\n",
       "      <td>1.132357</td>\n",
       "    </tr>\n",
       "    <tr>\n",
       "      <th>7</th>\n",
       "      <td>982f2b070830a8bb88ace0042d0100db</td>\n",
       "      <td>Presentation</td>\n",
       "      <td>A Novel Aptamer-based Lateral Flow Assay to Detect SARS-CoV-2</td>\n",
       "      <td>1.812794</td>\n",
       "    </tr>\n",
       "    <tr>\n",
       "      <th>8</th>\n",
       "      <td>f10c31d02026ef92e1edd49fbd367226</td>\n",
       "      <td>Presentation</td>\n",
       "      <td>A scalable aptamer-based electrochemical biosensor for rapid detection of SARS--Cov-2 from Saliva</td>\n",
       "      <td>1.609287</td>\n",
       "    </tr>\n",
       "    <tr>\n",
       "      <th>9</th>\n",
       "      <td>doi:10.24425/pjvs.2023.145056</td>\n",
       "      <td>Publication</td>\n",
       "      <td>Application of aptamer-based viral detection in animals.</td>\n",
       "      <td>5.126857</td>\n",
       "    </tr>\n",
       "    <tr>\n",
       "      <th>10</th>\n",
       "      <td>doi:10.1021/acs.chemrev.3c00377</td>\n",
       "      <td>Publication</td>\n",
       "      <td>Aptamer-Protein Interactions: From Regulation to Biomolecular Detection.</td>\n",
       "      <td>5.088497</td>\n",
       "    </tr>\n",
       "    <tr>\n",
       "      <th>11</th>\n",
       "      <td>doi:10.1101/2023.11.24.568626</td>\n",
       "      <td>Publication</td>\n",
       "      <td>AptaBERT: Predicting aptamer binding interactions</td>\n",
       "      <td>4.959231</td>\n",
       "    </tr>\n",
       "    <tr>\n",
       "      <th>12</th>\n",
       "      <td>doi:10.1039/d3sc00439b</td>\n",
       "      <td>Publication</td>\n",
       "      <td>Aptamers 101: aptamer discovery and in vitro applications in biosensors and separations.</td>\n",
       "      <td>4.863132</td>\n",
       "    </tr>\n",
       "    <tr>\n",
       "      <th>13</th>\n",
       "      <td>doi:10.3390/s23229139</td>\n",
       "      <td>Publication</td>\n",
       "      <td>Divalent Aptamer-Functionalized Nanochannels for Facile Detection of Cancer Cell-Derived Exosomes</td>\n",
       "      <td>4.659555</td>\n",
       "    </tr>\n",
       "    <tr>\n",
       "      <th>14</th>\n",
       "      <td>doi:10.1021/acs.analchem.2c00554</td>\n",
       "      <td>Publication</td>\n",
       "      <td>Aptamer Sandwich Lateral Flow Assay (AptaFlow) for Antibody-Free SARS-CoV-2 Detection.</td>\n",
       "      <td>4.586232</td>\n",
       "    </tr>\n",
       "  </tbody>\n",
       "</table>\n",
       "</div>"
      ],
      "text/plain": [
       "                                  id          type  \\\n",
       "0              dbgap:phs002702.v1.p1       Dataset   \n",
       "1                        R44DE030852         Grant   \n",
       "2                        R44DE030842         Grant   \n",
       "3                        R61HD105590         Grant   \n",
       "4                        U01AA029316         Grant   \n",
       "5                        U01AA029328         Grant   \n",
       "6                        U01AA029348         Grant   \n",
       "7   982f2b070830a8bb88ace0042d0100db  Presentation   \n",
       "8   f10c31d02026ef92e1edd49fbd367226  Presentation   \n",
       "9      doi:10.24425/pjvs.2023.145056   Publication   \n",
       "10   doi:10.1021/acs.chemrev.3c00377   Publication   \n",
       "11     doi:10.1101/2023.11.24.568626   Publication   \n",
       "12            doi:10.1039/d3sc00439b   Publication   \n",
       "13             doi:10.3390/s23229139   Publication   \n",
       "14  doi:10.1021/acs.analchem.2c00554   Publication   \n",
       "\n",
       "                                                                                                         title  \\\n",
       "0             A Scalable Aptamer-based Electrochemical Biosensor For Rapid Detection of SARS-CoV-2 From Saliva   \n",
       "1   Designer DNA Nanostructure Based Biosensing for Rapid COVID19 Detection and Monitoring using Saliva Sample   \n",
       "2             A scalable aptamer-based electrochemical biosensor for rapid detection of SARS-CoV-2 from saliva   \n",
       "3                                  Diagnosing and predicting risk in children with SARS-CoV-2- related illness   \n",
       "4                                      Touchscreen-compatible, real-time electrochemical sensing of SARS-CoV-2   \n",
       "5                Development of an Automated Diagnostic Platform for SARS-CoV-2 Monitoring in Vulnerable Areas   \n",
       "6                       Detection and Automatic Privacy-Protected Contact Tracing System Designed for COVID-19   \n",
       "7                                               A Novel Aptamer-based Lateral Flow Assay to Detect SARS-CoV-2    \n",
       "8            A scalable aptamer-based electrochemical biosensor for rapid detection of SARS--Cov-2 from Saliva   \n",
       "9                                                     Application of aptamer-based viral detection in animals.   \n",
       "10                                    Aptamer-Protein Interactions: From Regulation to Biomolecular Detection.   \n",
       "11                                                           AptaBERT: Predicting aptamer binding interactions   \n",
       "12                    Aptamers 101: aptamer discovery and in vitro applications in biosensors and separations.   \n",
       "13           Divalent Aptamer-Functionalized Nanochannels for Facile Detection of Cancer Cell-Derived Exosomes   \n",
       "14                      Aptamer Sandwich Lateral Flow Assay (AptaFlow) for Antibody-Free SARS-CoV-2 Detection.   \n",
       "\n",
       "       score  \n",
       "0   1.609287  \n",
       "1   3.176407  \n",
       "2   2.941337  \n",
       "3   1.708164  \n",
       "4   1.512908  \n",
       "5   1.471692  \n",
       "6   1.132357  \n",
       "7   1.812794  \n",
       "8   1.609287  \n",
       "9   5.126857  \n",
       "10  5.088497  \n",
       "11  4.959231  \n",
       "12  4.863132  \n",
       "13  4.659555  \n",
       "14  4.586232  "
      ]
     },
     "execution_count": 32,
     "metadata": {},
     "output_type": "execute_result"
    }
   ],
   "source": [
    "query = \"\"\"\n",
    "CALL db.index.fulltext.queryNodes(\"fulltext\", $phrase) YIELD node, score\n",
    "RETURN node.id AS id, LABELS(node)[0] AS type, node.name AS title, score\n",
    "ORDER BY type\n",
    "\"\"\"\n",
    "graph.run(query, phrase=phrase).to_data_frame().head(15)"
   ]
  },
  {
   "cell_type": "markdown",
   "id": "1ab781a4-170e-4549-a745-e7ecae6d8e31",
   "metadata": {
    "id": "1ab781a4-170e-4549-a745-e7ecae6d8e31"
   },
   "source": [
    "## Full text query using boolean operators\n",
    "The full text query supports a variety of query types, including fuzzy, proximity, and range queries, as well as boolean operators ([Query Syntax](https://lucene.apache.org/core/5_5_0/queryparser/org/apache/lucene/queryparser/classic/package-summary.html#Overview)). The following example uses a query with an ```AND``` operator."
   ]
  },
  {
   "cell_type": "code",
   "execution_count": 33,
   "id": "82d1eb18-eeec-4a5e-b40d-46f0e3c5e802",
   "metadata": {
    "id": "82d1eb18-eeec-4a5e-b40d-46f0e3c5e802"
   },
   "outputs": [],
   "source": [
    "phrase = 'aptamer AND biosensor'"
   ]
  },
  {
   "cell_type": "code",
   "execution_count": 34,
   "id": "8167ccde-a6fd-4a55-818b-bde2e6309cad",
   "metadata": {
    "colab": {
     "base_uri": "https://localhost:8080/",
     "height": 443
    },
    "id": "8167ccde-a6fd-4a55-818b-bde2e6309cad",
    "outputId": "e4b8db8b-b353-4501-a2ed-a22d24a0281c"
   },
   "outputs": [
    {
     "data": {
      "text/html": [
       "<div>\n",
       "<style scoped>\n",
       "    .dataframe tbody tr th:only-of-type {\n",
       "        vertical-align: middle;\n",
       "    }\n",
       "\n",
       "    .dataframe tbody tr th {\n",
       "        vertical-align: top;\n",
       "    }\n",
       "\n",
       "    .dataframe thead th {\n",
       "        text-align: right;\n",
       "    }\n",
       "</style>\n",
       "<table border=\"1\" class=\"dataframe\">\n",
       "  <thead>\n",
       "    <tr style=\"text-align: right;\">\n",
       "      <th></th>\n",
       "      <th>id</th>\n",
       "      <th>type</th>\n",
       "      <th>title</th>\n",
       "      <th>score</th>\n",
       "    </tr>\n",
       "  </thead>\n",
       "  <tbody>\n",
       "    <tr>\n",
       "      <th>0</th>\n",
       "      <td>dbgap:phs002702.v1.p1</td>\n",
       "      <td>Dataset</td>\n",
       "      <td>A Scalable Aptamer-based Electrochemical Biosensor For Rapid Detection of SARS-CoV-2 From Saliva</td>\n",
       "      <td>3.422369</td>\n",
       "    </tr>\n",
       "    <tr>\n",
       "      <th>1</th>\n",
       "      <td>R44DE030842</td>\n",
       "      <td>Grant</td>\n",
       "      <td>A scalable aptamer-based electrochemical biosensor for rapid detection of SARS-CoV-2 from saliva</td>\n",
       "      <td>7.002345</td>\n",
       "    </tr>\n",
       "    <tr>\n",
       "      <th>2</th>\n",
       "      <td>U01AA029328</td>\n",
       "      <td>Grant</td>\n",
       "      <td>Development of an Automated Diagnostic Platform for SARS-CoV-2 Monitoring in Vulnerable Areas</td>\n",
       "      <td>5.809038</td>\n",
       "    </tr>\n",
       "    <tr>\n",
       "      <th>3</th>\n",
       "      <td>U01AA029316</td>\n",
       "      <td>Grant</td>\n",
       "      <td>Touchscreen-compatible, real-time electrochemical sensing of SARS-CoV-2</td>\n",
       "      <td>4.928770</td>\n",
       "    </tr>\n",
       "    <tr>\n",
       "      <th>4</th>\n",
       "      <td>R44DE030852</td>\n",
       "      <td>Grant</td>\n",
       "      <td>Designer DNA Nanostructure Based Biosensing for Rapid COVID19 Detection and Monitoring using Saliva Sample</td>\n",
       "      <td>4.357251</td>\n",
       "    </tr>\n",
       "    <tr>\n",
       "      <th>5</th>\n",
       "      <td>f10c31d02026ef92e1edd49fbd367226</td>\n",
       "      <td>Presentation</td>\n",
       "      <td>A scalable aptamer-based electrochemical biosensor for rapid detection of SARS--Cov-2 from Saliva</td>\n",
       "      <td>3.422369</td>\n",
       "    </tr>\n",
       "    <tr>\n",
       "      <th>6</th>\n",
       "      <td>doi:10.1021/acs.analchem.2c04709</td>\n",
       "      <td>Publication</td>\n",
       "      <td>T-Shaped Aptamer-Based LSPR Biosensor Using Ω-Shaped Fiber Optic for Rapid Detection of SARS-CoV-2</td>\n",
       "      <td>8.354718</td>\n",
       "    </tr>\n",
       "    <tr>\n",
       "      <th>7</th>\n",
       "      <td>doi:10.3390/bios13121027</td>\n",
       "      <td>Publication</td>\n",
       "      <td>A Novel Aptamer Biosensor Based on a Localized Surface Plasmon Resonance Sensing Chip for High-Sensitivity and Rapid Enrofloxacin Detection</td>\n",
       "      <td>7.856333</td>\n",
       "    </tr>\n",
       "    <tr>\n",
       "      <th>8</th>\n",
       "      <td>doi:10.3390/s23229139</td>\n",
       "      <td>Publication</td>\n",
       "      <td>Divalent Aptamer-Functionalized Nanochannels for Facile Detection of Cancer Cell-Derived Exosomes</td>\n",
       "      <td>7.092521</td>\n",
       "    </tr>\n",
       "    <tr>\n",
       "      <th>9</th>\n",
       "      <td>doi:10.1117/12.2669355</td>\n",
       "      <td>Publication</td>\n",
       "      <td>Diagnostic and neutralizing aptamers technology against Sars-Cov-2</td>\n",
       "      <td>4.347819</td>\n",
       "    </tr>\n",
       "    <tr>\n",
       "      <th>10</th>\n",
       "      <td>doi:10.1371/journal.pone.0290256</td>\n",
       "      <td>Publication</td>\n",
       "      <td>A capacitive laser-induced graphene based aptasensor for SARS-CoV-2 detection in human saliva.</td>\n",
       "      <td>3.767451</td>\n",
       "    </tr>\n",
       "    <tr>\n",
       "      <th>11</th>\n",
       "      <td>doi:10.1101/2023.04.26.538490</td>\n",
       "      <td>Publication</td>\n",
       "      <td>Designer DNA NanoGripper</td>\n",
       "      <td>3.666821</td>\n",
       "    </tr>\n",
       "  </tbody>\n",
       "</table>\n",
       "</div>"
      ],
      "text/plain": [
       "                                  id          type  \\\n",
       "0              dbgap:phs002702.v1.p1       Dataset   \n",
       "1                        R44DE030842         Grant   \n",
       "2                        U01AA029328         Grant   \n",
       "3                        U01AA029316         Grant   \n",
       "4                        R44DE030852         Grant   \n",
       "5   f10c31d02026ef92e1edd49fbd367226  Presentation   \n",
       "6   doi:10.1021/acs.analchem.2c04709   Publication   \n",
       "7           doi:10.3390/bios13121027   Publication   \n",
       "8              doi:10.3390/s23229139   Publication   \n",
       "9             doi:10.1117/12.2669355   Publication   \n",
       "10  doi:10.1371/journal.pone.0290256   Publication   \n",
       "11     doi:10.1101/2023.04.26.538490   Publication   \n",
       "\n",
       "                                                                                                                                          title  \\\n",
       "0                                              A Scalable Aptamer-based Electrochemical Biosensor For Rapid Detection of SARS-CoV-2 From Saliva   \n",
       "1                                              A scalable aptamer-based electrochemical biosensor for rapid detection of SARS-CoV-2 from saliva   \n",
       "2                                                 Development of an Automated Diagnostic Platform for SARS-CoV-2 Monitoring in Vulnerable Areas   \n",
       "3                                                                       Touchscreen-compatible, real-time electrochemical sensing of SARS-CoV-2   \n",
       "4                                    Designer DNA Nanostructure Based Biosensing for Rapid COVID19 Detection and Monitoring using Saliva Sample   \n",
       "5                                             A scalable aptamer-based electrochemical biosensor for rapid detection of SARS--Cov-2 from Saliva   \n",
       "6                                            T-Shaped Aptamer-Based LSPR Biosensor Using Ω-Shaped Fiber Optic for Rapid Detection of SARS-CoV-2   \n",
       "7   A Novel Aptamer Biosensor Based on a Localized Surface Plasmon Resonance Sensing Chip for High-Sensitivity and Rapid Enrofloxacin Detection   \n",
       "8                                             Divalent Aptamer-Functionalized Nanochannels for Facile Detection of Cancer Cell-Derived Exosomes   \n",
       "9                                                                            Diagnostic and neutralizing aptamers technology against Sars-Cov-2   \n",
       "10                                               A capacitive laser-induced graphene based aptasensor for SARS-CoV-2 detection in human saliva.   \n",
       "11                                                                                                                     Designer DNA NanoGripper   \n",
       "\n",
       "       score  \n",
       "0   3.422369  \n",
       "1   7.002345  \n",
       "2   5.809038  \n",
       "3   4.928770  \n",
       "4   4.357251  \n",
       "5   3.422369  \n",
       "6   8.354718  \n",
       "7   7.856333  \n",
       "8   7.092521  \n",
       "9   4.347819  \n",
       "10  3.767451  \n",
       "11  3.666821  "
      ]
     },
     "execution_count": 34,
     "metadata": {},
     "output_type": "execute_result"
    }
   ],
   "source": [
    "query = \"\"\"\n",
    "CALL db.index.fulltext.queryNodes(\"fulltext\", $phrase) YIELD node, score\n",
    "RETURN node.id AS id, LABELS(node)[0] AS type, node.name AS title, score\n",
    "ORDER BY type\n",
    "\"\"\"\n",
    "graph.run(query, phrase=phrase).to_data_frame()"
   ]
  },
  {
   "cell_type": "markdown",
   "id": "d04ad0f6-a8e4-409e-972c-429e195aefcc",
   "metadata": {
    "id": "d04ad0f6-a8e4-409e-972c-429e195aefcc"
   },
   "source": [
    "### Shutdown Neo4j before closing this notebook.\n",
    "If you run this notebook locally, uncomment the last line and run neo4j_utils.stop() to stop the database. Otherwise, the database server will keep running."
   ]
  },
  {
   "cell_type": "code",
   "execution_count": 35,
   "id": "11eb5bb3-634b-47f2-b61e-5aea7e990934",
   "metadata": {
    "id": "11eb5bb3-634b-47f2-b61e-5aea7e990934"
   },
   "outputs": [],
   "source": [
    "#neo4j_utils.stop()"
   ]
  }
 ],
 "metadata": {
  "colab": {
   "include_colab_link": true,
   "provenance": []
  },
  "kernelspec": {
   "display_name": "Python 3 (ipykernel)",
   "language": "python",
   "name": "python3"
  },
  "language_info": {
   "codemirror_mode": {
    "name": "ipython",
    "version": 3
   },
   "file_extension": ".py",
   "mimetype": "text/x-python",
   "name": "python",
   "nbconvert_exporter": "python",
   "pygments_lexer": "ipython3",
   "version": "3.10.13"
  },
  "widgets": {
   "application/vnd.jupyter.widget-state+json": {
    "000eb5ae35e44ade89b0029a9a63e019": {
     "model_module": "jupyter-cytoscape",
     "model_module_version": "^1.3.3",
     "model_name": "EdgeModel",
     "state": {
      "_model_module": "jupyter-cytoscape",
      "_model_module_version": "^1.3.3",
      "_model_name": "EdgeModel",
      "_view_count": null,
      "_view_module": "jupyter-cytoscape",
      "_view_module_version": "^1.3.3",
      "_view_name": "EdgeView",
      "classes": " directed  multiple_edges ",
      "data": {
       "isContactPi": true,
       "isPi": true,
       "isStudyInvestigator": true,
       "name": "IS_INVESTIGATOR_OF",
       "source": 649,
       "target": 564
      },
      "pannable": true,
      "removed": false,
      "selectable": false,
      "selected": false
     }
    },
    "02d82b1b056f4241bbc0278bb93277ba": {
     "model_module": "jupyter-cytoscape",
     "model_module_version": "^1.3.3",
     "model_name": "EdgeModel",
     "state": {
      "_model_module": "jupyter-cytoscape",
      "_model_module_version": "^1.3.3",
      "_model_name": "EdgeModel",
      "_view_count": null,
      "_view_module": "jupyter-cytoscape",
      "_view_module_version": "^1.3.3",
      "_view_name": "EdgeView",
      "classes": " directed  multiple_edges ",
      "data": {
       "name": "USED",
       "source": 1852,
       "target": 1633
      },
      "pannable": true,
      "removed": false,
      "selectable": false,
      "selected": false
     }
    },
    "04d566557ac740dd9aea8729a2a6eefd": {
     "model_module": "jupyter-cytoscape",
     "model_module_version": "^1.3.3",
     "model_name": "NodeModel",
     "state": {
      "_model_module": "jupyter-cytoscape",
      "_model_module_version": "^1.3.3",
      "_model_name": "NodeModel",
      "_view_count": null,
      "_view_module": "jupyter-cytoscape",
      "_view_module_version": "^1.3.3",
      "_view_name": "NodeView",
      "classes": "",
      "data": {
       "applicants": [
        "Atom Bioworks, Inc",
        "The Board Of Trustees Of The University Of Illinois"
       ],
       "filingDate": "2021-11-18",
       "id": 2424,
       "inventors": [
        "Xing Wang",
        "Xiaohu Yao",
        "Nicolas Letourneau"
       ],
       "label": "Patent",
       "name": "Polynucleotide nanostructures for detecting viral infections and other diseases \n       ",
       "status": "pending",
       "tooltip": "Patent\nid:WO2022109155\napplicants:['Atom Bioworks, Inc', 'The Board Of Trustees Of The University Of Illinois']\nstatus:pending\nname:Polynucleotide nanostructures for detecting viral infections and other diseases \n       \nfilingDate:2021-11-18\ninventors:['Xing Wang', 'Xiaohu Yao', 'Nicolas Letourneau']\nurl:https://patents.google.com/patent/WO2022109155A1",
       "url": "https://patents.google.com/patent/WO2022109155A1"
      },
      "grabbable": true,
      "grabbed": false,
      "locked": false,
      "pannable": false,
      "position": {},
      "removed": false,
      "selectable": false,
      "selected": false
     }
    },
    "055f0a491c564c48b6a2d4bc2d3200ba": {
     "model_module": "jupyter-cytoscape",
     "model_module_version": "^1.3.3",
     "model_name": "EdgeModel",
     "state": {
      "_model_module": "jupyter-cytoscape",
      "_model_module_version": "^1.3.3",
      "_model_name": "EdgeModel",
      "_view_count": null,
      "_view_module": "jupyter-cytoscape",
      "_view_module_version": "^1.3.3",
      "_view_name": "EdgeView",
      "classes": " directed  multiple_edges ",
      "data": {
       "lastUpdated": 2023,
       "name": "EMPLOYED_AT",
       "source": 661,
       "target": 40
      },
      "pannable": true,
      "removed": false,
      "selectable": false,
      "selected": false
     }
    },
    "05dc4a3528e6446a990d536a62fab5e1": {
     "model_module": "jupyter-cytoscape",
     "model_module_version": "^1.3.3",
     "model_name": "NodeModel",
     "state": {
      "_model_module": "jupyter-cytoscape",
      "_model_module_version": "^1.3.3",
      "_model_name": "NodeModel",
      "_view_count": null,
      "_view_module": "jupyter-cytoscape",
      "_view_module_version": "^1.3.3",
      "_view_name": "NodeView",
      "classes": "",
      "data": {
       "abstract": "Airborne transmission via virus-laden aerosols is a dominant route for the transmission of respiratory diseases, including severe acute respiratory syndrome coronavirus 2 (SARS-CoV-2). Direct, non-invasive screening of respiratory virus aerosols in patients has been a long-standing technical challenge. Here, we introduce a point-of-care testing platform that directly detects SARS-CoV-2 aerosols in as little as two exhaled breaths of patients and provides results in under 60 s. It integrates a hand-held breath aerosol collector and a llama-derived, SARS-CoV-2 spike-protein specific nanobody bound to an ultrasensitive micro-immunoelectrode biosensor, which detects the oxidation of tyrosine amino acids present in SARS-CoV-2 viral particles. Laboratory and clinical trial results were within 20% of those obtained using standard testing methods. Importantly, the electrochemical biosensor directly detects the virus itself, as opposed to a surrogate or signature of the virus, and is sensitive to as little as 10 viral particles in a sample. Our platform holds the potential to be adapted for multiplexed detection of different respiratory viruses. It provides a rapid and non-invasive alternative to conventional viral diagnostics.",
       "doi": "doi:10.1021/acssensors.3c00512",
       "id": 2751,
       "journal": "ACS sensors",
       "label": "Publication",
       "name": "Rapid Direct Detection of SARS-CoV-2 Aerosols in Exhaled Breath at the Point of Care.",
       "pmId": "37498298",
       "pmcId": "PMC10463275",
       "tooltip": "Publication\njournal:ACS sensors\nabstract:Airborne transmission via virus-laden aerosols is a dominant route for the transmission of respiratory diseases, including severe acute respiratory syndrome coronavirus 2 (SARS-CoV-2). Direct, non-invasive screening of respiratory virus aerosols in patients has been a long-standing technical challenge. Here, we introduce a point-of-care testing platform that directly detects SARS-CoV-2 aerosols in as little as two exhaled breaths of patients and provides results in under 60 s. It integrates a hand-held breath aerosol collector and a llama-derived, SARS-CoV-2 spike-protein specific nanobody bound to an ultrasensitive micro-immunoelectrode biosensor, which detects the oxidation of tyrosine amino acids present in SARS-CoV-2 viral particles. Laboratory and clinical trial results were within 20% of those obtained using standard testing methods. Importantly, the electrochemical biosensor directly detects the virus itself, as opposed to a surrogate or signature of the virus, and is sensitive to as little as 10 viral particles in a sample. Our platform holds the potential to be adapted for multiplexed detection of different respiratory viruses. It provides a rapid and non-invasive alternative to conventional viral diagnostics.\nid:doi:10.1021/acssensors.3c00512\nname:Rapid Direct Detection of SARS-CoV-2 Aerosols in Exhaled Breath at the Point of Care.\npmId:37498298\nyear:2023\ntype:primary\npmcId:PMC10463275\nurl:https://doi.org/doi:10.1021/acssensors.3c00512\ndoi:doi:10.1021/acssensors.3c00512",
       "type": "primary",
       "url": "https://doi.org/doi:10.1021/acssensors.3c00512",
       "year": 2023
      },
      "grabbable": true,
      "grabbed": false,
      "locked": false,
      "pannable": false,
      "position": {},
      "removed": false,
      "selectable": false,
      "selected": false
     }
    },
    "07129b937d6047639374a5cc822b0487": {
     "model_module": "jupyter-cytoscape",
     "model_module_version": "^1.3.3",
     "model_name": "NodeModel",
     "state": {
      "_model_module": "jupyter-cytoscape",
      "_model_module_version": "^1.3.3",
      "_model_name": "NodeModel",
      "_view_count": null,
      "_view_module": "jupyter-cytoscape",
      "_view_module_version": "^1.3.3",
      "_view_name": "NodeView",
      "classes": "",
      "data": {
       "applicants": [
        "Washington University"
       ],
       "filingDate": "2023-03-30",
       "id": 2425,
       "inventors": [
        "Benjamin Sumlin",
        "Rajan Charkrabarty",
        "Nishit Jaideep Shetty",
        "John Cirrito",
        "Carla Yuede"
       ],
       "label": "Patent",
       "name": "Rapid, single-use methods and systems for electrochemical analysis of pathogens in exhaled breath \n       ",
       "status": "pending",
       "tooltip": "Patent\nid:WO2023192433\napplicants:['Washington University']\nstatus:pending\nname:Rapid, single-use methods and systems for electrochemical analysis of pathogens in exhaled breath \n       \nfilingDate:2023-03-30\ninventors:['Benjamin Sumlin', 'Rajan Charkrabarty', 'Nishit Jaideep Shetty', 'John Cirrito', 'Carla Yuede']\nurl:https://patents.google.com/patent/WO2023192433A1",
       "url": "https://patents.google.com/patent/WO2023192433A1"
      },
      "grabbable": true,
      "grabbed": false,
      "locked": false,
      "pannable": false,
      "position": {},
      "removed": false,
      "selectable": false,
      "selected": false
     }
    },
    "077c0007b49d47d0b2a61db0fd051643": {
     "model_module": "jupyter-cytoscape",
     "model_module_version": "^1.3.3",
     "model_name": "EdgeModel",
     "state": {
      "_model_module": "jupyter-cytoscape",
      "_model_module_version": "^1.3.3",
      "_model_name": "EdgeModel",
      "_view_count": null,
      "_view_module": "jupyter-cytoscape",
      "_view_module_version": "^1.3.3",
      "_view_name": "EdgeView",
      "classes": " directed  multiple_edges ",
      "data": {
       "name": "IS_INVENTOR",
       "source": 673,
       "target": 2428
      },
      "pannable": true,
      "removed": false,
      "selectable": false,
      "selected": false
     }
    },
    "093460099cb149cea0538d208cd7062d": {
     "model_module": "jupyter-cytoscape",
     "model_module_version": "^1.3.3",
     "model_name": "EdgeModel",
     "state": {
      "_model_module": "jupyter-cytoscape",
      "_model_module_version": "^1.3.3",
      "_model_name": "EdgeModel",
      "_view_count": null,
      "_view_module": "jupyter-cytoscape",
      "_view_module_version": "^1.3.3",
      "_view_name": "EdgeView",
      "classes": " directed  multiple_edges ",
      "data": {
       "name": "AUTHORED",
       "source": 661,
       "target": 2751
      },
      "pannable": true,
      "removed": false,
      "selectable": false,
      "selected": false
     }
    },
    "09bdbcee9fe449559819ce670944b67b": {
     "model_module": "@jupyter-widgets/base",
     "model_module_version": "1.2.0",
     "model_name": "LayoutModel",
     "state": {
      "_model_module": "@jupyter-widgets/base",
      "_model_module_version": "1.2.0",
      "_model_name": "LayoutModel",
      "_view_count": null,
      "_view_module": "@jupyter-widgets/base",
      "_view_module_version": "1.2.0",
      "_view_name": "LayoutView",
      "align_content": null,
      "align_items": null,
      "align_self": null,
      "border": null,
      "bottom": null,
      "display": null,
      "flex": null,
      "flex_flow": null,
      "grid_area": null,
      "grid_auto_columns": null,
      "grid_auto_flow": null,
      "grid_auto_rows": null,
      "grid_column": null,
      "grid_gap": null,
      "grid_row": null,
      "grid_template_areas": null,
      "grid_template_columns": null,
      "grid_template_rows": null,
      "height": null,
      "justify_content": null,
      "justify_items": null,
      "left": null,
      "margin": null,
      "max_height": null,
      "max_width": null,
      "min_height": null,
      "min_width": null,
      "object_fit": null,
      "object_position": null,
      "order": null,
      "overflow": null,
      "overflow_x": null,
      "overflow_y": null,
      "padding": null,
      "right": null,
      "top": null,
      "visibility": null,
      "width": null
     }
    },
    "0b4c4cdfe20b4575a1552cd2ce2db9e0": {
     "model_module": "@jupyter-widgets/base",
     "model_module_version": "1.2.0",
     "model_name": "LayoutModel",
     "state": {
      "_model_module": "@jupyter-widgets/base",
      "_model_module_version": "1.2.0",
      "_model_name": "LayoutModel",
      "_view_count": null,
      "_view_module": "@jupyter-widgets/base",
      "_view_module_version": "1.2.0",
      "_view_name": "LayoutView",
      "align_content": null,
      "align_items": null,
      "align_self": null,
      "border": null,
      "bottom": null,
      "display": null,
      "flex": null,
      "flex_flow": null,
      "grid_area": null,
      "grid_auto_columns": null,
      "grid_auto_flow": null,
      "grid_auto_rows": null,
      "grid_column": null,
      "grid_gap": null,
      "grid_row": null,
      "grid_template_areas": null,
      "grid_template_columns": null,
      "grid_template_rows": null,
      "height": null,
      "justify_content": null,
      "justify_items": null,
      "left": null,
      "margin": null,
      "max_height": null,
      "max_width": null,
      "min_height": null,
      "min_width": null,
      "object_fit": null,
      "object_position": null,
      "order": null,
      "overflow": null,
      "overflow_x": null,
      "overflow_y": null,
      "padding": null,
      "right": null,
      "top": null,
      "visibility": null,
      "width": null
     }
    },
    "0b55778c7308448ba417b8e9ada82787": {
     "model_module": "jupyter-cytoscape",
     "model_module_version": "^1.3.3",
     "model_name": "EdgeModel",
     "state": {
      "_model_module": "jupyter-cytoscape",
      "_model_module_version": "^1.3.3",
      "_model_name": "EdgeModel",
      "_view_count": null,
      "_view_module": "jupyter-cytoscape",
      "_view_module_version": "^1.3.3",
      "_view_name": "EdgeView",
      "classes": " directed  multiple_edges ",
      "data": {
       "from": "Unique identifier for the funding opportunity (Thesaurus:C20021) (string)",
       "name": "MetaRelationship",
       "relationshipName": "PROVIDES",
       "source": 2740,
       "target": 2745,
       "to": "Unique identifier for the grant (Thesaurus:C16644) (string)"
      },
      "pannable": true,
      "removed": false,
      "selectable": false,
      "selected": false
     }
    },
    "0cd94a4747444029b77838fa8e0fffb5": {
     "model_module": "jupyter-cytoscape",
     "model_module_version": "^1.3.3",
     "model_name": "EdgeModel",
     "state": {
      "_model_module": "jupyter-cytoscape",
      "_model_module_version": "^1.3.3",
      "_model_name": "EdgeModel",
      "_view_count": null,
      "_view_module": "jupyter-cytoscape",
      "_view_module_version": "^1.3.3",
      "_view_name": "EdgeView",
      "classes": " directed  multiple_edges ",
      "data": {
       "name": "AUTHORED",
       "source": 1990,
       "target": 2751
      },
      "pannable": true,
      "removed": false,
      "selectable": false,
      "selected": false
     }
    },
    "0eb06f6bed6d4eeda8650977805bec9d": {
     "model_module": "jupyter-cytoscape",
     "model_module_version": "^1.3.3",
     "model_name": "NodeModel",
     "state": {
      "_model_module": "jupyter-cytoscape",
      "_model_module_version": "^1.3.3",
      "_model_name": "NodeModel",
      "_view_count": null,
      "_view_module": "jupyter-cytoscape",
      "_view_module_version": "^1.3.3",
      "_view_name": "NodeView",
      "classes": "",
      "data": {
       "firstName": "Jesse",
       "fullName": "Jesse Vincent Jokerst",
       "id": 668,
       "label": "Researcher",
       "lastName": "Jokerst",
       "middleName": "Vincent",
       "name": "Jokerst JV",
       "orcid": "orcid:0000-0003-2829-6408",
       "profileId": "profileid:11288941",
       "tooltip": "Researcher\nmiddleName:Vincent\nid:profileid:11288941\nlastName:Jokerst\norcid:orcid:0000-0003-2829-6408\nprofileId:profileid:11288941\nname:Jokerst JV\nfullName:Jesse Vincent Jokerst\nfirstName:Jesse"
      },
      "grabbable": true,
      "grabbed": false,
      "locked": false,
      "pannable": false,
      "position": {},
      "removed": false,
      "selectable": false,
      "selected": false
     }
    },
    "1004833776c6426593e28be991a03867": {
     "model_module": "jupyter-cytoscape",
     "model_module_version": "^1.3.3",
     "model_name": "EdgeModel",
     "state": {
      "_model_module": "jupyter-cytoscape",
      "_model_module_version": "^1.3.3",
      "_model_name": "EdgeModel",
      "_view_count": null,
      "_view_module": "jupyter-cytoscape",
      "_view_module_version": "^1.3.3",
      "_view_name": "EdgeView",
      "classes": " directed  multiple_edges ",
      "data": {
       "name": "AUTHORED",
       "source": 1326,
       "target": 2751
      },
      "pannable": true,
      "removed": false,
      "selectable": false,
      "selected": false
     }
    },
    "12523cdf44ee4f4d994a4cb0d6dac539": {
     "model_module": "jupyter-cytoscape",
     "model_module_version": "^1.3.3",
     "model_name": "NodeModel",
     "state": {
      "_model_module": "jupyter-cytoscape",
      "_model_module_version": "^1.3.3",
      "_model_name": "NodeModel",
      "_view_count": null,
      "_view_module": "jupyter-cytoscape",
      "_view_module_version": "^1.3.3",
      "_view_name": "NodeView",
      "classes": "",
      "data": {
       "firstName": "A",
       "fullName": "A Boon",
       "id": 909,
       "label": "Researcher",
       "lastName": "Boon",
       "name": "Boon A",
       "tooltip": "Researcher\nid:s2authorid:1968280\nlastName:Boon\nname:Boon A\nfullName:A Boon\nfirstName:A"
      },
      "grabbable": true,
      "grabbed": false,
      "locked": false,
      "pannable": false,
      "position": {},
      "removed": false,
      "selectable": false,
      "selected": false
     }
    },
    "125ccd7d4dda4c8a86d7ec29d169e9a6": {
     "model_module": "jupyter-cytoscape",
     "model_module_version": "^1.3.3",
     "model_name": "EdgeModel",
     "state": {
      "_model_module": "jupyter-cytoscape",
      "_model_module_version": "^1.3.3",
      "_model_name": "EdgeModel",
      "_view_count": null,
      "_view_module": "jupyter-cytoscape",
      "_view_module_version": "^1.3.3",
      "_view_name": "EdgeView",
      "classes": " directed  multiple_edges ",
      "data": {
       "from": "Unique identifier for the researcher (string)",
       "isContactPi": "True if researcher is the contact PI (boolean)",
       "isPi": "True if researcher is a PI for the grant (boolean)",
       "isStudyInvestigator": "True if research is the dbGaP study investigator (boolean)",
       "name": "MetaRelationship",
       "relationshipName": "IS_INVESTIGATOR_OF",
       "source": 2736,
       "target": 2745,
       "to": "Unique identifier for the grant without prefix or suffix (string)"
      },
      "pannable": true,
      "removed": false,
      "selectable": false,
      "selected": false
     }
    },
    "133661113db04bedbcf64cef7067ff2f": {
     "model_module": "jupyter-cytoscape",
     "model_module_version": "^1.3.3",
     "model_name": "NodeModel",
     "state": {
      "_model_module": "jupyter-cytoscape",
      "_model_module_version": "^1.3.3",
      "_model_name": "NodeModel",
      "_view_count": null,
      "_view_module": "jupyter-cytoscape",
      "_view_module_version": "^1.3.3",
      "_view_name": "NodeView",
      "classes": "",
      "data": {
       "id": 1633,
       "label": "Dataset",
       "name": " Nanobody-based Electrochemical Biosensor for Real-Time Detection of Aerosolized SARS-CoV2",
       "tooltip": "Dataset\nid:dbgap:phs002700.v1.p1\nname: Nanobody-based Electrochemical Biosensor for Real-Time Detection of Aerosolized SARS-CoV2\nurl:https://www.ncbi.nlm.nih.gov/projects/gap/cgi-bin/study.cgi?study_id=phs002700.v1.p1",
       "url": "https://www.ncbi.nlm.nih.gov/projects/gap/cgi-bin/study.cgi?study_id=phs002700.v1.p1"
      },
      "grabbable": true,
      "grabbed": false,
      "locked": false,
      "pannable": false,
      "position": {},
      "removed": false,
      "selectable": false,
      "selected": false
     }
    },
    "16275544f89545e4b034eae74b53ff17": {
     "model_module": "jupyter-cytoscape",
     "model_module_version": "^1.3.3",
     "model_name": "EdgeModel",
     "state": {
      "_model_module": "jupyter-cytoscape",
      "_model_module_version": "^1.3.3",
      "_model_name": "EdgeModel",
      "_view_count": null,
      "_view_module": "jupyter-cytoscape",
      "_view_module_version": "^1.3.3",
      "_view_name": "EdgeView",
      "classes": " directed  multiple_edges ",
      "data": {
       "name": "AUTHORED",
       "source": 1075,
       "target": 2795
      },
      "pannable": true,
      "removed": false,
      "selectable": false,
      "selected": false
     }
    },
    "18194f20677d468ea31b0220ce303ec7": {
     "model_module": "jupyter-cytoscape",
     "model_module_version": "^1.3.3",
     "model_name": "EdgeModel",
     "state": {
      "_model_module": "jupyter-cytoscape",
      "_model_module_version": "^1.3.3",
      "_model_name": "EdgeModel",
      "_view_count": null,
      "_view_module": "jupyter-cytoscape",
      "_view_module_version": "^1.3.3",
      "_view_name": "EdgeView",
      "classes": " directed  multiple_edges ",
      "data": {
       "name": "CITES",
       "source": 3548,
       "target": 2751
      },
      "pannable": true,
      "removed": false,
      "selectable": false,
      "selected": false
     }
    },
    "18b04350decc45cd9996423ef1236000": {
     "model_module": "jupyter-cytoscape",
     "model_module_version": "^1.3.3",
     "model_name": "NodeModel",
     "state": {
      "_model_module": "jupyter-cytoscape",
      "_model_module_version": "^1.3.3",
      "_model_name": "NodeModel",
      "_view_count": null,
      "_view_module": "jupyter-cytoscape",
      "_view_module_version": "^1.3.3",
      "_view_name": "NodeView",
      "classes": "",
      "data": {
       "applicants": [
        "Atom Bioworks Inc",
        "University of Illinois"
       ],
       "filingDate": "2021-11-18",
       "id": 2428,
       "inventors": [
        "Xing Wang",
        "Xiaohu Yao",
        "Nicolas Letourneau"
       ],
       "label": "Patent",
       "name": "Polynucleotide nanostructures for detecting viral infections and other diseases",
       "status": "pending",
       "tooltip": "Patent\nid:EP4247971A1\napplicants:['Atom Bioworks Inc', 'University of Illinois']\nstatus:pending\nname:Polynucleotide nanostructures for detecting viral infections and other diseases\nfilingDate:2021-11-18\ninventors:['Xing Wang', 'Xiaohu Yao', 'Nicolas Letourneau']\nurl:https://patents.google.com/patent/EP4247971A1",
       "url": "https://patents.google.com/patent/EP4247971A1"
      },
      "grabbable": true,
      "grabbed": false,
      "locked": false,
      "pannable": false,
      "position": {},
      "removed": false,
      "selectable": false,
      "selected": false
     }
    },
    "1a51ad8be4a6493cba192b79a35caac9": {
     "model_module": "jupyter-cytoscape",
     "model_module_version": "^1.3.3",
     "model_name": "NodeModel",
     "state": {
      "_model_module": "jupyter-cytoscape",
      "_model_module_version": "^1.3.3",
      "_model_name": "NodeModel",
      "_view_count": null,
      "_view_module": "jupyter-cytoscape",
      "_view_module_version": "^1.3.3",
      "_view_name": "NodeView",
      "classes": "",
      "data": {
       "firstName": "First name (string)",
       "fullName": "First middle and last name (string)",
       "id": 2736,
       "label": "MetaNode",
       "lastName": "Last name (string)",
       "middleName": "Middle name or middle initial (string)",
       "name": "Name of the researcher (lastname plus initials) (string)",
       "nodeName": "Researcher",
       "orcid": "Unique reseacher identifier from ORICD (https://orcid.org) (string)",
       "profileId": "Unique researcher identifier from NIH Reporter (https://api.reporter.nih.gov/) (string)",
       "tooltip": "MetaNode\nnodeName:Researcher\nfirstName:First name (string)\nlastName:Last name (string)\nprofileId:Unique researcher identifier from NIH Reporter (https://api.reporter.nih.gov/) (string)\nname:Name of the researcher (lastname plus initials) (string)\nfullName:First middle and last name (string)\nmiddleName:Middle name or middle initial (string)\norcid:Unique reseacher identifier from ORICD (https://orcid.org) (string)\nid:Unique researcher identifier (orcid preferred or NIH profile id) (string)"
      },
      "grabbable": true,
      "grabbed": false,
      "locked": false,
      "pannable": false,
      "position": {},
      "removed": false,
      "selectable": false,
      "selected": false
     }
    },
    "1a69849f898248f597d03c9939eb7ac2": {
     "model_module": "jupyter-cytoscape",
     "model_module_version": "^1.3.3",
     "model_name": "NodeModel",
     "state": {
      "_model_module": "jupyter-cytoscape",
      "_model_module_version": "^1.3.3",
      "_model_name": "NodeModel",
      "_view_count": null,
      "_view_module": "jupyter-cytoscape",
      "_view_module_version": "^1.3.3",
      "_view_name": "NodeView",
      "classes": "",
      "data": {
       "firstName": "Woodrow",
       "fullName": "Woodrow D Gardiner",
       "id": 1326,
       "label": "Researcher",
       "lastName": "Gardiner",
       "middleName": "D",
       "name": "Gardiner WD",
       "tooltip": "Researcher\nmiddleName:D\nid:s2authorid:1938742277\nlastName:Gardiner\nname:Gardiner WD\nfullName:Woodrow D Gardiner\nfirstName:Woodrow"
      },
      "grabbable": true,
      "grabbed": false,
      "locked": false,
      "pannable": false,
      "position": {},
      "removed": false,
      "selectable": false,
      "selected": false
     }
    },
    "1b4eac0372cd4cbe81c25f84968c6062": {
     "model_module": "jupyter-cytoscape",
     "model_module_version": "^1.3.3",
     "model_name": "NodeModel",
     "state": {
      "_model_module": "jupyter-cytoscape",
      "_model_module_version": "^1.3.3",
      "_model_name": "NodeModel",
      "_view_count": null,
      "_view_module": "jupyter-cytoscape",
      "_view_module_version": "^1.3.3",
      "_view_name": "NodeView",
      "classes": "",
      "data": {
       "doi": "doi:10.1016/j.bios.2023.115946",
       "id": 2724,
       "journal": "Biosensors & bioelectronics",
       "label": "Publication",
       "name": "Machine learning-driven SERS fingerprinting of disintegrated viral components for rapid detection of SARS-CoV-2 in environmental dust.",
       "pmId": "38141443",
       "tooltip": "Publication\njournal:Biosensors & bioelectronics\nid:doi:10.1016/j.bios.2023.115946\nname:Machine learning-driven SERS fingerprinting of disintegrated viral components for rapid detection of SARS-CoV-2 in environmental dust.\npmId:38141443\nyear:2023\ntype:secondary\nurl:https://doi.org/doi:10.1016/j.bios.2023.115946\ndoi:doi:10.1016/j.bios.2023.115946",
       "type": "secondary",
       "url": "https://doi.org/doi:10.1016/j.bios.2023.115946",
       "year": 2023
      },
      "grabbable": true,
      "grabbed": false,
      "locked": false,
      "pannable": false,
      "position": {},
      "removed": false,
      "selectable": false,
      "selected": false
     }
    },
    "1d5342f4c5da4ad89c3197ee8b5bb517": {
     "model_module": "jupyter-cytoscape",
     "model_module_version": "^1.3.3",
     "model_name": "EdgeModel",
     "state": {
      "_model_module": "jupyter-cytoscape",
      "_model_module_version": "^1.3.3",
      "_model_name": "EdgeModel",
      "_view_count": null,
      "_view_module": "jupyter-cytoscape",
      "_view_module_version": "^1.3.3",
      "_view_name": "EdgeView",
      "classes": " directed  multiple_edges ",
      "data": {
       "name": "PRESENTED",
       "source": 661,
       "target": 4447
      },
      "pannable": true,
      "removed": false,
      "selectable": false,
      "selected": false
     }
    },
    "1e163344ccad4633b2e7b03b9c81ab4d": {
     "model_module": "jupyter-cytoscape",
     "model_module_version": "^1.3.3",
     "model_name": "EdgeModel",
     "state": {
      "_model_module": "jupyter-cytoscape",
      "_model_module_version": "^1.3.3",
      "_model_name": "EdgeModel",
      "_view_count": null,
      "_view_module": "jupyter-cytoscape",
      "_view_module_version": "^1.3.3",
      "_view_name": "EdgeView",
      "classes": " directed  multiple_edges ",
      "data": {
       "from": "Unique identifier for the grant (Thesaurus:C16644) (string)",
       "name": "MetaRelationship",
       "relationshipName": "FUNDED",
       "source": 2745,
       "target": 2741,
       "to": "Unique identifier for the research initiative (string)"
      },
      "pannable": true,
      "removed": false,
      "selectable": false,
      "selected": false
     }
    },
    "1e66f4e036c34121a1073a28a5a76dcc": {
     "model_module": "jupyter-cytoscape",
     "model_module_version": "^1.3.3",
     "model_name": "EdgeModel",
     "state": {
      "_model_module": "jupyter-cytoscape",
      "_model_module_version": "^1.3.3",
      "_model_name": "EdgeModel",
      "_view_count": null,
      "_view_module": "jupyter-cytoscape",
      "_view_module_version": "^1.3.3",
      "_view_name": "EdgeView",
      "classes": " directed  multiple_edges ",
      "data": {
       "name": "AUTHORED",
       "source": 1238,
       "target": 2751
      },
      "pannable": true,
      "removed": false,
      "selectable": false,
      "selected": false
     }
    },
    "201ea2bad05e42c6a35eb48411148037": {
     "model_module": "jupyter-cytoscape",
     "model_module_version": "^1.3.3",
     "model_name": "NodeModel",
     "state": {
      "_model_module": "jupyter-cytoscape",
      "_model_module_version": "^1.3.3",
      "_model_name": "NodeModel",
      "_view_count": null,
      "_view_module": "jupyter-cytoscape",
      "_view_module_version": "^1.3.3",
      "_view_name": "NodeView",
      "classes": "",
      "data": {
       "doi": "doi:10.1016/j.biombioe.2023.107006",
       "id": 3494,
       "journal": "Biomass and Bioenergy",
       "label": "Publication",
       "name": "Electrocatalytic method to quantify the redox reactivity of agricultural byproducts",
       "tooltip": "Publication\njournal:Biomass and Bioenergy\nid:doi:10.1016/j.biombioe.2023.107006\nname:Electrocatalytic method to quantify the redox reactivity of agricultural byproducts\nyear:2024\ntype:secondary\nurl:https://doi.org/doi:10.1016/j.biombioe.2023.107006\ndoi:doi:10.1016/j.biombioe.2023.107006",
       "type": "secondary",
       "url": "https://doi.org/doi:10.1016/j.biombioe.2023.107006",
       "year": 2024
      },
      "grabbable": true,
      "grabbed": false,
      "locked": false,
      "pannable": false,
      "position": {},
      "removed": false,
      "selectable": false,
      "selected": false
     }
    },
    "20e5b30c6db34e23ac90c52399e14780": {
     "model_module": "@jupyter-widgets/base",
     "model_module_version": "1.2.0",
     "model_name": "LayoutModel",
     "state": {
      "_model_module": "@jupyter-widgets/base",
      "_model_module_version": "1.2.0",
      "_model_name": "LayoutModel",
      "_view_count": null,
      "_view_module": "@jupyter-widgets/base",
      "_view_module_version": "1.2.0",
      "_view_name": "LayoutView",
      "align_content": null,
      "align_items": null,
      "align_self": null,
      "border": null,
      "bottom": null,
      "display": null,
      "flex": null,
      "flex_flow": null,
      "grid_area": null,
      "grid_auto_columns": null,
      "grid_auto_flow": null,
      "grid_auto_rows": null,
      "grid_column": null,
      "grid_gap": null,
      "grid_row": null,
      "grid_template_areas": null,
      "grid_template_columns": null,
      "grid_template_rows": null,
      "height": null,
      "justify_content": null,
      "justify_items": null,
      "left": null,
      "margin": null,
      "max_height": null,
      "max_width": null,
      "min_height": null,
      "min_width": null,
      "object_fit": null,
      "object_position": null,
      "order": null,
      "overflow": null,
      "overflow_x": null,
      "overflow_y": null,
      "padding": null,
      "right": null,
      "top": null,
      "visibility": null,
      "width": null
     }
    },
    "23a545cda053401fa4b5ee4f6e05149d": {
     "model_module": "jupyter-cytoscape",
     "model_module_version": "^1.3.3",
     "model_name": "EdgeModel",
     "state": {
      "_model_module": "jupyter-cytoscape",
      "_model_module_version": "^1.3.3",
      "_model_name": "EdgeModel",
      "_view_count": null,
      "_view_module": "jupyter-cytoscape",
      "_view_module_version": "^1.3.3",
      "_view_name": "EdgeView",
      "classes": " directed  multiple_edges ",
      "data": {
       "from": "Unique identifier for the researcher (string)",
       "name": "MetaRelationship",
       "relationshipName": "USED",
       "source": 2736,
       "target": 2737,
       "to": "Unique identifier (CRUIE preferred) for the dataset (string)"
      },
      "pannable": true,
      "removed": false,
      "selectable": false,
      "selected": false
     }
    },
    "23e3c8b2ff6c4cb3976aa1e18f08eb3f": {
     "model_module": "jupyter-cytoscape",
     "model_module_version": "^1.3.3",
     "model_name": "EdgeModel",
     "state": {
      "_model_module": "jupyter-cytoscape",
      "_model_module_version": "^1.3.3",
      "_model_name": "EdgeModel",
      "_view_count": null,
      "_view_module": "jupyter-cytoscape",
      "_view_module_version": "^1.3.3",
      "_view_name": "EdgeView",
      "classes": " directed  multiple_edges ",
      "data": {
       "name": "AUTHORED",
       "source": 941,
       "target": 2752
      },
      "pannable": true,
      "removed": false,
      "selectable": false,
      "selected": false
     }
    },
    "23f364d0a9dd4452adc3e10827926296": {
     "model_module": "jupyter-cytoscape",
     "model_module_version": "^1.3.3",
     "model_name": "NodeModel",
     "state": {
      "_model_module": "jupyter-cytoscape",
      "_model_module_version": "^1.3.3",
      "_model_name": "NodeModel",
      "_view_count": null,
      "_view_module": "jupyter-cytoscape",
      "_view_module_version": "^1.3.3",
      "_view_name": "NodeView",
      "classes": "",
      "data": {
       "id": 4447,
       "label": "Presentation",
       "name": "Detecting aerosolized SARS-CoV-2 in breath",
       "presenters": "John Cirrito",
       "tooltip": "Presentation\nid:526cb764deeea462872ecb79eeaafc58\npresenters:John Cirrito\nname:Detecting aerosolized SARS-CoV-2 in breath"
      },
      "grabbable": true,
      "grabbed": false,
      "locked": false,
      "pannable": false,
      "position": {},
      "removed": false,
      "selectable": false,
      "selected": false
     }
    },
    "24dc972418ab47bcbbcab7b9dc0b59ba": {
     "model_module": "jupyter-cytoscape",
     "model_module_version": "^1.3.3",
     "model_name": "NodeModel",
     "state": {
      "_model_module": "jupyter-cytoscape",
      "_model_module_version": "^1.3.3",
      "_model_name": "NodeModel",
      "_view_count": null,
      "_view_module": "jupyter-cytoscape",
      "_view_module_version": "^1.3.3",
      "_view_name": "NodeView",
      "classes": "",
      "data": {
       "firstName": "Nishit",
       "fullName": "Nishit Shetty",
       "id": 1990,
       "label": "Researcher",
       "lastName": "Shetty",
       "name": "Shetty N",
       "tooltip": "Researcher\nid:s2authorid:34450801\nlastName:Shetty\nname:Shetty N\nfullName:Nishit Shetty\nfirstName:Nishit"
      },
      "grabbable": true,
      "grabbed": false,
      "locked": false,
      "pannable": false,
      "position": {},
      "removed": false,
      "selectable": false,
      "selected": false
     }
    },
    "255c42d992c44403a29a6a420332344f": {
     "model_module": "@jupyter-widgets/controls",
     "model_module_version": "1.5.0",
     "model_name": "DescriptionStyleModel",
     "state": {
      "_model_module": "@jupyter-widgets/controls",
      "_model_module_version": "1.5.0",
      "_model_name": "DescriptionStyleModel",
      "_view_count": null,
      "_view_module": "@jupyter-widgets/base",
      "_view_module_version": "1.2.0",
      "_view_name": "StyleView",
      "description_width": ""
     }
    },
    "259233aafd094b0b988946e36dd4de14": {
     "model_module": "jupyter-cytoscape",
     "model_module_version": "^1.3.3",
     "model_name": "NodeModel",
     "state": {
      "_model_module": "jupyter-cytoscape",
      "_model_module_version": "^1.3.3",
      "_model_name": "NodeModel",
      "_view_count": null,
      "_view_module": "jupyter-cytoscape",
      "_view_module_version": "^1.3.3",
      "_view_name": "NodeView",
      "classes": "",
      "data": {
       "abstract": "Real-time surveillance of airborne SARS-CoV-2 virus is a technological gap that has eluded the scientific community since the beginning of the COVID-19 pandemic. Offline air sampling techniques for SARS-CoV-2 detection suffer from longer turnaround times and require skilled labor. Here, we present a proof-of-concept pathogen Air Quality (pAQ) monitor for real-time (5 min time resolution) direct detection of SARS-CoV-2 aerosols. The system synergistically integrates a high flow (~1000 lpm) wet cyclone air sampler and a nanobody-based ultrasensitive micro-immunoelectrode biosensor. The wet cyclone showed comparable or better virus sampling performance than commercially available samplers. Laboratory experiments demonstrate a device sensitivity of 77-83% and a limit of detection of 7-35 viral RNA copies/m3 of air. Our pAQ monitor is suited for point-of-need surveillance of SARS-CoV-2 variants in indoor environments and can be adapted for multiplexed detection of other respiratory pathogens of interest. Widespread adoption of such technology could assist public health officials with implementing rapid disease control measures.",
       "doi": "doi:10.1038/s41467-023-39419-z",
       "id": 2752,
       "journal": "Nature communications",
       "label": "Publication",
       "name": "Real-time environmental surveillance of SARS-CoV-2 aerosols.",
       "pmId": "37429842",
       "pmcId": "PMC10333287",
       "tooltip": "Publication\njournal:Nature communications\nabstract:Real-time surveillance of airborne SARS-CoV-2 virus is a technological gap that has eluded the scientific community since the beginning of the COVID-19 pandemic. Offline air sampling techniques for SARS-CoV-2 detection suffer from longer turnaround times and require skilled labor. Here, we present a proof-of-concept pathogen Air Quality (pAQ) monitor for real-time (5 min time resolution) direct detection of SARS-CoV-2 aerosols. The system synergistically integrates a high flow (~1000 lpm) wet cyclone air sampler and a nanobody-based ultrasensitive micro-immunoelectrode biosensor. The wet cyclone showed comparable or better virus sampling performance than commercially available samplers. Laboratory experiments demonstrate a device sensitivity of 77-83% and a limit of detection of 7-35 viral RNA copies/m3 of air. Our pAQ monitor is suited for point-of-need surveillance of SARS-CoV-2 variants in indoor environments and can be adapted for multiplexed detection of other respiratory pathogens of interest. Widespread adoption of such technology could assist public health officials with implementing rapid disease control measures.\nid:doi:10.1038/s41467-023-39419-z\nname:Real-time environmental surveillance of SARS-CoV-2 aerosols.\npmId:37429842\nyear:2023\ntype:primary\npmcId:PMC10333287\nurl:https://doi.org/doi:10.1038/s41467-023-39419-z\ndoi:doi:10.1038/s41467-023-39419-z",
       "type": "primary",
       "url": "https://doi.org/doi:10.1038/s41467-023-39419-z",
       "year": 2023
      },
      "grabbable": true,
      "grabbed": false,
      "locked": false,
      "pannable": false,
      "position": {},
      "removed": false,
      "selectable": false,
      "selected": false
     }
    },
    "25a063ff351a4863aaed019fe617bb7f": {
     "model_module": "jupyter-cytoscape",
     "model_module_version": "^1.3.3",
     "model_name": "EdgeModel",
     "state": {
      "_model_module": "jupyter-cytoscape",
      "_model_module_version": "^1.3.3",
      "_model_name": "EdgeModel",
      "_view_count": null,
      "_view_module": "jupyter-cytoscape",
      "_view_module_version": "^1.3.3",
      "_view_name": "EdgeView",
      "classes": " directed  multiple_edges ",
      "data": {
       "name": "AUTHORED",
       "source": 2363,
       "target": 2751
      },
      "pannable": true,
      "removed": false,
      "selectable": false,
      "selected": false
     }
    },
    "25dc8029995b442e8b0adfd3ffef92de": {
     "model_module": "jupyter-cytoscape",
     "model_module_version": "^1.3.3",
     "model_name": "NodeModel",
     "state": {
      "_model_module": "jupyter-cytoscape",
      "_model_module_version": "^1.3.3",
      "_model_name": "NodeModel",
      "_view_count": null,
      "_view_module": "jupyter-cytoscape",
      "_view_module_version": "^1.3.3",
      "_view_name": "NodeView",
      "classes": "",
      "data": {
       "id": 3753,
       "label": "FundingOpportunity",
       "name": "Emergency Awards: Automatic Detection and Tracing of SARS-CoV-2 (U01 Clinical Trial Not Allowed)",
       "tooltip": "FundingOpportunity\nid:RFA-OD-20-014\nname:Emergency Awards: Automatic Detection and Tracing of SARS-CoV-2 (U01 Clinical Trial Not Allowed)\nurl:https://grants.nih.gov/grants/guide/rfa-files/RFA-OD-20-014.html",
       "url": "https://grants.nih.gov/grants/guide/rfa-files/RFA-OD-20-014.html"
      },
      "grabbable": true,
      "grabbed": false,
      "locked": false,
      "pannable": false,
      "position": {},
      "removed": false,
      "selectable": false,
      "selected": false
     }
    },
    "2702fbff8090423e970108ae7641ad9f": {
     "model_module": "jupyter-cytoscape",
     "model_module_version": "^1.3.3",
     "model_name": "EdgeModel",
     "state": {
      "_model_module": "jupyter-cytoscape",
      "_model_module_version": "^1.3.3",
      "_model_name": "EdgeModel",
      "_view_count": null,
      "_view_module": "jupyter-cytoscape",
      "_view_module_version": "^1.3.3",
      "_view_name": "EdgeView",
      "classes": " directed  multiple_edges ",
      "data": {
       "name": "IS_INVENTOR",
       "source": 601,
       "target": 2428
      },
      "pannable": true,
      "removed": false,
      "selectable": false,
      "selected": false
     }
    },
    "2783139ca7a9430cb823e19b1f32a317": {
     "model_module": "jupyter-cytoscape",
     "model_module_version": "^1.3.3",
     "model_name": "EdgeModel",
     "state": {
      "_model_module": "jupyter-cytoscape",
      "_model_module_version": "^1.3.3",
      "_model_name": "EdgeModel",
      "_view_count": null,
      "_view_module": "jupyter-cytoscape",
      "_view_module_version": "^1.3.3",
      "_view_name": "EdgeView",
      "classes": " directed  multiple_edges ",
      "data": {
       "from": "DOI of citing publication (string)",
       "name": "MetaRelationship",
       "relationshipName": "CITES",
       "source": 2739,
       "target": 2739,
       "to": "DOI of cited publication (string)"
      },
      "pannable": true,
      "removed": false,
      "selectable": false,
      "selected": false
     }
    },
    "288402886fdc4f639ec650564df697b8": {
     "model_module": "@jupyter-widgets/base",
     "model_module_version": "1.2.0",
     "model_name": "LayoutModel",
     "state": {
      "_model_module": "@jupyter-widgets/base",
      "_model_module_version": "1.2.0",
      "_model_name": "LayoutModel",
      "_view_count": null,
      "_view_module": "@jupyter-widgets/base",
      "_view_module_version": "1.2.0",
      "_view_name": "LayoutView",
      "align_content": null,
      "align_items": null,
      "align_self": null,
      "border": null,
      "bottom": null,
      "display": null,
      "flex": null,
      "flex_flow": null,
      "grid_area": null,
      "grid_auto_columns": null,
      "grid_auto_flow": null,
      "grid_auto_rows": null,
      "grid_column": null,
      "grid_gap": null,
      "grid_row": null,
      "grid_template_areas": null,
      "grid_template_columns": null,
      "grid_template_rows": null,
      "height": null,
      "justify_content": null,
      "justify_items": null,
      "left": null,
      "margin": null,
      "max_height": null,
      "max_width": null,
      "min_height": null,
      "min_width": null,
      "object_fit": null,
      "object_position": null,
      "order": null,
      "overflow": null,
      "overflow_x": null,
      "overflow_y": null,
      "padding": null,
      "right": null,
      "top": null,
      "visibility": null,
      "width": null
     }
    },
    "28c112847e204b3b86d83fb3a4ba6c04": {
     "model_module": "@jupyter-widgets/base",
     "model_module_version": "1.2.0",
     "model_name": "LayoutModel",
     "state": {
      "_model_module": "@jupyter-widgets/base",
      "_model_module_version": "1.2.0",
      "_model_name": "LayoutModel",
      "_view_count": null,
      "_view_module": "@jupyter-widgets/base",
      "_view_module_version": "1.2.0",
      "_view_name": "LayoutView",
      "align_content": null,
      "align_items": null,
      "align_self": null,
      "border": null,
      "bottom": null,
      "display": null,
      "flex": null,
      "flex_flow": null,
      "grid_area": null,
      "grid_auto_columns": null,
      "grid_auto_flow": null,
      "grid_auto_rows": null,
      "grid_column": null,
      "grid_gap": null,
      "grid_row": null,
      "grid_template_areas": null,
      "grid_template_columns": null,
      "grid_template_rows": null,
      "height": null,
      "justify_content": null,
      "justify_items": null,
      "left": null,
      "margin": null,
      "max_height": null,
      "max_width": null,
      "min_height": null,
      "min_width": null,
      "object_fit": null,
      "object_position": null,
      "order": null,
      "overflow": null,
      "overflow_x": null,
      "overflow_y": null,
      "padding": null,
      "right": null,
      "top": null,
      "visibility": null,
      "width": null
     }
    },
    "28ec5b7a31914cbea0279650b7253e50": {
     "model_module": "jupyter-cytoscape",
     "model_module_version": "^1.3.3",
     "model_name": "NodeModel",
     "state": {
      "_model_module": "jupyter-cytoscape",
      "_model_module_version": "^1.3.3",
      "_model_name": "NodeModel",
      "_view_count": null,
      "_view_module": "jupyter-cytoscape",
      "_view_module_version": "^1.3.3",
      "_view_name": "NodeView",
      "classes": "",
      "data": {
       "abstract": "Transmembrane protease serine 2 (TMPRSS2) is a plasma membrane protease that activates both spike protein of coronaviruses for cell entry and oncogenic signaling pathways for tumor progression. TMPRSS2 inhibition can reduce cancer invasion and metastasis and partially prevent the entry of SARS-CoV-2 into host cells. Thus, there is an urgent need for both TMPRSS2-selective imaging and precise screening of TMPRSS2 inhibitors. Here, we report a TMPRSS2-responsive surface-potential-tunable peptide-conjugated probe (EGTP) with aggregation-induced emission (AIE) features for TMPRSS2 selective imaging and accurate inhibitor screening. The amphiphilic EGTP was constructed with tunable surface potential and responsive efficiency with TMPRSS2 and its inhibitor. The rational construction of AIE luminogens (AIEgens) with modular peptides indicated that the cleavage of EGTP led to a gradual aggregation with bright fluorescence in high TMPRSS2-expressing cells. This strategy may have value for selective detection of cancer cells, SARS-CoV-2-target cells, and screening of protease inhibitors.",
       "doi": "doi:10.1021/acs.analchem.2c04988",
       "id": 2795,
       "journal": "Analytical chemistry",
       "label": "Publication",
       "name": "Protease-Responsive Potential-Tunable AIEgens for Cell Selective Imaging of TMPRSS2 and Accurate Inhibitor Screening.",
       "pmId": "36753444",
       "tooltip": "Publication\njournal:Analytical chemistry\nabstract:Transmembrane protease serine 2 (TMPRSS2) is a plasma membrane protease that activates both spike protein of coronaviruses for cell entry and oncogenic signaling pathways for tumor progression. TMPRSS2 inhibition can reduce cancer invasion and metastasis and partially prevent the entry of SARS-CoV-2 into host cells. Thus, there is an urgent need for both TMPRSS2-selective imaging and precise screening of TMPRSS2 inhibitors. Here, we report a TMPRSS2-responsive surface-potential-tunable peptide-conjugated probe (EGTP) with aggregation-induced emission (AIE) features for TMPRSS2 selective imaging and accurate inhibitor screening. The amphiphilic EGTP was constructed with tunable surface potential and responsive efficiency with TMPRSS2 and its inhibitor. The rational construction of AIE luminogens (AIEgens) with modular peptides indicated that the cleavage of EGTP led to a gradual aggregation with bright fluorescence in high TMPRSS2-expressing cells. This strategy may have value for selective detection of cancer cells, SARS-CoV-2-target cells, and screening of protease inhibitors.\nid:doi:10.1021/acs.analchem.2c04988\nname:Protease-Responsive Potential-Tunable AIEgens for Cell Selective Imaging of TMPRSS2 and Accurate Inhibitor Screening.\npmId:36753444\nyear:2023\ntype:primary\nurl:https://doi.org/doi:10.1021/acs.analchem.2c04988\ndoi:doi:10.1021/acs.analchem.2c04988",
       "type": "primary",
       "url": "https://doi.org/doi:10.1021/acs.analchem.2c04988",
       "year": 2023
      },
      "grabbable": true,
      "grabbed": false,
      "locked": false,
      "pannable": false,
      "position": {},
      "removed": false,
      "selectable": false,
      "selected": false
     }
    },
    "2bcfc6698fc646648621f091595fbcf0": {
     "model_module": "jupyter-cytoscape",
     "model_module_version": "^1.3.3",
     "model_name": "EdgeModel",
     "state": {
      "_model_module": "jupyter-cytoscape",
      "_model_module_version": "^1.3.3",
      "_model_name": "EdgeModel",
      "_view_count": null,
      "_view_module": "jupyter-cytoscape",
      "_view_module_version": "^1.3.3",
      "_view_name": "EdgeView",
      "classes": " directed  multiple_edges ",
      "data": {
       "name": "AUTHORED",
       "source": 1326,
       "target": 2752
      },
      "pannable": true,
      "removed": false,
      "selectable": false,
      "selected": false
     }
    },
    "2ca82142c434473d91b09c05c7dccb90": {
     "model_module": "jupyter-cytoscape",
     "model_module_version": "^1.3.3",
     "model_name": "EdgeModel",
     "state": {
      "_model_module": "jupyter-cytoscape",
      "_model_module_version": "^1.3.3",
      "_model_name": "EdgeModel",
      "_view_count": null,
      "_view_module": "jupyter-cytoscape",
      "_view_module_version": "^1.3.3",
      "_view_name": "EdgeView",
      "classes": " directed  multiple_edges ",
      "data": {
       "from": "Unique identifier for the researcher (string)",
       "lastUpdated": "NIH fiscal year this information was last updated (int)",
       "name": "MetaRelationship",
       "relationshipName": "EMPLOYED_AT",
       "source": 2736,
       "target": 2743,
       "to": "Unique entity identifier: ror id if available, otherwise uei id (string)"
      },
      "pannable": true,
      "removed": false,
      "selectable": false,
      "selected": false
     }
    },
    "2da28d33f2c349a6a8e62eb91cea408b": {
     "model_module": "@jupyter-widgets/controls",
     "model_module_version": "1.5.0",
     "model_name": "FloatProgressModel",
     "state": {
      "_dom_classes": [],
      "_model_module": "@jupyter-widgets/controls",
      "_model_module_version": "1.5.0",
      "_model_name": "FloatProgressModel",
      "_view_count": null,
      "_view_module": "@jupyter-widgets/controls",
      "_view_module_version": "1.5.0",
      "_view_name": "ProgressView",
      "bar_style": "success",
      "description": "",
      "description_tooltip": null,
      "layout": "IPY_MODEL_0b4c4cdfe20b4575a1552cd2ce2db9e0",
      "max": 85,
      "min": 0,
      "orientation": "horizontal",
      "style": "IPY_MODEL_724b29c7bdda4b3a8d15f25b92bdd4df",
      "value": 85
     }
    },
    "2e7c927f75374b528510604701ad9618": {
     "model_module": "jupyter-cytoscape",
     "model_module_version": "^1.3.3",
     "model_name": "EdgeModel",
     "state": {
      "_model_module": "jupyter-cytoscape",
      "_model_module_version": "^1.3.3",
      "_model_name": "EdgeModel",
      "_view_count": null,
      "_view_module": "jupyter-cytoscape",
      "_view_module_version": "^1.3.3",
      "_view_name": "EdgeView",
      "classes": " directed  multiple_edges ",
      "data": {
       "isContactPi": false,
       "isPi": false,
       "isStudyInvestigator": false,
       "name": "IS_INVESTIGATOR_OF",
       "source": 980,
       "target": 593
      },
      "pannable": true,
      "removed": false,
      "selectable": false,
      "selected": false
     }
    },
    "307207e2284c4712a78a62c39a48d64c": {
     "model_module": "jupyter-cytoscape",
     "model_module_version": "^1.3.3",
     "model_name": "NodeModel",
     "state": {
      "_model_module": "jupyter-cytoscape",
      "_model_module_version": "^1.3.3",
      "_model_name": "NodeModel",
      "_view_count": null,
      "_view_module": "jupyter-cytoscape",
      "_view_module_version": "^1.3.3",
      "_view_name": "NodeView",
      "classes": "",
      "data": {
       "doi": "doi:10.1016/j.trac.2024.117520",
       "id": 3824,
       "journal": "TrAC Trends in Analytical Chemistry",
       "label": "Publication",
       "name": "Recent advances in metal-organic frameworks as emerging platforms for immunoassays",
       "tooltip": "Publication\njournal:TrAC Trends in Analytical Chemistry\nid:doi:10.1016/j.trac.2024.117520\nname:Recent advances in metal-organic frameworks as emerging platforms for immunoassays\nyear:2024\ntype:secondary\nurl:https://doi.org/doi:10.1016/j.trac.2024.117520\ndoi:doi:10.1016/j.trac.2024.117520",
       "type": "secondary",
       "url": "https://doi.org/doi:10.1016/j.trac.2024.117520",
       "year": 2024
      },
      "grabbable": true,
      "grabbed": false,
      "locked": false,
      "pannable": false,
      "position": {},
      "removed": false,
      "selectable": false,
      "selected": false
     }
    },
    "32e337f6a39d44d4854b0cc81f0b7cda": {
     "model_module": "jupyter-cytoscape",
     "model_module_version": "^1.3.3",
     "model_name": "GraphModel",
     "state": {
      "_adj": {
       "2424": {},
       "2428": {},
       "553": {},
       "570": {},
       "601": {},
       "673": {}
      },
      "_model_module": "jupyter-cytoscape",
      "_model_module_version": "^1.3.3",
      "_model_name": "GraphModel",
      "_view_count": null,
      "_view_module": "jupyter-cytoscape",
      "_view_module_version": "^1.3.3",
      "_view_name": null,
      "edges": [
       "IPY_MODEL_bc9541017f5b4be9ae4a6e301ab0bbe7",
       "IPY_MODEL_2702fbff8090423e970108ae7641ad9f",
       "IPY_MODEL_077c0007b49d47d0b2a61db0fd051643",
       "IPY_MODEL_667c7abee6894893974525de986ef65f",
       "IPY_MODEL_c19cb74611c54884bf848612cd552633",
       "IPY_MODEL_525f07dd98e341b4966f08b2409a7312"
      ],
      "nodes": [
       "IPY_MODEL_18b04350decc45cd9996423ef1236000",
       "IPY_MODEL_d52f3580cadf400f9d5d93bdc8f985bc",
       "IPY_MODEL_04d566557ac740dd9aea8729a2a6eefd",
       "IPY_MODEL_f3f3b11b35194588bb53aaa93ad02962",
       "IPY_MODEL_e98994a9e26c495080b2fe3145da576d",
       "IPY_MODEL_47509c3a20884c3bb0f1227e9dad3b25"
      ]
     }
    },
    "338469585610413caf2a5507d7700ea2": {
     "model_module": "jupyter-cytoscape",
     "model_module_version": "^1.3.3",
     "model_name": "CytoscapeModel",
     "state": {
      "_dom_classes": [],
      "_interaction_handlers": {},
      "_model_module": "jupyter-cytoscape",
      "_model_module_version": "^1.3.3",
      "_model_name": "CytoscapeModel",
      "_view_count": null,
      "_view_module": "jupyter-cytoscape",
      "_view_module_version": "^1.3.3",
      "_view_name": "CytoscapeView",
      "auto_ungrabify": false,
      "auto_unselectify": true,
      "autolock": false,
      "box_selection_enabled": false,
      "cytoscape_layout": {
       "name": "cola",
       "nodeDimensionsIncludeLabels": true,
       "nodeSpacing": 40,
       "padding": 0,
       "unconstrIter": 5000
      },
      "cytoscape_style": [
       {
        "selector": "node",
        "style": {
         "background-color": "#A5ABB6",
         "border-color": "#9AA1AC",
         "border-width": "2px",
         "font-size": "10px",
         "height": "50px",
         "label": "data(name)",
         "text-max-width": "50px",
         "text-valign": "center",
         "text-wrap": "wrap",
         "width": "50px"
        }
       },
       {
        "selector": "edge",
        "style": {
         "curve-style": "bezier",
         "font-size": "8px",
         "label": "data(name)",
         "line-color": "#A5ABB6",
         "target-arrow-color": "#A5ABB6",
         "target-arrow-shape": "triangle",
         "text-rotation": "autorotate",
         "width": "1px"
        }
       },
       {
        "selector": "node[label=\"*\"]",
        "style": {
         "background-color": "#C990C0",
         "border-color": "#b261a5",
         "border-width": "2px",
         "font-size": "10px",
         "height": "50px",
         "label": "data(name)",
         "text-max-width": "50px",
         "text-valign": "center",
         "text-wrap": "wrap",
         "width": "50px"
        }
       },
       {
        "selector": "node[label=\"City\"]",
        "style": {
         "background-color": "#F79767",
         "border-color": "#f36924",
         "border-width": "2px",
         "font-size": "10px",
         "height": "65px",
         "label": "data(name)",
         "text-max-width": "65px",
         "text-valign": "center",
         "text-wrap": "wrap",
         "width": "65px"
        }
       },
       {
        "selector": "node[label=\"Disease\"]",
        "style": {
         "background-color": "#569480",
         "border-color": "#447666",
         "border-width": "2px",
         "font-size": "10px",
         "height": "80px",
         "label": "data(name)",
         "text-max-width": "80px",
         "text-valign": "center",
         "text-wrap": "wrap",
         "width": "80px"
        }
       },
       {
        "selector": "node[label=\"Symptom\"]",
        "style": {
         "background-color": "#8DCC93",
         "border-color": "#5db665",
         "border-width": "2px",
         "font-size": "10px",
         "height": "50px",
         "label": "data(name)",
         "text-max-width": "50px",
         "text-valign": "center",
         "text-wrap": "wrap",
         "width": "50px"
        }
       },
       {
        "selector": "node[label=\"Patient\"]",
        "style": {
         "background-color": "#4C8EDA",
         "border-color": "#2870c2",
         "border-width": "2px",
         "font-size": "10px",
         "height": "50px",
         "label": "data(firstName)",
         "text-max-width": "50px",
         "text-valign": "center",
         "text-wrap": "wrap",
         "width": "50px"
        }
       },
       {
        "selector": "node[label=\"State\"]",
        "style": {
         "background-color": "#FFC454",
         "border-color": "#d7a013",
         "border-width": "2px",
         "font-size": "10px",
         "height": "50px",
         "label": "data(name)",
         "text-max-width": "50px",
         "text-valign": "center",
         "text-wrap": "wrap",
         "width": "50px"
        }
       },
       {
        "selector": "node[label=\"MetaNode\"]",
        "style": {
         "background-color": "#D9C8AE",
         "border-color": "#c0a378",
         "border-width": "2px",
         "font-size": "10px",
         "height": "80px",
         "label": "data(name)",
         "text-max-width": "80px",
         "text-valign": "center",
         "text-wrap": "wrap",
         "width": "80px"
        }
       },
       {
        "selector": "edge[name=\"MetaRelationship\"]",
        "style": {
         "curve-style": "bezier",
         "font-size": "8px",
         "label": "data(name)",
         "line-color": "#A5ABB6",
         "target-arrow-color": "#A5ABB6",
         "target-arrow-shape": "triangle",
         "text-rotation": "autorotate",
         "width": "1px"
        }
       },
       {
        "selector": "node[label=\"Grant\"]",
        "style": {
         "background-color": "#4C8EDA",
         "border-color": "#2870c2",
         "border-width": "2px",
         "font-size": "10px",
         "height": "80px",
         "label": "data(name)",
         "text-max-width": "80px",
         "text-valign": "center",
         "text-wrap": "wrap",
         "width": "80px"
        }
       },
       {
        "selector": "node[label=\"Researcher\"]",
        "style": {
         "background-color": "#FFC454",
         "border-color": "#d7a013",
         "border-width": "2px",
         "font-size": "10px",
         "height": "80px",
         "label": "data(name)",
         "text-max-width": "80px",
         "text-valign": "center",
         "text-wrap": "wrap",
         "width": "80px"
        }
       },
       {
        "selector": "node[label=\"FundingOpportunity\"]",
        "style": {
         "background-color": "#DA7194",
         "border-color": "#cc3c6c",
         "border-width": "2px",
         "font-size": "10px",
         "height": "80px",
         "label": "data(name)",
         "text-max-width": "80px",
         "text-valign": "center",
         "text-wrap": "wrap",
         "width": "80px"
        }
       },
       {
        "selector": "node[label=\"Organization\"]",
        "style": {
         "background-color": "#569480",
         "border-color": "#447666",
         "border-width": "2px",
         "font-size": "10px",
         "height": "80px",
         "label": "data(name)",
         "text-max-width": "80px",
         "text-valign": "center",
         "text-wrap": "wrap",
         "width": "80px"
        }
       },
       {
        "selector": "node[label=\"Dataset\"]",
        "style": {
         "background-color": "#F79767",
         "border-color": "#f36924",
         "border-width": "2px",
         "font-size": "10px",
         "height": "80px",
         "label": "data(name)",
         "text-max-width": "80px",
         "text-valign": "center",
         "text-wrap": "wrap",
         "width": "80px"
        }
       },
       {
        "selector": "node[label=\"CoordinationCenter\"]",
        "style": {
         "background-color": "#57C7E3",
         "border-color": "#23b3d7",
         "border-width": "2px",
         "font-size": "10px",
         "height": "80px",
         "label": "data(name)",
         "text-max-width": "80px",
         "text-valign": "center",
         "text-wrap": "wrap",
         "width": "80px"
        }
       },
       {
        "selector": "node[label=\"Event\"]",
        "style": {
         "background-color": "#8DCC93",
         "border-color": "#5db665",
         "border-width": "2px",
         "font-size": "10px",
         "height": "80px",
         "label": "data(name)",
         "text-max-width": "80px",
         "text-valign": "center",
         "text-wrap": "wrap",
         "width": "80px"
        }
       },
       {
        "selector": "node[label=\"Publication\"]",
        "style": {
         "background-color": "#AA7942",
         "border-color": "#8D6429",
         "border-width": "2px",
         "font-size": "10px",
         "height": "80px",
         "label": "data(name)",
         "text-max-width": "80px",
         "text-valign": "center",
         "text-wrap": "wrap",
         "width": "80px"
        }
       },
       {
        "selector": "node[label=\"Patent\"]",
        "style": {
         "background-color": "#C990C0",
         "border-color": "#b261a5",
         "border-width": "2px",
         "font-size": "10px",
         "height": "80px",
         "label": "data(name)",
         "text-max-width": "80px",
         "text-valign": "center",
         "text-wrap": "wrap",
         "width": "80px"
        }
       },
       {
        "selector": "node[label=\"Presentation\"]",
        "style": {
         "background-color": "#F16667",
         "border-color": "#eb2728",
         "border-width": "2px",
         "font-size": "10px",
         "height": "80px",
         "label": "data(name)",
         "text-max-width": "80px",
         "text-valign": "center",
         "text-wrap": "wrap",
         "width": "80px"
        }
       },
       {
        "selector": "node[label=\"Software\"]",
        "style": {
         "background-color": "#ECB5C9",
         "border-color": "#da7298",
         "border-width": "2px",
         "font-size": "10px",
         "height": "80px",
         "label": "data(name)",
         "text-max-width": "80px",
         "text-valign": "center",
         "text-wrap": "wrap",
         "width": "80px"
        }
       },
       {
        "selector": "node[label=\"ResearchInitiative\"]",
        "style": {
         "background-color": "#57C7E3",
         "border-color": "#23b3d7",
         "border-width": "2px",
         "font-size": "10px",
         "height": "80px",
         "label": "data(name)",
         "text-max-width": "80px",
         "text-valign": "center",
         "text-wrap": "wrap",
         "width": "80px"
        }
       }
      ],
      "desktop_tap_threshold": 4,
      "graph": "IPY_MODEL_ea829fc26a714dd7b3273730b4032894",
      "headless": false,
      "hide_edges_on_viewport": false,
      "layout": "IPY_MODEL_09bdbcee9fe449559819ce670944b67b",
      "max_zoom": 1e+50,
      "min_zoom": 1e-50,
      "motion_blur": false,
      "motion_blur_opacity": 0.2,
      "panning_enabled": true,
      "pixel_ratio": "auto",
      "rendered_position": {
       "renderedPosition": {
        "x": 100,
        "y": 100
       }
      },
      "selection_type": "single",
      "style_enabled": true,
      "texture_on_viewport": false,
      "tooltip_source": "tooltip",
      "touch_tap_threshold": 8,
      "user_panning_enabled": true,
      "user_zooming_enabled": true,
      "wheel_sensitivity": 1,
      "zoom": 2,
      "zooming_enabled": true
     }
    },
    "34f470ec720c4792bf174720669e47a9": {
     "model_module": "jupyter-cytoscape",
     "model_module_version": "^1.3.3",
     "model_name": "EdgeModel",
     "state": {
      "_model_module": "jupyter-cytoscape",
      "_model_module_version": "^1.3.3",
      "_model_name": "EdgeModel",
      "_view_count": null,
      "_view_module": "jupyter-cytoscape",
      "_view_module_version": "^1.3.3",
      "_view_name": "EdgeView",
      "classes": " directed  multiple_edges ",
      "data": {
       "name": "AUTHORED",
       "source": 331,
       "target": 2752
      },
      "pannable": true,
      "removed": false,
      "selectable": false,
      "selected": false
     }
    },
    "351b1bcfee3a41fa8ea5d24a3d7fea15": {
     "model_module": "jupyter-cytoscape",
     "model_module_version": "^1.3.3",
     "model_name": "EdgeModel",
     "state": {
      "_model_module": "jupyter-cytoscape",
      "_model_module_version": "^1.3.3",
      "_model_name": "EdgeModel",
      "_view_count": null,
      "_view_module": "jupyter-cytoscape",
      "_view_module_version": "^1.3.3",
      "_view_name": "EdgeView",
      "classes": " directed  multiple_edges ",
      "data": {
       "name": "AUTHORED",
       "source": 980,
       "target": 2795
      },
      "pannable": true,
      "removed": false,
      "selectable": false,
      "selected": false
     }
    },
    "3809f4659df64f89b7c95856403a0335": {
     "model_module": "jupyter-cytoscape",
     "model_module_version": "^1.3.3",
     "model_name": "NodeModel",
     "state": {
      "_model_module": "jupyter-cytoscape",
      "_model_module_version": "^1.3.3",
      "_model_name": "NodeModel",
      "_view_count": null,
      "_view_module": "jupyter-cytoscape",
      "_view_module_version": "^1.3.3",
      "_view_name": "NodeView",
      "classes": "",
      "data": {
       "city": "City of the organization (string)",
       "country": "Country of the organization (string)",
       "duns": "Data Universal Numbering System (DUNS) by Dun & Bradstreet (string)",
       "geonames": "Unique identifier for geolocation from https://www.geonames.org/ (string)",
       "id": 2743,
       "label": "MetaNode",
       "name": "Name of the organization (string)",
       "nodeName": "Organization",
       "ror": "Research Organization Registry id of the organization from https://ror.org/ (string)",
       "state": "State of the organization (string)",
       "tooltip": "MetaNode\nid:Unique entity identifier: ror id if available, otherwise uei id (string)\nror:Research Organization Registry id of the organization from https://ror.org/ (string)\nname:Name of the organization (string)\nnodeName:Organization\nduns:Data Universal Numbering System (DUNS) by Dun & Bradstreet (string)\nstate:State of the organization (string)\ngeonames:Unique identifier for geolocation from https://www.geonames.org/ (string)\nuei:US government-owned Unique Entity Identifier (UEI) for the organization (https://grants.nih.gov/grants/guide/notice-files/NOT-OD-21-170.html) (string)\nurl:Research Organization Registry landing page of the organization (string)\ncountry:Country of the organization (string)\ncity:City of the organization (string)",
       "uei": "US government-owned Unique Entity Identifier (UEI) for the organization (https://grants.nih.gov/grants/guide/notice-files/NOT-OD-21-170.html) (string)",
       "url": "Research Organization Registry landing page of the organization (string)"
      },
      "grabbable": true,
      "grabbed": false,
      "locked": false,
      "pannable": false,
      "position": {},
      "removed": false,
      "selectable": false,
      "selected": false
     }
    },
    "387320691f7c430e8976ac6885f4f070": {
     "model_module": "@jupyter-widgets/controls",
     "model_module_version": "1.5.0",
     "model_name": "DescriptionStyleModel",
     "state": {
      "_model_module": "@jupyter-widgets/controls",
      "_model_module_version": "1.5.0",
      "_model_name": "DescriptionStyleModel",
      "_view_count": null,
      "_view_module": "@jupyter-widgets/base",
      "_view_module_version": "1.2.0",
      "_view_name": "StyleView",
      "description_width": ""
     }
    },
    "39b57aa12330420ebe304fb99ea1d997": {
     "model_module": "jupyter-cytoscape",
     "model_module_version": "^1.3.3",
     "model_name": "NodeModel",
     "state": {
      "_model_module": "jupyter-cytoscape",
      "_model_module_version": "^1.3.3",
      "_model_name": "NodeModel",
      "_view_count": null,
      "_view_module": "jupyter-cytoscape",
      "_view_module_version": "^1.3.3",
      "_view_name": "NodeView",
      "classes": "",
      "data": {
       "id": 1633,
       "label": "Dataset",
       "name": " Nanobody-based Electrochemical Biosensor for Real-Time Detection of Aerosolized SARS-CoV2",
       "tooltip": "Dataset\nid:dbgap:phs002700.v1.p1\nname: Nanobody-based Electrochemical Biosensor for Real-Time Detection of Aerosolized SARS-CoV2\nurl:https://www.ncbi.nlm.nih.gov/projects/gap/cgi-bin/study.cgi?study_id=phs002700.v1.p1",
       "url": "https://www.ncbi.nlm.nih.gov/projects/gap/cgi-bin/study.cgi?study_id=phs002700.v1.p1"
      },
      "grabbable": true,
      "grabbed": false,
      "locked": false,
      "pannable": false,
      "position": {},
      "removed": false,
      "selectable": false,
      "selected": false
     }
    },
    "39ec7e0d6ca34e1188ed390df58c497a": {
     "model_module": "jupyter-cytoscape",
     "model_module_version": "^1.3.3",
     "model_name": "EdgeModel",
     "state": {
      "_model_module": "jupyter-cytoscape",
      "_model_module_version": "^1.3.3",
      "_model_name": "EdgeModel",
      "_view_count": null,
      "_view_module": "jupyter-cytoscape",
      "_view_module_version": "^1.3.3",
      "_view_name": "EdgeView",
      "classes": " directed  multiple_edges ",
      "data": {
       "name": "CITES",
       "source": 2961,
       "target": 2752
      },
      "pannable": true,
      "removed": false,
      "selectable": false,
      "selected": false
     }
    },
    "3b5d0e7b5e12434888af4b6543beb370": {
     "model_module": "jupyter-cytoscape",
     "model_module_version": "^1.3.3",
     "model_name": "EdgeModel",
     "state": {
      "_model_module": "jupyter-cytoscape",
      "_model_module_version": "^1.3.3",
      "_model_name": "EdgeModel",
      "_view_count": null,
      "_view_module": "jupyter-cytoscape",
      "_view_module_version": "^1.3.3",
      "_view_name": "EdgeView",
      "classes": " directed  multiple_edges ",
      "data": {
       "name": "IS_INVENTOR",
       "source": 1990,
       "target": 2425
      },
      "pannable": true,
      "removed": false,
      "selectable": false,
      "selected": false
     }
    },
    "3dea169b0a094c59966f0ed476f80d12": {
     "model_module": "jupyter-cytoscape",
     "model_module_version": "^1.3.3",
     "model_name": "EdgeModel",
     "state": {
      "_model_module": "jupyter-cytoscape",
      "_model_module_version": "^1.3.3",
      "_model_name": "EdgeModel",
      "_view_count": null,
      "_view_module": "jupyter-cytoscape",
      "_view_module_version": "^1.3.3",
      "_view_name": "EdgeView",
      "classes": " directed  multiple_edges ",
      "data": {
       "name": "AUTHORED",
       "source": 1178,
       "target": 2752
      },
      "pannable": true,
      "removed": false,
      "selectable": false,
      "selected": false
     }
    },
    "3e339af09fb24d8e8705efd573915527": {
     "model_module": "jupyter-cytoscape",
     "model_module_version": "^1.3.3",
     "model_name": "NodeModel",
     "state": {
      "_model_module": "jupyter-cytoscape",
      "_model_module_version": "^1.3.3",
      "_model_name": "NodeModel",
      "_view_count": null,
      "_view_module": "jupyter-cytoscape",
      "_view_module_version": "^1.3.3",
      "_view_name": "NodeView",
      "classes": "",
      "data": {
       "firstName": "John",
       "fullName": "John R Cirrito",
       "id": 661,
       "label": "Researcher",
       "lastName": "Cirrito",
       "middleName": "R",
       "name": "Cirrito JR",
       "orcid": "orcid:0000-0002-7196-8786",
       "profileId": "profileid:8553912",
       "tooltip": "Researcher\nfirstName:John\nlastName:Cirrito\nprofileId:profileid:8553912\nname:Cirrito JR\nfullName:John R Cirrito\nmiddleName:R\norcid:orcid:0000-0002-7196-8786\nid:profileid:8553912"
      },
      "grabbable": true,
      "grabbed": false,
      "locked": false,
      "pannable": false,
      "position": {},
      "removed": false,
      "selectable": false,
      "selected": false
     }
    },
    "3e6fd8dc0a6544d8be19489ffa76d781": {
     "model_module": "jupyter-cytoscape",
     "model_module_version": "^1.3.3",
     "model_name": "NodeModel",
     "state": {
      "_model_module": "jupyter-cytoscape",
      "_model_module_version": "^1.3.3",
      "_model_name": "NodeModel",
      "_view_count": null,
      "_view_module": "jupyter-cytoscape",
      "_view_module_version": "^1.3.3",
      "_view_name": "NodeView",
      "classes": "",
      "data": {
       "abstract": "Immediate Past Chair, A&WMA Critical Review Committee, Retired from Bay Area Air Quality Management District, San Francisco, CA, USA; McGill University, Montreal, Quebec, Canada; RJ Lee Group, Monroeville, PA, USA; Division of Atmospheric Sciences, Desert Research Institute, Reno, NV, USA; Department of Environmental and Global Health of the College of Public Health and Health Professions, University of Florida, Gainesville, FL, USA",
       "doi": "doi:10.1080/10962247.2023.2253709",
       "id": 2961,
       "journal": "Journal of the Air & Waste Management Association",
       "label": "Publication",
       "name": "Environmental sampling for disease surveillance: Recent advances and recommendations for best practice",
       "pmId": "37729106",
       "tooltip": "Publication\njournal:Journal of the Air & Waste Management Association\nabstract:Immediate Past Chair, A&WMA Critical Review Committee, Retired from Bay Area Air Quality Management District, San Francisco, CA, USA; McGill University, Montreal, Quebec, Canada; RJ Lee Group, Monroeville, PA, USA; Division of Atmospheric Sciences, Desert Research Institute, Reno, NV, USA; Department of Environmental and Global Health of the College of Public Health and Health Professions, University of Florida, Gainesville, FL, USA\nid:doi:10.1080/10962247.2023.2253709\nname:Environmental sampling for disease surveillance: Recent advances and recommendations for best practice\npmId:37729106\nyear:2023\ntype:secondary\nurl:https://doi.org/doi:10.1080/10962247.2023.2253709\ndoi:doi:10.1080/10962247.2023.2253709",
       "type": "secondary",
       "url": "https://doi.org/doi:10.1080/10962247.2023.2253709",
       "year": 2023
      },
      "grabbable": true,
      "grabbed": false,
      "locked": false,
      "pannable": false,
      "position": {},
      "removed": false,
      "selectable": false,
      "selected": false
     }
    },
    "444342a7143846bea6e85a9f0614d01c": {
     "model_module": "@jupyter-widgets/base",
     "model_module_version": "1.2.0",
     "model_name": "LayoutModel",
     "state": {
      "_model_module": "@jupyter-widgets/base",
      "_model_module_version": "1.2.0",
      "_model_name": "LayoutModel",
      "_view_count": null,
      "_view_module": "@jupyter-widgets/base",
      "_view_module_version": "1.2.0",
      "_view_name": "LayoutView",
      "align_content": null,
      "align_items": null,
      "align_self": null,
      "border": null,
      "bottom": null,
      "display": null,
      "flex": null,
      "flex_flow": null,
      "grid_area": null,
      "grid_auto_columns": null,
      "grid_auto_flow": null,
      "grid_auto_rows": null,
      "grid_column": null,
      "grid_gap": null,
      "grid_row": null,
      "grid_template_areas": null,
      "grid_template_columns": null,
      "grid_template_rows": null,
      "height": null,
      "justify_content": null,
      "justify_items": null,
      "left": null,
      "margin": null,
      "max_height": null,
      "max_width": null,
      "min_height": null,
      "min_width": null,
      "object_fit": null,
      "object_position": null,
      "order": null,
      "overflow": null,
      "overflow_x": null,
      "overflow_y": null,
      "padding": null,
      "right": null,
      "top": null,
      "visibility": null,
      "width": null
     }
    },
    "4496430c65a34e65b166ae594b3967c5": {
     "model_module": "jupyter-cytoscape",
     "model_module_version": "^1.3.3",
     "model_name": "EdgeModel",
     "state": {
      "_model_module": "jupyter-cytoscape",
      "_model_module_version": "^1.3.3",
      "_model_name": "EdgeModel",
      "_view_count": null,
      "_view_module": "jupyter-cytoscape",
      "_view_module_version": "^1.3.3",
      "_view_name": "EdgeView",
      "classes": " directed  multiple_edges ",
      "data": {
       "name": "CITES",
       "source": 2724,
       "target": 2752
      },
      "pannable": true,
      "removed": false,
      "selectable": false,
      "selected": false
     }
    },
    "47509c3a20884c3bb0f1227e9dad3b25": {
     "model_module": "jupyter-cytoscape",
     "model_module_version": "^1.3.3",
     "model_name": "NodeModel",
     "state": {
      "_model_module": "jupyter-cytoscape",
      "_model_module_version": "^1.3.3",
      "_model_name": "NodeModel",
      "_view_count": null,
      "_view_module": "jupyter-cytoscape",
      "_view_module_version": "^1.3.3",
      "_view_name": "NodeView",
      "classes": "",
      "data": {
       "firstName": "Xing",
       "fullName": "Xing Wang",
       "id": 673,
       "label": "Researcher",
       "lastName": "Wang",
       "name": "Wang X",
       "orcid": "orcid:0000-0001-9930-3287",
       "profileId": "profileid:12225947",
       "tooltip": "Researcher\nid:profileid:12225947\nlastName:Wang\norcid:orcid:0000-0001-9930-3287\nprofileId:profileid:12225947\nname:Wang X\nfullName:Xing Wang\nfirstName:Xing"
      },
      "grabbable": true,
      "grabbed": false,
      "locked": false,
      "pannable": false,
      "position": {},
      "removed": false,
      "selectable": false,
      "selected": false
     }
    },
    "4903779176fb4b5497e3d7243d15b72c": {
     "model_module": "jupyter-cytoscape",
     "model_module_version": "^1.3.3",
     "model_name": "EdgeModel",
     "state": {
      "_model_module": "jupyter-cytoscape",
      "_model_module_version": "^1.3.3",
      "_model_name": "EdgeModel",
      "_view_count": null,
      "_view_module": "jupyter-cytoscape",
      "_view_module_version": "^1.3.3",
      "_view_name": "EdgeView",
      "classes": " directed  multiple_edges ",
      "data": {
       "name": "CITES",
       "source": 3863,
       "target": 2752
      },
      "pannable": true,
      "removed": false,
      "selectable": false,
      "selected": false
     }
    },
    "49cfd1179d514242bc9222a73cef6c84": {
     "model_module": "@jupyter-widgets/controls",
     "model_module_version": "1.5.0",
     "model_name": "HTMLModel",
     "state": {
      "_dom_classes": [],
      "_model_module": "@jupyter-widgets/controls",
      "_model_module_version": "1.5.0",
      "_model_name": "HTMLModel",
      "_view_count": null,
      "_view_module": "@jupyter-widgets/controls",
      "_view_module_version": "1.5.0",
      "_view_name": "HTMLView",
      "description": "",
      "description_tooltip": null,
      "layout": "IPY_MODEL_288402886fdc4f639ec650564df697b8",
      "placeholder": "​",
      "style": "IPY_MODEL_387320691f7c430e8976ac6885f4f070",
      "value": "Executing: 100%"
     }
    },
    "4b31d516bf8b413a9ddd83096bc15824": {
     "model_module": "jupyter-cytoscape",
     "model_module_version": "^1.3.3",
     "model_name": "NodeModel",
     "state": {
      "_model_module": "jupyter-cytoscape",
      "_model_module_version": "^1.3.3",
      "_model_name": "NodeModel",
      "_view_count": null,
      "_view_module": "jupyter-cytoscape",
      "_view_module_version": "^1.3.3",
      "_view_name": "NodeView",
      "classes": "",
      "data": {
       "firstName": "Thomas",
       "fullName": "Thomas J Esparza",
       "id": 1238,
       "label": "Researcher",
       "lastName": "Esparza",
       "middleName": "J",
       "name": "Esparza TJ",
       "tooltip": "Researcher\nmiddleName:J\nid:s2authorid:4231565\nlastName:Esparza\nname:Esparza TJ\nfullName:Thomas J Esparza\nfirstName:Thomas"
      },
      "grabbable": true,
      "grabbed": false,
      "locked": false,
      "pannable": false,
      "position": {},
      "removed": false,
      "selectable": false,
      "selected": false
     }
    },
    "4b58d3862d574edd9caac66cca2a690c": {
     "model_module": "jupyter-cytoscape",
     "model_module_version": "^1.3.3",
     "model_name": "EdgeModel",
     "state": {
      "_model_module": "jupyter-cytoscape",
      "_model_module_version": "^1.3.3",
      "_model_name": "EdgeModel",
      "_view_count": null,
      "_view_module": "jupyter-cytoscape",
      "_view_module_version": "^1.3.3",
      "_view_name": "EdgeView",
      "classes": " directed  multiple_edges ",
      "data": {
       "name": "AUTHORED",
       "source": 1990,
       "target": 2752
      },
      "pannable": true,
      "removed": false,
      "selectable": false,
      "selected": false
     }
    },
    "4b88d480c2d343598a8fdc5638d23e9f": {
     "model_module": "jupyter-cytoscape",
     "model_module_version": "^1.3.3",
     "model_name": "EdgeModel",
     "state": {
      "_model_module": "jupyter-cytoscape",
      "_model_module_version": "^1.3.3",
      "_model_name": "EdgeModel",
      "_view_count": null,
      "_view_module": "jupyter-cytoscape",
      "_view_module_version": "^1.3.3",
      "_view_name": "EdgeView",
      "classes": " directed  multiple_edges ",
      "data": {
       "name": "AUTHORED",
       "source": 1339,
       "target": 2751
      },
      "pannable": true,
      "removed": false,
      "selectable": false,
      "selected": false
     }
    },
    "4b8af9b1ebfc4077b0c42c604230f59b": {
     "model_module": "jupyter-cytoscape",
     "model_module_version": "^1.3.3",
     "model_name": "NodeModel",
     "state": {
      "_model_module": "jupyter-cytoscape",
      "_model_module_version": "^1.3.3",
      "_model_name": "NodeModel",
      "_view_count": null,
      "_view_module": "jupyter-cytoscape",
      "_view_module_version": "^1.3.3",
      "_view_name": "NodeView",
      "classes": "",
      "data": {
       "firstName": "A",
       "fullName": "A Clark",
       "id": 1075,
       "label": "Researcher",
       "lastName": "Clark",
       "name": "Clark A",
       "tooltip": "Researcher\nid:s2authorid:2168471616\nlastName:Clark\nname:Clark A\nfullName:A Clark\nfirstName:A"
      },
      "grabbable": true,
      "grabbed": false,
      "locked": false,
      "pannable": false,
      "position": {},
      "removed": false,
      "selectable": false,
      "selected": false
     }
    },
    "4d8e8e92789d417cb44f0182a92255e6": {
     "model_module": "jupyter-cytoscape",
     "model_module_version": "^1.3.3",
     "model_name": "EdgeModel",
     "state": {
      "_model_module": "jupyter-cytoscape",
      "_model_module_version": "^1.3.3",
      "_model_name": "EdgeModel",
      "_view_count": null,
      "_view_module": "jupyter-cytoscape",
      "_view_module_version": "^1.3.3",
      "_view_name": "EdgeView",
      "classes": " directed  multiple_edges ",
      "data": {
       "isContactPi": true,
       "isPi": true,
       "isStudyInvestigator": true,
       "name": "IS_INVESTIGATOR_OF",
       "source": 661,
       "target": 582
      },
      "pannable": true,
      "removed": false,
      "selectable": false,
      "selected": false
     }
    },
    "4e01ee5b39214de089eb553b26265191": {
     "model_module": "jupyter-cytoscape",
     "model_module_version": "^1.3.3",
     "model_name": "NodeModel",
     "state": {
      "_model_module": "jupyter-cytoscape",
      "_model_module_version": "^1.3.3",
      "_model_name": "NodeModel",
      "_view_count": null,
      "_view_module": "jupyter-cytoscape",
      "_view_module_version": "^1.3.3",
      "_view_name": "NodeView",
      "classes": "",
      "data": {
       "firstName": "A",
       "fullName": "A Carlin",
       "id": 980,
       "label": "Researcher",
       "lastName": "Carlin",
       "name": "Carlin A",
       "tooltip": "Researcher\nid:s2authorid:4193340\nlastName:Carlin\nname:Carlin A\nfullName:A Carlin\nfirstName:A"
      },
      "grabbable": true,
      "grabbed": false,
      "locked": false,
      "pannable": false,
      "position": {},
      "removed": false,
      "selectable": false,
      "selected": false
     }
    },
    "4e186b0cc2454657aefe01ef484147e4": {
     "model_module": "jupyter-cytoscape",
     "model_module_version": "^1.3.3",
     "model_name": "EdgeModel",
     "state": {
      "_model_module": "jupyter-cytoscape",
      "_model_module_version": "^1.3.3",
      "_model_name": "EdgeModel",
      "_view_count": null,
      "_view_module": "jupyter-cytoscape",
      "_view_module_version": "^1.3.3",
      "_view_name": "EdgeView",
      "classes": " directed  multiple_edges ",
      "data": {
       "name": "AUTHORED",
       "source": 1075,
       "target": 2805
      },
      "pannable": true,
      "removed": false,
      "selectable": false,
      "selected": false
     }
    },
    "4fbe225699874bc3a0d85d5c46b52bd2": {
     "model_module": "jupyter-cytoscape",
     "model_module_version": "^1.3.3",
     "model_name": "EdgeModel",
     "state": {
      "_model_module": "jupyter-cytoscape",
      "_model_module_version": "^1.3.3",
      "_model_name": "EdgeModel",
      "_view_count": null,
      "_view_module": "jupyter-cytoscape",
      "_view_module_version": "^1.3.3",
      "_view_name": "EdgeView",
      "classes": " directed  multiple_edges ",
      "data": {
       "name": "SUPPORTED",
       "source": 0,
       "target": 582
      },
      "pannable": true,
      "removed": false,
      "selectable": false,
      "selected": false
     }
    },
    "5087ee730c1a4fa7b6bb6ee08c4a184b": {
     "model_module": "jupyter-cytoscape",
     "model_module_version": "^1.3.3",
     "model_name": "NodeModel",
     "state": {
      "_model_module": "jupyter-cytoscape",
      "_model_module_version": "^1.3.3",
      "_model_name": "NodeModel",
      "_view_count": null,
      "_view_module": "jupyter-cytoscape",
      "_view_module_version": "^1.3.3",
      "_view_name": "NodeView",
      "classes": "",
      "data": {
       "abstract": "Existing tools to detect and visualize severe acute respiratory syndrome coronavirus 2 (SARS-CoV-2) suffer from low selectivity, poor cell permeability, and high cytotoxicity. Here we report a novel self-immolative fluorescent probe (MP590) for the highly selective and sensitive detection of the SARS-CoV-2 main protease (Mpro). This fluorescent probe was prepared by connecting a Mpro-cleavable peptide (N-acetyl-Abu-Tle-Leu-Gln) with a fluorophore (i.e., resorufin) via a self-immolative aromatic linker. Fluorescent titration results show that MP590 can detect Mpro with a limit of detection (LoD) of 35 nM and is selective over interferents such as hemoglobin, bovine serum albumin (BSA), thrombin, amylase, SARS-CoV-2 papain-like protease (PLpro), and trypsin. The cell imaging data indicate that this probe can report Mpro in HEK 293T cells transfected with a Mpro expression plasmid as well as in TMPRSS2-VeroE6 cells infected with SARS-CoV-2. Our results suggest that MP590 can both measure and monitor Mpro activity and quantitatively evaluate Mpro inhibition in infected cells, making it an important tool for diagnostic and therapeutic research on SARS-CoV-2.",
       "doi": "doi:10.1021/acs.analchem.2c02381",
       "id": 2800,
       "journal": "Analytical chemistry",
       "label": "Publication",
       "name": "A Self-Immolative Fluorescent Probe for Selective Detection of SARS-CoV-2 Main Protease.",
       "pmId": "35973073",
       "pmcId": "PMC9396966",
       "tooltip": "Publication\njournal:Analytical chemistry\nabstract:Existing tools to detect and visualize severe acute respiratory syndrome coronavirus 2 (SARS-CoV-2) suffer from low selectivity, poor cell permeability, and high cytotoxicity. Here we report a novel self-immolative fluorescent probe (MP590) for the highly selective and sensitive detection of the SARS-CoV-2 main protease (Mpro). This fluorescent probe was prepared by connecting a Mpro-cleavable peptide (N-acetyl-Abu-Tle-Leu-Gln) with a fluorophore (i.e., resorufin) via a self-immolative aromatic linker. Fluorescent titration results show that MP590 can detect Mpro with a limit of detection (LoD) of 35 nM and is selective over interferents such as hemoglobin, bovine serum albumin (BSA), thrombin, amylase, SARS-CoV-2 papain-like protease (PLpro), and trypsin. The cell imaging data indicate that this probe can report Mpro in HEK 293T cells transfected with a Mpro expression plasmid as well as in TMPRSS2-VeroE6 cells infected with SARS-CoV-2. Our results suggest that MP590 can both measure and monitor Mpro activity and quantitatively evaluate Mpro inhibition in infected cells, making it an important tool for diagnostic and therapeutic research on SARS-CoV-2.\nid:doi:10.1021/acs.analchem.2c02381\nname:A Self-Immolative Fluorescent Probe for Selective Detection of SARS-CoV-2 Main Protease.\npmId:35973073\nyear:2022\ntype:primary\npmcId:PMC9396966\nurl:https://doi.org/doi:10.1021/acs.analchem.2c02381\ndoi:doi:10.1021/acs.analchem.2c02381",
       "type": "primary",
       "url": "https://doi.org/doi:10.1021/acs.analchem.2c02381",
       "year": 2022
      },
      "grabbable": true,
      "grabbed": false,
      "locked": false,
      "pannable": false,
      "position": {},
      "removed": false,
      "selectable": false,
      "selected": false
     }
    },
    "50ab8adf8ed3422f99dcab31a90d025d": {
     "model_module": "jupyter-cytoscape",
     "model_module_version": "^1.3.3",
     "model_name": "NodeModel",
     "state": {
      "_model_module": "jupyter-cytoscape",
      "_model_module_version": "^1.3.3",
      "_model_name": "NodeModel",
      "_view_count": null,
      "_view_module": "jupyter-cytoscape",
      "_view_module_version": "^1.3.3",
      "_view_name": "NodeView",
      "classes": "",
      "data": {
       "id": 2738,
       "label": "MetaNode",
       "name": "Title of the presentation (string)",
       "nodeName": "Presentation",
       "presentationUrl": "URL of the presentation link (string)",
       "presenters": "List of presenters separated by the vertical bar \"|\" (string)",
       "tooltip": "MetaNode\nid:Unique identifier of the presentation (hash of event id and name) (string)\npresenters:List of presenters separated by the vertical bar \"|\" (string)\nvideoUrl:URL of the presentation recording (string)\nname:Title of the presentation (string)\nnodeName:Presentation\npresentationUrl:URL of the presentation link (string)",
       "videoUrl": "URL of the presentation recording (string)"
      },
      "grabbable": true,
      "grabbed": false,
      "locked": false,
      "pannable": false,
      "position": {},
      "removed": false,
      "selectable": false,
      "selected": false
     }
    },
    "524b27a89f414af08d14df5afffc7287": {
     "model_module": "jupyter-cytoscape",
     "model_module_version": "^1.3.3",
     "model_name": "EdgeModel",
     "state": {
      "_model_module": "jupyter-cytoscape",
      "_model_module_version": "^1.3.3",
      "_model_name": "EdgeModel",
      "_view_count": null,
      "_view_module": "jupyter-cytoscape",
      "_view_module_version": "^1.3.3",
      "_view_name": "EdgeView",
      "classes": " directed  multiple_edges ",
      "data": {
       "name": "AUTHORED",
       "source": 2075,
       "target": 2751
      },
      "pannable": true,
      "removed": false,
      "selectable": false,
      "selected": false
     }
    },
    "525f07dd98e341b4966f08b2409a7312": {
     "model_module": "jupyter-cytoscape",
     "model_module_version": "^1.3.3",
     "model_name": "EdgeModel",
     "state": {
      "_model_module": "jupyter-cytoscape",
      "_model_module_version": "^1.3.3",
      "_model_name": "EdgeModel",
      "_view_count": null,
      "_view_module": "jupyter-cytoscape",
      "_view_module_version": "^1.3.3",
      "_view_name": "EdgeView",
      "classes": " directed  multiple_edges ",
      "data": {
       "name": "IS_INVENTOR",
       "source": 601,
       "target": 2424
      },
      "pannable": true,
      "removed": false,
      "selectable": false,
      "selected": false
     }
    },
    "557a8c0d4ad84aa59a04d3593b6ecf31": {
     "model_module": "jupyter-cytoscape",
     "model_module_version": "^1.3.3",
     "model_name": "NodeModel",
     "state": {
      "_model_module": "jupyter-cytoscape",
      "_model_module_version": "^1.3.3",
      "_model_name": "NodeModel",
      "_view_count": null,
      "_view_module": "jupyter-cytoscape",
      "_view_module_version": "^1.3.3",
      "_view_name": "NodeView",
      "classes": "",
      "data": {
       "firstName": "Peter",
       "fullName": "Peter W Rose",
       "id": 1852,
       "label": "Researcher",
       "lastName": "Rose",
       "middleName": "W",
       "name": "Rose PW",
       "tooltip": "Researcher\nmiddleName:W\nid:s2authorid:2184494479\nlastName:Rose\nname:Rose PW\nfullName:Peter W Rose\nfirstName:Peter"
      },
      "grabbable": true,
      "grabbed": false,
      "locked": false,
      "pannable": false,
      "position": {},
      "removed": false,
      "selectable": false,
      "selected": false
     }
    },
    "55fc52e4df5b47e5ae6f9cac2264cd8f": {
     "model_module": "jupyter-cytoscape",
     "model_module_version": "^1.3.3",
     "model_name": "NodeModel",
     "state": {
      "_model_module": "jupyter-cytoscape",
      "_model_module_version": "^1.3.3",
      "_model_name": "NodeModel",
      "_view_count": null,
      "_view_module": "jupyter-cytoscape",
      "_view_module_version": "^1.3.3",
      "_view_name": "NodeView",
      "classes": "",
      "data": {
       "firstName": "Jordan",
       "fullName": "Jordan P Magrecki",
       "id": 315,
       "label": "Researcher",
       "lastName": "Magrecki",
       "middleName": "P",
       "name": "Magrecki JP",
       "tooltip": "Researcher\nmiddleName:P\nid:s2authorid:2222427326\nlastName:Magrecki\nname:Magrecki JP\nfullName:Jordan P Magrecki\nfirstName:Jordan"
      },
      "grabbable": true,
      "grabbed": false,
      "locked": false,
      "pannable": false,
      "position": {},
      "removed": false,
      "selectable": false,
      "selected": false
     }
    },
    "565afa8125f749fc953bb6d6beecf8ed": {
     "model_module": "jupyter-cytoscape",
     "model_module_version": "^1.3.3",
     "model_name": "EdgeModel",
     "state": {
      "_model_module": "jupyter-cytoscape",
      "_model_module_version": "^1.3.3",
      "_model_name": "EdgeModel",
      "_view_count": null,
      "_view_module": "jupyter-cytoscape",
      "_view_module_version": "^1.3.3",
      "_view_name": "EdgeView",
      "classes": " directed  multiple_edges ",
      "data": {
       "name": "PROVIDES",
       "source": 3763,
       "target": 582
      },
      "pannable": true,
      "removed": false,
      "selectable": false,
      "selected": false
     }
    },
    "57749551a2174111905f728c2b503423": {
     "model_module": "jupyter-cytoscape",
     "model_module_version": "^1.3.3",
     "model_name": "NodeModel",
     "state": {
      "_model_module": "jupyter-cytoscape",
      "_model_module_version": "^1.3.3",
      "_model_name": "NodeModel",
      "_view_count": null,
      "_view_module": "jupyter-cytoscape",
      "_view_module_version": "^1.3.3",
      "_view_name": "NodeView",
      "classes": "",
      "data": {
       "firstName": "Dishit",
       "fullName": "Dishit P Ghumra",
       "id": 1339,
       "label": "Researcher",
       "lastName": "Ghumra",
       "middleName": "P",
       "name": "Ghumra DP",
       "tooltip": "Researcher\nmiddleName:P\nid:s2authorid:2090227509\nlastName:Ghumra\nname:Ghumra DP\nfullName:Dishit P Ghumra\nfirstName:Dishit"
      },
      "grabbable": true,
      "grabbed": false,
      "locked": false,
      "pannable": false,
      "position": {},
      "removed": false,
      "selectable": false,
      "selected": false
     }
    },
    "5bcad02382294ed6b98063c19c0f4387": {
     "model_module": "jupyter-cytoscape",
     "model_module_version": "^1.3.3",
     "model_name": "NodeModel",
     "state": {
      "_model_module": "jupyter-cytoscape",
      "_model_module_version": "^1.3.3",
      "_model_name": "NodeModel",
      "_view_count": null,
      "_view_module": "jupyter-cytoscape",
      "_view_module_version": "^1.3.3",
      "_view_name": "NodeView",
      "classes": "",
      "data": {
       "firstName": "B",
       "fullName": "B Sumlin",
       "id": 2075,
       "label": "Researcher",
       "lastName": "Sumlin",
       "name": "Sumlin B",
       "tooltip": "Researcher\nid:s2authorid:36049431\nlastName:Sumlin\nname:Sumlin B\nfullName:B Sumlin\nfirstName:B"
      },
      "grabbable": true,
      "grabbed": false,
      "locked": false,
      "pannable": false,
      "position": {},
      "removed": false,
      "selectable": false,
      "selected": false
     }
    },
    "5ef8b1ffd37a453ca68375ca2a145d7c": {
     "model_module": "jupyter-cytoscape",
     "model_module_version": "^1.3.3",
     "model_name": "EdgeModel",
     "state": {
      "_model_module": "jupyter-cytoscape",
      "_model_module_version": "^1.3.3",
      "_model_name": "EdgeModel",
      "_view_count": null,
      "_view_module": "jupyter-cytoscape",
      "_view_module_version": "^1.3.3",
      "_view_name": "EdgeView",
      "classes": " directed  multiple_edges ",
      "data": {
       "name": "AUTHORED",
       "source": 1006,
       "target": 2752
      },
      "pannable": true,
      "removed": false,
      "selectable": false,
      "selected": false
     }
    },
    "600681dd97c34a63930bb93c7a884060": {
     "model_module": "jupyter-cytoscape",
     "model_module_version": "^1.3.3",
     "model_name": "NodeModel",
     "state": {
      "_model_module": "jupyter-cytoscape",
      "_model_module_version": "^1.3.3",
      "_model_name": "NodeModel",
      "_view_count": null,
      "_view_module": "jupyter-cytoscape",
      "_view_module_version": "^1.3.3",
      "_view_name": "NodeView",
      "classes": "",
      "data": {
       "id": 3763,
       "label": "FundingOpportunity",
       "name": "Administrative Supplements to Existing NIH Grants and Cooperative Agreements (Parent Admin Supp Clinical Trial Optional)",
       "tooltip": "FundingOpportunity\nid:PA-20-272\nname:Administrative Supplements to Existing NIH Grants and Cooperative Agreements (Parent Admin Supp Clinical Trial Optional)\nurl:https://grants.nih.gov/grants/guide/pa-files/PA-20-272.html",
       "url": "https://grants.nih.gov/grants/guide/pa-files/PA-20-272.html"
      },
      "grabbable": true,
      "grabbed": false,
      "locked": false,
      "pannable": false,
      "position": {},
      "removed": false,
      "selectable": false,
      "selected": false
     }
    },
    "60884619f1f94d14a7eaa3453c51b3c2": {
     "model_module": "jupyter-cytoscape",
     "model_module_version": "^1.3.3",
     "model_name": "EdgeModel",
     "state": {
      "_model_module": "jupyter-cytoscape",
      "_model_module_version": "^1.3.3",
      "_model_name": "EdgeModel",
      "_view_count": null,
      "_view_module": "jupyter-cytoscape",
      "_view_module_version": "^1.3.3",
      "_view_name": "EdgeView",
      "classes": " directed  multiple_edges ",
      "data": {
       "name": "CREATED",
       "source": 661,
       "target": 1633
      },
      "pannable": true,
      "removed": false,
      "selectable": false,
      "selected": false
     }
    },
    "60fcd6e80f9843a6b90b6ff72d40cbfb": {
     "model_module": "jupyter-cytoscape",
     "model_module_version": "^1.3.3",
     "model_name": "NodeModel",
     "state": {
      "_model_module": "jupyter-cytoscape",
      "_model_module_version": "^1.3.3",
      "_model_name": "NodeModel",
      "_view_count": null,
      "_view_module": "jupyter-cytoscape",
      "_view_module_version": "^1.3.3",
      "_view_name": "NodeView",
      "classes": "",
      "data": {
       "city": "SAINT LOUIS",
       "country": "UNITED STATES",
       "duns": "duns:068552207",
       "geonames": "geonames:4407066",
       "id": 40,
       "label": "Organization",
       "name": "Washington University in St. Louis",
       "ror": "ror:01yc7t268",
       "state": "MO",
       "tooltip": "Organization\nid:ror:01yc7t268\nror:ror:01yc7t268\nname:Washington University in St. Louis\nduns:duns:068552207\nstate:MO\ngeonames:geonames:4407066\nuei:uei:L6NFUM28LQM5\nurl:https://ror.org/01yc7t268\ncountry:UNITED STATES\ncity:SAINT LOUIS",
       "uei": "uei:L6NFUM28LQM5",
       "url": "https://ror.org/01yc7t268"
      },
      "grabbable": true,
      "grabbed": false,
      "locked": false,
      "pannable": false,
      "position": {},
      "removed": false,
      "selectable": false,
      "selected": false
     }
    },
    "667185ce5bcc4725aa8fd3a158846713": {
     "model_module": "jupyter-cytoscape",
     "model_module_version": "^1.3.3",
     "model_name": "EdgeModel",
     "state": {
      "_model_module": "jupyter-cytoscape",
      "_model_module_version": "^1.3.3",
      "_model_name": "EdgeModel",
      "_view_count": null,
      "_view_module": "jupyter-cytoscape",
      "_view_module_version": "^1.3.3",
      "_view_name": "EdgeView",
      "classes": " directed  multiple_edges ",
      "data": {
       "name": "CITES",
       "source": 3494,
       "target": 2751
      },
      "pannable": true,
      "removed": false,
      "selectable": false,
      "selected": false
     }
    },
    "667c7abee6894893974525de986ef65f": {
     "model_module": "jupyter-cytoscape",
     "model_module_version": "^1.3.3",
     "model_name": "EdgeModel",
     "state": {
      "_model_module": "jupyter-cytoscape",
      "_model_module_version": "^1.3.3",
      "_model_name": "EdgeModel",
      "_view_count": null,
      "_view_module": "jupyter-cytoscape",
      "_view_module_version": "^1.3.3",
      "_view_name": "EdgeView",
      "classes": " directed  multiple_edges ",
      "data": {
       "name": "IS_INVENTOR",
       "source": 673,
       "target": 2424
      },
      "pannable": true,
      "removed": false,
      "selectable": false,
      "selected": false
     }
    },
    "675b10a6314c4a2abb00e15be8e9ac6b": {
     "model_module": "jupyter-cytoscape",
     "model_module_version": "^1.3.3",
     "model_name": "NodeModel",
     "state": {
      "_model_module": "jupyter-cytoscape",
      "_model_module_version": "^1.3.3",
      "_model_name": "NodeModel",
      "_view_count": null,
      "_view_module": "jupyter-cytoscape",
      "_view_module_version": "^1.3.3",
      "_view_name": "NodeView",
      "classes": "",
      "data": {
       "firstName": "Jane",
       "fullName": "Jane A O’Halloran",
       "id": 1663,
       "label": "Researcher",
       "lastName": "O’Halloran",
       "middleName": "A",
       "name": "O’Halloran JA",
       "tooltip": "Researcher\nmiddleName:A\nid:s2authorid:1401004949\nlastName:O’Halloran\nname:O’Halloran JA\nfullName:Jane A O’Halloran\nfirstName:Jane"
      },
      "grabbable": true,
      "grabbed": false,
      "locked": false,
      "pannable": false,
      "position": {},
      "removed": false,
      "selectable": false,
      "selected": false
     }
    },
    "679788bd110e4198b5c1db005cb83b8b": {
     "model_module": "jupyter-cytoscape",
     "model_module_version": "^1.3.3",
     "model_name": "EdgeModel",
     "state": {
      "_model_module": "jupyter-cytoscape",
      "_model_module_version": "^1.3.3",
      "_model_name": "EdgeModel",
      "_view_count": null,
      "_view_module": "jupyter-cytoscape",
      "_view_module_version": "^1.3.3",
      "_view_name": "EdgeView",
      "classes": " directed  multiple_edges ",
      "data": {
       "name": "AUTHORED",
       "source": 1238,
       "target": 2752
      },
      "pannable": true,
      "removed": false,
      "selectable": false,
      "selected": false
     }
    },
    "67ca3d4d89a44e45b9c98d484f3cfc4f": {
     "model_module": "jupyter-cytoscape",
     "model_module_version": "^1.3.3",
     "model_name": "NodeModel",
     "state": {
      "_model_module": "jupyter-cytoscape",
      "_model_module_version": "^1.3.3",
      "_model_name": "NodeModel",
      "_view_count": null,
      "_view_module": "jupyter-cytoscape",
      "_view_module_version": "^1.3.3",
      "_view_name": "NodeView",
      "classes": "",
      "data": {
       "firstName": "John",
       "fullName": "John R Cirrito",
       "id": 661,
       "label": "Researcher",
       "lastName": "Cirrito",
       "middleName": "R",
       "name": "Cirrito JR",
       "orcid": "orcid:0000-0002-7196-8786",
       "profileId": "profileid:8553912",
       "tooltip": "Researcher\nfirstName:John\nlastName:Cirrito\nprofileId:profileid:8553912\nname:Cirrito JR\nfullName:John R Cirrito\nmiddleName:R\norcid:orcid:0000-0002-7196-8786\nid:profileid:8553912"
      },
      "grabbable": true,
      "grabbed": false,
      "locked": false,
      "pannable": false,
      "position": {},
      "removed": false,
      "selectable": false,
      "selected": false
     }
    },
    "69fce2b0cf5447f1ba31772165ecac5f": {
     "model_module": "jupyter-cytoscape",
     "model_module_version": "^1.3.3",
     "model_name": "NodeModel",
     "state": {
      "_model_module": "jupyter-cytoscape",
      "_model_module_version": "^1.3.3",
      "_model_name": "NodeModel",
      "_view_count": null,
      "_view_module": "jupyter-cytoscape",
      "_view_module_version": "^1.3.3",
      "_view_name": "NodeView",
      "classes": "",
      "data": {
       "firstName": "Anushka",
       "fullName": "Anushka Garg Mandal",
       "id": 331,
       "label": "Researcher",
       "lastName": "Mandal",
       "middleName": "Garg",
       "name": "Mandal AG",
       "tooltip": "Researcher\nmiddleName:Garg\nid:s2authorid:2222408568\nlastName:Mandal\nname:Mandal AG\nfullName:Anushka Garg Mandal\nfirstName:Anushka"
      },
      "grabbable": true,
      "grabbed": false,
      "locked": false,
      "pannable": false,
      "position": {},
      "removed": false,
      "selectable": false,
      "selected": false
     }
    },
    "6a57de0fd32542d6b95d7b70b09e4c77": {
     "model_module": "@jupyter-widgets/controls",
     "model_module_version": "1.5.0",
     "model_name": "HBoxModel",
     "state": {
      "_dom_classes": [],
      "_model_module": "@jupyter-widgets/controls",
      "_model_module_version": "1.5.0",
      "_model_name": "HBoxModel",
      "_view_count": null,
      "_view_module": "@jupyter-widgets/controls",
      "_view_module_version": "1.5.0",
      "_view_name": "HBoxView",
      "box_style": "",
      "children": [
       "IPY_MODEL_49cfd1179d514242bc9222a73cef6c84",
       "IPY_MODEL_2da28d33f2c349a6a8e62eb91cea408b",
       "IPY_MODEL_e25abcb261764b04911f2d65049f7260"
      ],
      "layout": "IPY_MODEL_a681c0d4fa6b4ff5a0f2ab5229f3c56c"
     }
    },
    "6b8889c360584952ac3c9d9c7987db60": {
     "model_module": "jupyter-cytoscape",
     "model_module_version": "^1.3.3",
     "model_name": "NodeModel",
     "state": {
      "_model_module": "jupyter-cytoscape",
      "_model_module_version": "^1.3.3",
      "_model_name": "NodeModel",
      "_view_count": null,
      "_view_module": "jupyter-cytoscape",
      "_view_module_version": "^1.3.3",
      "_view_name": "NodeView",
      "classes": "",
      "data": {
       "abstract": "A fundamental question of any program focused on the testing and timely diagnosis of a communicable disease is its effectiveness in reducing community transmission. Unfortunately, direct estimation of this effectiveness is difficult in practice, elevating the value of mathematical modeling that can predict it from first principles. Here, we introduce testing effectiveness (TE), defined as the fraction by which transmission is reduced via testing and post-diagnosis isolation at the population scale, and develop a mathematical model that estimates it from the interactions of tests, within-host pathogen dynamics, and arbitrarily complex testing behaviors. While our model generalizes across pathogens, we demonstrate its flexibility through an analysis of three respiratory pathogens, influenza A, respiratory syncytial virus (RSV), and both pre-vaccine and post-vaccine era SARS-CoV-2, quantifying TE across post-exposure, post-symptom, and routine testing scenarios. We show that TE varies considerably by strategy and pathogen, with optimal testing depending on the number of tests available and when they are used. This work quantifies tradeoffs about when and how to test, providing a flexible framework to guide the use and development of current and future diagnostic tests to control transmission of infectious diseases.",
       "doi": "doi:10.1101/2023.09.22.23295983",
       "id": 3548,
       "journal": "medRxiv",
       "label": "Publication",
       "name": "Modeling the Transmission Mitigation Impact of Testing for Infectious Diseases",
       "pmId": "37808825",
       "pmcId": "10557819",
       "tooltip": "Publication\njournal:medRxiv\nabstract:A fundamental question of any program focused on the testing and timely diagnosis of a communicable disease is its effectiveness in reducing community transmission. Unfortunately, direct estimation of this effectiveness is difficult in practice, elevating the value of mathematical modeling that can predict it from first principles. Here, we introduce testing effectiveness (TE), defined as the fraction by which transmission is reduced via testing and post-diagnosis isolation at the population scale, and develop a mathematical model that estimates it from the interactions of tests, within-host pathogen dynamics, and arbitrarily complex testing behaviors. While our model generalizes across pathogens, we demonstrate its flexibility through an analysis of three respiratory pathogens, influenza A, respiratory syncytial virus (RSV), and both pre-vaccine and post-vaccine era SARS-CoV-2, quantifying TE across post-exposure, post-symptom, and routine testing scenarios. We show that TE varies considerably by strategy and pathogen, with optimal testing depending on the number of tests available and when they are used. This work quantifies tradeoffs about when and how to test, providing a flexible framework to guide the use and development of current and future diagnostic tests to control transmission of infectious diseases.\nid:doi:10.1101/2023.09.22.23295983\nname:Modeling the Transmission Mitigation Impact of Testing for Infectious Diseases\npmId:37808825\nyear:2023\ntype:secondary\npmcId:10557819\nurl:https://doi.org/doi:10.1101/2023.09.22.23295983\ndoi:doi:10.1101/2023.09.22.23295983",
       "type": "secondary",
       "url": "https://doi.org/doi:10.1101/2023.09.22.23295983",
       "year": 2023
      },
      "grabbable": true,
      "grabbed": false,
      "locked": false,
      "pannable": false,
      "position": {},
      "removed": false,
      "selectable": false,
      "selected": false
     }
    },
    "6c2b59732fca401387efe8b7630d9d33": {
     "model_module": "jupyter-cytoscape",
     "model_module_version": "^1.3.3",
     "model_name": "EdgeModel",
     "state": {
      "_model_module": "jupyter-cytoscape",
      "_model_module_version": "^1.3.3",
      "_model_name": "EdgeModel",
      "_view_count": null,
      "_view_module": "jupyter-cytoscape",
      "_view_module_version": "^1.3.3",
      "_view_name": "EdgeView",
      "classes": " directed  multiple_edges ",
      "data": {
       "name": "AUTHORED",
       "source": 1903,
       "target": 2752
      },
      "pannable": true,
      "removed": false,
      "selectable": false,
      "selected": false
     }
    },
    "6dda8ec885d94e2d8ed709c888d7d39a": {
     "model_module": "jupyter-cytoscape",
     "model_module_version": "^1.3.3",
     "model_name": "EdgeModel",
     "state": {
      "_model_module": "jupyter-cytoscape",
      "_model_module_version": "^1.3.3",
      "_model_name": "EdgeModel",
      "_view_count": null,
      "_view_module": "jupyter-cytoscape",
      "_view_module_version": "^1.3.3",
      "_view_name": "EdgeView",
      "classes": " directed  multiple_edges ",
      "data": {
       "name": "AUTHORED",
       "source": 661,
       "target": 2752
      },
      "pannable": true,
      "removed": false,
      "selectable": false,
      "selected": false
     }
    },
    "6f4c78689d394104be9164d016b2f14c": {
     "model_module": "jupyter-cytoscape",
     "model_module_version": "^1.3.3",
     "model_name": "CytoscapeModel",
     "state": {
      "_dom_classes": [],
      "_interaction_handlers": {},
      "_model_module": "jupyter-cytoscape",
      "_model_module_version": "^1.3.3",
      "_model_name": "CytoscapeModel",
      "_view_count": null,
      "_view_module": "jupyter-cytoscape",
      "_view_module_version": "^1.3.3",
      "_view_name": "CytoscapeView",
      "auto_ungrabify": false,
      "auto_unselectify": true,
      "autolock": false,
      "box_selection_enabled": false,
      "cytoscape_layout": {
       "name": "cola",
       "nodeDimensionsIncludeLabels": true,
       "nodeSpacing": 40,
       "padding": 0,
       "unconstrIter": 5000
      },
      "cytoscape_style": [
       {
        "selector": "node",
        "style": {
         "background-color": "#A5ABB6",
         "border-color": "#9AA1AC",
         "border-width": "2px",
         "font-size": "10px",
         "height": "50px",
         "label": "data(name)",
         "text-max-width": "50px",
         "text-valign": "center",
         "text-wrap": "wrap",
         "width": "50px"
        }
       },
       {
        "selector": "edge",
        "style": {
         "curve-style": "bezier",
         "font-size": "8px",
         "label": "data(name)",
         "line-color": "#A5ABB6",
         "target-arrow-color": "#A5ABB6",
         "target-arrow-shape": "triangle",
         "text-rotation": "autorotate",
         "width": "1px"
        }
       },
       {
        "selector": "node[label=\"*\"]",
        "style": {
         "background-color": "#C990C0",
         "border-color": "#b261a5",
         "border-width": "2px",
         "font-size": "10px",
         "height": "50px",
         "label": "data(name)",
         "text-max-width": "50px",
         "text-valign": "center",
         "text-wrap": "wrap",
         "width": "50px"
        }
       },
       {
        "selector": "node[label=\"City\"]",
        "style": {
         "background-color": "#F79767",
         "border-color": "#f36924",
         "border-width": "2px",
         "font-size": "10px",
         "height": "65px",
         "label": "data(name)",
         "text-max-width": "65px",
         "text-valign": "center",
         "text-wrap": "wrap",
         "width": "65px"
        }
       },
       {
        "selector": "node[label=\"Disease\"]",
        "style": {
         "background-color": "#569480",
         "border-color": "#447666",
         "border-width": "2px",
         "font-size": "10px",
         "height": "80px",
         "label": "data(name)",
         "text-max-width": "80px",
         "text-valign": "center",
         "text-wrap": "wrap",
         "width": "80px"
        }
       },
       {
        "selector": "node[label=\"Symptom\"]",
        "style": {
         "background-color": "#8DCC93",
         "border-color": "#5db665",
         "border-width": "2px",
         "font-size": "10px",
         "height": "50px",
         "label": "data(name)",
         "text-max-width": "50px",
         "text-valign": "center",
         "text-wrap": "wrap",
         "width": "50px"
        }
       },
       {
        "selector": "node[label=\"Patient\"]",
        "style": {
         "background-color": "#4C8EDA",
         "border-color": "#2870c2",
         "border-width": "2px",
         "font-size": "10px",
         "height": "50px",
         "label": "data(firstName)",
         "text-max-width": "50px",
         "text-valign": "center",
         "text-wrap": "wrap",
         "width": "50px"
        }
       },
       {
        "selector": "node[label=\"State\"]",
        "style": {
         "background-color": "#FFC454",
         "border-color": "#d7a013",
         "border-width": "2px",
         "font-size": "10px",
         "height": "50px",
         "label": "data(name)",
         "text-max-width": "50px",
         "text-valign": "center",
         "text-wrap": "wrap",
         "width": "50px"
        }
       },
       {
        "selector": "node[label=\"MetaNode\"]",
        "style": {
         "background-color": "#D9C8AE",
         "border-color": "#c0a378",
         "border-width": "2px",
         "font-size": "10px",
         "height": "80px",
         "label": "data(name)",
         "text-max-width": "80px",
         "text-valign": "center",
         "text-wrap": "wrap",
         "width": "80px"
        }
       },
       {
        "selector": "edge[name=\"MetaRelationship\"]",
        "style": {
         "curve-style": "bezier",
         "font-size": "8px",
         "label": "data(name)",
         "line-color": "#A5ABB6",
         "target-arrow-color": "#A5ABB6",
         "target-arrow-shape": "triangle",
         "text-rotation": "autorotate",
         "width": "1px"
        }
       },
       {
        "selector": "node[label=\"Grant\"]",
        "style": {
         "background-color": "#4C8EDA",
         "border-color": "#2870c2",
         "border-width": "2px",
         "font-size": "10px",
         "height": "80px",
         "label": "data(name)",
         "text-max-width": "80px",
         "text-valign": "center",
         "text-wrap": "wrap",
         "width": "80px"
        }
       },
       {
        "selector": "node[label=\"Researcher\"]",
        "style": {
         "background-color": "#FFC454",
         "border-color": "#d7a013",
         "border-width": "2px",
         "font-size": "10px",
         "height": "80px",
         "label": "data(name)",
         "text-max-width": "80px",
         "text-valign": "center",
         "text-wrap": "wrap",
         "width": "80px"
        }
       },
       {
        "selector": "node[label=\"FundingOpportunity\"]",
        "style": {
         "background-color": "#DA7194",
         "border-color": "#cc3c6c",
         "border-width": "2px",
         "font-size": "10px",
         "height": "80px",
         "label": "data(name)",
         "text-max-width": "80px",
         "text-valign": "center",
         "text-wrap": "wrap",
         "width": "80px"
        }
       },
       {
        "selector": "node[label=\"Organization\"]",
        "style": {
         "background-color": "#569480",
         "border-color": "#447666",
         "border-width": "2px",
         "font-size": "10px",
         "height": "80px",
         "label": "data(name)",
         "text-max-width": "80px",
         "text-valign": "center",
         "text-wrap": "wrap",
         "width": "80px"
        }
       },
       {
        "selector": "node[label=\"Dataset\"]",
        "style": {
         "background-color": "#F79767",
         "border-color": "#f36924",
         "border-width": "2px",
         "font-size": "10px",
         "height": "80px",
         "label": "data(name)",
         "text-max-width": "80px",
         "text-valign": "center",
         "text-wrap": "wrap",
         "width": "80px"
        }
       },
       {
        "selector": "node[label=\"CoordinationCenter\"]",
        "style": {
         "background-color": "#57C7E3",
         "border-color": "#23b3d7",
         "border-width": "2px",
         "font-size": "10px",
         "height": "80px",
         "label": "data(name)",
         "text-max-width": "80px",
         "text-valign": "center",
         "text-wrap": "wrap",
         "width": "80px"
        }
       },
       {
        "selector": "node[label=\"Event\"]",
        "style": {
         "background-color": "#8DCC93",
         "border-color": "#5db665",
         "border-width": "2px",
         "font-size": "10px",
         "height": "80px",
         "label": "data(name)",
         "text-max-width": "80px",
         "text-valign": "center",
         "text-wrap": "wrap",
         "width": "80px"
        }
       },
       {
        "selector": "node[label=\"Publication\"]",
        "style": {
         "background-color": "#AA7942",
         "border-color": "#8D6429",
         "border-width": "2px",
         "font-size": "10px",
         "height": "80px",
         "label": "data(name)",
         "text-max-width": "80px",
         "text-valign": "center",
         "text-wrap": "wrap",
         "width": "80px"
        }
       },
       {
        "selector": "node[label=\"Patent\"]",
        "style": {
         "background-color": "#C990C0",
         "border-color": "#b261a5",
         "border-width": "2px",
         "font-size": "10px",
         "height": "80px",
         "label": "data(name)",
         "text-max-width": "80px",
         "text-valign": "center",
         "text-wrap": "wrap",
         "width": "80px"
        }
       },
       {
        "selector": "node[label=\"Presentation\"]",
        "style": {
         "background-color": "#F16667",
         "border-color": "#eb2728",
         "border-width": "2px",
         "font-size": "10px",
         "height": "80px",
         "label": "data(name)",
         "text-max-width": "80px",
         "text-valign": "center",
         "text-wrap": "wrap",
         "width": "80px"
        }
       },
       {
        "selector": "node[label=\"Software\"]",
        "style": {
         "background-color": "#ECB5C9",
         "border-color": "#da7298",
         "border-width": "2px",
         "font-size": "10px",
         "height": "80px",
         "label": "data(name)",
         "text-max-width": "80px",
         "text-valign": "center",
         "text-wrap": "wrap",
         "width": "80px"
        }
       },
       {
        "selector": "node[label=\"ResearchInitiative\"]",
        "style": {
         "background-color": "#57C7E3",
         "border-color": "#23b3d7",
         "border-width": "2px",
         "font-size": "10px",
         "height": "80px",
         "label": "data(name)",
         "text-max-width": "80px",
         "text-valign": "center",
         "text-wrap": "wrap",
         "width": "80px"
        }
       }
      ],
      "desktop_tap_threshold": 4,
      "graph": "IPY_MODEL_ea08b6e8ec73419da3d720078ed05745",
      "headless": false,
      "hide_edges_on_viewport": false,
      "layout": "IPY_MODEL_c1197cb7eb37475789ffe853b466a044",
      "max_zoom": 1e+50,
      "min_zoom": 1e-50,
      "motion_blur": false,
      "motion_blur_opacity": 0.2,
      "panning_enabled": true,
      "pixel_ratio": "auto",
      "rendered_position": {
       "renderedPosition": {
        "x": 100,
        "y": 100
       }
      },
      "selection_type": "single",
      "style_enabled": true,
      "texture_on_viewport": false,
      "tooltip_source": "tooltip",
      "touch_tap_threshold": 8,
      "user_panning_enabled": true,
      "user_zooming_enabled": true,
      "wheel_sensitivity": 1,
      "zoom": 2,
      "zooming_enabled": true
     }
    },
    "72208cf62b8d46e4956e572cf30411d6": {
     "model_module": "jupyter-cytoscape",
     "model_module_version": "^1.3.3",
     "model_name": "EdgeModel",
     "state": {
      "_model_module": "jupyter-cytoscape",
      "_model_module_version": "^1.3.3",
      "_model_name": "EdgeModel",
      "_view_count": null,
      "_view_module": "jupyter-cytoscape",
      "_view_module_version": "^1.3.3",
      "_view_name": "EdgeView",
      "classes": " directed  multiple_edges ",
      "data": {
       "name": "AUTHORED",
       "source": 909,
       "target": 2752
      },
      "pannable": true,
      "removed": false,
      "selectable": false,
      "selected": false
     }
    },
    "724b29c7bdda4b3a8d15f25b92bdd4df": {
     "model_module": "@jupyter-widgets/controls",
     "model_module_version": "1.5.0",
     "model_name": "ProgressStyleModel",
     "state": {
      "_model_module": "@jupyter-widgets/controls",
      "_model_module_version": "1.5.0",
      "_model_name": "ProgressStyleModel",
      "_view_count": null,
      "_view_module": "@jupyter-widgets/base",
      "_view_module_version": "1.2.0",
      "_view_name": "StyleView",
      "bar_color": null,
      "description_width": ""
     }
    },
    "7263c96f32fa4aba9aa11e72bae997a8": {
     "model_module": "jupyter-cytoscape",
     "model_module_version": "^1.3.3",
     "model_name": "CytoscapeModel",
     "state": {
      "_dom_classes": [],
      "_interaction_handlers": {},
      "_model_module": "jupyter-cytoscape",
      "_model_module_version": "^1.3.3",
      "_model_name": "CytoscapeModel",
      "_view_count": null,
      "_view_module": "jupyter-cytoscape",
      "_view_module_version": "^1.3.3",
      "_view_name": "CytoscapeView",
      "auto_ungrabify": false,
      "auto_unselectify": true,
      "autolock": false,
      "box_selection_enabled": false,
      "cytoscape_layout": {
       "name": "cola",
       "nodeDimensionsIncludeLabels": true,
       "nodeSpacing": 40,
       "padding": 0,
       "unconstrIter": 5000
      },
      "cytoscape_style": [
       {
        "selector": "node",
        "style": {
         "background-color": "#A5ABB6",
         "border-color": "#9AA1AC",
         "border-width": "2px",
         "font-size": "10px",
         "height": "50px",
         "label": "data(name)",
         "text-max-width": "50px",
         "text-valign": "center",
         "text-wrap": "wrap",
         "width": "50px"
        }
       },
       {
        "selector": "edge",
        "style": {
         "curve-style": "bezier",
         "font-size": "8px",
         "label": "data(name)",
         "line-color": "#A5ABB6",
         "target-arrow-color": "#A5ABB6",
         "target-arrow-shape": "triangle",
         "text-rotation": "autorotate",
         "width": "1px"
        }
       },
       {
        "selector": "node[label=\"*\"]",
        "style": {
         "background-color": "#C990C0",
         "border-color": "#b261a5",
         "border-width": "2px",
         "font-size": "10px",
         "height": "50px",
         "label": "data(name)",
         "text-max-width": "50px",
         "text-valign": "center",
         "text-wrap": "wrap",
         "width": "50px"
        }
       },
       {
        "selector": "node[label=\"City\"]",
        "style": {
         "background-color": "#F79767",
         "border-color": "#f36924",
         "border-width": "2px",
         "font-size": "10px",
         "height": "65px",
         "label": "data(name)",
         "text-max-width": "65px",
         "text-valign": "center",
         "text-wrap": "wrap",
         "width": "65px"
        }
       },
       {
        "selector": "node[label=\"Disease\"]",
        "style": {
         "background-color": "#569480",
         "border-color": "#447666",
         "border-width": "2px",
         "font-size": "10px",
         "height": "80px",
         "label": "data(name)",
         "text-max-width": "80px",
         "text-valign": "center",
         "text-wrap": "wrap",
         "width": "80px"
        }
       },
       {
        "selector": "node[label=\"Symptom\"]",
        "style": {
         "background-color": "#8DCC93",
         "border-color": "#5db665",
         "border-width": "2px",
         "font-size": "10px",
         "height": "50px",
         "label": "data(name)",
         "text-max-width": "50px",
         "text-valign": "center",
         "text-wrap": "wrap",
         "width": "50px"
        }
       },
       {
        "selector": "node[label=\"Patient\"]",
        "style": {
         "background-color": "#4C8EDA",
         "border-color": "#2870c2",
         "border-width": "2px",
         "font-size": "10px",
         "height": "50px",
         "label": "data(firstName)",
         "text-max-width": "50px",
         "text-valign": "center",
         "text-wrap": "wrap",
         "width": "50px"
        }
       },
       {
        "selector": "node[label=\"State\"]",
        "style": {
         "background-color": "#FFC454",
         "border-color": "#d7a013",
         "border-width": "2px",
         "font-size": "10px",
         "height": "50px",
         "label": "data(name)",
         "text-max-width": "50px",
         "text-valign": "center",
         "text-wrap": "wrap",
         "width": "50px"
        }
       },
       {
        "selector": "node[label=\"MetaNode\"]",
        "style": {
         "background-color": "#D9C8AE",
         "border-color": "#c0a378",
         "border-width": "2px",
         "font-size": "10px",
         "height": "80px",
         "label": "data(name)",
         "text-max-width": "80px",
         "text-valign": "center",
         "text-wrap": "wrap",
         "width": "80px"
        }
       },
       {
        "selector": "edge[name=\"MetaRelationship\"]",
        "style": {
         "curve-style": "bezier",
         "font-size": "8px",
         "label": "data(name)",
         "line-color": "#A5ABB6",
         "target-arrow-color": "#A5ABB6",
         "target-arrow-shape": "triangle",
         "text-rotation": "autorotate",
         "width": "1px"
        }
       },
       {
        "selector": "node[label=\"Grant\"]",
        "style": {
         "background-color": "#4C8EDA",
         "border-color": "#2870c2",
         "border-width": "2px",
         "font-size": "10px",
         "height": "80px",
         "label": "data(name)",
         "text-max-width": "80px",
         "text-valign": "center",
         "text-wrap": "wrap",
         "width": "80px"
        }
       },
       {
        "selector": "node[label=\"Researcher\"]",
        "style": {
         "background-color": "#FFC454",
         "border-color": "#d7a013",
         "border-width": "2px",
         "font-size": "10px",
         "height": "80px",
         "label": "data(name)",
         "text-max-width": "80px",
         "text-valign": "center",
         "text-wrap": "wrap",
         "width": "80px"
        }
       },
       {
        "selector": "node[label=\"FundingOpportunity\"]",
        "style": {
         "background-color": "#DA7194",
         "border-color": "#cc3c6c",
         "border-width": "2px",
         "font-size": "10px",
         "height": "80px",
         "label": "data(name)",
         "text-max-width": "80px",
         "text-valign": "center",
         "text-wrap": "wrap",
         "width": "80px"
        }
       },
       {
        "selector": "node[label=\"Organization\"]",
        "style": {
         "background-color": "#569480",
         "border-color": "#447666",
         "border-width": "2px",
         "font-size": "10px",
         "height": "80px",
         "label": "data(name)",
         "text-max-width": "80px",
         "text-valign": "center",
         "text-wrap": "wrap",
         "width": "80px"
        }
       },
       {
        "selector": "node[label=\"Dataset\"]",
        "style": {
         "background-color": "#F79767",
         "border-color": "#f36924",
         "border-width": "2px",
         "font-size": "10px",
         "height": "80px",
         "label": "data(name)",
         "text-max-width": "80px",
         "text-valign": "center",
         "text-wrap": "wrap",
         "width": "80px"
        }
       },
       {
        "selector": "node[label=\"CoordinationCenter\"]",
        "style": {
         "background-color": "#57C7E3",
         "border-color": "#23b3d7",
         "border-width": "2px",
         "font-size": "10px",
         "height": "80px",
         "label": "data(name)",
         "text-max-width": "80px",
         "text-valign": "center",
         "text-wrap": "wrap",
         "width": "80px"
        }
       },
       {
        "selector": "node[label=\"Event\"]",
        "style": {
         "background-color": "#8DCC93",
         "border-color": "#5db665",
         "border-width": "2px",
         "font-size": "10px",
         "height": "80px",
         "label": "data(name)",
         "text-max-width": "80px",
         "text-valign": "center",
         "text-wrap": "wrap",
         "width": "80px"
        }
       },
       {
        "selector": "node[label=\"Publication\"]",
        "style": {
         "background-color": "#AA7942",
         "border-color": "#8D6429",
         "border-width": "2px",
         "font-size": "10px",
         "height": "80px",
         "label": "data(name)",
         "text-max-width": "80px",
         "text-valign": "center",
         "text-wrap": "wrap",
         "width": "80px"
        }
       },
       {
        "selector": "node[label=\"Patent\"]",
        "style": {
         "background-color": "#C990C0",
         "border-color": "#b261a5",
         "border-width": "2px",
         "font-size": "10px",
         "height": "80px",
         "label": "data(name)",
         "text-max-width": "80px",
         "text-valign": "center",
         "text-wrap": "wrap",
         "width": "80px"
        }
       },
       {
        "selector": "node[label=\"Presentation\"]",
        "style": {
         "background-color": "#F16667",
         "border-color": "#eb2728",
         "border-width": "2px",
         "font-size": "10px",
         "height": "80px",
         "label": "data(name)",
         "text-max-width": "80px",
         "text-valign": "center",
         "text-wrap": "wrap",
         "width": "80px"
        }
       },
       {
        "selector": "node[label=\"Software\"]",
        "style": {
         "background-color": "#ECB5C9",
         "border-color": "#da7298",
         "border-width": "2px",
         "font-size": "10px",
         "height": "80px",
         "label": "data(name)",
         "text-max-width": "80px",
         "text-valign": "center",
         "text-wrap": "wrap",
         "width": "80px"
        }
       },
       {
        "selector": "node[label=\"ResearchInitiative\"]",
        "style": {
         "background-color": "#57C7E3",
         "border-color": "#23b3d7",
         "border-width": "2px",
         "font-size": "10px",
         "height": "80px",
         "label": "data(name)",
         "text-max-width": "80px",
         "text-valign": "center",
         "text-wrap": "wrap",
         "width": "80px"
        }
       }
      ],
      "desktop_tap_threshold": 4,
      "graph": "IPY_MODEL_ff980a46cb864e7d9695a21bfc80b645",
      "headless": false,
      "hide_edges_on_viewport": false,
      "layout": "IPY_MODEL_28c112847e204b3b86d83fb3a4ba6c04",
      "max_zoom": 1e+50,
      "min_zoom": 1e-50,
      "motion_blur": false,
      "motion_blur_opacity": 0.2,
      "panning_enabled": true,
      "pixel_ratio": "auto",
      "rendered_position": {
       "renderedPosition": {
        "x": 100,
        "y": 100
       }
      },
      "selection_type": "single",
      "style_enabled": true,
      "texture_on_viewport": false,
      "tooltip_source": "tooltip",
      "touch_tap_threshold": 8,
      "user_panning_enabled": true,
      "user_zooming_enabled": true,
      "wheel_sensitivity": 1,
      "zoom": 2,
      "zooming_enabled": true
     }
    },
    "7315824a6a4c4cbb95b0a6892fdc8884": {
     "model_module": "jupyter-cytoscape",
     "model_module_version": "^1.3.3",
     "model_name": "EdgeModel",
     "state": {
      "_model_module": "jupyter-cytoscape",
      "_model_module_version": "^1.3.3",
      "_model_name": "EdgeModel",
      "_view_count": null,
      "_view_module": "jupyter-cytoscape",
      "_view_module_version": "^1.3.3",
      "_view_name": "EdgeView",
      "classes": " directed  multiple_edges ",
      "data": {
       "name": "IS_INVENTOR",
       "source": 661,
       "target": 2425
      },
      "pannable": true,
      "removed": false,
      "selectable": false,
      "selected": false
     }
    },
    "758c3e7d050f4d7ebe0df300464a0aac": {
     "model_module": "jupyter-cytoscape",
     "model_module_version": "^1.3.3",
     "model_name": "EdgeModel",
     "state": {
      "_model_module": "jupyter-cytoscape",
      "_model_module_version": "^1.3.3",
      "_model_name": "EdgeModel",
      "_view_count": null,
      "_view_module": "jupyter-cytoscape",
      "_view_module_version": "^1.3.3",
      "_view_name": "EdgeView",
      "classes": " directed  multiple_edges ",
      "data": {
       "from": "Unique identifier for the presentation (string)",
       "name": "MetaRelationship",
       "relationshipName": "PRESENTED_AT",
       "source": 2738,
       "target": 2744,
       "to": "Unique identifier for the event (string)"
      },
      "pannable": true,
      "removed": false,
      "selectable": false,
      "selected": false
     }
    },
    "75a7ef7819b74b3e8afd1da7f3195230": {
     "model_module": "jupyter-cytoscape",
     "model_module_version": "^1.3.3",
     "model_name": "EdgeModel",
     "state": {
      "_model_module": "jupyter-cytoscape",
      "_model_module_version": "^1.3.3",
      "_model_name": "EdgeModel",
      "_view_count": null,
      "_view_module": "jupyter-cytoscape",
      "_view_module_version": "^1.3.3",
      "_view_name": "EdgeView",
      "classes": " directed  multiple_edges ",
      "data": {
       "name": "AUTHORED",
       "source": 362,
       "target": 2751
      },
      "pannable": true,
      "removed": false,
      "selectable": false,
      "selected": false
     }
    },
    "772a742b0c274f9889f9420d87568890": {
     "model_module": "jupyter-cytoscape",
     "model_module_version": "^1.3.3",
     "model_name": "NodeModel",
     "state": {
      "_model_module": "jupyter-cytoscape",
      "_model_module_version": "^1.3.3",
      "_model_name": "NodeModel",
      "_view_count": null,
      "_view_module": "jupyter-cytoscape",
      "_view_module_version": "^1.3.3",
      "_view_name": "NodeView",
      "classes": "",
      "data": {
       "firstName": "R",
       "fullName": "R Chakrabarty",
       "id": 1006,
       "label": "Researcher",
       "lastName": "Chakrabarty",
       "name": "Chakrabarty R",
       "tooltip": "Researcher\nid:s2authorid:1852772\nlastName:Chakrabarty\nname:Chakrabarty R\nfullName:R Chakrabarty\nfirstName:R"
      },
      "grabbable": true,
      "grabbed": false,
      "locked": false,
      "pannable": false,
      "position": {},
      "removed": false,
      "selectable": false,
      "selected": false
     }
    },
    "773a2775a50748a59d5f6569f0faa0cb": {
     "model_module": "jupyter-cytoscape",
     "model_module_version": "^1.3.3",
     "model_name": "CytoscapeModel",
     "state": {
      "_dom_classes": [],
      "_interaction_handlers": {},
      "_model_module": "jupyter-cytoscape",
      "_model_module_version": "^1.3.3",
      "_model_name": "CytoscapeModel",
      "_view_count": null,
      "_view_module": "jupyter-cytoscape",
      "_view_module_version": "^1.3.3",
      "_view_name": "CytoscapeView",
      "auto_ungrabify": false,
      "auto_unselectify": true,
      "autolock": false,
      "box_selection_enabled": false,
      "cytoscape_layout": {
       "name": "cola",
       "nodeDimensionsIncludeLabels": true,
       "nodeSpacing": 40,
       "padding": 0,
       "unconstrIter": 5000
      },
      "cytoscape_style": [
       {
        "selector": "node",
        "style": {
         "background-color": "#A5ABB6",
         "border-color": "#9AA1AC",
         "border-width": "2px",
         "font-size": "10px",
         "height": "50px",
         "label": "data(name)",
         "text-max-width": "50px",
         "text-valign": "center",
         "text-wrap": "wrap",
         "width": "50px"
        }
       },
       {
        "selector": "edge",
        "style": {
         "curve-style": "bezier",
         "font-size": "8px",
         "label": "data(name)",
         "line-color": "#A5ABB6",
         "target-arrow-color": "#A5ABB6",
         "target-arrow-shape": "triangle",
         "text-rotation": "autorotate",
         "width": "1px"
        }
       },
       {
        "selector": "node[label=\"*\"]",
        "style": {
         "background-color": "#C990C0",
         "border-color": "#b261a5",
         "border-width": "2px",
         "font-size": "10px",
         "height": "50px",
         "label": "data(name)",
         "text-max-width": "50px",
         "text-valign": "center",
         "text-wrap": "wrap",
         "width": "50px"
        }
       },
       {
        "selector": "node[label=\"City\"]",
        "style": {
         "background-color": "#F79767",
         "border-color": "#f36924",
         "border-width": "2px",
         "font-size": "10px",
         "height": "65px",
         "label": "data(name)",
         "text-max-width": "65px",
         "text-valign": "center",
         "text-wrap": "wrap",
         "width": "65px"
        }
       },
       {
        "selector": "node[label=\"Disease\"]",
        "style": {
         "background-color": "#569480",
         "border-color": "#447666",
         "border-width": "2px",
         "font-size": "10px",
         "height": "80px",
         "label": "data(name)",
         "text-max-width": "80px",
         "text-valign": "center",
         "text-wrap": "wrap",
         "width": "80px"
        }
       },
       {
        "selector": "node[label=\"Symptom\"]",
        "style": {
         "background-color": "#8DCC93",
         "border-color": "#5db665",
         "border-width": "2px",
         "font-size": "10px",
         "height": "50px",
         "label": "data(name)",
         "text-max-width": "50px",
         "text-valign": "center",
         "text-wrap": "wrap",
         "width": "50px"
        }
       },
       {
        "selector": "node[label=\"Patient\"]",
        "style": {
         "background-color": "#4C8EDA",
         "border-color": "#2870c2",
         "border-width": "2px",
         "font-size": "10px",
         "height": "50px",
         "label": "data(firstName)",
         "text-max-width": "50px",
         "text-valign": "center",
         "text-wrap": "wrap",
         "width": "50px"
        }
       },
       {
        "selector": "node[label=\"State\"]",
        "style": {
         "background-color": "#FFC454",
         "border-color": "#d7a013",
         "border-width": "2px",
         "font-size": "10px",
         "height": "50px",
         "label": "data(name)",
         "text-max-width": "50px",
         "text-valign": "center",
         "text-wrap": "wrap",
         "width": "50px"
        }
       },
       {
        "selector": "node[label=\"MetaNode\"]",
        "style": {
         "background-color": "#D9C8AE",
         "border-color": "#c0a378",
         "border-width": "2px",
         "font-size": "10px",
         "height": "80px",
         "label": "data(name)",
         "text-max-width": "80px",
         "text-valign": "center",
         "text-wrap": "wrap",
         "width": "80px"
        }
       },
       {
        "selector": "edge[name=\"MetaRelationship\"]",
        "style": {
         "curve-style": "bezier",
         "font-size": "8px",
         "label": "data(name)",
         "line-color": "#A5ABB6",
         "target-arrow-color": "#A5ABB6",
         "target-arrow-shape": "triangle",
         "text-rotation": "autorotate",
         "width": "1px"
        }
       },
       {
        "selector": "node[label=\"Grant\"]",
        "style": {
         "background-color": "#4C8EDA",
         "border-color": "#2870c2",
         "border-width": "2px",
         "font-size": "10px",
         "height": "80px",
         "label": "data(name)",
         "text-max-width": "80px",
         "text-valign": "center",
         "text-wrap": "wrap",
         "width": "80px"
        }
       },
       {
        "selector": "node[label=\"Researcher\"]",
        "style": {
         "background-color": "#FFC454",
         "border-color": "#d7a013",
         "border-width": "2px",
         "font-size": "10px",
         "height": "80px",
         "label": "data(name)",
         "text-max-width": "80px",
         "text-valign": "center",
         "text-wrap": "wrap",
         "width": "80px"
        }
       },
       {
        "selector": "node[label=\"FundingOpportunity\"]",
        "style": {
         "background-color": "#DA7194",
         "border-color": "#cc3c6c",
         "border-width": "2px",
         "font-size": "10px",
         "height": "80px",
         "label": "data(name)",
         "text-max-width": "80px",
         "text-valign": "center",
         "text-wrap": "wrap",
         "width": "80px"
        }
       },
       {
        "selector": "node[label=\"Organization\"]",
        "style": {
         "background-color": "#569480",
         "border-color": "#447666",
         "border-width": "2px",
         "font-size": "10px",
         "height": "80px",
         "label": "data(name)",
         "text-max-width": "80px",
         "text-valign": "center",
         "text-wrap": "wrap",
         "width": "80px"
        }
       },
       {
        "selector": "node[label=\"Dataset\"]",
        "style": {
         "background-color": "#F79767",
         "border-color": "#f36924",
         "border-width": "2px",
         "font-size": "10px",
         "height": "80px",
         "label": "data(name)",
         "text-max-width": "80px",
         "text-valign": "center",
         "text-wrap": "wrap",
         "width": "80px"
        }
       },
       {
        "selector": "node[label=\"CoordinationCenter\"]",
        "style": {
         "background-color": "#57C7E3",
         "border-color": "#23b3d7",
         "border-width": "2px",
         "font-size": "10px",
         "height": "80px",
         "label": "data(name)",
         "text-max-width": "80px",
         "text-valign": "center",
         "text-wrap": "wrap",
         "width": "80px"
        }
       },
       {
        "selector": "node[label=\"Event\"]",
        "style": {
         "background-color": "#8DCC93",
         "border-color": "#5db665",
         "border-width": "2px",
         "font-size": "10px",
         "height": "80px",
         "label": "data(name)",
         "text-max-width": "80px",
         "text-valign": "center",
         "text-wrap": "wrap",
         "width": "80px"
        }
       },
       {
        "selector": "node[label=\"Publication\"]",
        "style": {
         "background-color": "#AA7942",
         "border-color": "#8D6429",
         "border-width": "2px",
         "font-size": "10px",
         "height": "80px",
         "label": "data(name)",
         "text-max-width": "80px",
         "text-valign": "center",
         "text-wrap": "wrap",
         "width": "80px"
        }
       },
       {
        "selector": "node[label=\"Patent\"]",
        "style": {
         "background-color": "#C990C0",
         "border-color": "#b261a5",
         "border-width": "2px",
         "font-size": "10px",
         "height": "80px",
         "label": "data(name)",
         "text-max-width": "80px",
         "text-valign": "center",
         "text-wrap": "wrap",
         "width": "80px"
        }
       },
       {
        "selector": "node[label=\"Presentation\"]",
        "style": {
         "background-color": "#F16667",
         "border-color": "#eb2728",
         "border-width": "2px",
         "font-size": "10px",
         "height": "80px",
         "label": "data(name)",
         "text-max-width": "80px",
         "text-valign": "center",
         "text-wrap": "wrap",
         "width": "80px"
        }
       },
       {
        "selector": "node[label=\"Software\"]",
        "style": {
         "background-color": "#ECB5C9",
         "border-color": "#da7298",
         "border-width": "2px",
         "font-size": "10px",
         "height": "80px",
         "label": "data(name)",
         "text-max-width": "80px",
         "text-valign": "center",
         "text-wrap": "wrap",
         "width": "80px"
        }
       },
       {
        "selector": "node[label=\"ResearchInitiative\"]",
        "style": {
         "background-color": "#57C7E3",
         "border-color": "#23b3d7",
         "border-width": "2px",
         "font-size": "10px",
         "height": "80px",
         "label": "data(name)",
         "text-max-width": "80px",
         "text-valign": "center",
         "text-wrap": "wrap",
         "width": "80px"
        }
       }
      ],
      "desktop_tap_threshold": 4,
      "graph": "IPY_MODEL_32e337f6a39d44d4854b0cc81f0b7cda",
      "headless": false,
      "hide_edges_on_viewport": false,
      "layout": "IPY_MODEL_c70822fac270430093ef055ffe2cbef9",
      "max_zoom": 1e+50,
      "min_zoom": 1e-50,
      "motion_blur": false,
      "motion_blur_opacity": 0.2,
      "panning_enabled": true,
      "pixel_ratio": "auto",
      "rendered_position": {
       "renderedPosition": {
        "x": 100,
        "y": 100
       }
      },
      "selection_type": "single",
      "style_enabled": true,
      "texture_on_viewport": false,
      "tooltip_source": "tooltip",
      "touch_tap_threshold": 8,
      "user_panning_enabled": true,
      "user_zooming_enabled": true,
      "wheel_sensitivity": 1,
      "zoom": 2,
      "zooming_enabled": true
     }
    },
    "77640ba14fa240a1858f59dbbf088b5b": {
     "model_module": "jupyter-cytoscape",
     "model_module_version": "^1.3.3",
     "model_name": "EdgeModel",
     "state": {
      "_model_module": "jupyter-cytoscape",
      "_model_module_version": "^1.3.3",
      "_model_name": "EdgeModel",
      "_view_count": null,
      "_view_module": "jupyter-cytoscape",
      "_view_module_version": "^1.3.3",
      "_view_name": "EdgeView",
      "classes": " directed  multiple_edges ",
      "data": {
       "name": "AUTHORED",
       "source": 980,
       "target": 2801
      },
      "pannable": true,
      "removed": false,
      "selectable": false,
      "selected": false
     }
    },
    "78a089f7a3a24db8b40c1d325b96a948": {
     "model_module": "jupyter-cytoscape",
     "model_module_version": "^1.3.3",
     "model_name": "EdgeModel",
     "state": {
      "_model_module": "jupyter-cytoscape",
      "_model_module_version": "^1.3.3",
      "_model_name": "EdgeModel",
      "_view_count": null,
      "_view_module": "jupyter-cytoscape",
      "_view_module_version": "^1.3.3",
      "_view_name": "EdgeView",
      "classes": " directed  multiple_edges ",
      "data": {
       "name": "PROVIDES",
       "source": 3753,
       "target": 582
      },
      "pannable": true,
      "removed": false,
      "selectable": false,
      "selected": false
     }
    },
    "79f0f29ea9b14ca18cc1ebade5fbb925": {
     "model_module": "jupyter-cytoscape",
     "model_module_version": "^1.3.3",
     "model_name": "EdgeModel",
     "state": {
      "_model_module": "jupyter-cytoscape",
      "_model_module_version": "^1.3.3",
      "_model_name": "EdgeModel",
      "_view_count": null,
      "_view_module": "jupyter-cytoscape",
      "_view_module_version": "^1.3.3",
      "_view_name": "EdgeView",
      "classes": " directed  multiple_edges ",
      "data": {
       "name": "AUTHORED",
       "source": 2075,
       "target": 2752
      },
      "pannable": true,
      "removed": false,
      "selectable": false,
      "selected": false
     }
    },
    "7aa6dfe3f88e4f39aeece7b33b500156": {
     "model_module": "jupyter-cytoscape",
     "model_module_version": "^1.3.3",
     "model_name": "NodeModel",
     "state": {
      "_model_module": "jupyter-cytoscape",
      "_model_module_version": "^1.3.3",
      "_model_name": "NodeModel",
      "_view_count": null,
      "_view_module": "jupyter-cytoscape",
      "_view_module_version": "^1.3.3",
      "_view_name": "NodeView",
      "classes": "",
      "data": {
       "firstName": "R",
       "fullName": "R Presti",
       "id": 1748,
       "label": "Researcher",
       "lastName": "Presti",
       "name": "Presti R",
       "tooltip": "Researcher\nid:s2authorid:6813377\nlastName:Presti\nname:Presti R\nfullName:R Presti\nfirstName:R"
      },
      "grabbable": true,
      "grabbed": false,
      "locked": false,
      "pannable": false,
      "position": {},
      "removed": false,
      "selectable": false,
      "selected": false
     }
    },
    "7c159f767ca340b580f1de5e33099657": {
     "model_module": "jupyter-cytoscape",
     "model_module_version": "^1.3.3",
     "model_name": "NodeModel",
     "state": {
      "_model_module": "jupyter-cytoscape",
      "_model_module_version": "^1.3.3",
      "_model_name": "NodeModel",
      "_view_count": null,
      "_view_module": "jupyter-cytoscape",
      "_view_module_version": "^1.3.3",
      "_view_name": "NodeView",
      "classes": "",
      "data": {
       "applicants": "Name of the organization(s) that filed the patent application (string[])",
       "filingDate": "Date the patent application was filed (date)",
       "grantedDate": "Date the patent was granted (date)",
       "id": 2746,
       "inventors": "Name of the inventors (string[])",
       "label": "MetaNode",
       "name": "Title of the patent (string)",
       "nodeName": "Patent",
       "status": "active or pending (string)",
       "tooltip": "MetaNode\nid:Identifier of the patents (string)\napplicants:Name of the organization(s) that filed the patent application (string[])\nstatus:active or pending (string)\nname:Title of the patent (string)\nnodeName:Patent\nfilingDate:Date the patent application was filed (date)\ninventors:Name of the inventors (string[])\ngrantedDate:Date the patent was granted (date)\nurl:URL of patent webpage (string)",
       "url": "URL of patent webpage (string)"
      },
      "grabbable": true,
      "grabbed": false,
      "locked": false,
      "pannable": false,
      "position": {},
      "removed": false,
      "selectable": false,
      "selected": false
     }
    },
    "7c3a69a5fad341dcbc56cffc0ad72b2a": {
     "model_module": "jupyter-cytoscape",
     "model_module_version": "^1.3.3",
     "model_name": "NodeModel",
     "state": {
      "_model_module": "jupyter-cytoscape",
      "_model_module_version": "^1.3.3",
      "_model_name": "NodeModel",
      "_view_count": null,
      "_view_module": "jupyter-cytoscape",
      "_view_module_version": "^1.3.3",
      "_view_name": "NodeView",
      "classes": "",
      "data": {
       "id": 2740,
       "label": "MetaNode",
       "name": "Name of the funding opportunity (string)",
       "nodeName": "FundingOpportunity",
       "tooltip": "MetaNode\nnodeName:FundingOpportunity\nname:Name of the funding opportunity (string)\nid:Unique identifier for the funding opportunity (Thesaurus:C20021) (string)\nurl:URL to funding opportunity description (string)",
       "url": "URL to funding opportunity description (string)"
      },
      "grabbable": true,
      "grabbed": false,
      "locked": false,
      "pannable": false,
      "position": {},
      "removed": false,
      "selectable": false,
      "selected": false
     }
    },
    "7d772341f4a0435883ff2433be536cb9": {
     "model_module": "jupyter-cytoscape",
     "model_module_version": "^1.3.3",
     "model_name": "NodeModel",
     "state": {
      "_model_module": "jupyter-cytoscape",
      "_model_module_version": "^1.3.3",
      "_model_name": "NodeModel",
      "_view_count": null,
      "_view_module": "jupyter-cytoscape",
      "_view_module_version": "^1.3.3",
      "_view_name": "NodeView",
      "classes": "",
      "data": {
       "id": 2737,
       "label": "MetaNode",
       "name": "Name of the dataset (string)",
       "nodeName": "Dataset",
       "tooltip": "MetaNode\nid:Unique identifier for the dataset (string)\nname:Name of the dataset (string)\nnodeName:Dataset\nurl:URL to dataset landing page (string)",
       "url": "URL to dataset landing page (string)"
      },
      "grabbable": true,
      "grabbed": false,
      "locked": false,
      "pannable": false,
      "position": {},
      "removed": false,
      "selectable": false,
      "selected": false
     }
    },
    "7d82c098f06046768bfec8d8112f1a10": {
     "model_module": "jupyter-cytoscape",
     "model_module_version": "^1.3.3",
     "model_name": "EdgeModel",
     "state": {
      "_model_module": "jupyter-cytoscape",
      "_model_module_version": "^1.3.3",
      "_model_name": "EdgeModel",
      "_view_count": null,
      "_view_module": "jupyter-cytoscape",
      "_view_module_version": "^1.3.3",
      "_view_name": "EdgeView",
      "classes": " directed  multiple_edges ",
      "data": {
       "from": "Unique identifier for the research initiative (string)",
       "name": "MetaRelationship",
       "relationshipName": "SUPPORTED",
       "source": 2741,
       "target": 2745,
       "to": "Unique identifier for the grant (Thesaurus:C16644) (string)"
      },
      "pannable": true,
      "removed": false,
      "selectable": false,
      "selected": false
     }
    },
    "7def45973d534154a2e9b1200be944ab": {
     "model_module": "jupyter-cytoscape",
     "model_module_version": "^1.3.3",
     "model_name": "CytoscapeModel",
     "state": {
      "_dom_classes": [],
      "_interaction_handlers": {},
      "_model_module": "jupyter-cytoscape",
      "_model_module_version": "^1.3.3",
      "_model_name": "CytoscapeModel",
      "_view_count": null,
      "_view_module": "jupyter-cytoscape",
      "_view_module_version": "^1.3.3",
      "_view_name": "CytoscapeView",
      "auto_ungrabify": false,
      "auto_unselectify": true,
      "autolock": false,
      "box_selection_enabled": false,
      "cytoscape_layout": {
       "name": "cola",
       "nodeDimensionsIncludeLabels": true,
       "nodeSpacing": 65,
       "padding": 40,
       "unconstrIter": 5000
      },
      "cytoscape_style": [
       {
        "selector": "node",
        "style": {
         "label": "data(nodeName)"
        }
       }
      ],
      "desktop_tap_threshold": 4,
      "graph": "IPY_MODEL_df2f9f70bb7a49808bd3a7850f99b42f",
      "headless": false,
      "hide_edges_on_viewport": false,
      "layout": "IPY_MODEL_20e5b30c6db34e23ac90c52399e14780",
      "max_zoom": 1e+50,
      "min_zoom": 1e-50,
      "motion_blur": false,
      "motion_blur_opacity": 0.2,
      "panning_enabled": true,
      "pixel_ratio": "auto",
      "rendered_position": {
       "renderedPosition": {
        "x": 100,
        "y": 100
       }
      },
      "selection_type": "single",
      "style_enabled": true,
      "texture_on_viewport": false,
      "tooltip_source": "tooltip",
      "touch_tap_threshold": 8,
      "user_panning_enabled": true,
      "user_zooming_enabled": true,
      "wheel_sensitivity": 1,
      "zoom": 2,
      "zooming_enabled": true
     }
    },
    "7f91c51e057743b8994fedea29912609": {
     "model_module": "jupyter-cytoscape",
     "model_module_version": "^1.3.3",
     "model_name": "NodeModel",
     "state": {
      "_model_module": "jupyter-cytoscape",
      "_model_module_version": "^1.3.3",
      "_model_name": "NodeModel",
      "_view_count": null,
      "_view_module": "jupyter-cytoscape",
      "_view_module_version": "^1.3.3",
      "_view_name": "NodeView",
      "classes": "",
      "data": {
       "firstName": "Carla",
       "fullName": "Carla M Yuede",
       "id": 2363,
       "label": "Researcher",
       "lastName": "Yuede",
       "middleName": "M",
       "name": "Yuede CM",
       "tooltip": "Researcher\nmiddleName:M\nid:s2authorid:5375227\nlastName:Yuede\nname:Yuede CM\nfullName:Carla M Yuede\nfirstName:Carla"
      },
      "grabbable": true,
      "grabbed": false,
      "locked": false,
      "pannable": false,
      "position": {},
      "removed": false,
      "selectable": false,
      "selected": false
     }
    },
    "83ed3ea835cd4cb793b927c0c065e415": {
     "model_module": "jupyter-cytoscape",
     "model_module_version": "^1.3.3",
     "model_name": "NodeModel",
     "state": {
      "_model_module": "jupyter-cytoscape",
      "_model_module_version": "^1.3.3",
      "_model_name": "NodeModel",
      "_view_count": null,
      "_view_module": "jupyter-cytoscape",
      "_view_module_version": "^1.3.3",
      "_view_name": "NodeView",
      "classes": "",
      "data": {
       "firstName": "Usha",
       "fullName": "Usha Sethuraman",
       "id": 666,
       "label": "Researcher",
       "lastName": "Sethuraman",
       "name": "Sethuraman U",
       "orcid": "orcid:0000-0002-5183-0325",
       "profileId": "profileid:9832700",
       "tooltip": "Researcher\nid:profileid:9832700\nlastName:Sethuraman\norcid:orcid:0000-0002-5183-0325\nprofileId:profileid:9832700\nname:Sethuraman U\nfullName:Usha Sethuraman\nfirstName:Usha"
      },
      "grabbable": true,
      "grabbed": false,
      "locked": false,
      "pannable": false,
      "position": {},
      "removed": false,
      "selectable": false,
      "selected": false
     }
    },
    "8463cf84a26844ad85ecae812a3b006f": {
     "model_module": "jupyter-cytoscape",
     "model_module_version": "^1.3.3",
     "model_name": "EdgeModel",
     "state": {
      "_model_module": "jupyter-cytoscape",
      "_model_module_version": "^1.3.3",
      "_model_name": "EdgeModel",
      "_view_count": null,
      "_view_module": "jupyter-cytoscape",
      "_view_module_version": "^1.3.3",
      "_view_name": "EdgeView",
      "classes": " directed  multiple_edges ",
      "data": {
       "name": "IS_INVENTOR",
       "source": 661,
       "target": 2425
      },
      "pannable": true,
      "removed": false,
      "selectable": false,
      "selected": false
     }
    },
    "872d0d36ad584668956ae0fc755c25e4": {
     "model_module": "jupyter-cytoscape",
     "model_module_version": "^1.3.3",
     "model_name": "EdgeModel",
     "state": {
      "_model_module": "jupyter-cytoscape",
      "_model_module_version": "^1.3.3",
      "_model_name": "EdgeModel",
      "_view_count": null,
      "_view_module": "jupyter-cytoscape",
      "_view_module_version": "^1.3.3",
      "_view_name": "EdgeView",
      "classes": " directed  multiple_edges ",
      "data": {
       "isContactPi": true,
       "isPi": true,
       "isStudyInvestigator": true,
       "name": "IS_INVESTIGATOR_OF",
       "source": 668,
       "target": 589
      },
      "pannable": true,
      "removed": false,
      "selectable": false,
      "selected": false
     }
    },
    "8a4156a0a84248479cbbf932b628f0d9": {
     "model_module": "jupyter-cytoscape",
     "model_module_version": "^1.3.3",
     "model_name": "EdgeModel",
     "state": {
      "_model_module": "jupyter-cytoscape",
      "_model_module_version": "^1.3.3",
      "_model_name": "EdgeModel",
      "_view_count": null,
      "_view_module": "jupyter-cytoscape",
      "_view_module_version": "^1.3.3",
      "_view_name": "EdgeView",
      "classes": " directed  multiple_edges ",
      "data": {
       "isContactPi": true,
       "isPi": true,
       "isStudyInvestigator": true,
       "name": "IS_INVESTIGATOR_OF",
       "source": 666,
       "target": 587
      },
      "pannable": true,
      "removed": false,
      "selectable": false,
      "selected": false
     }
    },
    "8aeb98e7ad9e4ab7b8082bae90189ee0": {
     "model_module": "jupyter-cytoscape",
     "model_module_version": "^1.3.3",
     "model_name": "NodeModel",
     "state": {
      "_model_module": "jupyter-cytoscape",
      "_model_module_version": "^1.3.3",
      "_model_name": "NodeModel",
      "_view_count": null,
      "_view_module": "jupyter-cytoscape",
      "_view_module_version": "^1.3.3",
      "_view_name": "NodeView",
      "classes": "",
      "data": {
       "firstName": "T",
       "fullName": "T Bricker",
       "id": 935,
       "label": "Researcher",
       "lastName": "Bricker",
       "name": "Bricker T",
       "tooltip": "Researcher\nid:s2authorid:38184485\nlastName:Bricker\nname:Bricker T\nfullName:T Bricker\nfirstName:T"
      },
      "grabbable": true,
      "grabbed": false,
      "locked": false,
      "pannable": false,
      "position": {},
      "removed": false,
      "selectable": false,
      "selected": false
     }
    },
    "8b5a36a655b642739ea140a0679b3d62": {
     "model_module": "jupyter-cytoscape",
     "model_module_version": "^1.3.3",
     "model_name": "NodeModel",
     "state": {
      "_model_module": "jupyter-cytoscape",
      "_model_module_version": "^1.3.3",
      "_model_name": "NodeModel",
      "_view_count": null,
      "_view_module": "jupyter-cytoscape",
      "_view_module_version": "^1.3.3",
      "_view_name": "NodeView",
      "classes": "",
      "data": {
       "abstract": "Children have been disproportionately less impacted by the Corona Virus Disease 2019 (COVID-19) caused\nby the Severe Acute Respiratory Syndrome Corona Virus 2 (SAR-CoV-2) compared to adults. However,\nsevere illnesses including Multisystem Inflammatory Syndrome (MIS-C) and respiratory failure have occurred\nin a small proportion of children with SARS-CoV-2 infection. Nearly 80% of children with MIS-C are critically ill\nwith a 2-4% mortality rate. Currently there are no modalities to characterize the spectrum of disease severity\nand predict which child with SARS-CoV-2 exposure will likely develop severe illness including MIS-C. Thus\nthere is an urgent need to develop a diagnostic modality to distinguish the varying phenotypes of disease and\nrisk stratify disease. The epigenetic changes in microRNA (miRNA) profiles that occur due to an infection can\nimpact disease severity by altering immune response and cytokine regulation which may be detected in body\nfluids including saliva. Our long-term goal is to improve outcomes of children with SARS-CoV-2 by early\nidentification and treatment of those at risk for severe illness. Our central hypothesis is that a model that\nintegrates salivary biomarkers with social and clinical determinants of health will predict disease severity in\nchildren with SARS-CoV-2 infection. The central hypothesis will be pursued through phased four specific aims.\nThe first two aims will be pursued during the R61 phase and include: 1) Define and compare the salivary\nmolecular host response in children with varying phenotypes (severe and non severe) SARS-CoV-2 infections\nand 2) Develop and validate a sensitive and specific model to predict severe SARS-CoV-2 illness in children.\nDuring the R33 phase we will pursue the following two aims: 3) Develop a portable, rapid device that quantifies\nsalivary miRNAs with comparable accuracy to predicate technology (qRT-PCR), and 4) Develop an artificial\nintelligence (AI) assisted cloud and mobile system for early recognition of severe SARS-CoV-2 infection in\nchildren. We will pursue the above aims using an innovative combination of salivaomics and bioinformatics,\nanalytic techniques of AI and clinical informatics. The proposed research is significant because development of\na sensitive model to risk stratify disease is expected to improve outcomes of children with severe SARS-CoV-2\ninfection via early recognition and timely intervention. The proximate expected outcome of this proposal is\nbetter understanding of the epigenetic regulation of host immune response to the viral infection which we\nexpect to lead to personalized therapy in the future. The results will have a positive impact immediately as it\nwill lead to the creation of patient profiles based on individual risk factors which can enable early identification\nof severe disease and appropriate resource allocation during the pandemic.",
       "awardCode": "R61",
       "fundingMechanism": "Non-SBIR/STTR",
       "id": 587,
       "label": "Grant",
       "name": "Severity Predictors Integrating salivary Transcriptomics and proteomics with Multi neural network Intelligence in SARS-CoV2 infection in Children (SPITS MISC)",
       "narrative": "This project is relevant to public health as development of a predictive model that integrates salivary\nbiomarkers with clinical and social determinants into a bedside tool will enable early identification of\nsevere COVID-19 in children, ensure appropriate resource allocation and aid in targeted treatment.",
       "researchInitiative": "RADx-rad",
       "subProject": "PreVAIL kIds",
       "tooltip": "Grant\nabstract:Children have been disproportionately less impacted by the Corona Virus Disease 2019 (COVID-19) caused\nby the Severe Acute Respiratory Syndrome Corona Virus 2 (SAR-CoV-2) compared to adults. However,\nsevere illnesses including Multisystem Inflammatory Syndrome (MIS-C) and respiratory failure have occurred\nin a small proportion of children with SARS-CoV-2 infection. Nearly 80% of children with MIS-C are critically ill\nwith a 2-4% mortality rate. Currently there are no modalities to characterize the spectrum of disease severity\nand predict which child with SARS-CoV-2 exposure will likely develop severe illness including MIS-C. Thus\nthere is an urgent need to develop a diagnostic modality to distinguish the varying phenotypes of disease and\nrisk stratify disease. The epigenetic changes in microRNA (miRNA) profiles that occur due to an infection can\nimpact disease severity by altering immune response and cytokine regulation which may be detected in body\nfluids including saliva. Our long-term goal is to improve outcomes of children with SARS-CoV-2 by early\nidentification and treatment of those at risk for severe illness. Our central hypothesis is that a model that\nintegrates salivary biomarkers with social and clinical determinants of health will predict disease severity in\nchildren with SARS-CoV-2 infection. The central hypothesis will be pursued through phased four specific aims.\nThe first two aims will be pursued during the R61 phase and include: 1) Define and compare the salivary\nmolecular host response in children with varying phenotypes (severe and non severe) SARS-CoV-2 infections\nand 2) Develop and validate a sensitive and specific model to predict severe SARS-CoV-2 illness in children.\nDuring the R33 phase we will pursue the following two aims: 3) Develop a portable, rapid device that quantifies\nsalivary miRNAs with comparable accuracy to predicate technology (qRT-PCR), and 4) Develop an artificial\nintelligence (AI) assisted cloud and mobile system for early recognition of severe SARS-CoV-2 infection in\nchildren. We will pursue the above aims using an innovative combination of salivaomics and bioinformatics,\nanalytic techniques of AI and clinical informatics. The proposed research is significant because development of\na sensitive model to risk stratify disease is expected to improve outcomes of children with severe SARS-CoV-2\ninfection via early recognition and timely intervention. The proximate expected outcome of this proposal is\nbetter understanding of the epigenetic regulation of host immune response to the viral infection which we\nexpect to lead to personalized therapy in the future. The results will have a positive impact immediately as it\nwill lead to the creation of patient profiles based on individual risk factors which can enable early identification\nof severe disease and appropriate resource allocation during the pandemic.\nid:R61HD105610\nnarrative:This project is relevant to public health as development of a predictive model that integrates salivary\nbiomarkers with clinical and social determinants into a bedside tool will enable early identification of\nsevere COVID-19 in children, ensure appropriate resource allocation and aid in targeted treatment.\nname:Severity Predictors Integrating salivary Transcriptomics and proteomics with Multi neural network Intelligence in SARS-CoV2 infection in Children (SPITS MISC)\nsubProject:PreVAIL kIds\nresearchInitiative:RADx-rad\nfundingMechanism:Non-SBIR/STTR\nawardCode:R61"
      },
      "grabbable": true,
      "grabbed": false,
      "locked": false,
      "pannable": false,
      "position": {},
      "removed": false,
      "selectable": false,
      "selected": false
     }
    },
    "8cf245cf46f849449811dd83b51fccf9": {
     "model_module": "jupyter-cytoscape",
     "model_module_version": "^1.3.3",
     "model_name": "EdgeModel",
     "state": {
      "_model_module": "jupyter-cytoscape",
      "_model_module_version": "^1.3.3",
      "_model_name": "EdgeModel",
      "_view_count": null,
      "_view_module": "jupyter-cytoscape",
      "_view_module_version": "^1.3.3",
      "_view_name": "EdgeView",
      "classes": " directed  multiple_edges ",
      "data": {
       "name": "AUTHORED",
       "source": 1075,
       "target": 2801
      },
      "pannable": true,
      "removed": false,
      "selectable": false,
      "selected": false
     }
    },
    "8d543ca88dbf4079a7a5dc2af000f803": {
     "model_module": "jupyter-cytoscape",
     "model_module_version": "^1.3.3",
     "model_name": "EdgeModel",
     "state": {
      "_model_module": "jupyter-cytoscape",
      "_model_module_version": "^1.3.3",
      "_model_name": "EdgeModel",
      "_view_count": null,
      "_view_module": "jupyter-cytoscape",
      "_view_module_version": "^1.3.3",
      "_view_name": "EdgeView",
      "classes": " directed  multiple_edges ",
      "data": {
       "name": "AUTHORED",
       "source": 362,
       "target": 2752
      },
      "pannable": true,
      "removed": false,
      "selectable": false,
      "selected": false
     }
    },
    "8d785750d29349049b274204b60a4796": {
     "model_module": "jupyter-cytoscape",
     "model_module_version": "^1.3.3",
     "model_name": "EdgeModel",
     "state": {
      "_model_module": "jupyter-cytoscape",
      "_model_module_version": "^1.3.3",
      "_model_name": "EdgeModel",
      "_view_count": null,
      "_view_module": "jupyter-cytoscape",
      "_view_module_version": "^1.3.3",
      "_view_name": "EdgeView",
      "classes": " directed  multiple_edges ",
      "data": {
       "name": "AUTHORED",
       "source": 1075,
       "target": 2800
      },
      "pannable": true,
      "removed": false,
      "selectable": false,
      "selected": false
     }
    },
    "8e2e1c091f0d4e1a84ccd39c42ab417b": {
     "model_module": "jupyter-cytoscape",
     "model_module_version": "^1.3.3",
     "model_name": "EdgeModel",
     "state": {
      "_model_module": "jupyter-cytoscape",
      "_model_module_version": "^1.3.3",
      "_model_name": "EdgeModel",
      "_view_count": null,
      "_view_module": "jupyter-cytoscape",
      "_view_module_version": "^1.3.3",
      "_view_name": "EdgeView",
      "classes": " directed  multiple_edges ",
      "data": {
       "name": "IS_INVENTOR",
       "source": 2363,
       "target": 2425
      },
      "pannable": true,
      "removed": false,
      "selectable": false,
      "selected": false
     }
    },
    "8edaf0d167bf4ba6a0e582b2f76fdf1c": {
     "model_module": "jupyter-cytoscape",
     "model_module_version": "^1.3.3",
     "model_name": "NodeModel",
     "state": {
      "_model_module": "jupyter-cytoscape",
      "_model_module_version": "^1.3.3",
      "_model_name": "NodeModel",
      "_view_count": null,
      "_view_module": "jupyter-cytoscape",
      "_view_module_version": "^1.3.3",
      "_view_name": "NodeView",
      "classes": "",
      "data": {
       "abstract": "Airborne transmission via virus-laden aerosols is a dominant route for the transmission of respiratory diseases, including severe acute respiratory syndrome coronavirus 2 (SARS-CoV-2). Direct, non-invasive screening of respiratory virus aerosols in patients has been a long-standing technical challenge. Here, we introduce a point-of-care testing platform that directly detects SARS-CoV-2 aerosols in as little as two exhaled breaths of patients and provides results in under 60 s. It integrates a hand-held breath aerosol collector and a llama-derived, SARS-CoV-2 spike-protein specific nanobody bound to an ultrasensitive micro-immunoelectrode biosensor, which detects the oxidation of tyrosine amino acids present in SARS-CoV-2 viral particles. Laboratory and clinical trial results were within 20% of those obtained using standard testing methods. Importantly, the electrochemical biosensor directly detects the virus itself, as opposed to a surrogate or signature of the virus, and is sensitive to as little as 10 viral particles in a sample. Our platform holds the potential to be adapted for multiplexed detection of different respiratory viruses. It provides a rapid and non-invasive alternative to conventional viral diagnostics.",
       "doi": "doi:10.1021/acssensors.3c00512",
       "id": 2751,
       "journal": "ACS sensors",
       "label": "Publication",
       "name": "Rapid Direct Detection of SARS-CoV-2 Aerosols in Exhaled Breath at the Point of Care.",
       "pmId": "37498298",
       "pmcId": "PMC10463275",
       "tooltip": "Publication\njournal:ACS sensors\nabstract:Airborne transmission via virus-laden aerosols is a dominant route for the transmission of respiratory diseases, including severe acute respiratory syndrome coronavirus 2 (SARS-CoV-2). Direct, non-invasive screening of respiratory virus aerosols in patients has been a long-standing technical challenge. Here, we introduce a point-of-care testing platform that directly detects SARS-CoV-2 aerosols in as little as two exhaled breaths of patients and provides results in under 60 s. It integrates a hand-held breath aerosol collector and a llama-derived, SARS-CoV-2 spike-protein specific nanobody bound to an ultrasensitive micro-immunoelectrode biosensor, which detects the oxidation of tyrosine amino acids present in SARS-CoV-2 viral particles. Laboratory and clinical trial results were within 20% of those obtained using standard testing methods. Importantly, the electrochemical biosensor directly detects the virus itself, as opposed to a surrogate or signature of the virus, and is sensitive to as little as 10 viral particles in a sample. Our platform holds the potential to be adapted for multiplexed detection of different respiratory viruses. It provides a rapid and non-invasive alternative to conventional viral diagnostics.\nid:doi:10.1021/acssensors.3c00512\nname:Rapid Direct Detection of SARS-CoV-2 Aerosols in Exhaled Breath at the Point of Care.\npmId:37498298\nyear:2023\ntype:primary\npmcId:PMC10463275\nurl:https://doi.org/doi:10.1021/acssensors.3c00512\ndoi:doi:10.1021/acssensors.3c00512",
       "type": "primary",
       "url": "https://doi.org/doi:10.1021/acssensors.3c00512",
       "year": 2023
      },
      "grabbable": true,
      "grabbed": false,
      "locked": false,
      "pannable": false,
      "position": {},
      "removed": false,
      "selectable": false,
      "selected": false
     }
    },
    "91410991ce06404d8dfdb64b8c871551": {
     "model_module": "jupyter-cytoscape",
     "model_module_version": "^1.3.3",
     "model_name": "EdgeModel",
     "state": {
      "_model_module": "jupyter-cytoscape",
      "_model_module_version": "^1.3.3",
      "_model_name": "EdgeModel",
      "_view_count": null,
      "_view_module": "jupyter-cytoscape",
      "_view_module_version": "^1.3.3",
      "_view_name": "EdgeView",
      "classes": " directed  multiple_edges ",
      "data": {
       "name": "AUTHORED",
       "source": 935,
       "target": 2751
      },
      "pannable": true,
      "removed": false,
      "selectable": false,
      "selected": false
     }
    },
    "93e48d47bd2d414b8cb3122285d8dd0d": {
     "model_module": "jupyter-cytoscape",
     "model_module_version": "^1.3.3",
     "model_name": "NodeModel",
     "state": {
      "_model_module": "jupyter-cytoscape",
      "_model_module_version": "^1.3.3",
      "_model_name": "NodeModel",
      "_view_count": null,
      "_view_module": "jupyter-cytoscape",
      "_view_module_version": "^1.3.3",
      "_view_name": "NodeView",
      "classes": "",
      "data": {
       "abstract": "The main protease (Mpro ) and papain-like protease (PLpro ) play critical roles in SARS-CoV-2 replication and are promising targets for antiviral inhibitors. The simultaneous visualization of Mpro and PLpro is extremely valuable for SARS-CoV-2 detection and rapid inhibitor screening. However, such a crucial investigation has remained challenging because of the lack of suitable probes. We have now developed a dual-color probe (3MBP5) for the simultaneous detection of Mpro and PLpro by fluorescence (or Förster) resonance energy transfer (FRET). This probe produces fluorescence from both the Cy3 and Cy5 fluorophores that are cleaved by Mpro and PLpro . 3MBP5-activatable specificity was demonstrated with recombinant proteins, inhibitors, plasmid-transfected HEK 293T cells, and SARS-CoV-2-infected TMPRSS2-Vero cells. Results from the dual-color probe first verified the simultaneous detection and intracellular distribution of SARS-CoV-2 Mpro and PLpro . This is a powerful tool for the simultaneous detection of different proteases with value for the rapid screening of inhibitors.",
       "doi": "doi:10.1002/anie.202113617",
       "id": 2805,
       "journal": "Angewandte Chemie (International ed. in English)",
       "label": "Publication",
       "name": "A Dual-Color Fluorescent Probe Allows Simultaneous Imaging of Main and Papain-like Proteases of SARS-CoV-2-Infected Cells for Accurate Detection and Rapid Inhibitor Screening.",
       "pmId": "34889013",
       "pmcId": "PMC8854376",
       "tooltip": "Publication\njournal:Angewandte Chemie (International ed. in English)\nabstract:The main protease (Mpro ) and papain-like protease (PLpro ) play critical roles in SARS-CoV-2 replication and are promising targets for antiviral inhibitors. The simultaneous visualization of Mpro and PLpro is extremely valuable for SARS-CoV-2 detection and rapid inhibitor screening. However, such a crucial investigation has remained challenging because of the lack of suitable probes. We have now developed a dual-color probe (3MBP5) for the simultaneous detection of Mpro and PLpro by fluorescence (or Förster) resonance energy transfer (FRET). This probe produces fluorescence from both the Cy3 and Cy5 fluorophores that are cleaved by Mpro and PLpro . 3MBP5-activatable specificity was demonstrated with recombinant proteins, inhibitors, plasmid-transfected HEK 293T cells, and SARS-CoV-2-infected TMPRSS2-Vero cells. Results from the dual-color probe first verified the simultaneous detection and intracellular distribution of SARS-CoV-2 Mpro and PLpro . This is a powerful tool for the simultaneous detection of different proteases with value for the rapid screening of inhibitors.\nid:doi:10.1002/anie.202113617\nname:A Dual-Color Fluorescent Probe Allows Simultaneous Imaging of Main and Papain-like Proteases of SARS-CoV-2-Infected Cells for Accurate Detection and Rapid Inhibitor Screening.\npmId:34889013\nyear:2022\ntype:primary\npmcId:PMC8854376\nurl:https://doi.org/doi:10.1002/anie.202113617\ndoi:doi:10.1002/anie.202113617",
       "type": "primary",
       "url": "https://doi.org/doi:10.1002/anie.202113617",
       "year": 2022
      },
      "grabbable": true,
      "grabbed": false,
      "locked": false,
      "pannable": false,
      "position": {},
      "removed": false,
      "selectable": false,
      "selected": false
     }
    },
    "943a31dd47d041779eec3a7a417edf6f": {
     "model_module": "jupyter-cytoscape",
     "model_module_version": "^1.3.3",
     "model_name": "EdgeModel",
     "state": {
      "_model_module": "jupyter-cytoscape",
      "_model_module_version": "^1.3.3",
      "_model_name": "EdgeModel",
      "_view_count": null,
      "_view_module": "jupyter-cytoscape",
      "_view_module_version": "^1.3.3",
      "_view_name": "EdgeView",
      "classes": " directed  multiple_edges ",
      "data": {
       "from": "Unique identifier for the researcher (string)",
       "name": "MetaRelationship",
       "relationshipName": "DEVELOPED",
       "source": 2736,
       "target": 2742,
       "to": "Unique identifier for the software application or software repository (string)"
      },
      "pannable": true,
      "removed": false,
      "selectable": false,
      "selected": false
     }
    },
    "9788a40ef30f45ebb304dcc513e3b3c4": {
     "model_module": "jupyter-cytoscape",
     "model_module_version": "^1.3.3",
     "model_name": "EdgeModel",
     "state": {
      "_model_module": "jupyter-cytoscape",
      "_model_module_version": "^1.3.3",
      "_model_name": "EdgeModel",
      "_view_count": null,
      "_view_module": "jupyter-cytoscape",
      "_view_module_version": "^1.3.3",
      "_view_name": "EdgeView",
      "classes": " directed  multiple_edges ",
      "data": {
       "name": "AUTHORED",
       "source": 668,
       "target": 2800
      },
      "pannable": true,
      "removed": false,
      "selectable": false,
      "selected": false
     }
    },
    "98b8ce49b9704531b953ba94cffb893a": {
     "model_module": "jupyter-cytoscape",
     "model_module_version": "^1.3.3",
     "model_name": "NodeModel",
     "state": {
      "_model_module": "jupyter-cytoscape",
      "_model_module_version": "^1.3.3",
      "_model_name": "NodeModel",
      "_view_count": null,
      "_view_module": "jupyter-cytoscape",
      "_view_module_version": "^1.3.3",
      "_view_name": "NodeView",
      "classes": "",
      "data": {
       "abstract": "This work is directed at characterizing pediatric COVID-19 and stratifying incoming patients by projected\n(future) disease severity. Such stratification has several implications: immediately improving treatment planning, and\nas disease mechanistic pathways are uncovered, directing treatment. Predicting future severity will inform the risks of\noutpatient treatment; to the patients themselves, their family, other caregivers/cohabitants, and to schools and\nemployers. As varying levels of “reopening” are adopted across the country (and the world), such prognostication will\ninform policy on the handling of pediatric carriers in the community. Based on our preliminary analysis we assert that\na combination of novel assays including quantitative serology inflammatory markers (cytokine/chemokine profiles,\nimmune profiles), transcriptomics, epigenomics, longitudinal physiological monitoring, time series analysis, imaging,\nradiomics and clinical observation including social determinants of health, contains adequate information even at early\nstages of infection to stratify the disease and predict disease severity. We propose an artificial intelligence/machine\nlearning approach to integrate this rich and heterogeneous dataset, characterize the spectrum of disease and identify\nbiosignatures that predict severity in progressive disease. To facilitate translation of the approaches developed in this\nwork to a wide user community, we incorporate a Translational Development function, to oversee the design-control\nprocess and ensure readiness of our methods for regulatory review. Incorporated into our timelines are appropriate\nregulatory milestones intended to conform with the Emergency Use Authorization (EUA) programs in effect for SARS-\nCoV-2 diagnostics.",
       "awardCode": "R61",
       "fundingMechanism": "Non-SBIR/STTR",
       "id": 564,
       "label": "Grant",
       "name": "AICORE-kids: Artificial Intelligence COVID-19 Risk AssEssment for kids",
       "narrative": "We propose an artificial intelligence/machine learning approach to integrate a rich and heterogeneous dataset\non COVID-19 in children, characterize the spectrum of disease and identify biosignatures that predict severity in\nprogressive disease. To facilitate translation of the approaches developed in this work to a wide user community, we\nincorporate a Translational Development function, to oversee the design-control process and ensure readiness of our\nmethods for regulatory review. Incorporated into our timelines are appropriate regulatory milestones intended to\nconform with the Emergency Use Authorization (EUA) programs in effect for SARS-CoV-2 diagnostics.",
       "researchInitiative": "RADx-rad",
       "subProject": "PreVAIL kIds",
       "tooltip": "Grant\nresearchInitiative:RADx-rad\nnarrative:We propose an artificial intelligence/machine learning approach to integrate a rich and heterogeneous dataset\non COVID-19 in children, characterize the spectrum of disease and identify biosignatures that predict severity in\nprogressive disease. To facilitate translation of the approaches developed in this work to a wide user community, we\nincorporate a Translational Development function, to oversee the design-control process and ensure readiness of our\nmethods for regulatory review. Incorporated into our timelines are appropriate regulatory milestones intended to\nconform with the Emergency Use Authorization (EUA) programs in effect for SARS-CoV-2 diagnostics.\nname:AICORE-kids: Artificial Intelligence COVID-19 Risk AssEssment for kids\nsubProject:PreVAIL kIds\nfundingMechanism:Non-SBIR/STTR\nawardCode:R61\nabstract:This work is directed at characterizing pediatric COVID-19 and stratifying incoming patients by projected\n(future) disease severity. Such stratification has several implications: immediately improving treatment planning, and\nas disease mechanistic pathways are uncovered, directing treatment. Predicting future severity will inform the risks of\noutpatient treatment; to the patients themselves, their family, other caregivers/cohabitants, and to schools and\nemployers. As varying levels of “reopening” are adopted across the country (and the world), such prognostication will\ninform policy on the handling of pediatric carriers in the community. Based on our preliminary analysis we assert that\na combination of novel assays including quantitative serology inflammatory markers (cytokine/chemokine profiles,\nimmune profiles), transcriptomics, epigenomics, longitudinal physiological monitoring, time series analysis, imaging,\nradiomics and clinical observation including social determinants of health, contains adequate information even at early\nstages of infection to stratify the disease and predict disease severity. We propose an artificial intelligence/machine\nlearning approach to integrate this rich and heterogeneous dataset, characterize the spectrum of disease and identify\nbiosignatures that predict severity in progressive disease. To facilitate translation of the approaches developed in this\nwork to a wide user community, we incorporate a Translational Development function, to oversee the design-control\nprocess and ensure readiness of our methods for regulatory review. Incorporated into our timelines are appropriate\nregulatory milestones intended to conform with the Emergency Use Authorization (EUA) programs in effect for SARS-\nCoV-2 diagnostics.\nid:R61HD105593"
      },
      "grabbable": true,
      "grabbed": false,
      "locked": false,
      "pannable": false,
      "position": {},
      "removed": false,
      "selectable": false,
      "selected": false
     }
    },
    "997c3389fb2c4e67b4da08f8369440b4": {
     "model_module": "jupyter-cytoscape",
     "model_module_version": "^1.3.3",
     "model_name": "NodeModel",
     "state": {
      "_model_module": "jupyter-cytoscape",
      "_model_module_version": "^1.3.3",
      "_model_name": "NodeModel",
      "_view_count": null,
      "_view_module": "jupyter-cytoscape",
      "_view_module_version": "^1.3.3",
      "_view_name": "NodeView",
      "classes": "",
      "data": {
       "abstract": "Vulnerable populations do not just need testing—they need surveillance. The ideal surveillance tool would\noperate in the background with minimal involvement of the population to be tested; it would be simple,\naffordable, reliable, and accurate. Unfortunately, no such surveillance system yet exists. Here, we propose\na “smart mask” that changes colors when the wearer has been exposed to biomarkers (proteases) of\nCOVID-19. These proteases are known to be in saliva, and the smart mask will concentrate the proteases\nfrom aerosolized saliva when the subject breathes and speaks through the smart mask. This is a simple\nyet novel approach to surveillance because most people are already wearing masks—especially in high-\nrisk settings. Our first goal is to optimize the reagents that will monitor the proteases. We will customize\nthe peptide sequences such that the reagents change color only when two key SARS proteases are\npresent. After characterizing the colorimetric reagents, Aim 2 will integrate these reagents into an adhesive\nstrip (i.e., a sticker) that can be affixed to any existing cloth or surgical mask. Aim 3 is validation with human\nsubjects. First, we will use biobanked saliva samples that are confirmed to be either COVID-19-positive or\nCOVID-19-negative. Next, we will evaluate how long people infected with SARS-CoV-2 must breathe\nthrough the smart mask before it changes colors. Finally, we will use the smart mask for surveillance of a\npopulation that is concurrently being tested regularly via PCR. We will calculate the sensitivity and\nspecificity of the smart masks through comparison to PCR. We will measure true positives, true negatives,\nfalse positives, and false negatives and estimate needing 800 subjects, which is very feasible at our\ninstitution. Our team is well-suited to conduct this research because of Dr. Jokerst’s training colorimetric\nsensing; Drs. Penny, Knight, and Laurent have decades of human subjects research experience, and Dr.\nTu offers biostatistical experience to confirm study design. This work could have a significant impact on\nthe pandemic because our proposed design combines the simplicity of the home pregnancy test with the\nspecificity of expensive viral-based assays. It is practical because it uses the masks that are already\ncommon in daily life and reports the presence of SARS viruses via a simple color change. While a vaccine\nwill hopefully be deployed during the course of this work, the proteases evaluated here have been\nimplicated in a variety of SARS viruses. Thus, this work will be useful should future pandemics emerge.",
       "awardCode": "R01",
       "fundingMechanism": "Non-SBIR/STTR",
       "id": 589,
       "label": "Grant",
       "name": "Validation of Smart Masks for Surveillance of COVID-19",
       "narrative": "We propose to build a mask that changes color when the wearer has COVID-19 or has been\nexposed to COVID-19. Mask-wearing is currently widespread and thus adding this colorimetric\nsensing approach is a simple yet innovative way to perform surveillance especially among\nvulnerable groups. After building and characterizing this mask, we will validate it in group of at-risk\nindividuals.",
       "researchInitiative": "RADx-rad",
       "subProject": "Multimodal Surveillance",
       "tooltip": "Grant\nresearchInitiative:RADx-rad\nnarrative:We propose to build a mask that changes color when the wearer has COVID-19 or has been\nexposed to COVID-19. Mask-wearing is currently widespread and thus adding this colorimetric\nsensing approach is a simple yet innovative way to perform surveillance especially among\nvulnerable groups. After building and characterizing this mask, we will validate it in group of at-risk\nindividuals.\nname:Validation of Smart Masks for Surveillance of COVID-19\nsubProject:Multimodal Surveillance\nfundingMechanism:Non-SBIR/STTR\nawardCode:R01\nabstract:Vulnerable populations do not just need testing—they need surveillance. The ideal surveillance tool would\noperate in the background with minimal involvement of the population to be tested; it would be simple,\naffordable, reliable, and accurate. Unfortunately, no such surveillance system yet exists. Here, we propose\na “smart mask” that changes colors when the wearer has been exposed to biomarkers (proteases) of\nCOVID-19. These proteases are known to be in saliva, and the smart mask will concentrate the proteases\nfrom aerosolized saliva when the subject breathes and speaks through the smart mask. This is a simple\nyet novel approach to surveillance because most people are already wearing masks—especially in high-\nrisk settings. Our first goal is to optimize the reagents that will monitor the proteases. We will customize\nthe peptide sequences such that the reagents change color only when two key SARS proteases are\npresent. After characterizing the colorimetric reagents, Aim 2 will integrate these reagents into an adhesive\nstrip (i.e., a sticker) that can be affixed to any existing cloth or surgical mask. Aim 3 is validation with human\nsubjects. First, we will use biobanked saliva samples that are confirmed to be either COVID-19-positive or\nCOVID-19-negative. Next, we will evaluate how long people infected with SARS-CoV-2 must breathe\nthrough the smart mask before it changes colors. Finally, we will use the smart mask for surveillance of a\npopulation that is concurrently being tested regularly via PCR. We will calculate the sensitivity and\nspecificity of the smart masks through comparison to PCR. We will measure true positives, true negatives,\nfalse positives, and false negatives and estimate needing 800 subjects, which is very feasible at our\ninstitution. Our team is well-suited to conduct this research because of Dr. Jokerst’s training colorimetric\nsensing; Drs. Penny, Knight, and Laurent have decades of human subjects research experience, and Dr.\nTu offers biostatistical experience to confirm study design. This work could have a significant impact on\nthe pandemic because our proposed design combines the simplicity of the home pregnancy test with the\nspecificity of expensive viral-based assays. It is practical because it uses the masks that are already\ncommon in daily life and reports the presence of SARS viruses via a simple color change. While a vaccine\nwill hopefully be deployed during the course of this work, the proteases evaluated here have been\nimplicated in a variety of SARS viruses. Thus, this work will be useful should future pandemics emerge.\nid:R01DE031114"
      },
      "grabbable": true,
      "grabbed": false,
      "locked": false,
      "pannable": false,
      "position": {},
      "removed": false,
      "selectable": false,
      "selected": false
     }
    },
    "9a2d9a0f567a44e5bc37663a2f6844e2": {
     "model_module": "jupyter-cytoscape",
     "model_module_version": "^1.3.3",
     "model_name": "NodeModel",
     "state": {
      "_model_module": "jupyter-cytoscape",
      "_model_module_version": "^1.3.3",
      "_model_name": "NodeModel",
      "_view_count": null,
      "_view_module": "jupyter-cytoscape",
      "_view_module_version": "^1.3.3",
      "_view_name": "NodeView",
      "classes": "",
      "data": {
       "abstract": "Real-time surveillance of airborne SARS-CoV-2 virus is a technological gap that has eluded the scientific community since the beginning of the COVID-19 pandemic. Offline air sampling techniques for SARS-CoV-2 detection suffer from longer turnaround times and require skilled labor. Here, we present a proof-of-concept pathogen Air Quality (pAQ) monitor for real-time (5 min time resolution) direct detection of SARS-CoV-2 aerosols. The system synergistically integrates a high flow (~1000 lpm) wet cyclone air sampler and a nanobody-based ultrasensitive micro-immunoelectrode biosensor. The wet cyclone showed comparable or better virus sampling performance than commercially available samplers. Laboratory experiments demonstrate a device sensitivity of 77-83% and a limit of detection of 7-35 viral RNA copies/m3 of air. Our pAQ monitor is suited for point-of-need surveillance of SARS-CoV-2 variants in indoor environments and can be adapted for multiplexed detection of other respiratory pathogens of interest. Widespread adoption of such technology could assist public health officials with implementing rapid disease control measures.",
       "doi": "doi:10.1038/s41467-023-39419-z",
       "id": 2752,
       "journal": "Nature communications",
       "label": "Publication",
       "name": "Real-time environmental surveillance of SARS-CoV-2 aerosols.",
       "pmId": "37429842",
       "pmcId": "PMC10333287",
       "tooltip": "Publication\njournal:Nature communications\nabstract:Real-time surveillance of airborne SARS-CoV-2 virus is a technological gap that has eluded the scientific community since the beginning of the COVID-19 pandemic. Offline air sampling techniques for SARS-CoV-2 detection suffer from longer turnaround times and require skilled labor. Here, we present a proof-of-concept pathogen Air Quality (pAQ) monitor for real-time (5 min time resolution) direct detection of SARS-CoV-2 aerosols. The system synergistically integrates a high flow (~1000 lpm) wet cyclone air sampler and a nanobody-based ultrasensitive micro-immunoelectrode biosensor. The wet cyclone showed comparable or better virus sampling performance than commercially available samplers. Laboratory experiments demonstrate a device sensitivity of 77-83% and a limit of detection of 7-35 viral RNA copies/m3 of air. Our pAQ monitor is suited for point-of-need surveillance of SARS-CoV-2 variants in indoor environments and can be adapted for multiplexed detection of other respiratory pathogens of interest. Widespread adoption of such technology could assist public health officials with implementing rapid disease control measures.\nid:doi:10.1038/s41467-023-39419-z\nname:Real-time environmental surveillance of SARS-CoV-2 aerosols.\npmId:37429842\nyear:2023\ntype:primary\npmcId:PMC10333287\nurl:https://doi.org/doi:10.1038/s41467-023-39419-z\ndoi:doi:10.1038/s41467-023-39419-z",
       "type": "primary",
       "url": "https://doi.org/doi:10.1038/s41467-023-39419-z",
       "year": 2023
      },
      "grabbable": true,
      "grabbed": false,
      "locked": false,
      "pannable": false,
      "position": {},
      "removed": false,
      "selectable": false,
      "selected": false
     }
    },
    "9b735a6eac27412c9dd657dca8888eb7": {
     "model_module": "jupyter-cytoscape",
     "model_module_version": "^1.3.3",
     "model_name": "NodeModel",
     "state": {
      "_model_module": "jupyter-cytoscape",
      "_model_module_version": "^1.3.3",
      "_model_name": "NodeModel",
      "_view_count": null,
      "_view_module": "jupyter-cytoscape",
      "_view_module_version": "^1.3.3",
      "_view_name": "NodeView",
      "classes": "",
      "data": {
       "abstract": "Abstract of the publication (string)",
       "doi": "Digital Object Identifier of the publication (string)",
       "id": 2739,
       "journal": "Name of the journal (string)",
       "label": "MetaNode",
       "name": "Title of the publication (string)",
       "nodeName": "Publication",
       "pmId": "PubMed identifier of the publication (string)",
       "pmcId": "PubMedCentral identifier of the publication full text entry (string)",
       "tooltip": "MetaNode\njournal:Name of the journal (string)\nid:Unique identifier for the publication (string)\nabstract:Abstract of the publication (string)\nname:Title of the publication (string)\nnodeName:Publication\npmId:PubMed identifier of the publication (string)\nyear:Year of publication (int)\ntype:primary or secondary citation (string)\npmcId:PubMedCentral identifier of the publication full text entry (string)\nurl:URL of publication (string)\ndoi:Digital Object Identifier of the publication (string)",
       "type": "primary or secondary citation (string)",
       "url": "URL of publication (string)",
       "year": "Year of publication (int)"
      },
      "grabbable": true,
      "grabbed": false,
      "locked": false,
      "pannable": false,
      "position": {},
      "removed": false,
      "selectable": false,
      "selected": false
     }
    },
    "9d3349df57384f3eb335e0146293809d": {
     "model_module": "jupyter-cytoscape",
     "model_module_version": "^1.3.3",
     "model_name": "NodeModel",
     "state": {
      "_model_module": "jupyter-cytoscape",
      "_model_module_version": "^1.3.3",
      "_model_name": "NodeModel",
      "_view_count": null,
      "_view_module": "jupyter-cytoscape",
      "_view_module_version": "^1.3.3",
      "_view_name": "NodeView",
      "classes": "",
      "data": {
       "abstract": "Project abstract (string)",
       "awardCode": "Code of award (string)",
       "fundingMechanism": "The type of award (Thesaurus:C20020) (string)",
       "id": 2745,
       "label": "MetaNode",
       "name": "Title of the project (string)",
       "narrative": "Short description (string)",
       "nodeName": "Grant",
       "researchInitiative": "The initiative or program associated with this grant (string)",
       "subProject": "A group of grants on related research areas (string)",
       "tooltip": "MetaNode\nid:Unique identifier for the grant (Thesaurus:C16644) (string)\nabstract:Project abstract (string)\nnarrative:Short description (string)\nname:Title of the project (string)\nnodeName:Grant\nsubProject:A group of grants on related research areas (string)\nresearchInitiative:The initiative or program associated with this grant (string)\nfundingMechanism:The type of award (Thesaurus:C20020) (string)\nawardCode:Code of award (string)"
      },
      "grabbable": true,
      "grabbed": false,
      "locked": false,
      "pannable": false,
      "position": {},
      "removed": false,
      "selectable": false,
      "selected": false
     }
    },
    "9db02e9a3bad4b9384b95d1c659c588b": {
     "model_module": "jupyter-cytoscape",
     "model_module_version": "^1.3.3",
     "model_name": "NodeModel",
     "state": {
      "_model_module": "jupyter-cytoscape",
      "_model_module_version": "^1.3.3",
      "_model_name": "NodeModel",
      "_view_count": null,
      "_view_module": "jupyter-cytoscape",
      "_view_module_version": "^1.3.3",
      "_view_name": "NodeView",
      "classes": "",
      "data": {
       "firstName": "A",
       "fullName": "A Sarabandi",
       "id": 1903,
       "label": "Researcher",
       "lastName": "Sarabandi",
       "name": "Sarabandi A",
       "tooltip": "Researcher\nid:s2authorid:31272705\nlastName:Sarabandi\nname:Sarabandi A\nfullName:A Sarabandi\nfirstName:A"
      },
      "grabbable": true,
      "grabbed": false,
      "locked": false,
      "pannable": false,
      "position": {},
      "removed": false,
      "selectable": false,
      "selected": false
     }
    },
    "9ecbfa0647b74138af59f7824a712e0c": {
     "model_module": "jupyter-cytoscape",
     "model_module_version": "^1.3.3",
     "model_name": "EdgeModel",
     "state": {
      "_model_module": "jupyter-cytoscape",
      "_model_module_version": "^1.3.3",
      "_model_name": "EdgeModel",
      "_view_count": null,
      "_view_module": "jupyter-cytoscape",
      "_view_module_version": "^1.3.3",
      "_view_name": "EdgeView",
      "classes": " directed  multiple_edges ",
      "data": {
       "name": "AUTHORED",
       "source": 1663,
       "target": 2751
      },
      "pannable": true,
      "removed": false,
      "selectable": false,
      "selected": false
     }
    },
    "9f877bbbffcb4aa68c8b0864da6e464a": {
     "model_module": "jupyter-cytoscape",
     "model_module_version": "^1.3.3",
     "model_name": "EdgeModel",
     "state": {
      "_model_module": "jupyter-cytoscape",
      "_model_module_version": "^1.3.3",
      "_model_name": "EdgeModel",
      "_view_count": null,
      "_view_module": "jupyter-cytoscape",
      "_view_module_version": "^1.3.3",
      "_view_name": "EdgeView",
      "classes": " directed  multiple_edges ",
      "data": {
       "name": "AUTHORED",
       "source": 315,
       "target": 2751
      },
      "pannable": true,
      "removed": false,
      "selectable": false,
      "selected": false
     }
    },
    "9fb975f039b442fe9b4ca2bdbfb3760b": {
     "model_module": "jupyter-cytoscape",
     "model_module_version": "^1.3.3",
     "model_name": "NodeModel",
     "state": {
      "_model_module": "jupyter-cytoscape",
      "_model_module_version": "^1.3.3",
      "_model_name": "NodeModel",
      "_view_count": null,
      "_view_module": "jupyter-cytoscape",
      "_view_module_version": "^1.3.3",
      "_view_name": "NodeView",
      "classes": "",
      "data": {
       "abstract": "Severe acute respiratory syndrome coronavirus 2 (SARS-CoV-2) is a serious threat to human health and lacks an effective treatment. There is an urgent need for both real-time tracking and precise treatment of the SARS-CoV-2-infected cells to mitigate and ultimately prevent viral transmission. However, selective triggering and tracking of the therapeutic process in the infected cells remains challenging. Here, we report a main protease (Mpro)-responsive, mitochondrial-targeting, and modular-peptide-conjugated probe (PSGMR) for selective imaging and inhibition of SARS-CoV-2-infected cells via enzyme-instructed self-assembly and aggregation-induced emission (AIE) effect. The amphiphilic PSGMR was constructed with tunable structure and responsive efficiency and validated with recombinant proteins, cells transfected with Mpro plasmid or infected by SARS-CoV-2, and a Mpro inhibitor. By rational construction of AIE luminogen (AIEgen) with modular peptides and Mpro, we verified that the cleavage of PSGMR yielded gradual aggregation with bright fluorescence and enhanced cytotoxicity to induce mitochondrial interference of the infected cells. This strategy may have value for selective detection and treatment of SARS-CoV-2-infected cells.",
       "doi": "doi:10.1021/acsnano.2c03219",
       "id": 2801,
       "journal": "ACS nano",
       "label": "Publication",
       "name": "Protease-Responsive Peptide-Conjugated Mitochondrial-Targeting AIEgens for Selective Imaging and Inhibition of SARS-CoV-2-Infected Cells.",
       "pmId": "35878004",
       "pmcId": "PMC9344892",
       "tooltip": "Publication\njournal:ACS nano\nabstract:Severe acute respiratory syndrome coronavirus 2 (SARS-CoV-2) is a serious threat to human health and lacks an effective treatment. There is an urgent need for both real-time tracking and precise treatment of the SARS-CoV-2-infected cells to mitigate and ultimately prevent viral transmission. However, selective triggering and tracking of the therapeutic process in the infected cells remains challenging. Here, we report a main protease (Mpro)-responsive, mitochondrial-targeting, and modular-peptide-conjugated probe (PSGMR) for selective imaging and inhibition of SARS-CoV-2-infected cells via enzyme-instructed self-assembly and aggregation-induced emission (AIE) effect. The amphiphilic PSGMR was constructed with tunable structure and responsive efficiency and validated with recombinant proteins, cells transfected with Mpro plasmid or infected by SARS-CoV-2, and a Mpro inhibitor. By rational construction of AIE luminogen (AIEgen) with modular peptides and Mpro, we verified that the cleavage of PSGMR yielded gradual aggregation with bright fluorescence and enhanced cytotoxicity to induce mitochondrial interference of the infected cells. This strategy may have value for selective detection and treatment of SARS-CoV-2-infected cells.\nid:doi:10.1021/acsnano.2c03219\nname:Protease-Responsive Peptide-Conjugated Mitochondrial-Targeting AIEgens for Selective Imaging and Inhibition of SARS-CoV-2-Infected Cells.\npmId:35878004\nyear:2022\ntype:primary\npmcId:PMC9344892\nurl:https://doi.org/doi:10.1021/acsnano.2c03219\ndoi:doi:10.1021/acsnano.2c03219",
       "type": "primary",
       "url": "https://doi.org/doi:10.1021/acsnano.2c03219",
       "year": 2022
      },
      "grabbable": true,
      "grabbed": false,
      "locked": false,
      "pannable": false,
      "position": {},
      "removed": false,
      "selectable": false,
      "selected": false
     }
    },
    "a11ba5f7798f407dbe75c4f7e1afdff8": {
     "model_module": "jupyter-cytoscape",
     "model_module_version": "^1.3.3",
     "model_name": "EdgeModel",
     "state": {
      "_model_module": "jupyter-cytoscape",
      "_model_module_version": "^1.3.3",
      "_model_name": "EdgeModel",
      "_view_count": null,
      "_view_module": "jupyter-cytoscape",
      "_view_module_version": "^1.3.3",
      "_view_name": "EdgeView",
      "classes": " directed  multiple_edges ",
      "data": {
       "name": "AUTHORED",
       "source": 980,
       "target": 2805
      },
      "pannable": true,
      "removed": false,
      "selectable": false,
      "selected": false
     }
    },
    "a2a918cae59644208b662748046b7a75": {
     "model_module": "jupyter-cytoscape",
     "model_module_version": "^1.3.3",
     "model_name": "EdgeModel",
     "state": {
      "_model_module": "jupyter-cytoscape",
      "_model_module_version": "^1.3.3",
      "_model_name": "EdgeModel",
      "_view_count": null,
      "_view_module": "jupyter-cytoscape",
      "_view_module_version": "^1.3.3",
      "_view_name": "EdgeView",
      "classes": " directed  multiple_edges ",
      "data": {
       "name": "CREATED",
       "source": 661,
       "target": 1633
      },
      "pannable": true,
      "removed": false,
      "selectable": false,
      "selected": false
     }
    },
    "a48055c3d8214d3cbeb71c94d98c9415": {
     "model_module": "jupyter-cytoscape",
     "model_module_version": "^1.3.3",
     "model_name": "NodeModel",
     "state": {
      "_model_module": "jupyter-cytoscape",
      "_model_module_version": "^1.3.3",
      "_model_name": "NodeModel",
      "_view_count": null,
      "_view_module": "jupyter-cytoscape",
      "_view_module_version": "^1.3.3",
      "_view_name": "NodeView",
      "classes": "",
      "data": {
       "description": "Description of the software or software repository (string)",
       "id": 2742,
       "label": "MetaNode",
       "name": "Name of the software application or software repository (string)",
       "nodeName": "Software",
       "tooltip": "MetaNode\nid:Identifier of the software application or software repository (string)\ndescription:Description of the software or software repository (string)\nname:Name of the software application or software repository (string)\nnodeName:Software\nurl:URL of the software application or software repository (string)",
       "url": "URL of the software application or software repository (string)"
      },
      "grabbable": true,
      "grabbed": false,
      "locked": false,
      "pannable": false,
      "position": {},
      "removed": false,
      "selectable": false,
      "selected": false
     }
    },
    "a52b657d898c424aa219c9c3f965796f": {
     "model_module": "jupyter-cytoscape",
     "model_module_version": "^1.3.3",
     "model_name": "EdgeModel",
     "state": {
      "_model_module": "jupyter-cytoscape",
      "_model_module_version": "^1.3.3",
      "_model_name": "EdgeModel",
      "_view_count": null,
      "_view_module": "jupyter-cytoscape",
      "_view_module_version": "^1.3.3",
      "_view_name": "EdgeView",
      "classes": " directed  multiple_edges ",
      "data": {
       "isContactPi": false,
       "isPi": false,
       "isStudyInvestigator": false,
       "name": "IS_INVESTIGATOR_OF",
       "source": 1075,
       "target": 593
      },
      "pannable": true,
      "removed": false,
      "selectable": false,
      "selected": false
     }
    },
    "a681c0d4fa6b4ff5a0f2ab5229f3c56c": {
     "model_module": "@jupyter-widgets/base",
     "model_module_version": "1.2.0",
     "model_name": "LayoutModel",
     "state": {
      "_model_module": "@jupyter-widgets/base",
      "_model_module_version": "1.2.0",
      "_model_name": "LayoutModel",
      "_view_count": null,
      "_view_module": "@jupyter-widgets/base",
      "_view_module_version": "1.2.0",
      "_view_name": "LayoutView",
      "align_content": null,
      "align_items": null,
      "align_self": null,
      "border": null,
      "bottom": null,
      "display": null,
      "flex": null,
      "flex_flow": null,
      "grid_area": null,
      "grid_auto_columns": null,
      "grid_auto_flow": null,
      "grid_auto_rows": null,
      "grid_column": null,
      "grid_gap": null,
      "grid_row": null,
      "grid_template_areas": null,
      "grid_template_columns": null,
      "grid_template_rows": null,
      "height": null,
      "justify_content": null,
      "justify_items": null,
      "left": null,
      "margin": null,
      "max_height": null,
      "max_width": null,
      "min_height": null,
      "min_width": null,
      "object_fit": null,
      "object_position": null,
      "order": null,
      "overflow": null,
      "overflow_x": null,
      "overflow_y": null,
      "padding": null,
      "right": null,
      "top": null,
      "visibility": null,
      "width": null
     }
    },
    "a8ad8600310341e68dcc9c05749ccd0d": {
     "model_module": "jupyter-cytoscape",
     "model_module_version": "^1.3.3",
     "model_name": "NodeModel",
     "state": {
      "_model_module": "jupyter-cytoscape",
      "_model_module_version": "^1.3.3",
      "_model_name": "NodeModel",
      "_view_count": null,
      "_view_module": "jupyter-cytoscape",
      "_view_module_version": "^1.3.3",
      "_view_name": "NodeView",
      "classes": "",
      "data": {
       "abstract": "In recent times, the global landscape of disease detection and monitoring has been profoundly influenced by the convergence of nanotechnology and biosensing techniques. Biosensors have enormous potential to monitor human health, with flexible or wearable variants, through monitoring of biomarkers in clinical and biological behaviors and applications related to health and disease, with increasing biorecognition, sensitivity, selectivity, and accuracy. The emergence of nanomaterial-based biosensors has ushered in a new era of rapid and sensitive diagnostic tools, offering unparalleled capabilities in the realm of disease identification. Even after the declaration of the end of the COVID-19 pandemic, the demand for efficient and accessible diagnostic methodologies has grown exponentially. In response, the integration of nanomaterial biosensors into breathalyzer devices has gained considerable attention as a promising avenue for low-cost, non-invasive, and early detection of COVID-19. This review delves into the forefront of scientific advancements, exploring the potential of emerging nanomaterial biosensors within breathalyzers to revolutionize the landscape of COVID-19 detection, providing a comprehensive overview of their principles, applications, and implications.",
       "doi": "doi:10.3390/inorganics11120483",
       "id": 3054,
       "journal": "Inorganics",
       "label": "Publication",
       "name": "Emerging Nanomaterials Biosensors in Breathalyzers for Detection of COVID-19: Future Prospects",
       "tooltip": "Publication\njournal:Inorganics\nabstract:In recent times, the global landscape of disease detection and monitoring has been profoundly influenced by the convergence of nanotechnology and biosensing techniques. Biosensors have enormous potential to monitor human health, with flexible or wearable variants, through monitoring of biomarkers in clinical and biological behaviors and applications related to health and disease, with increasing biorecognition, sensitivity, selectivity, and accuracy. The emergence of nanomaterial-based biosensors has ushered in a new era of rapid and sensitive diagnostic tools, offering unparalleled capabilities in the realm of disease identification. Even after the declaration of the end of the COVID-19 pandemic, the demand for efficient and accessible diagnostic methodologies has grown exponentially. In response, the integration of nanomaterial biosensors into breathalyzer devices has gained considerable attention as a promising avenue for low-cost, non-invasive, and early detection of COVID-19. This review delves into the forefront of scientific advancements, exploring the potential of emerging nanomaterial biosensors within breathalyzers to revolutionize the landscape of COVID-19 detection, providing a comprehensive overview of their principles, applications, and implications.\nid:doi:10.3390/inorganics11120483\nname:Emerging Nanomaterials Biosensors in Breathalyzers for Detection of COVID-19: Future Prospects\nyear:2023\ntype:secondary\nurl:https://doi.org/doi:10.3390/inorganics11120483\ndoi:doi:10.3390/inorganics11120483",
       "type": "secondary",
       "url": "https://doi.org/doi:10.3390/inorganics11120483",
       "year": 2023
      },
      "grabbable": true,
      "grabbed": false,
      "locked": false,
      "pannable": false,
      "position": {},
      "removed": false,
      "selectable": false,
      "selected": false
     }
    },
    "a9a5e368ef6e4da9b87c3afad0068c8f": {
     "model_module": "jupyter-cytoscape",
     "model_module_version": "^1.3.3",
     "model_name": "NodeModel",
     "state": {
      "_model_module": "jupyter-cytoscape",
      "_model_module_version": "^1.3.3",
      "_model_name": "NodeModel",
      "_view_count": null,
      "_view_module": "jupyter-cytoscape",
      "_view_module_version": "^1.3.3",
      "_view_name": "NodeView",
      "classes": "",
      "data": {
       "applicants": [
        "Washington University"
       ],
       "filingDate": "2023-03-30",
       "id": 2425,
       "inventors": [
        "Benjamin Sumlin",
        "Rajan Charkrabarty",
        "Nishit Jaideep Shetty",
        "John Cirrito",
        "Carla Yuede"
       ],
       "label": "Patent",
       "name": "Rapid, single-use methods and systems for electrochemical analysis of pathogens in exhaled breath \n       ",
       "status": "pending",
       "tooltip": "Patent\nid:WO2023192433\napplicants:['Washington University']\nstatus:pending\nname:Rapid, single-use methods and systems for electrochemical analysis of pathogens in exhaled breath \n       \nfilingDate:2023-03-30\ninventors:['Benjamin Sumlin', 'Rajan Charkrabarty', 'Nishit Jaideep Shetty', 'John Cirrito', 'Carla Yuede']\nurl:https://patents.google.com/patent/WO2023192433A1",
       "url": "https://patents.google.com/patent/WO2023192433A1"
      },
      "grabbable": true,
      "grabbed": false,
      "locked": false,
      "pannable": false,
      "position": {},
      "removed": false,
      "selectable": false,
      "selected": false
     }
    },
    "aa789227d605417fb63f59aca28b4b8e": {
     "model_module": "jupyter-cytoscape",
     "model_module_version": "^1.3.3",
     "model_name": "EdgeModel",
     "state": {
      "_model_module": "jupyter-cytoscape",
      "_model_module_version": "^1.3.3",
      "_model_name": "EdgeModel",
      "_view_count": null,
      "_view_module": "jupyter-cytoscape",
      "_view_module_version": "^1.3.3",
      "_view_name": "EdgeView",
      "classes": " directed  multiple_edges ",
      "data": {
       "name": "CITES",
       "source": 3850,
       "target": 2751
      },
      "pannable": true,
      "removed": false,
      "selectable": false,
      "selected": false
     }
    },
    "aab1b5601ad44523855af28414e8a2c8": {
     "model_module": "jupyter-cytoscape",
     "model_module_version": "^1.3.3",
     "model_name": "EdgeModel",
     "state": {
      "_model_module": "jupyter-cytoscape",
      "_model_module_version": "^1.3.3",
      "_model_name": "EdgeModel",
      "_view_count": null,
      "_view_module": "jupyter-cytoscape",
      "_view_module_version": "^1.3.3",
      "_view_name": "EdgeView",
      "classes": " directed  multiple_edges ",
      "data": {
       "name": "AUTHORED",
       "source": 668,
       "target": 2805
      },
      "pannable": true,
      "removed": false,
      "selectable": false,
      "selected": false
     }
    },
    "abb8fcb34e344ae7840600f49bd592a3": {
     "model_module": "jupyter-cytoscape",
     "model_module_version": "^1.3.3",
     "model_name": "EdgeModel",
     "state": {
      "_model_module": "jupyter-cytoscape",
      "_model_module_version": "^1.3.3",
      "_model_name": "EdgeModel",
      "_view_count": null,
      "_view_module": "jupyter-cytoscape",
      "_view_module_version": "^1.3.3",
      "_view_name": "EdgeView",
      "classes": " directed  multiple_edges ",
      "data": {
       "name": "AUTHORED",
       "source": 661,
       "target": 2752
      },
      "pannable": true,
      "removed": false,
      "selectable": false,
      "selected": false
     }
    },
    "ae389754112f4100a92fbbc0df26965e": {
     "model_module": "jupyter-cytoscape",
     "model_module_version": "^1.3.3",
     "model_name": "EdgeModel",
     "state": {
      "_model_module": "jupyter-cytoscape",
      "_model_module_version": "^1.3.3",
      "_model_name": "EdgeModel",
      "_view_count": null,
      "_view_module": "jupyter-cytoscape",
      "_view_module_version": "^1.3.3",
      "_view_name": "EdgeView",
      "classes": " directed  multiple_edges ",
      "data": {
       "name": "AUTHORED",
       "source": 2363,
       "target": 2752
      },
      "pannable": true,
      "removed": false,
      "selectable": false,
      "selected": false
     }
    },
    "af7d8ce13bd04aedbb9747ae123453f9": {
     "model_module": "jupyter-cytoscape",
     "model_module_version": "^1.3.3",
     "model_name": "EdgeModel",
     "state": {
      "_model_module": "jupyter-cytoscape",
      "_model_module_version": "^1.3.3",
      "_model_name": "EdgeModel",
      "_view_count": null,
      "_view_module": "jupyter-cytoscape",
      "_view_module_version": "^1.3.3",
      "_view_name": "EdgeView",
      "classes": " directed  multiple_edges ",
      "data": {
       "name": "AUTHORED",
       "source": 1748,
       "target": 2751
      },
      "pannable": true,
      "removed": false,
      "selectable": false,
      "selected": false
     }
    },
    "b73d3a15bcb0418f978d97bb6393007d": {
     "model_module": "jupyter-cytoscape",
     "model_module_version": "^1.3.3",
     "model_name": "EdgeModel",
     "state": {
      "_model_module": "jupyter-cytoscape",
      "_model_module_version": "^1.3.3",
      "_model_name": "EdgeModel",
      "_view_count": null,
      "_view_module": "jupyter-cytoscape",
      "_view_module_version": "^1.3.3",
      "_view_name": "EdgeView",
      "classes": " directed  multiple_edges ",
      "data": {
       "name": "USED",
       "source": 705,
       "target": 1633
      },
      "pannable": true,
      "removed": false,
      "selectable": false,
      "selected": false
     }
    },
    "b754869a74704927a3aa87e57ccd5d16": {
     "model_module": "jupyter-cytoscape",
     "model_module_version": "^1.3.3",
     "model_name": "EdgeModel",
     "state": {
      "_model_module": "jupyter-cytoscape",
      "_model_module_version": "^1.3.3",
      "_model_name": "EdgeModel",
      "_view_count": null,
      "_view_module": "jupyter-cytoscape",
      "_view_module_version": "^1.3.3",
      "_view_name": "EdgeView",
      "classes": " directed  multiple_edges ",
      "data": {
       "name": "AUTHORED",
       "source": 668,
       "target": 2795
      },
      "pannable": true,
      "removed": false,
      "selectable": false,
      "selected": false
     }
    },
    "bc9541017f5b4be9ae4a6e301ab0bbe7": {
     "model_module": "jupyter-cytoscape",
     "model_module_version": "^1.3.3",
     "model_name": "EdgeModel",
     "state": {
      "_model_module": "jupyter-cytoscape",
      "_model_module_version": "^1.3.3",
      "_model_name": "EdgeModel",
      "_view_count": null,
      "_view_module": "jupyter-cytoscape",
      "_view_module_version": "^1.3.3",
      "_view_name": "EdgeView",
      "classes": " directed  multiple_edges ",
      "data": {
       "isContactPi": true,
       "isPi": true,
       "isStudyInvestigator": true,
       "name": "IS_INVESTIGATOR_OF",
       "source": 601,
       "target": 553
      },
      "pannable": true,
      "removed": false,
      "selectable": false,
      "selected": false
     }
    },
    "bce35d5229e04f48a1525c95fb6e9b23": {
     "model_module": "jupyter-cytoscape",
     "model_module_version": "^1.3.3",
     "model_name": "NodeModel",
     "state": {
      "_model_module": "jupyter-cytoscape",
      "_model_module_version": "^1.3.3",
      "_model_name": "NodeModel",
      "_view_count": null,
      "_view_module": "jupyter-cytoscape",
      "_view_module_version": "^1.3.3",
      "_view_name": "NodeView",
      "classes": "",
      "data": {
       "abstract": "Preparing SARS-­CoV-­2 testing data for reuse requires making the data syntactically and semantically equivalent. \nStandardization  of  terminologies  and  a  common  data  model  accomplish  the  former,  while  the  latter  is \naccomplished  through  understanding  the  data  and  making  it  comparable  across  RADx-­rad  awardees  by \nbenchmarking against known gold standards. The standardization of samples is as important as standardizing \nthe data, particularly in the highly innovative RADx-­rad program, where new technologies will be developed or \noptimized for deployment in various settings. Highly motivated RADx-­rad awardees will receive advice on how \ntheir diagnostics compare to FDA-­approved ones, with each other, how their diagnostic performs in independent \ntesting,  as  well as how  to ensure  the  tests  are usable  in  real  world  settings.  In  collaboration  with  University  of \nTexas  Health  Science  Center  at  Houston,  University  of  California San  Diego  researchers  in  informatics/data \nscience and infectious diseases with ample experience in leading large consortia have designed a unique RADx-­\nrad  Consortium  Data  and  Coordination  Center  (radCDCC).  This  center  is  based  on  three  pillars:  (1)  effective \nadministration and coordination among awardees, NIH, and other programs;; (2) innovative approaches and tools \nto  collect  and  standardize  data  and  metadata  to  promote  findability,  accessibility,  interoperability  and  reuse \n(FAIR)  for  data  sharing;;  and  (3)  principled  preparation  of  standardized  samples  with  known  quantities  of  viral \nloads, and standardized procedures for testing new diagnostics to allow comparison across tests and calibration \nof  new  technologies.  Backed  by  sophisticated  HIPAA-­compliant  cloud  services,  user  friendly  web-­tools,  and \nextensive  support  from  UCSD’s  facilities  for  computation and  for  clinical  research,  the  radCDCC will  interface \nwith other RADx programs and other COVID-­19 focused programs at NIH to ensure alignment of awardees, NIH \nand the public in the pursuit of effective, affordable, and deployable new technologies for testing.  ",
       "awardCode": "U24",
       "fundingMechanism": "Other Research-Related",
       "id": 593,
       "label": "Grant",
       "name": "RADx-Rad Discoveries & Data: Consortium Coordination Center Program Organization",
       "narrative": "The  RADx-­rad  Consortium  Data  and  Coordination  Center  (radCDCC)  will  use  advanced data  management  to \ncoordinate  a  consortium  of  innovative  COVID-­19  diagnostic  technology  developers.  The  partnership  between \nthe  University  of  California  San  Diego  and  the  University  of  Texas  Health  Science  Center  at  Houston  brings \ntogether informatics/data scientists and infectious diseases specialists who will standardize viral samples, testing \nand procedures, as well as data in order to integrate and share data in a meaningful manner. ",
       "researchInitiative": "RADx-rad",
       "subProject": "Data Coordinating Center",
       "tooltip": "Grant\nabstract:Preparing SARS-­CoV-­2 testing data for reuse requires making the data syntactically and semantically equivalent. \nStandardization  of  terminologies  and  a  common  data  model  accomplish  the  former,  while  the  latter  is \naccomplished  through  understanding  the  data  and  making  it  comparable  across  RADx-­rad  awardees  by \nbenchmarking against known gold standards. The standardization of samples is as important as standardizing \nthe data, particularly in the highly innovative RADx-­rad program, where new technologies will be developed or \noptimized for deployment in various settings. Highly motivated RADx-­rad awardees will receive advice on how \ntheir diagnostics compare to FDA-­approved ones, with each other, how their diagnostic performs in independent \ntesting,  as  well as how  to ensure  the  tests  are usable  in  real  world  settings.  In  collaboration  with  University  of \nTexas  Health  Science  Center  at  Houston,  University  of  California San  Diego  researchers  in  informatics/data \nscience and infectious diseases with ample experience in leading large consortia have designed a unique RADx-­\nrad  Consortium  Data  and  Coordination  Center  (radCDCC).  This  center  is  based  on  three  pillars:  (1)  effective \nadministration and coordination among awardees, NIH, and other programs;; (2) innovative approaches and tools \nto  collect  and  standardize  data  and  metadata  to  promote  findability,  accessibility,  interoperability  and  reuse \n(FAIR)  for  data  sharing;;  and  (3)  principled  preparation  of  standardized  samples  with  known  quantities  of  viral \nloads, and standardized procedures for testing new diagnostics to allow comparison across tests and calibration \nof  new  technologies.  Backed  by  sophisticated  HIPAA-­compliant  cloud  services,  user  friendly  web-­tools,  and \nextensive  support  from  UCSD’s  facilities  for  computation and  for  clinical  research,  the  radCDCC will  interface \nwith other RADx programs and other COVID-­19 focused programs at NIH to ensure alignment of awardees, NIH \nand the public in the pursuit of effective, affordable, and deployable new technologies for testing.  \nid:U24LM013755\nnarrative:The  RADx-­rad  Consortium  Data  and  Coordination  Center  (radCDCC)  will  use  advanced data  management  to \ncoordinate  a  consortium  of  innovative  COVID-­19  diagnostic  technology  developers.  The  partnership  between \nthe  University  of  California  San  Diego  and  the  University  of  Texas  Health  Science  Center  at  Houston  brings \ntogether informatics/data scientists and infectious diseases specialists who will standardize viral samples, testing \nand procedures, as well as data in order to integrate and share data in a meaningful manner. \nname:RADx-Rad Discoveries & Data: Consortium Coordination Center Program Organization\nsubProject:Data Coordinating Center\nresearchInitiative:RADx-rad\nfundingMechanism:Other Research-Related\nawardCode:U24"
      },
      "grabbable": true,
      "grabbed": false,
      "locked": false,
      "pannable": false,
      "position": {},
      "removed": false,
      "selectable": false,
      "selected": false
     }
    },
    "be706787e2fc445db585930a5f4ac276": {
     "model_module": "jupyter-cytoscape",
     "model_module_version": "^1.3.3",
     "model_name": "NodeModel",
     "state": {
      "_model_module": "jupyter-cytoscape",
      "_model_module_version": "^1.3.3",
      "_model_name": "NodeModel",
      "_view_count": null,
      "_view_module": "jupyter-cytoscape",
      "_view_module_version": "^1.3.3",
      "_view_name": "NodeView",
      "classes": "",
      "data": {
       "firstName": "Ananth",
       "fullName": "Ananth V Annapragada",
       "id": 649,
       "label": "Researcher",
       "lastName": "Annapragada",
       "middleName": "V",
       "name": "Annapragada AV",
       "orcid": "orcid:0000-0002-3156-9617",
       "profileId": "profileid:7039414",
       "tooltip": "Researcher\nmiddleName:V\nid:profileid:7039414\nlastName:Annapragada\norcid:orcid:0000-0002-3156-9617\nprofileId:profileid:7039414\nname:Annapragada AV\nfullName:Ananth V Annapragada\nfirstName:Ananth"
      },
      "grabbable": true,
      "grabbed": false,
      "locked": false,
      "pannable": false,
      "position": {},
      "removed": false,
      "selectable": false,
      "selected": false
     }
    },
    "be790e6952ab42e188fc6a5dc6d1a8a1": {
     "model_module": "jupyter-cytoscape",
     "model_module_version": "^1.3.3",
     "model_name": "NodeModel",
     "state": {
      "_model_module": "jupyter-cytoscape",
      "_model_module_version": "^1.3.3",
      "_model_name": "NodeModel",
      "_view_count": null,
      "_view_module": "jupyter-cytoscape",
      "_view_module_version": "^1.3.3",
      "_view_name": "NodeView",
      "classes": "",
      "data": {
       "city": "City of event location (string)",
       "country": "Country of event location (string)",
       "endDate": "End data of event (date)",
       "eventType": "Type of event: webinar, virtual conference, in-person conference, hybrid conference, virtual workshop, in-person workshop, hybrid workshop (string)",
       "eventUrl": "URL of the event website (string)",
       "id": 2744,
       "label": "MetaNode",
       "name": "Name of the event (string)",
       "nodeName": "Event",
       "startDate": "Start date of event (date)",
       "state": "State or province of the event location (string)",
       "tooltip": "MetaNode\nid:Unique identifier of the event (date and event number) (string)\nstartDate:Start date of event (date)\nname:Name of the event (string)\nnodeName:Event\nstate:State or province of the event location (string)\neventUrl:URL of the event website (string)\nendDate:End data of event (date)\neventType:Type of event: webinar, virtual conference, in-person conference, hybrid conference, virtual workshop, in-person workshop, hybrid workshop (string)\ncountry:Country of event location (string)\ncity:City of event location (string)"
      },
      "grabbable": true,
      "grabbed": false,
      "locked": false,
      "pannable": false,
      "position": {},
      "removed": false,
      "selectable": false,
      "selected": false
     }
    },
    "bf615017232f43bc8c19da89d2495e8b": {
     "model_module": "jupyter-cytoscape",
     "model_module_version": "^1.3.3",
     "model_name": "EdgeModel",
     "state": {
      "_model_module": "jupyter-cytoscape",
      "_model_module_version": "^1.3.3",
      "_model_name": "EdgeModel",
      "_view_count": null,
      "_view_module": "jupyter-cytoscape",
      "_view_module_version": "^1.3.3",
      "_view_name": "EdgeView",
      "classes": " directed  multiple_edges ",
      "data": {
       "name": "AUTHORED",
       "source": 1758,
       "target": 2752
      },
      "pannable": true,
      "removed": false,
      "selectable": false,
      "selected": false
     }
    },
    "c1197cb7eb37475789ffe853b466a044": {
     "model_module": "@jupyter-widgets/base",
     "model_module_version": "1.2.0",
     "model_name": "LayoutModel",
     "state": {
      "_model_module": "@jupyter-widgets/base",
      "_model_module_version": "1.2.0",
      "_model_name": "LayoutModel",
      "_view_count": null,
      "_view_module": "@jupyter-widgets/base",
      "_view_module_version": "1.2.0",
      "_view_name": "LayoutView",
      "align_content": null,
      "align_items": null,
      "align_self": null,
      "border": null,
      "bottom": null,
      "display": null,
      "flex": null,
      "flex_flow": null,
      "grid_area": null,
      "grid_auto_columns": null,
      "grid_auto_flow": null,
      "grid_auto_rows": null,
      "grid_column": null,
      "grid_gap": null,
      "grid_row": null,
      "grid_template_areas": null,
      "grid_template_columns": null,
      "grid_template_rows": null,
      "height": null,
      "justify_content": null,
      "justify_items": null,
      "left": null,
      "margin": null,
      "max_height": null,
      "max_width": null,
      "min_height": null,
      "min_width": null,
      "object_fit": null,
      "object_position": null,
      "order": null,
      "overflow": null,
      "overflow_x": null,
      "overflow_y": null,
      "padding": null,
      "right": null,
      "top": null,
      "visibility": null,
      "width": null
     }
    },
    "c16ab678faa64eed954e1dc1be6f5029": {
     "model_module": "jupyter-cytoscape",
     "model_module_version": "^1.3.3",
     "model_name": "EdgeModel",
     "state": {
      "_model_module": "jupyter-cytoscape",
      "_model_module_version": "^1.3.3",
      "_model_name": "EdgeModel",
      "_view_count": null,
      "_view_module": "jupyter-cytoscape",
      "_view_module_version": "^1.3.3",
      "_view_name": "EdgeView",
      "classes": " directed  multiple_edges ",
      "data": {
       "name": "AUTHORED",
       "source": 315,
       "target": 2752
      },
      "pannable": true,
      "removed": false,
      "selectable": false,
      "selected": false
     }
    },
    "c19cb74611c54884bf848612cd552633": {
     "model_module": "jupyter-cytoscape",
     "model_module_version": "^1.3.3",
     "model_name": "EdgeModel",
     "state": {
      "_model_module": "jupyter-cytoscape",
      "_model_module_version": "^1.3.3",
      "_model_name": "EdgeModel",
      "_view_count": null,
      "_view_module": "jupyter-cytoscape",
      "_view_module_version": "^1.3.3",
      "_view_name": "EdgeView",
      "classes": " directed  multiple_edges ",
      "data": {
       "isContactPi": true,
       "isPi": true,
       "isStudyInvestigator": false,
       "name": "IS_INVESTIGATOR_OF",
       "source": 673,
       "target": 570
      },
      "pannable": true,
      "removed": false,
      "selectable": false,
      "selected": false
     }
    },
    "c4e7c7f04e5946588d256d6f32acd760": {
     "model_module": "jupyter-cytoscape",
     "model_module_version": "^1.3.3",
     "model_name": "EdgeModel",
     "state": {
      "_model_module": "jupyter-cytoscape",
      "_model_module_version": "^1.3.3",
      "_model_name": "EdgeModel",
      "_view_count": null,
      "_view_module": "jupyter-cytoscape",
      "_view_module_version": "^1.3.3",
      "_view_name": "EdgeView",
      "classes": " directed  multiple_edges ",
      "data": {
       "name": "AUTHORED",
       "source": 668,
       "target": 2801
      },
      "pannable": true,
      "removed": false,
      "selectable": false,
      "selected": false
     }
    },
    "c5ed7d8c650b4f1ab3a01d16fb5caafa": {
     "model_module": "jupyter-cytoscape",
     "model_module_version": "^1.3.3",
     "model_name": "EdgeModel",
     "state": {
      "_model_module": "jupyter-cytoscape",
      "_model_module_version": "^1.3.3",
      "_model_name": "EdgeModel",
      "_view_count": null,
      "_view_module": "jupyter-cytoscape",
      "_view_module_version": "^1.3.3",
      "_view_name": "EdgeView",
      "classes": " directed  multiple_edges ",
      "data": {
       "name": "PRESENTED",
       "source": 661,
       "target": 4447
      },
      "pannable": true,
      "removed": false,
      "selectable": false,
      "selected": false
     }
    },
    "c70822fac270430093ef055ffe2cbef9": {
     "model_module": "@jupyter-widgets/base",
     "model_module_version": "1.2.0",
     "model_name": "LayoutModel",
     "state": {
      "_model_module": "@jupyter-widgets/base",
      "_model_module_version": "1.2.0",
      "_model_name": "LayoutModel",
      "_view_count": null,
      "_view_module": "@jupyter-widgets/base",
      "_view_module_version": "1.2.0",
      "_view_name": "LayoutView",
      "align_content": null,
      "align_items": null,
      "align_self": null,
      "border": null,
      "bottom": null,
      "display": null,
      "flex": null,
      "flex_flow": null,
      "grid_area": null,
      "grid_auto_columns": null,
      "grid_auto_flow": null,
      "grid_auto_rows": null,
      "grid_column": null,
      "grid_gap": null,
      "grid_row": null,
      "grid_template_areas": null,
      "grid_template_columns": null,
      "grid_template_rows": null,
      "height": null,
      "justify_content": null,
      "justify_items": null,
      "left": null,
      "margin": null,
      "max_height": null,
      "max_width": null,
      "min_height": null,
      "min_width": null,
      "object_fit": null,
      "object_position": null,
      "order": null,
      "overflow": null,
      "overflow_x": null,
      "overflow_y": null,
      "padding": null,
      "right": null,
      "top": null,
      "visibility": null,
      "width": null
     }
    },
    "c8bf32475cdd475f94693c412110143c": {
     "model_module": "jupyter-cytoscape",
     "model_module_version": "^1.3.3",
     "model_name": "EdgeModel",
     "state": {
      "_model_module": "jupyter-cytoscape",
      "_model_module_version": "^1.3.3",
      "_model_name": "EdgeModel",
      "_view_count": null,
      "_view_module": "jupyter-cytoscape",
      "_view_module_version": "^1.3.3",
      "_view_name": "EdgeView",
      "classes": " directed  multiple_edges ",
      "data": {
       "name": "AUTHORED",
       "source": 909,
       "target": 2751
      },
      "pannable": true,
      "removed": false,
      "selectable": false,
      "selected": false
     }
    },
    "cbd701e6988e4d8f82311892172fec12": {
     "model_module": "jupyter-cytoscape",
     "model_module_version": "^1.3.3",
     "model_name": "NodeModel",
     "state": {
      "_model_module": "jupyter-cytoscape",
      "_model_module_version": "^1.3.3",
      "_model_name": "NodeModel",
      "_view_count": null,
      "_view_module": "jupyter-cytoscape",
      "_view_module_version": "^1.3.3",
      "_view_name": "NodeView",
      "classes": "",
      "data": {
       "firstName": "Na",
       "fullName": "Na Hong",
       "id": 705,
       "label": "Researcher",
       "lastName": "Hong",
       "name": "Hong N",
       "profileId": "s2authorid:2072483999",
       "tooltip": "Researcher\nid:s2authorid:2072483999\nlastName:Hong\nprofileId:s2authorid:2072483999\nname:Hong N\nfullName:Na Hong\nfirstName:Na"
      },
      "grabbable": true,
      "grabbed": false,
      "locked": false,
      "pannable": false,
      "position": {},
      "removed": false,
      "selectable": false,
      "selected": false
     }
    },
    "cc6bbbd9e7d14cf2a30965ac18ad9cbf": {
     "model_module": "jupyter-cytoscape",
     "model_module_version": "^1.3.3",
     "model_name": "NodeModel",
     "state": {
      "_model_module": "jupyter-cytoscape",
      "_model_module_version": "^1.3.3",
      "_model_name": "NodeModel",
      "_view_count": null,
      "_view_module": "jupyter-cytoscape",
      "_view_module_version": "^1.3.3",
      "_view_name": "NodeView",
      "classes": "",
      "data": {
       "abstract": "Area deprivation index (ADI) is associated with the risk of severe COVID-19 in adults. However, this association has not been established in children. Information on ADI, demographics, clinical features, disease severity, and outcomes was analyzed for 3434 children with COVID-19. A multivariate logistic regression revealed that non-Hispanic Asians, extremes of weight, and higher ADI were associated with severe disease.",
       "doi": "doi:10.1097/INF.0000000000003888",
       "id": 2830,
       "journal": "The Pediatric infectious disease journal",
       "label": "Publication",
       "name": "Association of Area Deprivation Index With Severity of COVID-19 in Pediatric Patients: A Multisite Study of Racially and Ethnically Diverse Children.",
       "pmId": "36854096",
       "tooltip": "Publication\njournal:The Pediatric infectious disease journal\nabstract:Area deprivation index (ADI) is associated with the risk of severe COVID-19 in adults. However, this association has not been established in children. Information on ADI, demographics, clinical features, disease severity, and outcomes was analyzed for 3434 children with COVID-19. A multivariate logistic regression revealed that non-Hispanic Asians, extremes of weight, and higher ADI were associated with severe disease.\nid:doi:10.1097/INF.0000000000003888\nname:Association of Area Deprivation Index With Severity of COVID-19 in Pediatric Patients: A Multisite Study of Racially and Ethnically Diverse Children.\npmId:36854096\nyear:2023\ntype:primary\nurl:https://doi.org/doi:10.1097/INF.0000000000003888\ndoi:doi:10.1097/INF.0000000000003888",
       "type": "primary",
       "url": "https://doi.org/doi:10.1097/INF.0000000000003888",
       "year": 2023
      },
      "grabbable": true,
      "grabbed": false,
      "locked": false,
      "pannable": false,
      "position": {},
      "removed": false,
      "selectable": false,
      "selected": false
     }
    },
    "cd06c14c434f4f8e85c229c24b3eac8f": {
     "model_module": "jupyter-cytoscape",
     "model_module_version": "^1.3.3",
     "model_name": "EdgeModel",
     "state": {
      "_model_module": "jupyter-cytoscape",
      "_model_module_version": "^1.3.3",
      "_model_name": "EdgeModel",
      "_view_count": null,
      "_view_module": "jupyter-cytoscape",
      "_view_module_version": "^1.3.3",
      "_view_name": "EdgeView",
      "classes": " directed  multiple_edges ",
      "data": {
       "name": "AUTHORED",
       "source": 935,
       "target": 2752
      },
      "pannable": true,
      "removed": false,
      "selectable": false,
      "selected": false
     }
    },
    "cd347e5ce47645d4b538b747df6e3077": {
     "model_module": "jupyter-cytoscape",
     "model_module_version": "^1.3.3",
     "model_name": "EdgeModel",
     "state": {
      "_model_module": "jupyter-cytoscape",
      "_model_module_version": "^1.3.3",
      "_model_name": "EdgeModel",
      "_view_count": null,
      "_view_module": "jupyter-cytoscape",
      "_view_module_version": "^1.3.3",
      "_view_name": "EdgeView",
      "classes": " directed  multiple_edges ",
      "data": {
       "name": "CITES",
       "source": 2751,
       "target": 2804
      },
      "pannable": true,
      "removed": false,
      "selectable": false,
      "selected": false
     }
    },
    "cdc02f1050f2448fa5bb57283080549f": {
     "model_module": "jupyter-cytoscape",
     "model_module_version": "^1.3.3",
     "model_name": "EdgeModel",
     "state": {
      "_model_module": "jupyter-cytoscape",
      "_model_module_version": "^1.3.3",
      "_model_name": "EdgeModel",
      "_view_count": null,
      "_view_module": "jupyter-cytoscape",
      "_view_module_version": "^1.3.3",
      "_view_name": "EdgeView",
      "classes": " directed  multiple_edges ",
      "data": {
       "isContactPi": true,
       "isPi": true,
       "isStudyInvestigator": true,
       "name": "IS_INVESTIGATOR_OF",
       "source": 661,
       "target": 582
      },
      "pannable": true,
      "removed": false,
      "selectable": false,
      "selected": false
     }
    },
    "ceea834612194a7ca8537d52c51845ab": {
     "model_module": "jupyter-cytoscape",
     "model_module_version": "^1.3.3",
     "model_name": "EdgeModel",
     "state": {
      "_model_module": "jupyter-cytoscape",
      "_model_module_version": "^1.3.3",
      "_model_name": "EdgeModel",
      "_view_count": null,
      "_view_module": "jupyter-cytoscape",
      "_view_module_version": "^1.3.3",
      "_view_name": "EdgeView",
      "classes": " directed  multiple_edges ",
      "data": {
       "from": "Unique identifier for the researcher (string)",
       "name": "MetaRelationship",
       "relationshipName": "AUTHORED",
       "source": 2736,
       "target": 2739,
       "to": "Unique identifier for publication (string)"
      },
      "pannable": true,
      "removed": false,
      "selectable": false,
      "selected": false
     }
    },
    "cf1c7c083f5943e2a469479dfb28a014": {
     "model_module": "jupyter-cytoscape",
     "model_module_version": "^1.3.3",
     "model_name": "NodeModel",
     "state": {
      "_model_module": "jupyter-cytoscape",
      "_model_module_version": "^1.3.3",
      "_model_name": "NodeModel",
      "_view_count": null,
      "_view_module": "jupyter-cytoscape",
      "_view_module_version": "^1.3.3",
      "_view_name": "NodeView",
      "classes": "",
      "data": {
       "abstract": "The COVID-19 pandemic has underscored the critical need for rapid and accurate screening and diagnostic methods for potential respiratory viruses. Existing COVID-19 diagnostic approaches face limitations either in terms of turnaround time or accuracy. In this study, we present an electrochemical biosensor that offers nearly instantaneous and precise SARS-CoV-2 detection, suitable for point-of-care and environmental monitoring applications. The biosensor employs a stapled hACE-2 N-terminal alpha helix peptide to functionalize an in-situ grown polypyrrole conductive polymer on a nitrocellulose membrane backbone through a chemical process. We assessed the biosensor’s analytical performance using heat-inactivated omicron and delta variants of the SARS-CoV-2 virus in artificial saliva (AS) and nasal swabs (NS) samples diluted in a strong ionic solution. Virus identification was achieved through electrochemical impedance spectroscopy (EIS) and frequency analyses. The assay demonstrated a limit of detection of 40 TCID50/mL, with 95% sensitivity and 100% specificity. Notably, the biosensor exhibited no cross-reactivity when tested against the influenza virus. The entire testing process using the biosensor takes less than a minute. In summary, our biosensor exhibits promising potential in the battle against pandemic respiratory viruses, offering a platform for the creation of rapid, compact, portable, and point-of-care devices capable of multiplexing various viruses. This groundbreaking development has the capacity to significantly bolster our readiness and response to future viral outbreaks.",
       "doi": "doi:10.3390/s23188000",
       "id": 3850,
       "journal": "Sensors (Basel, Switzerland)",
       "label": "Publication",
       "name": "Development and Analytical Evaluation of a Point-of-Care Electrochemical Biosensor for Rapid and Accurate SARS-CoV-2 Detection",
       "pmId": "37766054",
       "pmcId": "10534802",
       "tooltip": "Publication\njournal:Sensors (Basel, Switzerland)\nabstract:The COVID-19 pandemic has underscored the critical need for rapid and accurate screening and diagnostic methods for potential respiratory viruses. Existing COVID-19 diagnostic approaches face limitations either in terms of turnaround time or accuracy. In this study, we present an electrochemical biosensor that offers nearly instantaneous and precise SARS-CoV-2 detection, suitable for point-of-care and environmental monitoring applications. The biosensor employs a stapled hACE-2 N-terminal alpha helix peptide to functionalize an in-situ grown polypyrrole conductive polymer on a nitrocellulose membrane backbone through a chemical process. We assessed the biosensor’s analytical performance using heat-inactivated omicron and delta variants of the SARS-CoV-2 virus in artificial saliva (AS) and nasal swabs (NS) samples diluted in a strong ionic solution. Virus identification was achieved through electrochemical impedance spectroscopy (EIS) and frequency analyses. The assay demonstrated a limit of detection of 40 TCID50/mL, with 95% sensitivity and 100% specificity. Notably, the biosensor exhibited no cross-reactivity when tested against the influenza virus. The entire testing process using the biosensor takes less than a minute. In summary, our biosensor exhibits promising potential in the battle against pandemic respiratory viruses, offering a platform for the creation of rapid, compact, portable, and point-of-care devices capable of multiplexing various viruses. This groundbreaking development has the capacity to significantly bolster our readiness and response to future viral outbreaks.\nid:doi:10.3390/s23188000\nname:Development and Analytical Evaluation of a Point-of-Care Electrochemical Biosensor for Rapid and Accurate SARS-CoV-2 Detection\npmId:37766054\nyear:2023\ntype:secondary\npmcId:10534802\nurl:https://doi.org/doi:10.3390/s23188000\ndoi:doi:10.3390/s23188000",
       "type": "secondary",
       "url": "https://doi.org/doi:10.3390/s23188000",
       "year": 2023
      },
      "grabbable": true,
      "grabbed": false,
      "locked": false,
      "pannable": false,
      "position": {},
      "removed": false,
      "selectable": false,
      "selected": false
     }
    },
    "d1ec4c1f690e4127ace2fbe9d2787cc8": {
     "model_module": "jupyter-cytoscape",
     "model_module_version": "^1.3.3",
     "model_name": "EdgeModel",
     "state": {
      "_model_module": "jupyter-cytoscape",
      "_model_module_version": "^1.3.3",
      "_model_name": "EdgeModel",
      "_view_count": null,
      "_view_module": "jupyter-cytoscape",
      "_view_module_version": "^1.3.3",
      "_view_name": "EdgeView",
      "classes": " directed  multiple_edges ",
      "data": {
       "name": "AUTHORED",
       "source": 980,
       "target": 2800
      },
      "pannable": true,
      "removed": false,
      "selectable": false,
      "selected": false
     }
    },
    "d222478da27f41a5832d6a2c1ede477d": {
     "model_module": "jupyter-cytoscape",
     "model_module_version": "^1.3.3",
     "model_name": "EdgeModel",
     "state": {
      "_model_module": "jupyter-cytoscape",
      "_model_module_version": "^1.3.3",
      "_model_name": "EdgeModel",
      "_view_count": null,
      "_view_module": "jupyter-cytoscape",
      "_view_module_version": "^1.3.3",
      "_view_name": "EdgeView",
      "classes": " directed  multiple_edges ",
      "data": {
       "from": "Unique identifier for the researcher (string)",
       "name": "MetaRelationship",
       "relationshipName": "IS_INVENTOR",
       "source": 2736,
       "target": 2746,
       "to": "Unique identifier for the patent (string)"
      },
      "pannable": true,
      "removed": false,
      "selectable": false,
      "selected": false
     }
    },
    "d2abbe8831144417a27faafdbc3f3d81": {
     "model_module": "jupyter-cytoscape",
     "model_module_version": "^1.3.3",
     "model_name": "EdgeModel",
     "state": {
      "_model_module": "jupyter-cytoscape",
      "_model_module_version": "^1.3.3",
      "_model_name": "EdgeModel",
      "_view_count": null,
      "_view_module": "jupyter-cytoscape",
      "_view_module_version": "^1.3.3",
      "_view_name": "EdgeView",
      "classes": " directed  multiple_edges ",
      "data": {
       "name": "AUTHORED",
       "source": 661,
       "target": 2751
      },
      "pannable": true,
      "removed": false,
      "selectable": false,
      "selected": false
     }
    },
    "d2bde46d54404469b39a2b1a21b16b98": {
     "model_module": "jupyter-cytoscape",
     "model_module_version": "^1.3.3",
     "model_name": "NodeModel",
     "state": {
      "_model_module": "jupyter-cytoscape",
      "_model_module_version": "^1.3.3",
      "_model_name": "NodeModel",
      "_view_count": null,
      "_view_module": "jupyter-cytoscape",
      "_view_module_version": "^1.3.3",
      "_view_name": "NodeView",
      "classes": "",
      "data": {
       "firstName": "J",
       "fullName": "J Puthussery",
       "id": 1758,
       "label": "Researcher",
       "lastName": "Puthussery",
       "name": "Puthussery J",
       "tooltip": "Researcher\nid:s2authorid:12172833\nlastName:Puthussery\nname:Puthussery J\nfullName:J Puthussery\nfirstName:J"
      },
      "grabbable": true,
      "grabbed": false,
      "locked": false,
      "pannable": false,
      "position": {},
      "removed": false,
      "selectable": false,
      "selected": false
     }
    },
    "d52f3580cadf400f9d5d93bdc8f985bc": {
     "model_module": "jupyter-cytoscape",
     "model_module_version": "^1.3.3",
     "model_name": "NodeModel",
     "state": {
      "_model_module": "jupyter-cytoscape",
      "_model_module_version": "^1.3.3",
      "_model_name": "NodeModel",
      "_view_count": null,
      "_view_module": "jupyter-cytoscape",
      "_view_module_version": "^1.3.3",
      "_view_name": "NodeView",
      "classes": "",
      "data": {
       "firstName": "Xiaohu",
       "fullName": "Xiaohu Yao",
       "id": 601,
       "label": "Researcher",
       "lastName": "Yao",
       "name": "Yao X",
       "profileId": "profileid:77861758",
       "tooltip": "Researcher\nid:profileid:77861758\nlastName:Yao\nprofileId:profileid:77861758\nname:Yao X\nfullName:Xiaohu Yao\nfirstName:Xiaohu"
      },
      "grabbable": true,
      "grabbed": false,
      "locked": false,
      "pannable": false,
      "position": {},
      "removed": false,
      "selectable": false,
      "selected": false
     }
    },
    "dbacdff5bb264cd291f0f4036b47d06e": {
     "model_module": "jupyter-cytoscape",
     "model_module_version": "^1.3.3",
     "model_name": "NodeModel",
     "state": {
      "_model_module": "jupyter-cytoscape",
      "_model_module_version": "^1.3.3",
      "_model_name": "NodeModel",
      "_view_count": null,
      "_view_module": "jupyter-cytoscape",
      "_view_module_version": "^1.3.3",
      "_view_name": "NodeView",
      "classes": "",
      "data": {
       "abstract": "The transmission of SARS-CoV-2 coronavirus has led to the COVID-19 pandemic. Nucleic acid testing while specific has limitations for mass surveillance. One alternative is the main protease (Mpro ) due to its functional importance in mediating the viral life cycle. Here, we describe a combination of modular substrate and gold colloids to detect Mpro via visual readout. The strategy involves zwitterionic peptide that carries opposite charges at the C-/N-terminus to exploit the specific recognition by Mpro . Autolytic cleavage releases a positively charged moiety that assembles the nanoparticles with rapid color changes (t<10 min). We determine a limit of detection for Mpro in breath condensate matrices <10 nM. We further assayed ten COVID-negative subjects and found no false-positive result. In the light of simplicity, our test for viral protease is not limited to an equipped laboratory, but also is amenable to integrating as portable point-of-care devices including those on face-coverings.",
       "doi": "doi:10.1002/anie.202112995",
       "id": 2804,
       "journal": "Angewandte Chemie (International ed. in English)",
       "label": "Publication",
       "name": "A Charge-Switchable Zwitterionic Peptide for Rapid Detection of SARS-CoV-2 Main Protease.",
       "pmId": "34936725",
       "pmcId": "PMC8854333",
       "tooltip": "Publication\njournal:Angewandte Chemie (International ed. in English)\nabstract:The transmission of SARS-CoV-2 coronavirus has led to the COVID-19 pandemic. Nucleic acid testing while specific has limitations for mass surveillance. One alternative is the main protease (Mpro ) due to its functional importance in mediating the viral life cycle. Here, we describe a combination of modular substrate and gold colloids to detect Mpro via visual readout. The strategy involves zwitterionic peptide that carries opposite charges at the C-/N-terminus to exploit the specific recognition by Mpro . Autolytic cleavage releases a positively charged moiety that assembles the nanoparticles with rapid color changes (t<10 min). We determine a limit of detection for Mpro in breath condensate matrices <10 nM. We further assayed ten COVID-negative subjects and found no false-positive result. In the light of simplicity, our test for viral protease is not limited to an equipped laboratory, but also is amenable to integrating as portable point-of-care devices including those on face-coverings.\nid:doi:10.1002/anie.202112995\nname:A Charge-Switchable Zwitterionic Peptide for Rapid Detection of SARS-CoV-2 Main Protease.\npmId:34936725\nyear:2022\ntype:primary\npmcId:PMC8854333\nurl:https://doi.org/doi:10.1002/anie.202112995\ndoi:doi:10.1002/anie.202112995",
       "type": "primary",
       "url": "https://doi.org/doi:10.1002/anie.202112995",
       "year": 2022
      },
      "grabbable": true,
      "grabbed": false,
      "locked": false,
      "pannable": false,
      "position": {},
      "removed": false,
      "selectable": false,
      "selected": false
     }
    },
    "dcae52c70c724acdba0c2c2e844804c8": {
     "model_module": "jupyter-cytoscape",
     "model_module_version": "^1.3.3",
     "model_name": "EdgeModel",
     "state": {
      "_model_module": "jupyter-cytoscape",
      "_model_module_version": "^1.3.3",
      "_model_name": "EdgeModel",
      "_view_count": null,
      "_view_module": "jupyter-cytoscape",
      "_view_module_version": "^1.3.3",
      "_view_name": "EdgeView",
      "classes": " directed  multiple_edges ",
      "data": {
       "name": "AUTHORED",
       "source": 1339,
       "target": 2752
      },
      "pannable": true,
      "removed": false,
      "selectable": false,
      "selected": false
     }
    },
    "dd8b4bc026fb42c288801df7aa820941": {
     "model_module": "jupyter-cytoscape",
     "model_module_version": "^1.3.3",
     "model_name": "EdgeModel",
     "state": {
      "_model_module": "jupyter-cytoscape",
      "_model_module_version": "^1.3.3",
      "_model_name": "EdgeModel",
      "_view_count": null,
      "_view_module": "jupyter-cytoscape",
      "_view_module_version": "^1.3.3",
      "_view_name": "EdgeView",
      "classes": " directed  multiple_edges ",
      "data": {
       "name": "CITES",
       "source": 3054,
       "target": 2752
      },
      "pannable": true,
      "removed": false,
      "selectable": false,
      "selected": false
     }
    },
    "de62cd20a8d84fa1a78f9785367e1521": {
     "model_module": "jupyter-cytoscape",
     "model_module_version": "^1.3.3",
     "model_name": "EdgeModel",
     "state": {
      "_model_module": "jupyter-cytoscape",
      "_model_module_version": "^1.3.3",
      "_model_name": "EdgeModel",
      "_view_count": null,
      "_view_module": "jupyter-cytoscape",
      "_view_module_version": "^1.3.3",
      "_view_name": "EdgeView",
      "classes": " directed  multiple_edges ",
      "data": {
       "name": "AUTHORED",
       "source": 1006,
       "target": 2751
      },
      "pannable": true,
      "removed": false,
      "selectable": false,
      "selected": false
     }
    },
    "de7906bf7272414cb686e88c5c7d33d1": {
     "model_module": "jupyter-cytoscape",
     "model_module_version": "^1.3.3",
     "model_name": "EdgeModel",
     "state": {
      "_model_module": "jupyter-cytoscape",
      "_model_module_version": "^1.3.3",
      "_model_name": "EdgeModel",
      "_view_count": null,
      "_view_module": "jupyter-cytoscape",
      "_view_module_version": "^1.3.3",
      "_view_name": "EdgeView",
      "classes": " directed  multiple_edges ",
      "data": {
       "name": "PRESENTED_AT",
       "source": 4447,
       "target": 2430
      },
      "pannable": true,
      "removed": false,
      "selectable": false,
      "selected": false
     }
    },
    "df2f9f70bb7a49808bd3a7850f99b42f": {
     "model_module": "jupyter-cytoscape",
     "model_module_version": "^1.3.3",
     "model_name": "GraphModel",
     "state": {
      "_adj": {
       "2736": {},
       "2737": {},
       "2738": {},
       "2739": {},
       "2740": {},
       "2741": {},
       "2742": {},
       "2743": {},
       "2744": {},
       "2745": {},
       "2746": {}
      },
      "_model_module": "jupyter-cytoscape",
      "_model_module_version": "^1.3.3",
      "_model_name": "GraphModel",
      "_view_count": null,
      "_view_module": "jupyter-cytoscape",
      "_view_module_version": "^1.3.3",
      "_view_name": null,
      "edges": [
       "IPY_MODEL_0b55778c7308448ba417b8e9ada82787",
       "IPY_MODEL_2783139ca7a9430cb823e19b1f32a317",
       "IPY_MODEL_f19ab4cbcc914b6ea7fd12a0ba47c827",
       "IPY_MODEL_23a545cda053401fa4b5ee4f6e05149d",
       "IPY_MODEL_f4bac80ce70c42d888dea7ab447b0e75",
       "IPY_MODEL_943a31dd47d041779eec3a7a417edf6f",
       "IPY_MODEL_ceea834612194a7ca8537d52c51845ab",
       "IPY_MODEL_758c3e7d050f4d7ebe0df300464a0aac",
       "IPY_MODEL_125ccd7d4dda4c8a86d7ec29d169e9a6",
       "IPY_MODEL_7d82c098f06046768bfec8d8112f1a10",
       "IPY_MODEL_1e163344ccad4633b2e7b03b9c81ab4d",
       "IPY_MODEL_d222478da27f41a5832d6a2c1ede477d",
       "IPY_MODEL_2ca82142c434473d91b09c05c7dccb90"
      ],
      "nodes": [
       "IPY_MODEL_9d3349df57384f3eb335e0146293809d",
       "IPY_MODEL_be790e6952ab42e188fc6a5dc6d1a8a1",
       "IPY_MODEL_7c159f767ca340b580f1de5e33099657",
       "IPY_MODEL_f5eb67dc016e4857bb5beb3177df275c",
       "IPY_MODEL_7c3a69a5fad341dcbc56cffc0ad72b2a",
       "IPY_MODEL_3809f4659df64f89b7c95856403a0335",
       "IPY_MODEL_a48055c3d8214d3cbeb71c94d98c9415",
       "IPY_MODEL_7d772341f4a0435883ff2433be536cb9",
       "IPY_MODEL_1a51ad8be4a6493cba192b79a35caac9",
       "IPY_MODEL_9b735a6eac27412c9dd657dca8888eb7",
       "IPY_MODEL_50ab8adf8ed3422f99dcab31a90d025d"
      ]
     }
    },
    "e25abcb261764b04911f2d65049f7260": {
     "model_module": "@jupyter-widgets/controls",
     "model_module_version": "1.5.0",
     "model_name": "HTMLModel",
     "state": {
      "_dom_classes": [],
      "_model_module": "@jupyter-widgets/controls",
      "_model_module_version": "1.5.0",
      "_model_name": "HTMLModel",
      "_view_count": null,
      "_view_module": "@jupyter-widgets/controls",
      "_view_module_version": "1.5.0",
      "_view_name": "HTMLView",
      "description": "",
      "description_tooltip": null,
      "layout": "IPY_MODEL_444342a7143846bea6e85a9f0614d01c",
      "placeholder": "​",
      "style": "IPY_MODEL_255c42d992c44403a29a6a420332344f",
      "value": " 85/85 [00:11&lt;00:00, 15.45cell/s]"
     }
    },
    "e33e38576cbc4937b3f0a0f1a72df60b": {
     "model_module": "jupyter-cytoscape",
     "model_module_version": "^1.3.3",
     "model_name": "NodeModel",
     "state": {
      "_model_module": "jupyter-cytoscape",
      "_model_module_version": "^1.3.3",
      "_model_name": "NodeModel",
      "_view_count": null,
      "_view_module": "jupyter-cytoscape",
      "_view_module_version": "^1.3.3",
      "_view_name": "NodeView",
      "classes": "",
      "data": {
       "firstName": "Brookelyn",
       "fullName": "Brookelyn M Doherty",
       "id": 1178,
       "label": "Researcher",
       "lastName": "Doherty",
       "middleName": "M",
       "name": "Doherty BM",
       "tooltip": "Researcher\nmiddleName:M\nid:s2authorid:1938270813\nlastName:Doherty\nname:Doherty BM\nfullName:Brookelyn M Doherty\nfirstName:Brookelyn"
      },
      "grabbable": true,
      "grabbed": false,
      "locked": false,
      "pannable": false,
      "position": {},
      "removed": false,
      "selectable": false,
      "selected": false
     }
    },
    "e70fde09f321458ca0b96be856c84034": {
     "model_module": "jupyter-cytoscape",
     "model_module_version": "^1.3.3",
     "model_name": "EdgeModel",
     "state": {
      "_model_module": "jupyter-cytoscape",
      "_model_module_version": "^1.3.3",
      "_model_name": "EdgeModel",
      "_view_count": null,
      "_view_module": "jupyter-cytoscape",
      "_view_module_version": "^1.3.3",
      "_view_name": "EdgeView",
      "classes": " directed  multiple_edges ",
      "data": {
       "name": "AUTHORED",
       "source": 1758,
       "target": 2751
      },
      "pannable": true,
      "removed": false,
      "selectable": false,
      "selected": false
     }
    },
    "e77022e9f0f641e1b19d5150c8a11d56": {
     "model_module": "jupyter-cytoscape",
     "model_module_version": "^1.3.3",
     "model_name": "EdgeModel",
     "state": {
      "_model_module": "jupyter-cytoscape",
      "_model_module_version": "^1.3.3",
      "_model_name": "EdgeModel",
      "_view_count": null,
      "_view_module": "jupyter-cytoscape",
      "_view_module_version": "^1.3.3",
      "_view_name": "EdgeView",
      "classes": " directed  multiple_edges ",
      "data": {
       "name": "AUTHORED",
       "source": 666,
       "target": 2830
      },
      "pannable": true,
      "removed": false,
      "selectable": false,
      "selected": false
     }
    },
    "e8f7eb1406524d7fbb07fa8b6366fb61": {
     "model_module": "jupyter-cytoscape",
     "model_module_version": "^1.3.3",
     "model_name": "NodeModel",
     "state": {
      "_model_module": "jupyter-cytoscape",
      "_model_module_version": "^1.3.3",
      "_model_name": "NodeModel",
      "_view_count": null,
      "_view_module": "jupyter-cytoscape",
      "_view_module_version": "^1.3.3",
      "_view_name": "NodeView",
      "classes": "",
      "data": {
       "id": 4447,
       "label": "Presentation",
       "name": "Detecting aerosolized SARS-CoV-2 in breath",
       "presenters": "John Cirrito",
       "tooltip": "Presentation\nid:526cb764deeea462872ecb79eeaafc58\npresenters:John Cirrito\nname:Detecting aerosolized SARS-CoV-2 in breath"
      },
      "grabbable": true,
      "grabbed": false,
      "locked": false,
      "pannable": false,
      "position": {},
      "removed": false,
      "selectable": false,
      "selected": false
     }
    },
    "e91e35c5d78147caa0b06d47e36b2654": {
     "model_module": "jupyter-cytoscape",
     "model_module_version": "^1.3.3",
     "model_name": "NodeModel",
     "state": {
      "_model_module": "jupyter-cytoscape",
      "_model_module_version": "^1.3.3",
      "_model_name": "NodeModel",
      "_view_count": null,
      "_view_module": "jupyter-cytoscape",
      "_view_module_version": "^1.3.3",
      "_view_name": "NodeView",
      "classes": "",
      "data": {
       "abstract": "Human-infecting pathogens that transmit through the air pose a significant threat to public health. As a prominent instance, the severe acute respiratory syndrome coronavirus 2 (SARS-CoV-2) that caused the COVID-19 pandemic has affected the world in an unprecedented manner over the past few years. Despite the dissipating pandemic gloom, the lessons we have learned in dealing with pathogen-laden aerosols should be thoroughly reviewed because the airborne transmission risk may have been grossly underestimated. From a bioanalytical chemistry perspective, on-site airborne pathogen detection can be an effective non-pharmaceutic intervention (NPI) strategy, with on-site airborne pathogen detection and early-stage infection risk evaluation reducing the spread of disease and enabling life-saving decisions to be made. In light of this, we summarize the recent advances in highly efficient pathogen-laden aerosol sampling approaches, bioanalytical sensing technologies, and the prospects for airborne pathogen exposure measurement and evidence-based transmission interventions. We also discuss open challenges facing general bioaerosols detection, such as handling complex aerosol samples, improving sensitivity for airborne pathogen quantification, and establishing a risk assessment system with high spatiotemporal resolution for mitigating airborne transmission risks. This review provides a multidisciplinary outlook for future opportunities to improve the on-site airborne pathogen detection techniques, thereby enhancing the preparedness for more on-site bioaerosols measurement scenarios, such as monitoring high-risk pathogens on airplanes, weaponized pathogen aerosols, influenza variants at the workplace, and pollutant correlated with sick building syndromes.",
       "doi": "doi:10.1039/d3cs00417a",
       "id": 3863,
       "journal": "Chemical Society Reviews",
       "label": "Publication",
       "name": "On-site airborne pathogen detection for infection risk mitigation",
       "pmId": "37882143",
       "pmcId": "10712221",
       "tooltip": "Publication\njournal:Chemical Society Reviews\nabstract:Human-infecting pathogens that transmit through the air pose a significant threat to public health. As a prominent instance, the severe acute respiratory syndrome coronavirus 2 (SARS-CoV-2) that caused the COVID-19 pandemic has affected the world in an unprecedented manner over the past few years. Despite the dissipating pandemic gloom, the lessons we have learned in dealing with pathogen-laden aerosols should be thoroughly reviewed because the airborne transmission risk may have been grossly underestimated. From a bioanalytical chemistry perspective, on-site airborne pathogen detection can be an effective non-pharmaceutic intervention (NPI) strategy, with on-site airborne pathogen detection and early-stage infection risk evaluation reducing the spread of disease and enabling life-saving decisions to be made. In light of this, we summarize the recent advances in highly efficient pathogen-laden aerosol sampling approaches, bioanalytical sensing technologies, and the prospects for airborne pathogen exposure measurement and evidence-based transmission interventions. We also discuss open challenges facing general bioaerosols detection, such as handling complex aerosol samples, improving sensitivity for airborne pathogen quantification, and establishing a risk assessment system with high spatiotemporal resolution for mitigating airborne transmission risks. This review provides a multidisciplinary outlook for future opportunities to improve the on-site airborne pathogen detection techniques, thereby enhancing the preparedness for more on-site bioaerosols measurement scenarios, such as monitoring high-risk pathogens on airplanes, weaponized pathogen aerosols, influenza variants at the workplace, and pollutant correlated with sick building syndromes.\nid:doi:10.1039/d3cs00417a\nname:On-site airborne pathogen detection for infection risk mitigation\npmId:37882143\nyear:2023\ntype:secondary\npmcId:10712221\nurl:https://doi.org/doi:10.1039/d3cs00417a\ndoi:doi:10.1039/d3cs00417a",
       "type": "secondary",
       "url": "https://doi.org/doi:10.1039/d3cs00417a",
       "year": 2023
      },
      "grabbable": true,
      "grabbed": false,
      "locked": false,
      "pannable": false,
      "position": {},
      "removed": false,
      "selectable": false,
      "selected": false
     }
    },
    "e95d62a515d341769937ffd8ba861fa1": {
     "model_module": "jupyter-cytoscape",
     "model_module_version": "^1.3.3",
     "model_name": "NodeModel",
     "state": {
      "_model_module": "jupyter-cytoscape",
      "_model_module_version": "^1.3.3",
      "_model_name": "NodeModel",
      "_view_count": null,
      "_view_module": "jupyter-cytoscape",
      "_view_module_version": "^1.3.3",
      "_view_name": "NodeView",
      "classes": "",
      "data": {
       "abstract": "PROJECT SUMMARY\n Coronavirus 2019 (COVID-19) has afflicted 6.2 million Americans and killed 190,000 as of early September\n2020 (WHO website); a roughly 3% mortality. Between a shortage in testing and unidentified asymptomatic\nindividuals, the actual number of those infected could be 6 to 24-fold higher than that reported. SARS-CoV-2\n(CoV-2), the virus underlying the disease, results in a range of symptoms; in select cases a severe respiratory\nillness that impedes breathing that could lead to hospitalization and death. CoV-2 is transmitted person-to-\nperson via inhalation of the virus through mucosal membranes of the nose and throat from transfer after\ntouching a contaminated surface or by inhaling aerosolized virus. Unfortunately, COVID-19 is likely to be\nprevalent well into 2021 and beyond.\n We must increase our ability to test for CoV-2. First, testing is needed to diagnose individuals that are\nsymptomatic or asymptomatic to reduce community spread. And second, monitoring gathering areas for\nairborne virus that could inform the decision to shutdown a space or implement disinfection and mitigation of\nan area. We propose to use an electrochemical biosensor in two detection devices, 1) a diagnostic\nbreathalyzer for instant detection of CoV-2 and 2) an airborne detector for real-time, continuous surveillance of\na large space.\n We have developed a novel ultra-sensitive, antibody-based electrochemical biosensor to detect CoV-2\nrepeat binding domain (RBD) spike protein. The technology is based on a micro-immunoelectrode (MIE)\nbiosensor pioneered by the Cirrito laboratory to study protein dynamics in the setting of neurodegeneration (2,3).\nThe biosensor uses voltammetry to measure the oxidation of tyrosine amino acids; oxidation is the release of\nelectrons that the biosensor measures as a change in current. Antibodies are covalently attached to the\nelectrode surface to provide selectivity. Our prototype CoV-2 biosensor is sensitive to 2 femtogram/ml,\ncompared to several current CoV-2 antigen tests that are sensitive to the low picogram/ml range.\n The proposal will first (Aim 1) optimize our CoV-2 biosensor to detect CoV-2 viral particles, as well as test\nseveral parameters to increase sensitivity and longevity. Aim 2 will build a test breathalyzer that will utilize a\nnebulizer to generate virus laden air containing aerosol droplets similar to a breath that contain defined\nconcentrations of CoV-2 viral particles. Aim 3 will test the airborne biosensor in a realistic environment. Co-I\nChakrabarty’s laboratory has unique capabilities of mimicking real-world environmental conditions, especially\nin the context of atmospheric aerosols, necessary for testing and optimizing the biosensor’s performance for\nfield deployment. Atmospheric conditions include relative humidity (RH) and temperature, as well as common\nairborne pollutants found indoors.\n Finding novel means to detect the CoV-2, as well as create a platform to detect other and future\npathogens, would enable us to limit the viral spread throughout the community in the current and future\npandemics.",
       "awardCode": "U01",
       "fundingMechanism": "Non-SBIR/STTR",
       "id": 582,
       "label": "Grant",
       "name": "Nanobody-Based Electrochemical Biosensor for Real-Time Detection of Aerosolized SARS-CoV2",
       "narrative": "COVID-19 has afflicted millions of Americans with a roughly 3% mortality rate. We have developed an\nultra-sensitive electrochemical biosensor to detect CoV-2 which we will incorporate into a breathalyzer for\ndiagnostic purposes, as well as an airborne detector to monitor large gathering spaces.",
       "researchInitiative": "RADx-rad",
       "subProject": "Automatic Detection & Tracing",
       "tooltip": "Grant\nabstract:PROJECT SUMMARY\n Coronavirus 2019 (COVID-19) has afflicted 6.2 million Americans and killed 190,000 as of early September\n2020 (WHO website); a roughly 3% mortality. Between a shortage in testing and unidentified asymptomatic\nindividuals, the actual number of those infected could be 6 to 24-fold higher than that reported. SARS-CoV-2\n(CoV-2), the virus underlying the disease, results in a range of symptoms; in select cases a severe respiratory\nillness that impedes breathing that could lead to hospitalization and death. CoV-2 is transmitted person-to-\nperson via inhalation of the virus through mucosal membranes of the nose and throat from transfer after\ntouching a contaminated surface or by inhaling aerosolized virus. Unfortunately, COVID-19 is likely to be\nprevalent well into 2021 and beyond.\n We must increase our ability to test for CoV-2. First, testing is needed to diagnose individuals that are\nsymptomatic or asymptomatic to reduce community spread. And second, monitoring gathering areas for\nairborne virus that could inform the decision to shutdown a space or implement disinfection and mitigation of\nan area. We propose to use an electrochemical biosensor in two detection devices, 1) a diagnostic\nbreathalyzer for instant detection of CoV-2 and 2) an airborne detector for real-time, continuous surveillance of\na large space.\n We have developed a novel ultra-sensitive, antibody-based electrochemical biosensor to detect CoV-2\nrepeat binding domain (RBD) spike protein. The technology is based on a micro-immunoelectrode (MIE)\nbiosensor pioneered by the Cirrito laboratory to study protein dynamics in the setting of neurodegeneration (2,3).\nThe biosensor uses voltammetry to measure the oxidation of tyrosine amino acids; oxidation is the release of\nelectrons that the biosensor measures as a change in current. Antibodies are covalently attached to the\nelectrode surface to provide selectivity. Our prototype CoV-2 biosensor is sensitive to 2 femtogram/ml,\ncompared to several current CoV-2 antigen tests that are sensitive to the low picogram/ml range.\n The proposal will first (Aim 1) optimize our CoV-2 biosensor to detect CoV-2 viral particles, as well as test\nseveral parameters to increase sensitivity and longevity. Aim 2 will build a test breathalyzer that will utilize a\nnebulizer to generate virus laden air containing aerosol droplets similar to a breath that contain defined\nconcentrations of CoV-2 viral particles. Aim 3 will test the airborne biosensor in a realistic environment. Co-I\nChakrabarty’s laboratory has unique capabilities of mimicking real-world environmental conditions, especially\nin the context of atmospheric aerosols, necessary for testing and optimizing the biosensor’s performance for\nfield deployment. Atmospheric conditions include relative humidity (RH) and temperature, as well as common\nairborne pollutants found indoors.\n Finding novel means to detect the CoV-2, as well as create a platform to detect other and future\npathogens, would enable us to limit the viral spread throughout the community in the current and future\npandemics.\nid:U01AA029331\nnarrative:COVID-19 has afflicted millions of Americans with a roughly 3% mortality rate. We have developed an\nultra-sensitive electrochemical biosensor to detect CoV-2 which we will incorporate into a breathalyzer for\ndiagnostic purposes, as well as an airborne detector to monitor large gathering spaces.\nname:Nanobody-Based Electrochemical Biosensor for Real-Time Detection of Aerosolized SARS-CoV2\nsubProject:Automatic Detection & Tracing\nresearchInitiative:RADx-rad\nfundingMechanism:Non-SBIR/STTR\nawardCode:U01"
      },
      "grabbable": true,
      "grabbed": false,
      "locked": false,
      "pannable": false,
      "position": {},
      "removed": false,
      "selectable": false,
      "selected": false
     }
    },
    "e98994a9e26c495080b2fe3145da576d": {
     "model_module": "jupyter-cytoscape",
     "model_module_version": "^1.3.3",
     "model_name": "NodeModel",
     "state": {
      "_model_module": "jupyter-cytoscape",
      "_model_module_version": "^1.3.3",
      "_model_name": "NodeModel",
      "_view_count": null,
      "_view_module": "jupyter-cytoscape",
      "_view_module_version": "^1.3.3",
      "_view_name": "NodeView",
      "classes": "",
      "data": {
       "abstract": "A Novel Saliva-Based Aptamer Detection Assay for SARS-CoV-2 Infection\n(RFA-OD-20-021 STTR Application)\nAutomated, rapid diagnostics with little sample collection and preparation are needed to identify\nand trace affected persons in times when hyper-infectious pathogens cause pandemics. Frequent,\nlow cost and highly scalable testing is the only way to gain visibility on the magnitude of the\npandemic and ultimately control the spread of the disease. We propose the development of a\nunique system that can cheaply and readily detect SARS-CoV-2 in saliva samples. The\ndevelopment of a system that uses saliva present an opportunity to readily test patients using a\nsample that is easily collected and harbors high concentration of viral particles.\nThe SARS-CoV-2 pandemic has predominantly affected individuals with pre-existing conditions\nsuch as clotting disorders, diabetes, hypertension or other chronic diseases. Patients with these\npre-existing conditions who then are infected have exacerbated symptoms and complications that\ncan lead to death. For example, many patients that have succumbed to SARS-CoV-2 infection\nhave developed blood clots that have impaired pulmonary or cardiac function and ultimately\ncardiac failure. A rapid diagnostic using easily collected samples (e.g. saliva) would allow for\ninfections to be identified sooner, therapies to be administered quicker, treatment to be monitored,\nand ultimately leading to fewer individuals that succumb to the infection.\nWe outline a novel DNA Star biosensing approach based on the fact that viruses, such as SARS-\nCoV-2, express unique spatial patterns of antigens on their surfaces, facilitating multivalent\nbinding to host cells for infection. These configurations of epitopes drive the high sensitivity and\nspecificity of our assay. Based on this naturally occurring binding mechanism, we developed a\nrational design approach producing pattern matching designer DNA architecture for viral sensing.\nA proof-of-concept Dengue virus (DENV) rapid diagnostics was developed to demonstrate its\npower: DENV surface antigens present the most complex geometric pattern among all known\npathogens, a DNA star linked 10-aptamers nanostructure that offers polyvalent, spatial DENV-\nepitope pattern matching interactions has provided high DENV-binding avidity and specificity,\nincreasing affinity by ~1,000× compared to the conventional aptamer approach which relies on\nmonovalent aptamer-epitope interactions. Our POCT diagnostics detected intact DENV virions in\npatient samples with PCR equivalent sensitivity in <2 mins at a cost <$0.15.\nCurrent RT-PCR molecular test are suited to large, centralized laboratories, and difficult to scale\nfor rapid testing of samples and delivery of results to clinicians and patients. Immunoassay tests\nhave lower sensitivity, and patients need to develop a response to the virus in order to detect the\nantibody response. Our “DNA star” biosensor-based rapid diagnostics will provide the\ninfrastructure for real time SARS-CoV-2 diagnostics that is easy to use (instrument-free), faster\n(sample to results in minutes) and cost effective (~$3 per test).",
       "awardCode": "R44",
       "fundingMechanism": "SBIR/STTR",
       "id": 553,
       "label": "Grant",
       "name": "Designer DNA Nanostructure Based Biosensing for Rapid COVID19 Detection and Monitoring using Saliva Sample",
       "narrative": "Direct detection of viral pathogens is needed to help limit the spread of extremely contagious and lethal infectious\nagents. Our aptamer-based detection assay and instrument will provide a mechanism to detect low levels of the\nSARS-CoV-2 viral pathogen with an automatic system requiring minimal effort for sample collection and no\nsample preparation and the system will be built to analyze at least 7 other sample types (plasma, whole blood,\nurine, nasopharyngeal samples, etc.) and the detection modalities will have additional detection aptamers in\norder to detect additional viral pathogens. This assay system can be deployed to monitor people not only in\nhospital and senior living facilities, but in schools, airports and other locations so that infected and asymptomatic\nindividuals can be identified, quarantined, and treated to limit the spread of the pathogen.",
       "researchInitiative": "RADx-rad",
       "subProject": "Novel Biosensing and VOC",
       "tooltip": "Grant\nresearchInitiative:RADx-rad\nnarrative:Direct detection of viral pathogens is needed to help limit the spread of extremely contagious and lethal infectious\nagents. Our aptamer-based detection assay and instrument will provide a mechanism to detect low levels of the\nSARS-CoV-2 viral pathogen with an automatic system requiring minimal effort for sample collection and no\nsample preparation and the system will be built to analyze at least 7 other sample types (plasma, whole blood,\nurine, nasopharyngeal samples, etc.) and the detection modalities will have additional detection aptamers in\norder to detect additional viral pathogens. This assay system can be deployed to monitor people not only in\nhospital and senior living facilities, but in schools, airports and other locations so that infected and asymptomatic\nindividuals can be identified, quarantined, and treated to limit the spread of the pathogen.\nname:Designer DNA Nanostructure Based Biosensing for Rapid COVID19 Detection and Monitoring using Saliva Sample\nsubProject:Novel Biosensing and VOC\nfundingMechanism:SBIR/STTR\nawardCode:R44\nabstract:A Novel Saliva-Based Aptamer Detection Assay for SARS-CoV-2 Infection\n(RFA-OD-20-021 STTR Application)\nAutomated, rapid diagnostics with little sample collection and preparation are needed to identify\nand trace affected persons in times when hyper-infectious pathogens cause pandemics. Frequent,\nlow cost and highly scalable testing is the only way to gain visibility on the magnitude of the\npandemic and ultimately control the spread of the disease. We propose the development of a\nunique system that can cheaply and readily detect SARS-CoV-2 in saliva samples. The\ndevelopment of a system that uses saliva present an opportunity to readily test patients using a\nsample that is easily collected and harbors high concentration of viral particles.\nThe SARS-CoV-2 pandemic has predominantly affected individuals with pre-existing conditions\nsuch as clotting disorders, diabetes, hypertension or other chronic diseases. Patients with these\npre-existing conditions who then are infected have exacerbated symptoms and complications that\ncan lead to death. For example, many patients that have succumbed to SARS-CoV-2 infection\nhave developed blood clots that have impaired pulmonary or cardiac function and ultimately\ncardiac failure. A rapid diagnostic using easily collected samples (e.g. saliva) would allow for\ninfections to be identified sooner, therapies to be administered quicker, treatment to be monitored,\nand ultimately leading to fewer individuals that succumb to the infection.\nWe outline a novel DNA Star biosensing approach based on the fact that viruses, such as SARS-\nCoV-2, express unique spatial patterns of antigens on their surfaces, facilitating multivalent\nbinding to host cells for infection. These configurations of epitopes drive the high sensitivity and\nspecificity of our assay. Based on this naturally occurring binding mechanism, we developed a\nrational design approach producing pattern matching designer DNA architecture for viral sensing.\nA proof-of-concept Dengue virus (DENV) rapid diagnostics was developed to demonstrate its\npower: DENV surface antigens present the most complex geometric pattern among all known\npathogens, a DNA star linked 10-aptamers nanostructure that offers polyvalent, spatial DENV-\nepitope pattern matching interactions has provided high DENV-binding avidity and specificity,\nincreasing affinity by ~1,000× compared to the conventional aptamer approach which relies on\nmonovalent aptamer-epitope interactions. Our POCT diagnostics detected intact DENV virions in\npatient samples with PCR equivalent sensitivity in <2 mins at a cost <$0.15.\nCurrent RT-PCR molecular test are suited to large, centralized laboratories, and difficult to scale\nfor rapid testing of samples and delivery of results to clinicians and patients. Immunoassay tests\nhave lower sensitivity, and patients need to develop a response to the virus in order to detect the\nantibody response. Our “DNA star” biosensor-based rapid diagnostics will provide the\ninfrastructure for real time SARS-CoV-2 diagnostics that is easy to use (instrument-free), faster\n(sample to results in minutes) and cost effective (~$3 per test).\nid:R44DE030852"
      },
      "grabbable": true,
      "grabbed": false,
      "locked": false,
      "pannable": false,
      "position": {},
      "removed": false,
      "selectable": false,
      "selected": false
     }
    },
    "ea08b6e8ec73419da3d720078ed05745": {
     "model_module": "jupyter-cytoscape",
     "model_module_version": "^1.3.3",
     "model_name": "GraphModel",
     "state": {
      "_adj": {
       "1075": {},
       "2795": {},
       "2800": {},
       "2801": {},
       "2805": {},
       "2830": {},
       "564": {},
       "587": {},
       "589": {},
       "593": {},
       "649": {},
       "666": {},
       "668": {},
       "980": {}
      },
      "_model_module": "jupyter-cytoscape",
      "_model_module_version": "^1.3.3",
      "_model_name": "GraphModel",
      "_view_count": null,
      "_view_module": "jupyter-cytoscape",
      "_view_module_version": "^1.3.3",
      "_view_name": null,
      "edges": [
       "IPY_MODEL_aab1b5601ad44523855af28414e8a2c8",
       "IPY_MODEL_8d785750d29349049b274204b60a4796",
       "IPY_MODEL_000eb5ae35e44ade89b0029a9a63e019",
       "IPY_MODEL_a52b657d898c424aa219c9c3f965796f",
       "IPY_MODEL_e77022e9f0f641e1b19d5150c8a11d56",
       "IPY_MODEL_b754869a74704927a3aa87e57ccd5d16",
       "IPY_MODEL_a11ba5f7798f407dbe75c4f7e1afdff8",
       "IPY_MODEL_8cf245cf46f849449811dd83b51fccf9",
       "IPY_MODEL_d1ec4c1f690e4127ace2fbe9d2787cc8",
       "IPY_MODEL_eac711085d2949c694e3617001b518af",
       "IPY_MODEL_4e186b0cc2454657aefe01ef484147e4",
       "IPY_MODEL_9788a40ef30f45ebb304dcc513e3b3c4",
       "IPY_MODEL_351b1bcfee3a41fa8ea5d24a3d7fea15",
       "IPY_MODEL_2e7c927f75374b528510604701ad9618",
       "IPY_MODEL_8a4156a0a84248479cbbf932b628f0d9",
       "IPY_MODEL_16275544f89545e4b034eae74b53ff17",
       "IPY_MODEL_77640ba14fa240a1858f59dbbf088b5b",
       "IPY_MODEL_c4e7c7f04e5946588d256d6f32acd760",
       "IPY_MODEL_872d0d36ad584668956ae0fc755c25e4"
      ],
      "nodes": [
       "IPY_MODEL_0eb06f6bed6d4eeda8650977805bec9d",
       "IPY_MODEL_83ed3ea835cd4cb793b927c0c065e415",
       "IPY_MODEL_4e01ee5b39214de089eb553b26265191",
       "IPY_MODEL_bce35d5229e04f48a1525c95fb6e9b23",
       "IPY_MODEL_997c3389fb2c4e67b4da08f8369440b4",
       "IPY_MODEL_cc6bbbd9e7d14cf2a30965ac18ad9cbf",
       "IPY_MODEL_be706787e2fc445db585930a5f4ac276",
       "IPY_MODEL_8b5a36a655b642739ea140a0679b3d62",
       "IPY_MODEL_93e48d47bd2d414b8cb3122285d8dd0d",
       "IPY_MODEL_98b8ce49b9704531b953ba94cffb893a",
       "IPY_MODEL_9fb975f039b442fe9b4ca2bdbfb3760b",
       "IPY_MODEL_5087ee730c1a4fa7b6bb6ee08c4a184b",
       "IPY_MODEL_4b8af9b1ebfc4077b0c42c604230f59b",
       "IPY_MODEL_28ec5b7a31914cbea0279650b7253e50"
      ]
     }
    },
    "ea829fc26a714dd7b3273730b4032894": {
     "model_module": "jupyter-cytoscape",
     "model_module_version": "^1.3.3",
     "model_name": "GraphModel",
     "state": {
      "_adj": {
       "0": {},
       "1006": {},
       "1178": {},
       "1238": {},
       "1326": {},
       "1339": {},
       "1633": {},
       "1663": {},
       "1748": {},
       "1758": {},
       "1852": {},
       "1903": {},
       "1990": {},
       "2075": {},
       "2363": {},
       "2425": {},
       "2430": {},
       "2724": {},
       "2751": {},
       "2752": {},
       "2804": {},
       "2961": {},
       "3054": {},
       "315": {},
       "331": {},
       "3494": {},
       "3548": {},
       "362": {},
       "3753": {},
       "3763": {},
       "3824": {},
       "3850": {},
       "3863": {},
       "4447": {},
       "582": {},
       "661": {},
       "705": {},
       "909": {},
       "935": {},
       "941": {}
      },
      "_model_module": "jupyter-cytoscape",
      "_model_module_version": "^1.3.3",
      "_model_name": "GraphModel",
      "_view_count": null,
      "_view_module": "jupyter-cytoscape",
      "_view_module_version": "^1.3.3",
      "_view_name": null,
      "edges": [
       "IPY_MODEL_78a089f7a3a24db8b40c1d325b96a948",
       "IPY_MODEL_1d5342f4c5da4ad89c3197ee8b5bb517",
       "IPY_MODEL_72208cf62b8d46e4956e572cf30411d6",
       "IPY_MODEL_667185ce5bcc4725aa8fd3a158846713",
       "IPY_MODEL_4903779176fb4b5497e3d7243d15b72c",
       "IPY_MODEL_39ec7e0d6ca34e1188ed390df58c497a",
       "IPY_MODEL_75a7ef7819b74b3e8afd1da7f3195230",
       "IPY_MODEL_79f0f29ea9b14ca18cc1ebade5fbb925",
       "IPY_MODEL_9f877bbbffcb4aa68c8b0864da6e464a",
       "IPY_MODEL_5ef8b1ffd37a453ca68375ca2a145d7c",
       "IPY_MODEL_4496430c65a34e65b166ae594b3967c5",
       "IPY_MODEL_4b88d480c2d343598a8fdc5638d23e9f",
       "IPY_MODEL_ae389754112f4100a92fbbc0df26965e",
       "IPY_MODEL_af7d8ce13bd04aedbb9747ae123453f9",
       "IPY_MODEL_565afa8125f749fc953bb6d6beecf8ed",
       "IPY_MODEL_dd8b4bc026fb42c288801df7aa820941",
       "IPY_MODEL_abb8fcb34e344ae7840600f49bd592a3",
       "IPY_MODEL_18194f20677d468ea31b0220ce303ec7",
       "IPY_MODEL_cd347e5ce47645d4b538b747df6e3077",
       "IPY_MODEL_cd06c14c434f4f8e85c229c24b3eac8f",
       "IPY_MODEL_2bcfc6698fc646648621f091595fbcf0",
       "IPY_MODEL_e70fde09f321458ca0b96be856c84034",
       "IPY_MODEL_3b5d0e7b5e12434888af4b6543beb370",
       "IPY_MODEL_dcae52c70c724acdba0c2c2e844804c8",
       "IPY_MODEL_ff4606d96c464aca9ef226dd08fdbead",
       "IPY_MODEL_1e66f4e036c34121a1073a28a5a76dcc",
       "IPY_MODEL_c16ab678faa64eed954e1dc1be6f5029",
       "IPY_MODEL_ecc84605430a4ee3896143866416535f",
       "IPY_MODEL_6c2b59732fca401387efe8b7630d9d33",
       "IPY_MODEL_8d543ca88dbf4079a7a5dc2af000f803",
       "IPY_MODEL_34f470ec720c4792bf174720669e47a9",
       "IPY_MODEL_0cd94a4747444029b77838fa8e0fffb5",
       "IPY_MODEL_7315824a6a4c4cbb95b0a6892fdc8884",
       "IPY_MODEL_bf615017232f43bc8c19da89d2495e8b",
       "IPY_MODEL_aa789227d605417fb63f59aca28b4b8e",
       "IPY_MODEL_b73d3a15bcb0418f978d97bb6393007d",
       "IPY_MODEL_4d8e8e92789d417cb44f0182a92255e6",
       "IPY_MODEL_a2a918cae59644208b662748046b7a75",
       "IPY_MODEL_9ecbfa0647b74138af59f7824a712e0c",
       "IPY_MODEL_25a063ff351a4863aaed019fe617bb7f",
       "IPY_MODEL_8e2e1c091f0d4e1a84ccd39c42ab417b",
       "IPY_MODEL_23e3c8b2ff6c4cb3976aa1e18f08eb3f",
       "IPY_MODEL_679788bd110e4198b5c1db005cb83b8b",
       "IPY_MODEL_c8bf32475cdd475f94693c412110143c",
       "IPY_MODEL_02d82b1b056f4241bbc0278bb93277ba",
       "IPY_MODEL_de7906bf7272414cb686e88c5c7d33d1",
       "IPY_MODEL_3dea169b0a094c59966f0ed476f80d12",
       "IPY_MODEL_91410991ce06404d8dfdb64b8c871551",
       "IPY_MODEL_1004833776c6426593e28be991a03867",
       "IPY_MODEL_4b58d3862d574edd9caac66cca2a690c",
       "IPY_MODEL_524b27a89f414af08d14df5afffc7287",
       "IPY_MODEL_fefa221104e94217a9b53fd58d1858a9",
       "IPY_MODEL_4fbe225699874bc3a0d85d5c46b52bd2",
       "IPY_MODEL_de62cd20a8d84fa1a78f9785367e1521",
       "IPY_MODEL_093460099cb149cea0538d208cd7062d"
      ],
      "nodes": [
       "IPY_MODEL_e33e38576cbc4937b3f0a0f1a72df60b",
       "IPY_MODEL_3e339af09fb24d8e8705efd573915527",
       "IPY_MODEL_3e6fd8dc0a6544d8be19489ffa76d781",
       "IPY_MODEL_12523cdf44ee4f4d994a4cb0d6dac539",
       "IPY_MODEL_05dc4a3528e6446a990d536a62fab5e1",
       "IPY_MODEL_600681dd97c34a63930bb93c7a884060",
       "IPY_MODEL_f24cbd1b18a840c6853e65568441b6ec",
       "IPY_MODEL_25dc8029995b442e8b0adfd3ffef92de",
       "IPY_MODEL_1b4eac0372cd4cbe81c25f84968c6062",
       "IPY_MODEL_8aeb98e7ad9e4ab7b8082bae90189ee0",
       "IPY_MODEL_201ea2bad05e42c6a35eb48411148037",
       "IPY_MODEL_6b8889c360584952ac3c9d9c7987db60",
       "IPY_MODEL_d2bde46d54404469b39a2b1a21b16b98",
       "IPY_MODEL_7aa6dfe3f88e4f39aeece7b33b500156",
       "IPY_MODEL_4b31d516bf8b413a9ddd83096bc15824",
       "IPY_MODEL_24dc972418ab47bcbbcab7b9dc0b59ba",
       "IPY_MODEL_cbd701e6988e4d8f82311892172fec12",
       "IPY_MODEL_259233aafd094b0b988946e36dd4de14",
       "IPY_MODEL_dbacdff5bb264cd291f0f4036b47d06e",
       "IPY_MODEL_307207e2284c4712a78a62c39a48d64c",
       "IPY_MODEL_772a742b0c274f9889f9420d87568890",
       "IPY_MODEL_a8ad8600310341e68dcc9c05749ccd0d",
       "IPY_MODEL_5bcad02382294ed6b98063c19c0f4387",
       "IPY_MODEL_e91e35c5d78147caa0b06d47e36b2654",
       "IPY_MODEL_cf1c7c083f5943e2a469479dfb28a014",
       "IPY_MODEL_557a8c0d4ad84aa59a04d3593b6ecf31",
       "IPY_MODEL_7f91c51e057743b8994fedea29912609",
       "IPY_MODEL_55fc52e4df5b47e5ae6f9cac2264cd8f",
       "IPY_MODEL_57749551a2174111905f728c2b503423",
       "IPY_MODEL_1a69849f898248f597d03c9939eb7ac2",
       "IPY_MODEL_ed85ea2576414e8f86db64b5672b29c3",
       "IPY_MODEL_23f364d0a9dd4452adc3e10827926296",
       "IPY_MODEL_69fce2b0cf5447f1ba31772165ecac5f",
       "IPY_MODEL_ea930a28e08240cc931d2ea18de7fe60",
       "IPY_MODEL_675b10a6314c4a2abb00e15be8e9ac6b",
       "IPY_MODEL_f4ac35311c4d40459cd80642694e70b1",
       "IPY_MODEL_07129b937d6047639374a5cc822b0487",
       "IPY_MODEL_9db02e9a3bad4b9384b95d1c659c588b",
       "IPY_MODEL_fc31ff322626414585f83c4642b65596",
       "IPY_MODEL_133661113db04bedbcf64cef7067ff2f"
      ]
     }
    },
    "ea930a28e08240cc931d2ea18de7fe60": {
     "model_module": "jupyter-cytoscape",
     "model_module_version": "^1.3.3",
     "model_name": "NodeModel",
     "state": {
      "_model_module": "jupyter-cytoscape",
      "_model_module_version": "^1.3.3",
      "_model_name": "NodeModel",
      "_view_count": null,
      "_view_module": "jupyter-cytoscape",
      "_view_module_version": "^1.3.3",
      "_view_name": "NodeView",
      "classes": "",
      "data": {
       "abstract": "PROJECT SUMMARY\n Coronavirus 2019 (COVID-19) has afflicted 6.2 million Americans and killed 190,000 as of early September\n2020 (WHO website); a roughly 3% mortality. Between a shortage in testing and unidentified asymptomatic\nindividuals, the actual number of those infected could be 6 to 24-fold higher than that reported. SARS-CoV-2\n(CoV-2), the virus underlying the disease, results in a range of symptoms; in select cases a severe respiratory\nillness that impedes breathing that could lead to hospitalization and death. CoV-2 is transmitted person-to-\nperson via inhalation of the virus through mucosal membranes of the nose and throat from transfer after\ntouching a contaminated surface or by inhaling aerosolized virus. Unfortunately, COVID-19 is likely to be\nprevalent well into 2021 and beyond.\n We must increase our ability to test for CoV-2. First, testing is needed to diagnose individuals that are\nsymptomatic or asymptomatic to reduce community spread. And second, monitoring gathering areas for\nairborne virus that could inform the decision to shutdown a space or implement disinfection and mitigation of\nan area. We propose to use an electrochemical biosensor in two detection devices, 1) a diagnostic\nbreathalyzer for instant detection of CoV-2 and 2) an airborne detector for real-time, continuous surveillance of\na large space.\n We have developed a novel ultra-sensitive, antibody-based electrochemical biosensor to detect CoV-2\nrepeat binding domain (RBD) spike protein. The technology is based on a micro-immunoelectrode (MIE)\nbiosensor pioneered by the Cirrito laboratory to study protein dynamics in the setting of neurodegeneration (2,3).\nThe biosensor uses voltammetry to measure the oxidation of tyrosine amino acids; oxidation is the release of\nelectrons that the biosensor measures as a change in current. Antibodies are covalently attached to the\nelectrode surface to provide selectivity. Our prototype CoV-2 biosensor is sensitive to 2 femtogram/ml,\ncompared to several current CoV-2 antigen tests that are sensitive to the low picogram/ml range.\n The proposal will first (Aim 1) optimize our CoV-2 biosensor to detect CoV-2 viral particles, as well as test\nseveral parameters to increase sensitivity and longevity. Aim 2 will build a test breathalyzer that will utilize a\nnebulizer to generate virus laden air containing aerosol droplets similar to a breath that contain defined\nconcentrations of CoV-2 viral particles. Aim 3 will test the airborne biosensor in a realistic environment. Co-I\nChakrabarty’s laboratory has unique capabilities of mimicking real-world environmental conditions, especially\nin the context of atmospheric aerosols, necessary for testing and optimizing the biosensor’s performance for\nfield deployment. Atmospheric conditions include relative humidity (RH) and temperature, as well as common\nairborne pollutants found indoors.\n Finding novel means to detect the CoV-2, as well as create a platform to detect other and future\npathogens, would enable us to limit the viral spread throughout the community in the current and future\npandemics.",
       "awardCode": "U01",
       "fundingMechanism": "Non-SBIR/STTR",
       "id": 582,
       "label": "Grant",
       "name": "Nanobody-Based Electrochemical Biosensor for Real-Time Detection of Aerosolized SARS-CoV2",
       "narrative": "COVID-19 has afflicted millions of Americans with a roughly 3% mortality rate. We have developed an\nultra-sensitive electrochemical biosensor to detect CoV-2 which we will incorporate into a breathalyzer for\ndiagnostic purposes, as well as an airborne detector to monitor large gathering spaces.",
       "researchInitiative": "RADx-rad",
       "subProject": "Automatic Detection & Tracing",
       "tooltip": "Grant\nabstract:PROJECT SUMMARY\n Coronavirus 2019 (COVID-19) has afflicted 6.2 million Americans and killed 190,000 as of early September\n2020 (WHO website); a roughly 3% mortality. Between a shortage in testing and unidentified asymptomatic\nindividuals, the actual number of those infected could be 6 to 24-fold higher than that reported. SARS-CoV-2\n(CoV-2), the virus underlying the disease, results in a range of symptoms; in select cases a severe respiratory\nillness that impedes breathing that could lead to hospitalization and death. CoV-2 is transmitted person-to-\nperson via inhalation of the virus through mucosal membranes of the nose and throat from transfer after\ntouching a contaminated surface or by inhaling aerosolized virus. Unfortunately, COVID-19 is likely to be\nprevalent well into 2021 and beyond.\n We must increase our ability to test for CoV-2. First, testing is needed to diagnose individuals that are\nsymptomatic or asymptomatic to reduce community spread. And second, monitoring gathering areas for\nairborne virus that could inform the decision to shutdown a space or implement disinfection and mitigation of\nan area. We propose to use an electrochemical biosensor in two detection devices, 1) a diagnostic\nbreathalyzer for instant detection of CoV-2 and 2) an airborne detector for real-time, continuous surveillance of\na large space.\n We have developed a novel ultra-sensitive, antibody-based electrochemical biosensor to detect CoV-2\nrepeat binding domain (RBD) spike protein. The technology is based on a micro-immunoelectrode (MIE)\nbiosensor pioneered by the Cirrito laboratory to study protein dynamics in the setting of neurodegeneration (2,3).\nThe biosensor uses voltammetry to measure the oxidation of tyrosine amino acids; oxidation is the release of\nelectrons that the biosensor measures as a change in current. Antibodies are covalently attached to the\nelectrode surface to provide selectivity. Our prototype CoV-2 biosensor is sensitive to 2 femtogram/ml,\ncompared to several current CoV-2 antigen tests that are sensitive to the low picogram/ml range.\n The proposal will first (Aim 1) optimize our CoV-2 biosensor to detect CoV-2 viral particles, as well as test\nseveral parameters to increase sensitivity and longevity. Aim 2 will build a test breathalyzer that will utilize a\nnebulizer to generate virus laden air containing aerosol droplets similar to a breath that contain defined\nconcentrations of CoV-2 viral particles. Aim 3 will test the airborne biosensor in a realistic environment. Co-I\nChakrabarty’s laboratory has unique capabilities of mimicking real-world environmental conditions, especially\nin the context of atmospheric aerosols, necessary for testing and optimizing the biosensor’s performance for\nfield deployment. Atmospheric conditions include relative humidity (RH) and temperature, as well as common\nairborne pollutants found indoors.\n Finding novel means to detect the CoV-2, as well as create a platform to detect other and future\npathogens, would enable us to limit the viral spread throughout the community in the current and future\npandemics.\nid:U01AA029331\nnarrative:COVID-19 has afflicted millions of Americans with a roughly 3% mortality rate. We have developed an\nultra-sensitive electrochemical biosensor to detect CoV-2 which we will incorporate into a breathalyzer for\ndiagnostic purposes, as well as an airborne detector to monitor large gathering spaces.\nname:Nanobody-Based Electrochemical Biosensor for Real-Time Detection of Aerosolized SARS-CoV2\nsubProject:Automatic Detection & Tracing\nresearchInitiative:RADx-rad\nfundingMechanism:Non-SBIR/STTR\nawardCode:U01"
      },
      "grabbable": true,
      "grabbed": false,
      "locked": false,
      "pannable": false,
      "position": {},
      "removed": false,
      "selectable": false,
      "selected": false
     }
    },
    "eac711085d2949c694e3617001b518af": {
     "model_module": "jupyter-cytoscape",
     "model_module_version": "^1.3.3",
     "model_name": "EdgeModel",
     "state": {
      "_model_module": "jupyter-cytoscape",
      "_model_module_version": "^1.3.3",
      "_model_name": "EdgeModel",
      "_view_count": null,
      "_view_module": "jupyter-cytoscape",
      "_view_module_version": "^1.3.3",
      "_view_name": "EdgeView",
      "classes": " directed  multiple_edges ",
      "data": {
       "name": "AUTHORED",
       "source": 649,
       "target": 2830
      },
      "pannable": true,
      "removed": false,
      "selectable": false,
      "selected": false
     }
    },
    "ecc84605430a4ee3896143866416535f": {
     "model_module": "jupyter-cytoscape",
     "model_module_version": "^1.3.3",
     "model_name": "EdgeModel",
     "state": {
      "_model_module": "jupyter-cytoscape",
      "_model_module_version": "^1.3.3",
      "_model_name": "EdgeModel",
      "_view_count": null,
      "_view_module": "jupyter-cytoscape",
      "_view_module_version": "^1.3.3",
      "_view_name": "EdgeView",
      "classes": " directed  multiple_edges ",
      "data": {
       "name": "AUTHORED",
       "source": 1178,
       "target": 2751
      },
      "pannable": true,
      "removed": false,
      "selectable": false,
      "selected": false
     }
    },
    "ed85ea2576414e8f86db64b5672b29c3": {
     "model_module": "jupyter-cytoscape",
     "model_module_version": "^1.3.3",
     "model_name": "NodeModel",
     "state": {
      "_model_module": "jupyter-cytoscape",
      "_model_module_version": "^1.3.3",
      "_model_name": "NodeModel",
      "_view_count": null,
      "_view_module": "jupyter-cytoscape",
      "_view_module_version": "^1.3.3",
      "_view_name": "NodeView",
      "classes": "",
      "data": {
       "description": "RADx-rad will support new, non-traditional approaches, including rapid detection devices and home-based testing technologies, that address current gaps in COVID-19 testing. The program will also support new or non-traditional applications of existing approaches to make them more usable, accessible, or accurate. These may lead to new ways to identify the current SARS-CoV-2 virus as well as potential future viruses.",
       "id": 0,
       "label": "ResearchInitiative",
       "longName": "RADx-rad Discoveries and Data Coordinating Center (DCC)",
       "name": "RADx-rad",
       "researchInitiativeUrl": "https://www.nih.gov/research-training/medical-research-initiatives/radx/radx-programs#radx-rad",
       "tooltip": "ResearchInitiative\nresearchInitiativeUrl:https://www.nih.gov/research-training/medical-research-initiatives/radx/radx-programs#radx-rad\nid:RADx-rad\ndescription:RADx-rad will support new, non-traditional approaches, including rapid detection devices and home-based testing technologies, that address current gaps in COVID-19 testing. The program will also support new or non-traditional applications of existing approaches to make them more usable, accessible, or accurate. These may lead to new ways to identify the current SARS-CoV-2 virus as well as potential future viruses.\nname:RADx-rad\nlongName:RADx-rad Discoveries and Data Coordinating Center (DCC)\nwebsites:['https://radxlab.org', 'https://github.com/radxrad']\nurl:https://radxrad.org/",
       "url": "https://radxrad.org/",
       "websites": [
        "https://radxlab.org",
        "https://github.com/radxrad"
       ]
      },
      "grabbable": true,
      "grabbed": false,
      "locked": false,
      "pannable": false,
      "position": {},
      "removed": false,
      "selectable": false,
      "selected": false
     }
    },
    "f19ab4cbcc914b6ea7fd12a0ba47c827": {
     "model_module": "jupyter-cytoscape",
     "model_module_version": "^1.3.3",
     "model_name": "EdgeModel",
     "state": {
      "_model_module": "jupyter-cytoscape",
      "_model_module_version": "^1.3.3",
      "_model_name": "EdgeModel",
      "_view_count": null,
      "_view_module": "jupyter-cytoscape",
      "_view_module_version": "^1.3.3",
      "_view_name": "EdgeView",
      "classes": " directed  multiple_edges ",
      "data": {
       "from": "Unique identifier for the researcher (string)",
       "name": "MetaRelationship",
       "relationshipName": "CREATED",
       "source": 2736,
       "target": 2737,
       "to": "Unique identifier (CRUIE preferred) for the dataset (string)"
      },
      "pannable": true,
      "removed": false,
      "selectable": false,
      "selected": false
     }
    },
    "f24cbd1b18a840c6853e65568441b6ec": {
     "model_module": "jupyter-cytoscape",
     "model_module_version": "^1.3.3",
     "model_name": "NodeModel",
     "state": {
      "_model_module": "jupyter-cytoscape",
      "_model_module_version": "^1.3.3",
      "_model_name": "NodeModel",
      "_view_count": null,
      "_view_module": "jupyter-cytoscape",
      "_view_module_version": "^1.3.3",
      "_view_name": "NodeView",
      "classes": "",
      "data": {
       "firstName": "D",
       "fullName": "D Brody",
       "id": 941,
       "label": "Researcher",
       "lastName": "Brody",
       "name": "Brody D",
       "tooltip": "Researcher\nid:s2authorid:40644627\nlastName:Brody\nname:Brody D\nfullName:D Brody\nfirstName:D"
      },
      "grabbable": true,
      "grabbed": false,
      "locked": false,
      "pannable": false,
      "position": {},
      "removed": false,
      "selectable": false,
      "selected": false
     }
    },
    "f3f3b11b35194588bb53aaa93ad02962": {
     "model_module": "jupyter-cytoscape",
     "model_module_version": "^1.3.3",
     "model_name": "NodeModel",
     "state": {
      "_model_module": "jupyter-cytoscape",
      "_model_module_version": "^1.3.3",
      "_model_name": "NodeModel",
      "_view_count": null,
      "_view_module": "jupyter-cytoscape",
      "_view_module_version": "^1.3.3",
      "_view_name": "NodeView",
      "classes": "",
      "data": {
       "abstract": "The COVID-19 pandemic has rapidly spread across the world, bringing death, illness, disruption to daily\nlife, and economic crisis to businesses and individuals. The situation has been exacerbated after the schools\nand companies reopened due to economic pressure. One of the key failures in COVID-19 containment is\nunderlined by the inability of our healthcare system in real-time detection in point-of-care (POC) and end-user\nsettings and precise tracing with privacy protection of active infections. The fundamental limitations of current\ngene-based assays stem from their reliance upon amplification and detection of the viral genetic materials\neven if there were no intact/infectious viruses. These tests require labor-intensive, laboratory-based sample\npreparation protocols for virus lysis, extraction of genetic materials, purification of the isolated materials,\nthermal cycling for enzymatic amplification of viral nucleic acid sequences, and interpretation of complex\nresults by professionals. To accurately determine the infectivity of the infected individuals, contaminated\nobjects and environments, and provide guidance for patients, public and authorities to better manage treatment\nand containment, we seek a new paradigm for rapid and direct pathogen detection and identification in which\nthe intact virions are directly recognized through their distinct surface epitope features, and the resultant\nfluorescent signal is immediately captured by an end-user smartphone, followed by automatic data transition\nand event tracing in a blockchain-encrypted manner. To achieve specific recognition of SARS-CoV-2 virions,\nwe customized a designer DNA nanostructure (DDN)-based capture probe that harbors a macromolecular\n“net” whose vertices precisely match the intra- and inter-spatial pattern of SARS-CoV-2 trimeric spike\nglycoprotein clusters, and integrates a net-shaped array of SARS-CoV-2 spike specific-targeting aptamers.\nThis aptamer-DDN is designed for maximum affinity and specificity binding with spikes on intact virions in a\npolyvalent and pattern-matching fashion. Once bound to intact virions, the DNA “nets” trigger the release of\nfluorescence. This fluorescent signal can be readily and automatically detected by a membrane-shaped and\nsmartphone-based fluorimeter attached to the end-users' phone cameras. The acquired results will be\nassociated with user device IDs that are cyber-protected before tracing. We propose to combine DDN capture\nprobes and a smartphone device to develop and demonstrate a rapid, room temperature, single-step, virus-\nspecific, and ultrasensitive detection of SARS-CoV-2 virus, in which the detection results can be acquired\nwithin 5 minutes upon exposure, at the user end, allowing tracing the presence of viruses without affecting user\nprivacy. The signal to result transition, result to ID association, individual track and interacting network tracing\nwill be blockchain-encrypted to ensure information security for individual privacy, while tracing information\nwould be available to health authority for public health benefits.",
       "awardCode": "U01",
       "fundingMechanism": "Non-SBIR/STTR",
       "id": 570,
       "label": "Grant",
       "name": "Detection and Automatic Privacy-Protected Contact Tracing System Designed for COVID-19",
       "narrative": "The goal of the project is to develop a pipeline for automatic detection and tracing of active SARS-CoV-2\ninfection in a cost-effective, highly accurate, real-time, portable, and super-encrypted manner. Our integrated\napproach first captures viral particles from patient samples to activate fluorescence reporters, followed by\nsignal detection using a smartphone fluorimeter, along with blockchain-based data processing and tracing. We\ndeployed designer DNA “net” nanostructures that match the spatial pattern of trimeric spike glycoprotein\nclusters on the viral outer surface for specific and rapid SARS-CoV-2 virion detection, smartphone-based point-\nof-care device for portable signal reading, and blockchain encryption for privacy protection during result\nrecording and track tracing, therefore, our detection and tracing model allows a direct, automatic, and cost-\neffective detection, a highly flexible result acquisition process and a super-encrypted data transition and tracing\nsystem.",
       "researchInitiative": "RADx-rad",
       "subProject": "Automatic Detection & Tracing",
       "tooltip": "Grant\nabstract:The COVID-19 pandemic has rapidly spread across the world, bringing death, illness, disruption to daily\nlife, and economic crisis to businesses and individuals. The situation has been exacerbated after the schools\nand companies reopened due to economic pressure. One of the key failures in COVID-19 containment is\nunderlined by the inability of our healthcare system in real-time detection in point-of-care (POC) and end-user\nsettings and precise tracing with privacy protection of active infections. The fundamental limitations of current\ngene-based assays stem from their reliance upon amplification and detection of the viral genetic materials\neven if there were no intact/infectious viruses. These tests require labor-intensive, laboratory-based sample\npreparation protocols for virus lysis, extraction of genetic materials, purification of the isolated materials,\nthermal cycling for enzymatic amplification of viral nucleic acid sequences, and interpretation of complex\nresults by professionals. To accurately determine the infectivity of the infected individuals, contaminated\nobjects and environments, and provide guidance for patients, public and authorities to better manage treatment\nand containment, we seek a new paradigm for rapid and direct pathogen detection and identification in which\nthe intact virions are directly recognized through their distinct surface epitope features, and the resultant\nfluorescent signal is immediately captured by an end-user smartphone, followed by automatic data transition\nand event tracing in a blockchain-encrypted manner. To achieve specific recognition of SARS-CoV-2 virions,\nwe customized a designer DNA nanostructure (DDN)-based capture probe that harbors a macromolecular\n“net” whose vertices precisely match the intra- and inter-spatial pattern of SARS-CoV-2 trimeric spike\nglycoprotein clusters, and integrates a net-shaped array of SARS-CoV-2 spike specific-targeting aptamers.\nThis aptamer-DDN is designed for maximum affinity and specificity binding with spikes on intact virions in a\npolyvalent and pattern-matching fashion. Once bound to intact virions, the DNA “nets” trigger the release of\nfluorescence. This fluorescent signal can be readily and automatically detected by a membrane-shaped and\nsmartphone-based fluorimeter attached to the end-users' phone cameras. The acquired results will be\nassociated with user device IDs that are cyber-protected before tracing. We propose to combine DDN capture\nprobes and a smartphone device to develop and demonstrate a rapid, room temperature, single-step, virus-\nspecific, and ultrasensitive detection of SARS-CoV-2 virus, in which the detection results can be acquired\nwithin 5 minutes upon exposure, at the user end, allowing tracing the presence of viruses without affecting user\nprivacy. The signal to result transition, result to ID association, individual track and interacting network tracing\nwill be blockchain-encrypted to ensure information security for individual privacy, while tracing information\nwould be available to health authority for public health benefits.\nid:U01AA029348\nnarrative:The goal of the project is to develop a pipeline for automatic detection and tracing of active SARS-CoV-2\ninfection in a cost-effective, highly accurate, real-time, portable, and super-encrypted manner. Our integrated\napproach first captures viral particles from patient samples to activate fluorescence reporters, followed by\nsignal detection using a smartphone fluorimeter, along with blockchain-based data processing and tracing. We\ndeployed designer DNA “net” nanostructures that match the spatial pattern of trimeric spike glycoprotein\nclusters on the viral outer surface for specific and rapid SARS-CoV-2 virion detection, smartphone-based point-\nof-care device for portable signal reading, and blockchain encryption for privacy protection during result\nrecording and track tracing, therefore, our detection and tracing model allows a direct, automatic, and cost-\neffective detection, a highly flexible result acquisition process and a super-encrypted data transition and tracing\nsystem.\nname:Detection and Automatic Privacy-Protected Contact Tracing System Designed for COVID-19\nsubProject:Automatic Detection & Tracing\nresearchInitiative:RADx-rad\nfundingMechanism:Non-SBIR/STTR\nawardCode:U01"
      },
      "grabbable": true,
      "grabbed": false,
      "locked": false,
      "pannable": false,
      "position": {},
      "removed": false,
      "selectable": false,
      "selected": false
     }
    },
    "f4ac35311c4d40459cd80642694e70b1": {
     "model_module": "jupyter-cytoscape",
     "model_module_version": "^1.3.3",
     "model_name": "NodeModel",
     "state": {
      "_model_module": "jupyter-cytoscape",
      "_model_module_version": "^1.3.3",
      "_model_name": "NodeModel",
      "_view_count": null,
      "_view_module": "jupyter-cytoscape",
      "_view_module_version": "^1.3.3",
      "_view_name": "NodeView",
      "classes": "",
      "data": {
       "endDate": "2023-09-21",
       "eventType": "webinar",
       "eventUrl": "https://www.radxrad.org/event/radx-rad-2023-conference-final-conference/",
       "id": 2430,
       "label": "Event",
       "name": "RADx-rad 2023 Conference",
       "startDate": "2023-09-21",
       "tooltip": "Event\nid:2023-09-21_E1\nstartDate:2023-09-21\nname:RADx-rad 2023 Conference\neventUrl:https://www.radxrad.org/event/radx-rad-2023-conference-final-conference/\nendDate:2023-09-21\neventType:webinar"
      },
      "grabbable": true,
      "grabbed": false,
      "locked": false,
      "pannable": false,
      "position": {},
      "removed": false,
      "selectable": false,
      "selected": false
     }
    },
    "f4bac80ce70c42d888dea7ab447b0e75": {
     "model_module": "jupyter-cytoscape",
     "model_module_version": "^1.3.3",
     "model_name": "EdgeModel",
     "state": {
      "_model_module": "jupyter-cytoscape",
      "_model_module_version": "^1.3.3",
      "_model_name": "EdgeModel",
      "_view_count": null,
      "_view_module": "jupyter-cytoscape",
      "_view_module_version": "^1.3.3",
      "_view_name": "EdgeView",
      "classes": " directed  multiple_edges ",
      "data": {
       "from": "Unique identifier of the researcher (string)",
       "name": "MetaRelationship",
       "relationshipName": "PRESENTED",
       "source": 2736,
       "target": 2738,
       "to": "Unique identifier of the presentation (string)"
      },
      "pannable": true,
      "removed": false,
      "selectable": false,
      "selected": false
     }
    },
    "f5eb67dc016e4857bb5beb3177df275c": {
     "model_module": "jupyter-cytoscape",
     "model_module_version": "^1.3.3",
     "model_name": "NodeModel",
     "state": {
      "_model_module": "jupyter-cytoscape",
      "_model_module_version": "^1.3.3",
      "_model_name": "NodeModel",
      "_view_count": null,
      "_view_module": "jupyter-cytoscape",
      "_view_module_version": "^1.3.3",
      "_view_name": "NodeView",
      "classes": "",
      "data": {
       "description": "Description of the research initiative (string)",
       "id": 2741,
       "label": "MetaNode",
       "longName": "Long name for research initiative (string)",
       "name": "Abbreviation of the research initiative (string)",
       "nodeName": "ResearchInitiative",
       "researchInitiativeUrl": "Description of the research initiative that funded the research initiative (string)",
       "tooltip": "MetaNode\nnodeName:ResearchInitiative\nresearchInitiativeUrl:Description of the research initiative that funded the research initiative (string)\nname:Abbreviation of the research initiative (string)\ndescription:Description of the research initiative (string)\nwebsites:URLs of related websites (string[])\nid:Unique id of the research initiative (string)\nurl:URL of the research initiative website (string)\nlongName:Long name for research initiative (string)",
       "url": "URL of the research initiative website (string)",
       "websites": "URLs of related websites (string[])"
      },
      "grabbable": true,
      "grabbed": false,
      "locked": false,
      "pannable": false,
      "position": {},
      "removed": false,
      "selectable": false,
      "selected": false
     }
    },
    "fc31ff322626414585f83c4642b65596": {
     "model_module": "jupyter-cytoscape",
     "model_module_version": "^1.3.3",
     "model_name": "NodeModel",
     "state": {
      "_model_module": "jupyter-cytoscape",
      "_model_module_version": "^1.3.3",
      "_model_name": "NodeModel",
      "_view_count": null,
      "_view_module": "jupyter-cytoscape",
      "_view_module_version": "^1.3.3",
      "_view_name": "NodeView",
      "classes": "",
      "data": {
       "firstName": "Kevin",
       "fullName": "Kevin R McBrearty",
       "id": 362,
       "label": "Researcher",
       "lastName": "McBrearty",
       "middleName": "R",
       "name": "McBrearty KR",
       "tooltip": "Researcher\nmiddleName:R\nid:s2authorid:71857371\nlastName:McBrearty\nname:McBrearty KR\nfullName:Kevin R McBrearty\nfirstName:Kevin"
      },
      "grabbable": true,
      "grabbed": false,
      "locked": false,
      "pannable": false,
      "position": {},
      "removed": false,
      "selectable": false,
      "selected": false
     }
    },
    "fefa221104e94217a9b53fd58d1858a9": {
     "model_module": "jupyter-cytoscape",
     "model_module_version": "^1.3.3",
     "model_name": "EdgeModel",
     "state": {
      "_model_module": "jupyter-cytoscape",
      "_model_module_version": "^1.3.3",
      "_model_name": "EdgeModel",
      "_view_count": null,
      "_view_module": "jupyter-cytoscape",
      "_view_module_version": "^1.3.3",
      "_view_name": "EdgeView",
      "classes": " directed  multiple_edges ",
      "data": {
       "name": "CITES",
       "source": 3824,
       "target": 2752
      },
      "pannable": true,
      "removed": false,
      "selectable": false,
      "selected": false
     }
    },
    "ff4606d96c464aca9ef226dd08fdbead": {
     "model_module": "jupyter-cytoscape",
     "model_module_version": "^1.3.3",
     "model_name": "EdgeModel",
     "state": {
      "_model_module": "jupyter-cytoscape",
      "_model_module_version": "^1.3.3",
      "_model_name": "EdgeModel",
      "_view_count": null,
      "_view_module": "jupyter-cytoscape",
      "_view_module_version": "^1.3.3",
      "_view_name": "EdgeView",
      "classes": " directed  multiple_edges ",
      "data": {
       "name": "AUTHORED",
       "source": 941,
       "target": 2751
      },
      "pannable": true,
      "removed": false,
      "selectable": false,
      "selected": false
     }
    },
    "ff980a46cb864e7d9695a21bfc80b645": {
     "model_module": "jupyter-cytoscape",
     "model_module_version": "^1.3.3",
     "model_name": "GraphModel",
     "state": {
      "_adj": {
       "1633": {},
       "2425": {},
       "2751": {},
       "2752": {},
       "40": {},
       "4447": {},
       "582": {},
       "661": {}
      },
      "_model_module": "jupyter-cytoscape",
      "_model_module_version": "^1.3.3",
      "_model_name": "GraphModel",
      "_view_count": null,
      "_view_module": "jupyter-cytoscape",
      "_view_module_version": "^1.3.3",
      "_view_name": null,
      "edges": [
       "IPY_MODEL_c5ed7d8c650b4f1ab3a01d16fb5caafa",
       "IPY_MODEL_8463cf84a26844ad85ecae812a3b006f",
       "IPY_MODEL_055f0a491c564c48b6a2d4bc2d3200ba",
       "IPY_MODEL_6dda8ec885d94e2d8ed709c888d7d39a",
       "IPY_MODEL_cdc02f1050f2448fa5bb57283080549f",
       "IPY_MODEL_d2abbe8831144417a27faafdbc3f3d81",
       "IPY_MODEL_60884619f1f94d14a7eaa3453c51b3c2"
      ],
      "nodes": [
       "IPY_MODEL_e8f7eb1406524d7fbb07fa8b6366fb61",
       "IPY_MODEL_8edaf0d167bf4ba6a0e582b2f76fdf1c",
       "IPY_MODEL_a9a5e368ef6e4da9b87c3afad0068c8f",
       "IPY_MODEL_67ca3d4d89a44e45b9c98d484f3cfc4f",
       "IPY_MODEL_60fcd6e80f9843a6b90b6ff72d40cbfb",
       "IPY_MODEL_e95d62a515d341769937ffd8ba861fa1",
       "IPY_MODEL_39b57aa12330420ebe304fb99ea1d997",
       "IPY_MODEL_9a2d9a0f567a44e5bc37663a2f6844e2"
      ]
     }
    }
   }
  }
 },
 "nbformat": 4,
 "nbformat_minor": 5
}
