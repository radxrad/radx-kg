{
 "cells": [
  {
   "cell_type": "code",
   "execution_count": 3,
   "id": "93fc6ef1-830b-4b56-8aec-e0d6093aabe0",
   "metadata": {},
   "outputs": [],
   "source": [
    "from Levenshtein import ratio, jaro, jaro_winkler, distance"
   ]
  },
  {
   "cell_type": "code",
   "execution_count": 10,
   "id": "0912f2c8-728a-4f9d-8842-ccd13fd8c9d1",
   "metadata": {},
   "outputs": [
    {
     "name": "stdout",
     "output_type": "stream",
     "text": [
      "0.6923076923076923\n",
      "0.8431372549019608\n"
     ]
    }
   ],
   "source": [
    "s1 = \"Vanegas-Gamboa DC\"\n",
    "s2 = \"Vanegas D\"\n",
    "s3 = \"Vanegas, Diana Carolina\"\n",
    "s4 = \"Mason CE\"\n",
    "s5 = \" Mason C\"\n",
    "\n",
    "print(ratio(s1, s2))\n",
    "print(jaro(s1, s2))"
   ]
  },
  {
   "cell_type": "code",
   "execution_count": 11,
   "id": "0d4aea14-e89a-4acc-8c1a-bd660c96a99b",
   "metadata": {},
   "outputs": [
    {
     "name": "stdout",
     "output_type": "stream",
     "text": [
      "0.8431372549019608\n",
      "0.725359039937045\n",
      "0.7971014492753623\n"
     ]
    }
   ],
   "source": [
    "print(jaro_winkler(s1, s2, prefix_weight=0.0))\n",
    "print(jaro_winkler(s1, s3, prefix_weight=0.0))\n",
    "print(jaro_winkler(s2, s3, prefix_weight=0.00))"
   ]
  },
  {
   "cell_type": "code",
   "execution_count": 12,
   "id": "337f63df-3106-4d10-ae52-18b537426063",
   "metadata": {},
   "outputs": [
    {
     "name": "stdout",
     "output_type": "stream",
     "text": [
      "0.9058823529411765\n",
      "0.835215423962227\n",
      "0.8782608695652174\n"
     ]
    }
   ],
   "source": [
    "print(jaro_winkler(s1, s2, prefix_weight=0.10))\n",
    "print(jaro_winkler(s1, s3, prefix_weight=0.10))\n",
    "print(jaro_winkler(s2, s3, prefix_weight=0.10))"
   ]
  },
  {
   "cell_type": "code",
   "execution_count": 13,
   "id": "ef84a0d8-eed4-4d47-bda9-5d6435bd4083",
   "metadata": {},
   "outputs": [
    {
     "name": "stdout",
     "output_type": "stream",
     "text": [
      "0.9686274509803922\n",
      "0.945071807987409\n",
      "0.9594202898550724\n"
     ]
    }
   ],
   "source": [
    "print(jaro_winkler(s1, s2, prefix_weight=0.20))\n",
    "print(jaro_winkler(s1, s3, prefix_weight=0.20))\n",
    "print(jaro_winkler(s2, s3, prefix_weight=0.20))"
   ]
  },
  {
   "cell_type": "code",
   "execution_count": 14,
   "id": "f6f5cbfa-09c0-4d46-a808-fd16ca967ef0",
   "metadata": {},
   "outputs": [
    {
     "name": "stdout",
     "output_type": "stream",
     "text": [
      "0.9166666666666666\n",
      "0.9166666666666666\n",
      "0.9166666666666666\n",
      "2\n",
      "0.875\n"
     ]
    }
   ],
   "source": [
    "print(jaro_winkler(s4, s5))\n",
    "print(jaro_winkler(s4, s5, prefix_weight=0.2))\n",
    "print(jaro(s4, s5))\n",
    "print(distance(s4, s5))\n",
    "print(ratio(s4, s5))"
   ]
  },
  {
   "cell_type": "code",
   "execution_count": 9,
   "id": "4d3f581d-0a26-41c7-a6d6-4dc81e8f8443",
   "metadata": {},
   "outputs": [
    {
     "data": {
      "text/plain": [
       "('Golan DE', 'Wong D')"
      ]
     },
     "execution_count": 9,
     "metadata": {},
     "output_type": "execute_result"
    }
   ],
   "source": [
    "\"Golan DE\", \"Wong D\""
   ]
  },
  {
   "cell_type": "code",
   "execution_count": 15,
   "id": "cb93b25d-0a59-4e3a-b30a-f6d68160a638",
   "metadata": {},
   "outputs": [
    {
     "data": {
      "text/plain": [
       "'testt'"
      ]
     },
     "execution_count": 15,
     "metadata": {},
     "output_type": "execute_result"
    }
   ],
   "source": [
    "\"test.t\".replace(\".\", \"\")"
   ]
  },
  {
   "cell_type": "code",
   "execution_count": null,
   "id": "141bb768-aba7-4150-b9b8-d01b3ef8d8ae",
   "metadata": {},
   "outputs": [],
   "source": []
  }
 ],
 "metadata": {
  "kernelspec": {
   "display_name": "Python 3 (ipykernel)",
   "language": "python",
   "name": "python3"
  },
  "language_info": {
   "codemirror_mode": {
    "name": "ipython",
    "version": 3
   },
   "file_extension": ".py",
   "mimetype": "text/x-python",
   "name": "python",
   "nbconvert_exporter": "python",
   "pygments_lexer": "ipython3",
   "version": "3.10.13"
  }
 },
 "nbformat": 4,
 "nbformat_minor": 5
}
