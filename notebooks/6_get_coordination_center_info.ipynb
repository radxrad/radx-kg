{
 "cells": [
  {
   "cell_type": "raw",
   "id": "6af10223-7328-46b7-87cf-6a1284b16e7c",
   "metadata": {},
   "source": [
    "# get_research_initiative_info\n",
    "This notebook creates coordination center-related node and relationship files for the RADx-KG:\n",
    "* ResearchInitiative.csv\n",
    "* Grant-FUNDED-ResearchInitiative.csv\n",
    "* ResearchInitiative-SUPPORTED-Grant.csv"
   ]
  },
  {
   "cell_type": "code",
   "execution_count": 1,
   "id": "7686a9ce-7775-4a9e-bb9b-b2bb166f5c03",
   "metadata": {},
   "outputs": [],
   "source": [
    "import os\n",
    "import shutil\n",
    "import pandas as pd\n",
    "pd.set_option(\"display.max_columns\", None)\n",
    "pd.set_option(\"display.max_rows\", None)\n",
    "pd.set_option(\"display.max_colwidth\", None)"
   ]
  },
  {
   "cell_type": "code",
   "execution_count": 2,
   "id": "699a7a84-1f17-41c3-a0b9-6b9b27076895",
   "metadata": {},
   "outputs": [],
   "source": [
    "KG_PATH = \"../kg/data\"\n",
    "DERIVED_DATA_PATH = \"../derived_data\""
   ]
  },
  {
   "cell_type": "markdown",
   "id": "0b221fe2-2360-4f6a-8063-f62f53d72998",
   "metadata": {},
   "source": [
    "### Create ResearchInitiative Nodes\n",
    "This information is maintained manually. It's copied fro the data directory."
   ]
  },
  {
   "cell_type": "code",
   "execution_count": 3,
   "id": "0c4a13f4-200c-436d-9ffd-b31de06e35e8",
   "metadata": {},
   "outputs": [
    {
     "data": {
      "text/plain": [
       "'../kg/data/nodes/ResearchInitiative.csv'"
      ]
     },
     "execution_count": 3,
     "metadata": {},
     "output_type": "execute_result"
    }
   ],
   "source": [
    "shutil.copy(\"../data/ResearchInitiative.csv\", os.path.join(KG_PATH, \"nodes\"))"
   ]
  },
  {
   "cell_type": "markdown",
   "id": "b19fa818-13dc-4802-94d8-543e7a5d075d",
   "metadata": {},
   "source": [
    "### Create Grant-FUNDED-ResearchInitiative relationships\n",
    "This information is maintained manually. It's copied fro the data directory."
   ]
  },
  {
   "cell_type": "code",
   "execution_count": 4,
   "id": "5cbb58d5-c7bc-41c1-8e88-05e98b29f7cc",
   "metadata": {},
   "outputs": [
    {
     "data": {
      "text/plain": [
       "'../kg/data/relationships/Grant-FUNDED-ResearchInitiative.csv'"
      ]
     },
     "execution_count": 4,
     "metadata": {},
     "output_type": "execute_result"
    }
   ],
   "source": [
    "shutil.copy(\"../data/Grant-FUNDED-ResearchInitiative.csv\", os.path.join(KG_PATH, \"relationships\"))"
   ]
  },
  {
   "cell_type": "code",
   "execution_count": 5,
   "id": "7d594c43-67c1-45f9-9914-6c471bea6ed8",
   "metadata": {},
   "outputs": [],
   "source": [
    "projects = pd.read_csv(os.path.join(DERIVED_DATA_PATH, \"radx-projects.csv\"))\n",
    "projects.query(\"researchInitiative == 'RADx-rad'\", inplace=True)\n",
    "#projects.query(\"radx_project == \"RADx-UP\"\", inplace=True)"
   ]
  },
  {
   "cell_type": "code",
   "execution_count": 6,
   "id": "d3bd4880-743d-49a7-87cd-30b7d11e42e5",
   "metadata": {},
   "outputs": [
    {
     "name": "stdout",
     "output_type": "stream",
     "text": [
      "Number of projects 50\n"
     ]
    },
    {
     "data": {
      "text/html": [
       "<div>\n",
       "<style scoped>\n",
       "    .dataframe tbody tr th:only-of-type {\n",
       "        vertical-align: middle;\n",
       "    }\n",
       "\n",
       "    .dataframe tbody tr th {\n",
       "        vertical-align: top;\n",
       "    }\n",
       "\n",
       "    .dataframe thead th {\n",
       "        text-align: right;\n",
       "    }\n",
       "</style>\n",
       "<table border=\"1\" class=\"dataframe\">\n",
       "  <thead>\n",
       "    <tr style=\"text-align: right;\">\n",
       "      <th></th>\n",
       "      <th>researchInitiative</th>\n",
       "      <th>dbgapAccession</th>\n",
       "      <th>projectNum</th>\n",
       "      <th>coreProjectNum</th>\n",
       "      <th>projectSerialNum</th>\n",
       "      <th>studyInvestigator</th>\n",
       "      <th>studyTitle</th>\n",
       "      <th>subProject</th>\n",
       "    </tr>\n",
       "  </thead>\n",
       "  <tbody>\n",
       "    <tr>\n",
       "      <th>0</th>\n",
       "      <td>RADx-rad</td>\n",
       "      <td>phs002744.v1.p1</td>\n",
       "      <td>U01AA029345</td>\n",
       "      <td>U01AA029345</td>\n",
       "      <td>AA029345</td>\n",
       "      <td>Khalid Salaita</td>\n",
       "      <td>Rapid Acceleration of Diagnostics - Radical (RADx-rad): Rolosense: An Innovative Platform for Automatic Mobile Phone Readout of Active SARS-CoV-2</td>\n",
       "      <td>Automatic Detection &amp; Tracing</td>\n",
       "    </tr>\n",
       "    <tr>\n",
       "      <th>12</th>\n",
       "      <td>RADx-rad</td>\n",
       "      <td>phs002778.v1.p1</td>\n",
       "      <td>1U18TR003793-01</td>\n",
       "      <td>U18TR003793</td>\n",
       "      <td>TR003793</td>\n",
       "      <td>Shannon Stott</td>\n",
       "      <td>Rapid Acceleration of Diagnostics - Radical (RADx-rad): Microfluidic Isolation and Characterization of SARS-CoV-2 and Virus Related Exosomes</td>\n",
       "      <td>Exosome</td>\n",
       "    </tr>\n",
       "    <tr>\n",
       "      <th>26</th>\n",
       "      <td>RADx-rad</td>\n",
       "      <td>phs002604.v1.p1</td>\n",
       "      <td>1U01DA053949-01</td>\n",
       "      <td>U01DA053949</td>\n",
       "      <td>DA053949</td>\n",
       "      <td>Anne-Catrin Uhlemann</td>\n",
       "      <td>Rapid Acceleration of Diagnostics - RADICAL (RADx-rad):  Tracking the COVID-19 Epidemic in Sewage (TRACES)</td>\n",
       "      <td>Wastewater</td>\n",
       "    </tr>\n",
       "    <tr>\n",
       "      <th>27</th>\n",
       "      <td>RADx-rad</td>\n",
       "      <td>phs002583.v1.p1</td>\n",
       "      <td>5U01HL150852-02</td>\n",
       "      <td>U01HL150852</td>\n",
       "      <td>HL150852</td>\n",
       "      <td>Edward P DeMauro</td>\n",
       "      <td>Rapid Acceleration of Diagnostics - Radical  (RADx-rad):  A Rapid Breathalyzer Diagnostics Platform for COVID-19</td>\n",
       "      <td>Novel Biosensing and VOC</td>\n",
       "    </tr>\n",
       "    <tr>\n",
       "      <th>28</th>\n",
       "      <td>RADx-rad</td>\n",
       "      <td>phs002603.v1.p1</td>\n",
       "      <td>3R33HD105594-03S1</td>\n",
       "      <td>R33HD105594</td>\n",
       "      <td>HD105594</td>\n",
       "      <td>Audrey Odom-John</td>\n",
       "      <td>Rapid Acceleration of Diagnostics - Radical  (RADx-rad): Diagnosis of MIS-C in Febrile Children</td>\n",
       "      <td>PreVAIL kIds</td>\n",
       "    </tr>\n",
       "  </tbody>\n",
       "</table>\n",
       "</div>"
      ],
      "text/plain": [
       "   researchInitiative   dbgapAccession         projectNum coreProjectNum  \\\n",
       "0            RADx-rad  phs002744.v1.p1        U01AA029345    U01AA029345   \n",
       "12           RADx-rad  phs002778.v1.p1    1U18TR003793-01    U18TR003793   \n",
       "26           RADx-rad  phs002604.v1.p1    1U01DA053949-01    U01DA053949   \n",
       "27           RADx-rad  phs002583.v1.p1    5U01HL150852-02    U01HL150852   \n",
       "28           RADx-rad  phs002603.v1.p1  3R33HD105594-03S1    R33HD105594   \n",
       "\n",
       "   projectSerialNum     studyInvestigator  \\\n",
       "0          AA029345        Khalid Salaita   \n",
       "12         TR003793         Shannon Stott   \n",
       "26         DA053949  Anne-Catrin Uhlemann   \n",
       "27         HL150852      Edward P DeMauro   \n",
       "28         HD105594      Audrey Odom-John   \n",
       "\n",
       "                                                                                                                                           studyTitle  \\\n",
       "0   Rapid Acceleration of Diagnostics - Radical (RADx-rad): Rolosense: An Innovative Platform for Automatic Mobile Phone Readout of Active SARS-CoV-2   \n",
       "12       Rapid Acceleration of Diagnostics - Radical (RADx-rad): Microfluidic Isolation and Characterization of SARS-CoV-2 and Virus Related Exosomes   \n",
       "26                                         Rapid Acceleration of Diagnostics - RADICAL (RADx-rad):  Tracking the COVID-19 Epidemic in Sewage (TRACES)   \n",
       "27                                   Rapid Acceleration of Diagnostics - Radical  (RADx-rad):  A Rapid Breathalyzer Diagnostics Platform for COVID-19   \n",
       "28                                                    Rapid Acceleration of Diagnostics - Radical  (RADx-rad): Diagnosis of MIS-C in Febrile Children   \n",
       "\n",
       "                       subProject  \n",
       "0   Automatic Detection & Tracing  \n",
       "12                        Exosome  \n",
       "26                     Wastewater  \n",
       "27       Novel Biosensing and VOC  \n",
       "28                   PreVAIL kIds  "
      ]
     },
     "execution_count": 6,
     "metadata": {},
     "output_type": "execute_result"
    }
   ],
   "source": [
    "print(f\"Number of projects {projects.shape[0]}\")\n",
    "projects.head()"
   ]
  },
  {
   "cell_type": "markdown",
   "id": "c6f59168-d32e-4ce5-9c49-dd05ec585d0a",
   "metadata": {},
   "source": [
    "### Create ResearchInitiative-SUPPORTED-Grant"
   ]
  },
  {
   "cell_type": "code",
   "execution_count": 7,
   "id": "fc6896da-a9c8-4b38-a477-a6383f2767f4",
   "metadata": {},
   "outputs": [],
   "source": [
    "supported_map = {\"researchInitiative\": \"from\", \"coreProjectNum\": \"to\"}\n"
   ]
  },
  {
   "cell_type": "code",
   "execution_count": 8,
   "id": "4531d863-88fe-4b17-8e59-b40d515740d2",
   "metadata": {},
   "outputs": [],
   "source": [
    "supported = projects[supported_map.keys()].copy()\n",
    "supported.rename(columns=supported_map, inplace=True)\n",
    "supported.dropna(inplace=True)\n",
    "supported.drop_duplicates(inplace=True)"
   ]
  },
  {
   "cell_type": "code",
   "execution_count": 9,
   "id": "340aecac-1fb6-42b3-9754-2ec7137bfd99",
   "metadata": {},
   "outputs": [],
   "source": [
    "# Exclude grants that support the Coordination Centers (RADx-rad, RADx-UP, RADx-HUB)\n",
    "excluded_projects = [\"U24LM013755\", \"U24MD016258\", \"OT2DB000009\"]\n",
    "supported = supported[~supported[\"to\"].isin(excluded_projects)]"
   ]
  },
  {
   "cell_type": "code",
   "execution_count": 10,
   "id": "679bd537-995c-4ed2-92e2-4f599edf193e",
   "metadata": {},
   "outputs": [],
   "source": [
    "supported.to_csv(os.path.join(KG_PATH, \"relationships\", \"ResearchInitiative-SUPPORTED-Grant.csv\"), index=False)"
   ]
  },
  {
   "cell_type": "code",
   "execution_count": 11,
   "id": "dab16977-1ec7-4511-aa53-8f70c525ae08",
   "metadata": {},
   "outputs": [
    {
     "data": {
      "text/html": [
       "<div>\n",
       "<style scoped>\n",
       "    .dataframe tbody tr th:only-of-type {\n",
       "        vertical-align: middle;\n",
       "    }\n",
       "\n",
       "    .dataframe tbody tr th {\n",
       "        vertical-align: top;\n",
       "    }\n",
       "\n",
       "    .dataframe thead th {\n",
       "        text-align: right;\n",
       "    }\n",
       "</style>\n",
       "<table border=\"1\" class=\"dataframe\">\n",
       "  <thead>\n",
       "    <tr style=\"text-align: right;\">\n",
       "      <th></th>\n",
       "      <th>from</th>\n",
       "      <th>to</th>\n",
       "    </tr>\n",
       "  </thead>\n",
       "  <tbody>\n",
       "    <tr>\n",
       "      <th>0</th>\n",
       "      <td>RADx-rad</td>\n",
       "      <td>U01AA029345</td>\n",
       "    </tr>\n",
       "    <tr>\n",
       "      <th>12</th>\n",
       "      <td>RADx-rad</td>\n",
       "      <td>U18TR003793</td>\n",
       "    </tr>\n",
       "    <tr>\n",
       "      <th>26</th>\n",
       "      <td>RADx-rad</td>\n",
       "      <td>U01DA053949</td>\n",
       "    </tr>\n",
       "    <tr>\n",
       "      <th>27</th>\n",
       "      <td>RADx-rad</td>\n",
       "      <td>U01HL150852</td>\n",
       "    </tr>\n",
       "    <tr>\n",
       "      <th>28</th>\n",
       "      <td>RADx-rad</td>\n",
       "      <td>R33HD105594</td>\n",
       "    </tr>\n",
       "  </tbody>\n",
       "</table>\n",
       "</div>"
      ],
      "text/plain": [
       "        from           to\n",
       "0   RADx-rad  U01AA029345\n",
       "12  RADx-rad  U18TR003793\n",
       "26  RADx-rad  U01DA053949\n",
       "27  RADx-rad  U01HL150852\n",
       "28  RADx-rad  R33HD105594"
      ]
     },
     "execution_count": 11,
     "metadata": {},
     "output_type": "execute_result"
    }
   ],
   "source": [
    "supported.head()"
   ]
  }
 ],
 "metadata": {
  "kernelspec": {
   "display_name": "Python 3 (ipykernel)",
   "language": "python",
   "name": "python3"
  },
  "language_info": {
   "codemirror_mode": {
    "name": "ipython",
    "version": 3
   },
   "file_extension": ".py",
   "mimetype": "text/x-python",
   "name": "python",
   "nbconvert_exporter": "python",
   "pygments_lexer": "ipython3",
   "version": "3.10.13"
  }
 },
 "nbformat": 4,
 "nbformat_minor": 5
}
