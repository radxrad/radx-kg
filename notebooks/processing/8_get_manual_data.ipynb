{
 "cells": [
  {
   "cell_type": "code",
   "execution_count": 1,
   "id": "ecf0a107-259c-4991-80c5-104d78a8b079",
   "metadata": {},
   "outputs": [],
   "source": [
    "# 8_get_manual_data\n",
    "import os\n",
    "import shutil"
   ]
  },
  {
   "cell_type": "code",
   "execution_count": 2,
   "id": "24da013d-6be5-4046-879a-0fa3d104160b",
   "metadata": {},
   "outputs": [],
   "source": [
    "KG_PATH = \"../kg/data\""
   ]
  },
  {
   "cell_type": "code",
   "execution_count": 3,
   "id": "3c07b447-8f3e-42b6-928f-874569085d24",
   "metadata": {},
   "outputs": [
    {
     "data": {
      "text/plain": [
       "'../kg/data/nodes/Software_manually.csv'"
      ]
     },
     "execution_count": 3,
     "metadata": {},
     "output_type": "execute_result"
    }
   ],
   "source": [
    "shutil.copy(\"../data/Software_manually.csv\", os.path.join(KG_PATH, \"nodes\"))"
   ]
  },
  {
   "cell_type": "code",
   "execution_count": 4,
   "id": "c27eacb7-b344-46f8-89ef-eb61b8141c8c",
   "metadata": {},
   "outputs": [
    {
     "data": {
      "text/plain": [
       "'../kg/data/relationships/Researcher-DEVELOPED-Software.csv'"
      ]
     },
     "execution_count": 4,
     "metadata": {},
     "output_type": "execute_result"
    }
   ],
   "source": [
    "shutil.copy(\"../data/Researcher-DEVELOPED-Software.csv\", os.path.join(KG_PATH, \"relationships\"))"
   ]
  },
  {
   "cell_type": "code",
   "execution_count": 5,
   "id": "5a69dfea-473e-4d8c-960e-9ccf1b112d71",
   "metadata": {},
   "outputs": [
    {
     "data": {
      "text/plain": [
       "'../kg/data/nodes/Dataset_manually.csv'"
      ]
     },
     "execution_count": 5,
     "metadata": {},
     "output_type": "execute_result"
    }
   ],
   "source": [
    "shutil.copy(\"../data/Dataset_manually.csv\", os.path.join(KG_PATH, \"nodes\"))"
   ]
  },
  {
   "cell_type": "code",
   "execution_count": 6,
   "id": "b661d0da-a96e-4296-b5db-4dc302f7ed67",
   "metadata": {},
   "outputs": [
    {
     "data": {
      "text/plain": [
       "'../kg/data/nodes/Researcher_manually.csv'"
      ]
     },
     "execution_count": 6,
     "metadata": {},
     "output_type": "execute_result"
    }
   ],
   "source": [
    "shutil.copy(\"../data/Researcher_manually.csv\", os.path.join(KG_PATH, \"nodes\"))"
   ]
  },
  {
   "cell_type": "code",
   "execution_count": 7,
   "id": "3e4fbec4-eb28-4c1f-98b8-f569e48a178e",
   "metadata": {},
   "outputs": [
    {
     "data": {
      "text/plain": [
       "'../kg/data/relationships/Researcher-CREATED-Dataset_manually.csv'"
      ]
     },
     "execution_count": 7,
     "metadata": {},
     "output_type": "execute_result"
    }
   ],
   "source": [
    "shutil.copy(\"../data/Researcher-CREATED-Dataset_manually.csv\", os.path.join(KG_PATH, \"relationships\"))"
   ]
  },
  {
   "cell_type": "markdown",
   "id": "4f97c6d3-5431-43e1-9bb4-92f00048a8e1",
   "metadata": {},
   "source": [
    "## Add other Researcher-IS_INVESTIGATOR_OF-Grant\n",
    "Misc. researchers that are maintained manually (e.g., software developers not yet included in the researcher nodes created above."
   ]
  },
  {
   "cell_type": "code",
   "execution_count": 8,
   "id": "c421973d-7641-4a95-91e7-2550921bb31e",
   "metadata": {},
   "outputs": [
    {
     "data": {
      "text/plain": [
       "'../kg/data/relationships/Researcher-IS_INVESTIGATOR_OF-Grant_manually.csv'"
      ]
     },
     "execution_count": 8,
     "metadata": {},
     "output_type": "execute_result"
    }
   ],
   "source": [
    "shutil.copy(\"../data/Researcher-IS_INVESTIGATOR_OF-Grant_manually.csv\", os.path.join(KG_PATH, \"relationships\"))"
   ]
  }
 ],
 "metadata": {
  "kernelspec": {
   "display_name": "Python 3 (ipykernel)",
   "language": "python",
   "name": "python3"
  },
  "language_info": {
   "codemirror_mode": {
    "name": "ipython",
    "version": 3
   },
   "file_extension": ".py",
   "mimetype": "text/x-python",
   "name": "python",
   "nbconvert_exporter": "python",
   "pygments_lexer": "ipython3",
   "version": "3.10.13"
  }
 },
 "nbformat": 4,
 "nbformat_minor": 5
}
