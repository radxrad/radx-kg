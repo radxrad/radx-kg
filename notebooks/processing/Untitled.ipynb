{
 "cells": [
  {
   "cell_type": "code",
   "execution_count": 1,
   "id": "24ee437f-7b93-4cb7-bed9-a2bf5ef77832",
   "metadata": {},
   "outputs": [],
   "source": [
    "import requests\n",
    "from bs4 import BeautifulSoup"
   ]
  },
  {
   "cell_type": "code",
   "execution_count": 2,
   "id": "b61fd59b-8dc4-4209-8597-de58aab7bc2d",
   "metadata": {},
   "outputs": [],
   "source": [
    "def get_dbgap_pi(url):\n",
    "    # donwload the HMTL document\n",
    "    response = requests.get(url)\n",
    "    html_content = response.text\n",
    "    \n",
    "    # parse the HTML document\n",
    "    soup = BeautifulSoup(html_content, 'html.parser')\n",
    "\n",
    "    # find the principal investigator\n",
    "    #pi_element = soup.find(string='Principal Investigator')\n",
    "    if pi_element:= soup.find(string='Principal Investigator'):\n",
    "        data = pi_element.find_next('li').get_text(strip=True)\n",
    "    else:\n",
    "        print(\"Principal Investigator not found.\")\n",
    "\n",
    "    # extract items\n",
    "    items = data.split(\"\\n\")\n",
    "    pi = items[0].strip()\n",
    "    affiliation = items[3].strip()\n",
    "    \n",
    "    return pi, affiliation"
   ]
  },
  {
   "cell_type": "code",
   "execution_count": 3,
   "id": "af72eb96-f309-4aad-9b93-8f56d58d9704",
   "metadata": {},
   "outputs": [
    {
     "name": "stdout",
     "output_type": "stream",
     "text": [
      "PI: Hadi Shafiee.\n",
      "affiliation: Brigham and Women's Hospital, Boston, MA, USA.\n"
     ]
    },
    {
     "data": {
      "text/plain": [
       "('Hadi Shafiee.', \"Brigham and Women's Hospital, Boston, MA, USA.\")"
      ]
     },
     "execution_count": 3,
     "metadata": {},
     "output_type": "execute_result"
    }
   ],
   "source": [
    "url = \"https://www.ncbi.nlm.nih.gov/projects/gap/cgi-bin/study.cgi?study_id=phs002561.v1.p1\"\n",
    "get_dbgap_pi(url)"
   ]
  }
 ],
 "metadata": {
  "kernelspec": {
   "display_name": "Python 3 (ipykernel)",
   "language": "python",
   "name": "python3"
  },
  "language_info": {
   "codemirror_mode": {
    "name": "ipython",
    "version": 3
   },
   "file_extension": ".py",
   "mimetype": "text/x-python",
   "name": "python",
   "nbconvert_exporter": "python",
   "pygments_lexer": "ipython3",
   "version": "3.10.13"
  }
 },
 "nbformat": 4,
 "nbformat_minor": 5
}
